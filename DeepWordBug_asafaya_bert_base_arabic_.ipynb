{
  "nbformat": 4,
  "nbformat_minor": 0,
  "metadata": {
    "colab": {
      "provenance": [],
      "gpuType": "T4"
    },
    "kernelspec": {
      "name": "python3",
      "display_name": "Python 3"
    },
    "language_info": {
      "name": "python"
    },
    "accelerator": "GPU",
    "widgets": {
      "application/vnd.jupyter.widget-state+json": {
        "5b6f758ca2b041608b920648c76cfaaf": {
          "model_module": "@jupyter-widgets/controls",
          "model_name": "HBoxModel",
          "model_module_version": "1.5.0",
          "state": {
            "_dom_classes": [],
            "_model_module": "@jupyter-widgets/controls",
            "_model_module_version": "1.5.0",
            "_model_name": "HBoxModel",
            "_view_count": null,
            "_view_module": "@jupyter-widgets/controls",
            "_view_module_version": "1.5.0",
            "_view_name": "HBoxView",
            "box_style": "",
            "children": [
              "IPY_MODEL_3df312d1f30b4aff9a0af6fb6f26410c",
              "IPY_MODEL_0af51a0b456b4e289e49fa1c35e7213f",
              "IPY_MODEL_4927ce10dac44ba3a616d98303f37b06"
            ],
            "layout": "IPY_MODEL_021e0a92528d4f5dae391d134c7a5cbb"
          }
        },
        "3df312d1f30b4aff9a0af6fb6f26410c": {
          "model_module": "@jupyter-widgets/controls",
          "model_name": "HTMLModel",
          "model_module_version": "1.5.0",
          "state": {
            "_dom_classes": [],
            "_model_module": "@jupyter-widgets/controls",
            "_model_module_version": "1.5.0",
            "_model_name": "HTMLModel",
            "_view_count": null,
            "_view_module": "@jupyter-widgets/controls",
            "_view_module_version": "1.5.0",
            "_view_name": "HTMLView",
            "description": "",
            "description_tooltip": null,
            "layout": "IPY_MODEL_d343b41f753c4decbcac45986155a9d6",
            "placeholder": "​",
            "style": "IPY_MODEL_3135ad0eed594e0db20091d56140fbe7",
            "value": "tokenizer_config.json: 100%"
          }
        },
        "0af51a0b456b4e289e49fa1c35e7213f": {
          "model_module": "@jupyter-widgets/controls",
          "model_name": "FloatProgressModel",
          "model_module_version": "1.5.0",
          "state": {
            "_dom_classes": [],
            "_model_module": "@jupyter-widgets/controls",
            "_model_module_version": "1.5.0",
            "_model_name": "FloatProgressModel",
            "_view_count": null,
            "_view_module": "@jupyter-widgets/controls",
            "_view_module_version": "1.5.0",
            "_view_name": "ProgressView",
            "bar_style": "success",
            "description": "",
            "description_tooltip": null,
            "layout": "IPY_MODEL_a3d63efba46c45b490b4f8e59165269e",
            "max": 62,
            "min": 0,
            "orientation": "horizontal",
            "style": "IPY_MODEL_8e08fb1dbf8944f0b1bda5abf25e6990",
            "value": 62
          }
        },
        "4927ce10dac44ba3a616d98303f37b06": {
          "model_module": "@jupyter-widgets/controls",
          "model_name": "HTMLModel",
          "model_module_version": "1.5.0",
          "state": {
            "_dom_classes": [],
            "_model_module": "@jupyter-widgets/controls",
            "_model_module_version": "1.5.0",
            "_model_name": "HTMLModel",
            "_view_count": null,
            "_view_module": "@jupyter-widgets/controls",
            "_view_module_version": "1.5.0",
            "_view_name": "HTMLView",
            "description": "",
            "description_tooltip": null,
            "layout": "IPY_MODEL_8dcbdd6bb23c4416a88bed273df49d9a",
            "placeholder": "​",
            "style": "IPY_MODEL_4b70ca6012c444caa1cd595ec6b0bdd2",
            "value": " 62.0/62.0 [00:00&lt;00:00, 6.08kB/s]"
          }
        },
        "021e0a92528d4f5dae391d134c7a5cbb": {
          "model_module": "@jupyter-widgets/base",
          "model_name": "LayoutModel",
          "model_module_version": "1.2.0",
          "state": {
            "_model_module": "@jupyter-widgets/base",
            "_model_module_version": "1.2.0",
            "_model_name": "LayoutModel",
            "_view_count": null,
            "_view_module": "@jupyter-widgets/base",
            "_view_module_version": "1.2.0",
            "_view_name": "LayoutView",
            "align_content": null,
            "align_items": null,
            "align_self": null,
            "border": null,
            "bottom": null,
            "display": null,
            "flex": null,
            "flex_flow": null,
            "grid_area": null,
            "grid_auto_columns": null,
            "grid_auto_flow": null,
            "grid_auto_rows": null,
            "grid_column": null,
            "grid_gap": null,
            "grid_row": null,
            "grid_template_areas": null,
            "grid_template_columns": null,
            "grid_template_rows": null,
            "height": null,
            "justify_content": null,
            "justify_items": null,
            "left": null,
            "margin": null,
            "max_height": null,
            "max_width": null,
            "min_height": null,
            "min_width": null,
            "object_fit": null,
            "object_position": null,
            "order": null,
            "overflow": null,
            "overflow_x": null,
            "overflow_y": null,
            "padding": null,
            "right": null,
            "top": null,
            "visibility": null,
            "width": null
          }
        },
        "d343b41f753c4decbcac45986155a9d6": {
          "model_module": "@jupyter-widgets/base",
          "model_name": "LayoutModel",
          "model_module_version": "1.2.0",
          "state": {
            "_model_module": "@jupyter-widgets/base",
            "_model_module_version": "1.2.0",
            "_model_name": "LayoutModel",
            "_view_count": null,
            "_view_module": "@jupyter-widgets/base",
            "_view_module_version": "1.2.0",
            "_view_name": "LayoutView",
            "align_content": null,
            "align_items": null,
            "align_self": null,
            "border": null,
            "bottom": null,
            "display": null,
            "flex": null,
            "flex_flow": null,
            "grid_area": null,
            "grid_auto_columns": null,
            "grid_auto_flow": null,
            "grid_auto_rows": null,
            "grid_column": null,
            "grid_gap": null,
            "grid_row": null,
            "grid_template_areas": null,
            "grid_template_columns": null,
            "grid_template_rows": null,
            "height": null,
            "justify_content": null,
            "justify_items": null,
            "left": null,
            "margin": null,
            "max_height": null,
            "max_width": null,
            "min_height": null,
            "min_width": null,
            "object_fit": null,
            "object_position": null,
            "order": null,
            "overflow": null,
            "overflow_x": null,
            "overflow_y": null,
            "padding": null,
            "right": null,
            "top": null,
            "visibility": null,
            "width": null
          }
        },
        "3135ad0eed594e0db20091d56140fbe7": {
          "model_module": "@jupyter-widgets/controls",
          "model_name": "DescriptionStyleModel",
          "model_module_version": "1.5.0",
          "state": {
            "_model_module": "@jupyter-widgets/controls",
            "_model_module_version": "1.5.0",
            "_model_name": "DescriptionStyleModel",
            "_view_count": null,
            "_view_module": "@jupyter-widgets/base",
            "_view_module_version": "1.2.0",
            "_view_name": "StyleView",
            "description_width": ""
          }
        },
        "a3d63efba46c45b490b4f8e59165269e": {
          "model_module": "@jupyter-widgets/base",
          "model_name": "LayoutModel",
          "model_module_version": "1.2.0",
          "state": {
            "_model_module": "@jupyter-widgets/base",
            "_model_module_version": "1.2.0",
            "_model_name": "LayoutModel",
            "_view_count": null,
            "_view_module": "@jupyter-widgets/base",
            "_view_module_version": "1.2.0",
            "_view_name": "LayoutView",
            "align_content": null,
            "align_items": null,
            "align_self": null,
            "border": null,
            "bottom": null,
            "display": null,
            "flex": null,
            "flex_flow": null,
            "grid_area": null,
            "grid_auto_columns": null,
            "grid_auto_flow": null,
            "grid_auto_rows": null,
            "grid_column": null,
            "grid_gap": null,
            "grid_row": null,
            "grid_template_areas": null,
            "grid_template_columns": null,
            "grid_template_rows": null,
            "height": null,
            "justify_content": null,
            "justify_items": null,
            "left": null,
            "margin": null,
            "max_height": null,
            "max_width": null,
            "min_height": null,
            "min_width": null,
            "object_fit": null,
            "object_position": null,
            "order": null,
            "overflow": null,
            "overflow_x": null,
            "overflow_y": null,
            "padding": null,
            "right": null,
            "top": null,
            "visibility": null,
            "width": null
          }
        },
        "8e08fb1dbf8944f0b1bda5abf25e6990": {
          "model_module": "@jupyter-widgets/controls",
          "model_name": "ProgressStyleModel",
          "model_module_version": "1.5.0",
          "state": {
            "_model_module": "@jupyter-widgets/controls",
            "_model_module_version": "1.5.0",
            "_model_name": "ProgressStyleModel",
            "_view_count": null,
            "_view_module": "@jupyter-widgets/base",
            "_view_module_version": "1.2.0",
            "_view_name": "StyleView",
            "bar_color": null,
            "description_width": ""
          }
        },
        "8dcbdd6bb23c4416a88bed273df49d9a": {
          "model_module": "@jupyter-widgets/base",
          "model_name": "LayoutModel",
          "model_module_version": "1.2.0",
          "state": {
            "_model_module": "@jupyter-widgets/base",
            "_model_module_version": "1.2.0",
            "_model_name": "LayoutModel",
            "_view_count": null,
            "_view_module": "@jupyter-widgets/base",
            "_view_module_version": "1.2.0",
            "_view_name": "LayoutView",
            "align_content": null,
            "align_items": null,
            "align_self": null,
            "border": null,
            "bottom": null,
            "display": null,
            "flex": null,
            "flex_flow": null,
            "grid_area": null,
            "grid_auto_columns": null,
            "grid_auto_flow": null,
            "grid_auto_rows": null,
            "grid_column": null,
            "grid_gap": null,
            "grid_row": null,
            "grid_template_areas": null,
            "grid_template_columns": null,
            "grid_template_rows": null,
            "height": null,
            "justify_content": null,
            "justify_items": null,
            "left": null,
            "margin": null,
            "max_height": null,
            "max_width": null,
            "min_height": null,
            "min_width": null,
            "object_fit": null,
            "object_position": null,
            "order": null,
            "overflow": null,
            "overflow_x": null,
            "overflow_y": null,
            "padding": null,
            "right": null,
            "top": null,
            "visibility": null,
            "width": null
          }
        },
        "4b70ca6012c444caa1cd595ec6b0bdd2": {
          "model_module": "@jupyter-widgets/controls",
          "model_name": "DescriptionStyleModel",
          "model_module_version": "1.5.0",
          "state": {
            "_model_module": "@jupyter-widgets/controls",
            "_model_module_version": "1.5.0",
            "_model_name": "DescriptionStyleModel",
            "_view_count": null,
            "_view_module": "@jupyter-widgets/base",
            "_view_module_version": "1.2.0",
            "_view_name": "StyleView",
            "description_width": ""
          }
        },
        "34ea517133fb492cbd2487466ccb7d43": {
          "model_module": "@jupyter-widgets/controls",
          "model_name": "HBoxModel",
          "model_module_version": "1.5.0",
          "state": {
            "_dom_classes": [],
            "_model_module": "@jupyter-widgets/controls",
            "_model_module_version": "1.5.0",
            "_model_name": "HBoxModel",
            "_view_count": null,
            "_view_module": "@jupyter-widgets/controls",
            "_view_module_version": "1.5.0",
            "_view_name": "HBoxView",
            "box_style": "",
            "children": [
              "IPY_MODEL_d201859d90a347d39f806a4003706708",
              "IPY_MODEL_80706460851f4adc80e161bd7dad4fee",
              "IPY_MODEL_d37d1414d48d4c819b92bf97dc249b9d"
            ],
            "layout": "IPY_MODEL_cbe04a24fa5a417585b3f36a2350cc85"
          }
        },
        "d201859d90a347d39f806a4003706708": {
          "model_module": "@jupyter-widgets/controls",
          "model_name": "HTMLModel",
          "model_module_version": "1.5.0",
          "state": {
            "_dom_classes": [],
            "_model_module": "@jupyter-widgets/controls",
            "_model_module_version": "1.5.0",
            "_model_name": "HTMLModel",
            "_view_count": null,
            "_view_module": "@jupyter-widgets/controls",
            "_view_module_version": "1.5.0",
            "_view_name": "HTMLView",
            "description": "",
            "description_tooltip": null,
            "layout": "IPY_MODEL_0e8b9e0960a8428bb886380de62008b7",
            "placeholder": "​",
            "style": "IPY_MODEL_0578e348deef48318022ff6cec610918",
            "value": "config.json: 100%"
          }
        },
        "80706460851f4adc80e161bd7dad4fee": {
          "model_module": "@jupyter-widgets/controls",
          "model_name": "FloatProgressModel",
          "model_module_version": "1.5.0",
          "state": {
            "_dom_classes": [],
            "_model_module": "@jupyter-widgets/controls",
            "_model_module_version": "1.5.0",
            "_model_name": "FloatProgressModel",
            "_view_count": null,
            "_view_module": "@jupyter-widgets/controls",
            "_view_module_version": "1.5.0",
            "_view_name": "ProgressView",
            "bar_style": "success",
            "description": "",
            "description_tooltip": null,
            "layout": "IPY_MODEL_28c6cd4af18e4a5e8537ec77dbdbd8cf",
            "max": 491,
            "min": 0,
            "orientation": "horizontal",
            "style": "IPY_MODEL_a5383c3b72cb41b19fb74fb5985c1cbd",
            "value": 491
          }
        },
        "d37d1414d48d4c819b92bf97dc249b9d": {
          "model_module": "@jupyter-widgets/controls",
          "model_name": "HTMLModel",
          "model_module_version": "1.5.0",
          "state": {
            "_dom_classes": [],
            "_model_module": "@jupyter-widgets/controls",
            "_model_module_version": "1.5.0",
            "_model_name": "HTMLModel",
            "_view_count": null,
            "_view_module": "@jupyter-widgets/controls",
            "_view_module_version": "1.5.0",
            "_view_name": "HTMLView",
            "description": "",
            "description_tooltip": null,
            "layout": "IPY_MODEL_15b8fbe3025f45218c5ad60a15913993",
            "placeholder": "​",
            "style": "IPY_MODEL_06d0398456734f3bb5f86dc5e90887b9",
            "value": " 491/491 [00:00&lt;00:00, 47.0kB/s]"
          }
        },
        "cbe04a24fa5a417585b3f36a2350cc85": {
          "model_module": "@jupyter-widgets/base",
          "model_name": "LayoutModel",
          "model_module_version": "1.2.0",
          "state": {
            "_model_module": "@jupyter-widgets/base",
            "_model_module_version": "1.2.0",
            "_model_name": "LayoutModel",
            "_view_count": null,
            "_view_module": "@jupyter-widgets/base",
            "_view_module_version": "1.2.0",
            "_view_name": "LayoutView",
            "align_content": null,
            "align_items": null,
            "align_self": null,
            "border": null,
            "bottom": null,
            "display": null,
            "flex": null,
            "flex_flow": null,
            "grid_area": null,
            "grid_auto_columns": null,
            "grid_auto_flow": null,
            "grid_auto_rows": null,
            "grid_column": null,
            "grid_gap": null,
            "grid_row": null,
            "grid_template_areas": null,
            "grid_template_columns": null,
            "grid_template_rows": null,
            "height": null,
            "justify_content": null,
            "justify_items": null,
            "left": null,
            "margin": null,
            "max_height": null,
            "max_width": null,
            "min_height": null,
            "min_width": null,
            "object_fit": null,
            "object_position": null,
            "order": null,
            "overflow": null,
            "overflow_x": null,
            "overflow_y": null,
            "padding": null,
            "right": null,
            "top": null,
            "visibility": null,
            "width": null
          }
        },
        "0e8b9e0960a8428bb886380de62008b7": {
          "model_module": "@jupyter-widgets/base",
          "model_name": "LayoutModel",
          "model_module_version": "1.2.0",
          "state": {
            "_model_module": "@jupyter-widgets/base",
            "_model_module_version": "1.2.0",
            "_model_name": "LayoutModel",
            "_view_count": null,
            "_view_module": "@jupyter-widgets/base",
            "_view_module_version": "1.2.0",
            "_view_name": "LayoutView",
            "align_content": null,
            "align_items": null,
            "align_self": null,
            "border": null,
            "bottom": null,
            "display": null,
            "flex": null,
            "flex_flow": null,
            "grid_area": null,
            "grid_auto_columns": null,
            "grid_auto_flow": null,
            "grid_auto_rows": null,
            "grid_column": null,
            "grid_gap": null,
            "grid_row": null,
            "grid_template_areas": null,
            "grid_template_columns": null,
            "grid_template_rows": null,
            "height": null,
            "justify_content": null,
            "justify_items": null,
            "left": null,
            "margin": null,
            "max_height": null,
            "max_width": null,
            "min_height": null,
            "min_width": null,
            "object_fit": null,
            "object_position": null,
            "order": null,
            "overflow": null,
            "overflow_x": null,
            "overflow_y": null,
            "padding": null,
            "right": null,
            "top": null,
            "visibility": null,
            "width": null
          }
        },
        "0578e348deef48318022ff6cec610918": {
          "model_module": "@jupyter-widgets/controls",
          "model_name": "DescriptionStyleModel",
          "model_module_version": "1.5.0",
          "state": {
            "_model_module": "@jupyter-widgets/controls",
            "_model_module_version": "1.5.0",
            "_model_name": "DescriptionStyleModel",
            "_view_count": null,
            "_view_module": "@jupyter-widgets/base",
            "_view_module_version": "1.2.0",
            "_view_name": "StyleView",
            "description_width": ""
          }
        },
        "28c6cd4af18e4a5e8537ec77dbdbd8cf": {
          "model_module": "@jupyter-widgets/base",
          "model_name": "LayoutModel",
          "model_module_version": "1.2.0",
          "state": {
            "_model_module": "@jupyter-widgets/base",
            "_model_module_version": "1.2.0",
            "_model_name": "LayoutModel",
            "_view_count": null,
            "_view_module": "@jupyter-widgets/base",
            "_view_module_version": "1.2.0",
            "_view_name": "LayoutView",
            "align_content": null,
            "align_items": null,
            "align_self": null,
            "border": null,
            "bottom": null,
            "display": null,
            "flex": null,
            "flex_flow": null,
            "grid_area": null,
            "grid_auto_columns": null,
            "grid_auto_flow": null,
            "grid_auto_rows": null,
            "grid_column": null,
            "grid_gap": null,
            "grid_row": null,
            "grid_template_areas": null,
            "grid_template_columns": null,
            "grid_template_rows": null,
            "height": null,
            "justify_content": null,
            "justify_items": null,
            "left": null,
            "margin": null,
            "max_height": null,
            "max_width": null,
            "min_height": null,
            "min_width": null,
            "object_fit": null,
            "object_position": null,
            "order": null,
            "overflow": null,
            "overflow_x": null,
            "overflow_y": null,
            "padding": null,
            "right": null,
            "top": null,
            "visibility": null,
            "width": null
          }
        },
        "a5383c3b72cb41b19fb74fb5985c1cbd": {
          "model_module": "@jupyter-widgets/controls",
          "model_name": "ProgressStyleModel",
          "model_module_version": "1.5.0",
          "state": {
            "_model_module": "@jupyter-widgets/controls",
            "_model_module_version": "1.5.0",
            "_model_name": "ProgressStyleModel",
            "_view_count": null,
            "_view_module": "@jupyter-widgets/base",
            "_view_module_version": "1.2.0",
            "_view_name": "StyleView",
            "bar_color": null,
            "description_width": ""
          }
        },
        "15b8fbe3025f45218c5ad60a15913993": {
          "model_module": "@jupyter-widgets/base",
          "model_name": "LayoutModel",
          "model_module_version": "1.2.0",
          "state": {
            "_model_module": "@jupyter-widgets/base",
            "_model_module_version": "1.2.0",
            "_model_name": "LayoutModel",
            "_view_count": null,
            "_view_module": "@jupyter-widgets/base",
            "_view_module_version": "1.2.0",
            "_view_name": "LayoutView",
            "align_content": null,
            "align_items": null,
            "align_self": null,
            "border": null,
            "bottom": null,
            "display": null,
            "flex": null,
            "flex_flow": null,
            "grid_area": null,
            "grid_auto_columns": null,
            "grid_auto_flow": null,
            "grid_auto_rows": null,
            "grid_column": null,
            "grid_gap": null,
            "grid_row": null,
            "grid_template_areas": null,
            "grid_template_columns": null,
            "grid_template_rows": null,
            "height": null,
            "justify_content": null,
            "justify_items": null,
            "left": null,
            "margin": null,
            "max_height": null,
            "max_width": null,
            "min_height": null,
            "min_width": null,
            "object_fit": null,
            "object_position": null,
            "order": null,
            "overflow": null,
            "overflow_x": null,
            "overflow_y": null,
            "padding": null,
            "right": null,
            "top": null,
            "visibility": null,
            "width": null
          }
        },
        "06d0398456734f3bb5f86dc5e90887b9": {
          "model_module": "@jupyter-widgets/controls",
          "model_name": "DescriptionStyleModel",
          "model_module_version": "1.5.0",
          "state": {
            "_model_module": "@jupyter-widgets/controls",
            "_model_module_version": "1.5.0",
            "_model_name": "DescriptionStyleModel",
            "_view_count": null,
            "_view_module": "@jupyter-widgets/base",
            "_view_module_version": "1.2.0",
            "_view_name": "StyleView",
            "description_width": ""
          }
        },
        "593822c273d248eda87caaa39e9736bd": {
          "model_module": "@jupyter-widgets/controls",
          "model_name": "HBoxModel",
          "model_module_version": "1.5.0",
          "state": {
            "_dom_classes": [],
            "_model_module": "@jupyter-widgets/controls",
            "_model_module_version": "1.5.0",
            "_model_name": "HBoxModel",
            "_view_count": null,
            "_view_module": "@jupyter-widgets/controls",
            "_view_module_version": "1.5.0",
            "_view_name": "HBoxView",
            "box_style": "",
            "children": [
              "IPY_MODEL_7448c27249c0439c91c5e2301d3ef07f",
              "IPY_MODEL_968292f9e66145b5b500c983bc77c4c9",
              "IPY_MODEL_d57627ee34e84b03a62e573019d52305"
            ],
            "layout": "IPY_MODEL_538cf602b4924a69893c4a5d16988f8d"
          }
        },
        "7448c27249c0439c91c5e2301d3ef07f": {
          "model_module": "@jupyter-widgets/controls",
          "model_name": "HTMLModel",
          "model_module_version": "1.5.0",
          "state": {
            "_dom_classes": [],
            "_model_module": "@jupyter-widgets/controls",
            "_model_module_version": "1.5.0",
            "_model_name": "HTMLModel",
            "_view_count": null,
            "_view_module": "@jupyter-widgets/controls",
            "_view_module_version": "1.5.0",
            "_view_name": "HTMLView",
            "description": "",
            "description_tooltip": null,
            "layout": "IPY_MODEL_932265a0c2a34424be638d6170f1e1d8",
            "placeholder": "​",
            "style": "IPY_MODEL_25490f74377c4ea0a602f742755b6ebe",
            "value": "vocab.txt: "
          }
        },
        "968292f9e66145b5b500c983bc77c4c9": {
          "model_module": "@jupyter-widgets/controls",
          "model_name": "FloatProgressModel",
          "model_module_version": "1.5.0",
          "state": {
            "_dom_classes": [],
            "_model_module": "@jupyter-widgets/controls",
            "_model_module_version": "1.5.0",
            "_model_name": "FloatProgressModel",
            "_view_count": null,
            "_view_module": "@jupyter-widgets/controls",
            "_view_module_version": "1.5.0",
            "_view_name": "ProgressView",
            "bar_style": "success",
            "description": "",
            "description_tooltip": null,
            "layout": "IPY_MODEL_a40aa58b5bbd4ec08d88bdc32086eba8",
            "max": 1,
            "min": 0,
            "orientation": "horizontal",
            "style": "IPY_MODEL_d6a4f62b19e844bba4e10d75a40cec9f",
            "value": 1
          }
        },
        "d57627ee34e84b03a62e573019d52305": {
          "model_module": "@jupyter-widgets/controls",
          "model_name": "HTMLModel",
          "model_module_version": "1.5.0",
          "state": {
            "_dom_classes": [],
            "_model_module": "@jupyter-widgets/controls",
            "_model_module_version": "1.5.0",
            "_model_name": "HTMLModel",
            "_view_count": null,
            "_view_module": "@jupyter-widgets/controls",
            "_view_module_version": "1.5.0",
            "_view_name": "HTMLView",
            "description": "",
            "description_tooltip": null,
            "layout": "IPY_MODEL_17078924a0ce4012b88fef0654827ae3",
            "placeholder": "​",
            "style": "IPY_MODEL_b9559b4ee8614f98abfaf52b84745cad",
            "value": " 334k/? [00:00&lt;00:00, 22.2MB/s]"
          }
        },
        "538cf602b4924a69893c4a5d16988f8d": {
          "model_module": "@jupyter-widgets/base",
          "model_name": "LayoutModel",
          "model_module_version": "1.2.0",
          "state": {
            "_model_module": "@jupyter-widgets/base",
            "_model_module_version": "1.2.0",
            "_model_name": "LayoutModel",
            "_view_count": null,
            "_view_module": "@jupyter-widgets/base",
            "_view_module_version": "1.2.0",
            "_view_name": "LayoutView",
            "align_content": null,
            "align_items": null,
            "align_self": null,
            "border": null,
            "bottom": null,
            "display": null,
            "flex": null,
            "flex_flow": null,
            "grid_area": null,
            "grid_auto_columns": null,
            "grid_auto_flow": null,
            "grid_auto_rows": null,
            "grid_column": null,
            "grid_gap": null,
            "grid_row": null,
            "grid_template_areas": null,
            "grid_template_columns": null,
            "grid_template_rows": null,
            "height": null,
            "justify_content": null,
            "justify_items": null,
            "left": null,
            "margin": null,
            "max_height": null,
            "max_width": null,
            "min_height": null,
            "min_width": null,
            "object_fit": null,
            "object_position": null,
            "order": null,
            "overflow": null,
            "overflow_x": null,
            "overflow_y": null,
            "padding": null,
            "right": null,
            "top": null,
            "visibility": null,
            "width": null
          }
        },
        "932265a0c2a34424be638d6170f1e1d8": {
          "model_module": "@jupyter-widgets/base",
          "model_name": "LayoutModel",
          "model_module_version": "1.2.0",
          "state": {
            "_model_module": "@jupyter-widgets/base",
            "_model_module_version": "1.2.0",
            "_model_name": "LayoutModel",
            "_view_count": null,
            "_view_module": "@jupyter-widgets/base",
            "_view_module_version": "1.2.0",
            "_view_name": "LayoutView",
            "align_content": null,
            "align_items": null,
            "align_self": null,
            "border": null,
            "bottom": null,
            "display": null,
            "flex": null,
            "flex_flow": null,
            "grid_area": null,
            "grid_auto_columns": null,
            "grid_auto_flow": null,
            "grid_auto_rows": null,
            "grid_column": null,
            "grid_gap": null,
            "grid_row": null,
            "grid_template_areas": null,
            "grid_template_columns": null,
            "grid_template_rows": null,
            "height": null,
            "justify_content": null,
            "justify_items": null,
            "left": null,
            "margin": null,
            "max_height": null,
            "max_width": null,
            "min_height": null,
            "min_width": null,
            "object_fit": null,
            "object_position": null,
            "order": null,
            "overflow": null,
            "overflow_x": null,
            "overflow_y": null,
            "padding": null,
            "right": null,
            "top": null,
            "visibility": null,
            "width": null
          }
        },
        "25490f74377c4ea0a602f742755b6ebe": {
          "model_module": "@jupyter-widgets/controls",
          "model_name": "DescriptionStyleModel",
          "model_module_version": "1.5.0",
          "state": {
            "_model_module": "@jupyter-widgets/controls",
            "_model_module_version": "1.5.0",
            "_model_name": "DescriptionStyleModel",
            "_view_count": null,
            "_view_module": "@jupyter-widgets/base",
            "_view_module_version": "1.2.0",
            "_view_name": "StyleView",
            "description_width": ""
          }
        },
        "a40aa58b5bbd4ec08d88bdc32086eba8": {
          "model_module": "@jupyter-widgets/base",
          "model_name": "LayoutModel",
          "model_module_version": "1.2.0",
          "state": {
            "_model_module": "@jupyter-widgets/base",
            "_model_module_version": "1.2.0",
            "_model_name": "LayoutModel",
            "_view_count": null,
            "_view_module": "@jupyter-widgets/base",
            "_view_module_version": "1.2.0",
            "_view_name": "LayoutView",
            "align_content": null,
            "align_items": null,
            "align_self": null,
            "border": null,
            "bottom": null,
            "display": null,
            "flex": null,
            "flex_flow": null,
            "grid_area": null,
            "grid_auto_columns": null,
            "grid_auto_flow": null,
            "grid_auto_rows": null,
            "grid_column": null,
            "grid_gap": null,
            "grid_row": null,
            "grid_template_areas": null,
            "grid_template_columns": null,
            "grid_template_rows": null,
            "height": null,
            "justify_content": null,
            "justify_items": null,
            "left": null,
            "margin": null,
            "max_height": null,
            "max_width": null,
            "min_height": null,
            "min_width": null,
            "object_fit": null,
            "object_position": null,
            "order": null,
            "overflow": null,
            "overflow_x": null,
            "overflow_y": null,
            "padding": null,
            "right": null,
            "top": null,
            "visibility": null,
            "width": "20px"
          }
        },
        "d6a4f62b19e844bba4e10d75a40cec9f": {
          "model_module": "@jupyter-widgets/controls",
          "model_name": "ProgressStyleModel",
          "model_module_version": "1.5.0",
          "state": {
            "_model_module": "@jupyter-widgets/controls",
            "_model_module_version": "1.5.0",
            "_model_name": "ProgressStyleModel",
            "_view_count": null,
            "_view_module": "@jupyter-widgets/base",
            "_view_module_version": "1.2.0",
            "_view_name": "StyleView",
            "bar_color": null,
            "description_width": ""
          }
        },
        "17078924a0ce4012b88fef0654827ae3": {
          "model_module": "@jupyter-widgets/base",
          "model_name": "LayoutModel",
          "model_module_version": "1.2.0",
          "state": {
            "_model_module": "@jupyter-widgets/base",
            "_model_module_version": "1.2.0",
            "_model_name": "LayoutModel",
            "_view_count": null,
            "_view_module": "@jupyter-widgets/base",
            "_view_module_version": "1.2.0",
            "_view_name": "LayoutView",
            "align_content": null,
            "align_items": null,
            "align_self": null,
            "border": null,
            "bottom": null,
            "display": null,
            "flex": null,
            "flex_flow": null,
            "grid_area": null,
            "grid_auto_columns": null,
            "grid_auto_flow": null,
            "grid_auto_rows": null,
            "grid_column": null,
            "grid_gap": null,
            "grid_row": null,
            "grid_template_areas": null,
            "grid_template_columns": null,
            "grid_template_rows": null,
            "height": null,
            "justify_content": null,
            "justify_items": null,
            "left": null,
            "margin": null,
            "max_height": null,
            "max_width": null,
            "min_height": null,
            "min_width": null,
            "object_fit": null,
            "object_position": null,
            "order": null,
            "overflow": null,
            "overflow_x": null,
            "overflow_y": null,
            "padding": null,
            "right": null,
            "top": null,
            "visibility": null,
            "width": null
          }
        },
        "b9559b4ee8614f98abfaf52b84745cad": {
          "model_module": "@jupyter-widgets/controls",
          "model_name": "DescriptionStyleModel",
          "model_module_version": "1.5.0",
          "state": {
            "_model_module": "@jupyter-widgets/controls",
            "_model_module_version": "1.5.0",
            "_model_name": "DescriptionStyleModel",
            "_view_count": null,
            "_view_module": "@jupyter-widgets/base",
            "_view_module_version": "1.2.0",
            "_view_name": "StyleView",
            "description_width": ""
          }
        },
        "c469df973f674f70aa1c801c26359c92": {
          "model_module": "@jupyter-widgets/controls",
          "model_name": "HBoxModel",
          "model_module_version": "1.5.0",
          "state": {
            "_dom_classes": [],
            "_model_module": "@jupyter-widgets/controls",
            "_model_module_version": "1.5.0",
            "_model_name": "HBoxModel",
            "_view_count": null,
            "_view_module": "@jupyter-widgets/controls",
            "_view_module_version": "1.5.0",
            "_view_name": "HBoxView",
            "box_style": "",
            "children": [
              "IPY_MODEL_b995a7696d134ae0b09b84892e7b5674",
              "IPY_MODEL_d6ab108d2cdd49eea7394562de6d6eb5",
              "IPY_MODEL_51b53f12c89741babf1a51b9a619e16d"
            ],
            "layout": "IPY_MODEL_5fa1c7b6d82a487e8b1ddbd78a56ee43"
          }
        },
        "b995a7696d134ae0b09b84892e7b5674": {
          "model_module": "@jupyter-widgets/controls",
          "model_name": "HTMLModel",
          "model_module_version": "1.5.0",
          "state": {
            "_dom_classes": [],
            "_model_module": "@jupyter-widgets/controls",
            "_model_module_version": "1.5.0",
            "_model_name": "HTMLModel",
            "_view_count": null,
            "_view_module": "@jupyter-widgets/controls",
            "_view_module_version": "1.5.0",
            "_view_name": "HTMLView",
            "description": "",
            "description_tooltip": null,
            "layout": "IPY_MODEL_85a5ee6157b5470897c72441bfb41c6d",
            "placeholder": "​",
            "style": "IPY_MODEL_e67693fe6e3d4da38ec75fb9c1639f75",
            "value": "special_tokens_map.json: 100%"
          }
        },
        "d6ab108d2cdd49eea7394562de6d6eb5": {
          "model_module": "@jupyter-widgets/controls",
          "model_name": "FloatProgressModel",
          "model_module_version": "1.5.0",
          "state": {
            "_dom_classes": [],
            "_model_module": "@jupyter-widgets/controls",
            "_model_module_version": "1.5.0",
            "_model_name": "FloatProgressModel",
            "_view_count": null,
            "_view_module": "@jupyter-widgets/controls",
            "_view_module_version": "1.5.0",
            "_view_name": "ProgressView",
            "bar_style": "success",
            "description": "",
            "description_tooltip": null,
            "layout": "IPY_MODEL_f6073bedafc14a47b817ddeceaab39f0",
            "max": 112,
            "min": 0,
            "orientation": "horizontal",
            "style": "IPY_MODEL_b9dc21e3383d4ba18781c15f13b73343",
            "value": 112
          }
        },
        "51b53f12c89741babf1a51b9a619e16d": {
          "model_module": "@jupyter-widgets/controls",
          "model_name": "HTMLModel",
          "model_module_version": "1.5.0",
          "state": {
            "_dom_classes": [],
            "_model_module": "@jupyter-widgets/controls",
            "_model_module_version": "1.5.0",
            "_model_name": "HTMLModel",
            "_view_count": null,
            "_view_module": "@jupyter-widgets/controls",
            "_view_module_version": "1.5.0",
            "_view_name": "HTMLView",
            "description": "",
            "description_tooltip": null,
            "layout": "IPY_MODEL_a8df6e8163f04d30ad554dbfdea8aa61",
            "placeholder": "​",
            "style": "IPY_MODEL_1734a5d55aa5456abd75ec9406f418a9",
            "value": " 112/112 [00:00&lt;00:00, 11.2kB/s]"
          }
        },
        "5fa1c7b6d82a487e8b1ddbd78a56ee43": {
          "model_module": "@jupyter-widgets/base",
          "model_name": "LayoutModel",
          "model_module_version": "1.2.0",
          "state": {
            "_model_module": "@jupyter-widgets/base",
            "_model_module_version": "1.2.0",
            "_model_name": "LayoutModel",
            "_view_count": null,
            "_view_module": "@jupyter-widgets/base",
            "_view_module_version": "1.2.0",
            "_view_name": "LayoutView",
            "align_content": null,
            "align_items": null,
            "align_self": null,
            "border": null,
            "bottom": null,
            "display": null,
            "flex": null,
            "flex_flow": null,
            "grid_area": null,
            "grid_auto_columns": null,
            "grid_auto_flow": null,
            "grid_auto_rows": null,
            "grid_column": null,
            "grid_gap": null,
            "grid_row": null,
            "grid_template_areas": null,
            "grid_template_columns": null,
            "grid_template_rows": null,
            "height": null,
            "justify_content": null,
            "justify_items": null,
            "left": null,
            "margin": null,
            "max_height": null,
            "max_width": null,
            "min_height": null,
            "min_width": null,
            "object_fit": null,
            "object_position": null,
            "order": null,
            "overflow": null,
            "overflow_x": null,
            "overflow_y": null,
            "padding": null,
            "right": null,
            "top": null,
            "visibility": null,
            "width": null
          }
        },
        "85a5ee6157b5470897c72441bfb41c6d": {
          "model_module": "@jupyter-widgets/base",
          "model_name": "LayoutModel",
          "model_module_version": "1.2.0",
          "state": {
            "_model_module": "@jupyter-widgets/base",
            "_model_module_version": "1.2.0",
            "_model_name": "LayoutModel",
            "_view_count": null,
            "_view_module": "@jupyter-widgets/base",
            "_view_module_version": "1.2.0",
            "_view_name": "LayoutView",
            "align_content": null,
            "align_items": null,
            "align_self": null,
            "border": null,
            "bottom": null,
            "display": null,
            "flex": null,
            "flex_flow": null,
            "grid_area": null,
            "grid_auto_columns": null,
            "grid_auto_flow": null,
            "grid_auto_rows": null,
            "grid_column": null,
            "grid_gap": null,
            "grid_row": null,
            "grid_template_areas": null,
            "grid_template_columns": null,
            "grid_template_rows": null,
            "height": null,
            "justify_content": null,
            "justify_items": null,
            "left": null,
            "margin": null,
            "max_height": null,
            "max_width": null,
            "min_height": null,
            "min_width": null,
            "object_fit": null,
            "object_position": null,
            "order": null,
            "overflow": null,
            "overflow_x": null,
            "overflow_y": null,
            "padding": null,
            "right": null,
            "top": null,
            "visibility": null,
            "width": null
          }
        },
        "e67693fe6e3d4da38ec75fb9c1639f75": {
          "model_module": "@jupyter-widgets/controls",
          "model_name": "DescriptionStyleModel",
          "model_module_version": "1.5.0",
          "state": {
            "_model_module": "@jupyter-widgets/controls",
            "_model_module_version": "1.5.0",
            "_model_name": "DescriptionStyleModel",
            "_view_count": null,
            "_view_module": "@jupyter-widgets/base",
            "_view_module_version": "1.2.0",
            "_view_name": "StyleView",
            "description_width": ""
          }
        },
        "f6073bedafc14a47b817ddeceaab39f0": {
          "model_module": "@jupyter-widgets/base",
          "model_name": "LayoutModel",
          "model_module_version": "1.2.0",
          "state": {
            "_model_module": "@jupyter-widgets/base",
            "_model_module_version": "1.2.0",
            "_model_name": "LayoutModel",
            "_view_count": null,
            "_view_module": "@jupyter-widgets/base",
            "_view_module_version": "1.2.0",
            "_view_name": "LayoutView",
            "align_content": null,
            "align_items": null,
            "align_self": null,
            "border": null,
            "bottom": null,
            "display": null,
            "flex": null,
            "flex_flow": null,
            "grid_area": null,
            "grid_auto_columns": null,
            "grid_auto_flow": null,
            "grid_auto_rows": null,
            "grid_column": null,
            "grid_gap": null,
            "grid_row": null,
            "grid_template_areas": null,
            "grid_template_columns": null,
            "grid_template_rows": null,
            "height": null,
            "justify_content": null,
            "justify_items": null,
            "left": null,
            "margin": null,
            "max_height": null,
            "max_width": null,
            "min_height": null,
            "min_width": null,
            "object_fit": null,
            "object_position": null,
            "order": null,
            "overflow": null,
            "overflow_x": null,
            "overflow_y": null,
            "padding": null,
            "right": null,
            "top": null,
            "visibility": null,
            "width": null
          }
        },
        "b9dc21e3383d4ba18781c15f13b73343": {
          "model_module": "@jupyter-widgets/controls",
          "model_name": "ProgressStyleModel",
          "model_module_version": "1.5.0",
          "state": {
            "_model_module": "@jupyter-widgets/controls",
            "_model_module_version": "1.5.0",
            "_model_name": "ProgressStyleModel",
            "_view_count": null,
            "_view_module": "@jupyter-widgets/base",
            "_view_module_version": "1.2.0",
            "_view_name": "StyleView",
            "bar_color": null,
            "description_width": ""
          }
        },
        "a8df6e8163f04d30ad554dbfdea8aa61": {
          "model_module": "@jupyter-widgets/base",
          "model_name": "LayoutModel",
          "model_module_version": "1.2.0",
          "state": {
            "_model_module": "@jupyter-widgets/base",
            "_model_module_version": "1.2.0",
            "_model_name": "LayoutModel",
            "_view_count": null,
            "_view_module": "@jupyter-widgets/base",
            "_view_module_version": "1.2.0",
            "_view_name": "LayoutView",
            "align_content": null,
            "align_items": null,
            "align_self": null,
            "border": null,
            "bottom": null,
            "display": null,
            "flex": null,
            "flex_flow": null,
            "grid_area": null,
            "grid_auto_columns": null,
            "grid_auto_flow": null,
            "grid_auto_rows": null,
            "grid_column": null,
            "grid_gap": null,
            "grid_row": null,
            "grid_template_areas": null,
            "grid_template_columns": null,
            "grid_template_rows": null,
            "height": null,
            "justify_content": null,
            "justify_items": null,
            "left": null,
            "margin": null,
            "max_height": null,
            "max_width": null,
            "min_height": null,
            "min_width": null,
            "object_fit": null,
            "object_position": null,
            "order": null,
            "overflow": null,
            "overflow_x": null,
            "overflow_y": null,
            "padding": null,
            "right": null,
            "top": null,
            "visibility": null,
            "width": null
          }
        },
        "1734a5d55aa5456abd75ec9406f418a9": {
          "model_module": "@jupyter-widgets/controls",
          "model_name": "DescriptionStyleModel",
          "model_module_version": "1.5.0",
          "state": {
            "_model_module": "@jupyter-widgets/controls",
            "_model_module_version": "1.5.0",
            "_model_name": "DescriptionStyleModel",
            "_view_count": null,
            "_view_module": "@jupyter-widgets/base",
            "_view_module_version": "1.2.0",
            "_view_name": "StyleView",
            "description_width": ""
          }
        },
        "67001dfca28b4b9cbe3101319a13b054": {
          "model_module": "@jupyter-widgets/controls",
          "model_name": "HBoxModel",
          "model_module_version": "1.5.0",
          "state": {
            "_dom_classes": [],
            "_model_module": "@jupyter-widgets/controls",
            "_model_module_version": "1.5.0",
            "_model_name": "HBoxModel",
            "_view_count": null,
            "_view_module": "@jupyter-widgets/controls",
            "_view_module_version": "1.5.0",
            "_view_name": "HBoxView",
            "box_style": "",
            "children": [
              "IPY_MODEL_668f0c47a64943a7a722e064da356bb8",
              "IPY_MODEL_0f03ed0f28ca49cd825b55d1efe32242",
              "IPY_MODEL_2b1d2614455d4b7e9c878fb58d31e711"
            ],
            "layout": "IPY_MODEL_ad0693f7dae44d86ae945d60911e1379"
          }
        },
        "668f0c47a64943a7a722e064da356bb8": {
          "model_module": "@jupyter-widgets/controls",
          "model_name": "HTMLModel",
          "model_module_version": "1.5.0",
          "state": {
            "_dom_classes": [],
            "_model_module": "@jupyter-widgets/controls",
            "_model_module_version": "1.5.0",
            "_model_name": "HTMLModel",
            "_view_count": null,
            "_view_module": "@jupyter-widgets/controls",
            "_view_module_version": "1.5.0",
            "_view_name": "HTMLView",
            "description": "",
            "description_tooltip": null,
            "layout": "IPY_MODEL_e88e89a6830543efb1fcb4c97108a2b3",
            "placeholder": "​",
            "style": "IPY_MODEL_3f97c04de6744f8baff3d44f5a96ecef",
            "value": "Map: 100%"
          }
        },
        "0f03ed0f28ca49cd825b55d1efe32242": {
          "model_module": "@jupyter-widgets/controls",
          "model_name": "FloatProgressModel",
          "model_module_version": "1.5.0",
          "state": {
            "_dom_classes": [],
            "_model_module": "@jupyter-widgets/controls",
            "_model_module_version": "1.5.0",
            "_model_name": "FloatProgressModel",
            "_view_count": null,
            "_view_module": "@jupyter-widgets/controls",
            "_view_module_version": "1.5.0",
            "_view_name": "ProgressView",
            "bar_style": "success",
            "description": "",
            "description_tooltip": null,
            "layout": "IPY_MODEL_704639cbbae64255aa444e124ab7ebde",
            "max": 80,
            "min": 0,
            "orientation": "horizontal",
            "style": "IPY_MODEL_8ba11c30613b4a0ab371f2322ac153c5",
            "value": 80
          }
        },
        "2b1d2614455d4b7e9c878fb58d31e711": {
          "model_module": "@jupyter-widgets/controls",
          "model_name": "HTMLModel",
          "model_module_version": "1.5.0",
          "state": {
            "_dom_classes": [],
            "_model_module": "@jupyter-widgets/controls",
            "_model_module_version": "1.5.0",
            "_model_name": "HTMLModel",
            "_view_count": null,
            "_view_module": "@jupyter-widgets/controls",
            "_view_module_version": "1.5.0",
            "_view_name": "HTMLView",
            "description": "",
            "description_tooltip": null,
            "layout": "IPY_MODEL_0f2ee59cad254f73b3b281d328a99e43",
            "placeholder": "​",
            "style": "IPY_MODEL_ae29532ab6d3495d8f7c5da8f326ce92",
            "value": " 80/80 [00:00&lt;00:00, 1235.72 examples/s]"
          }
        },
        "ad0693f7dae44d86ae945d60911e1379": {
          "model_module": "@jupyter-widgets/base",
          "model_name": "LayoutModel",
          "model_module_version": "1.2.0",
          "state": {
            "_model_module": "@jupyter-widgets/base",
            "_model_module_version": "1.2.0",
            "_model_name": "LayoutModel",
            "_view_count": null,
            "_view_module": "@jupyter-widgets/base",
            "_view_module_version": "1.2.0",
            "_view_name": "LayoutView",
            "align_content": null,
            "align_items": null,
            "align_self": null,
            "border": null,
            "bottom": null,
            "display": null,
            "flex": null,
            "flex_flow": null,
            "grid_area": null,
            "grid_auto_columns": null,
            "grid_auto_flow": null,
            "grid_auto_rows": null,
            "grid_column": null,
            "grid_gap": null,
            "grid_row": null,
            "grid_template_areas": null,
            "grid_template_columns": null,
            "grid_template_rows": null,
            "height": null,
            "justify_content": null,
            "justify_items": null,
            "left": null,
            "margin": null,
            "max_height": null,
            "max_width": null,
            "min_height": null,
            "min_width": null,
            "object_fit": null,
            "object_position": null,
            "order": null,
            "overflow": null,
            "overflow_x": null,
            "overflow_y": null,
            "padding": null,
            "right": null,
            "top": null,
            "visibility": null,
            "width": null
          }
        },
        "e88e89a6830543efb1fcb4c97108a2b3": {
          "model_module": "@jupyter-widgets/base",
          "model_name": "LayoutModel",
          "model_module_version": "1.2.0",
          "state": {
            "_model_module": "@jupyter-widgets/base",
            "_model_module_version": "1.2.0",
            "_model_name": "LayoutModel",
            "_view_count": null,
            "_view_module": "@jupyter-widgets/base",
            "_view_module_version": "1.2.0",
            "_view_name": "LayoutView",
            "align_content": null,
            "align_items": null,
            "align_self": null,
            "border": null,
            "bottom": null,
            "display": null,
            "flex": null,
            "flex_flow": null,
            "grid_area": null,
            "grid_auto_columns": null,
            "grid_auto_flow": null,
            "grid_auto_rows": null,
            "grid_column": null,
            "grid_gap": null,
            "grid_row": null,
            "grid_template_areas": null,
            "grid_template_columns": null,
            "grid_template_rows": null,
            "height": null,
            "justify_content": null,
            "justify_items": null,
            "left": null,
            "margin": null,
            "max_height": null,
            "max_width": null,
            "min_height": null,
            "min_width": null,
            "object_fit": null,
            "object_position": null,
            "order": null,
            "overflow": null,
            "overflow_x": null,
            "overflow_y": null,
            "padding": null,
            "right": null,
            "top": null,
            "visibility": null,
            "width": null
          }
        },
        "3f97c04de6744f8baff3d44f5a96ecef": {
          "model_module": "@jupyter-widgets/controls",
          "model_name": "DescriptionStyleModel",
          "model_module_version": "1.5.0",
          "state": {
            "_model_module": "@jupyter-widgets/controls",
            "_model_module_version": "1.5.0",
            "_model_name": "DescriptionStyleModel",
            "_view_count": null,
            "_view_module": "@jupyter-widgets/base",
            "_view_module_version": "1.2.0",
            "_view_name": "StyleView",
            "description_width": ""
          }
        },
        "704639cbbae64255aa444e124ab7ebde": {
          "model_module": "@jupyter-widgets/base",
          "model_name": "LayoutModel",
          "model_module_version": "1.2.0",
          "state": {
            "_model_module": "@jupyter-widgets/base",
            "_model_module_version": "1.2.0",
            "_model_name": "LayoutModel",
            "_view_count": null,
            "_view_module": "@jupyter-widgets/base",
            "_view_module_version": "1.2.0",
            "_view_name": "LayoutView",
            "align_content": null,
            "align_items": null,
            "align_self": null,
            "border": null,
            "bottom": null,
            "display": null,
            "flex": null,
            "flex_flow": null,
            "grid_area": null,
            "grid_auto_columns": null,
            "grid_auto_flow": null,
            "grid_auto_rows": null,
            "grid_column": null,
            "grid_gap": null,
            "grid_row": null,
            "grid_template_areas": null,
            "grid_template_columns": null,
            "grid_template_rows": null,
            "height": null,
            "justify_content": null,
            "justify_items": null,
            "left": null,
            "margin": null,
            "max_height": null,
            "max_width": null,
            "min_height": null,
            "min_width": null,
            "object_fit": null,
            "object_position": null,
            "order": null,
            "overflow": null,
            "overflow_x": null,
            "overflow_y": null,
            "padding": null,
            "right": null,
            "top": null,
            "visibility": null,
            "width": null
          }
        },
        "8ba11c30613b4a0ab371f2322ac153c5": {
          "model_module": "@jupyter-widgets/controls",
          "model_name": "ProgressStyleModel",
          "model_module_version": "1.5.0",
          "state": {
            "_model_module": "@jupyter-widgets/controls",
            "_model_module_version": "1.5.0",
            "_model_name": "ProgressStyleModel",
            "_view_count": null,
            "_view_module": "@jupyter-widgets/base",
            "_view_module_version": "1.2.0",
            "_view_name": "StyleView",
            "bar_color": null,
            "description_width": ""
          }
        },
        "0f2ee59cad254f73b3b281d328a99e43": {
          "model_module": "@jupyter-widgets/base",
          "model_name": "LayoutModel",
          "model_module_version": "1.2.0",
          "state": {
            "_model_module": "@jupyter-widgets/base",
            "_model_module_version": "1.2.0",
            "_model_name": "LayoutModel",
            "_view_count": null,
            "_view_module": "@jupyter-widgets/base",
            "_view_module_version": "1.2.0",
            "_view_name": "LayoutView",
            "align_content": null,
            "align_items": null,
            "align_self": null,
            "border": null,
            "bottom": null,
            "display": null,
            "flex": null,
            "flex_flow": null,
            "grid_area": null,
            "grid_auto_columns": null,
            "grid_auto_flow": null,
            "grid_auto_rows": null,
            "grid_column": null,
            "grid_gap": null,
            "grid_row": null,
            "grid_template_areas": null,
            "grid_template_columns": null,
            "grid_template_rows": null,
            "height": null,
            "justify_content": null,
            "justify_items": null,
            "left": null,
            "margin": null,
            "max_height": null,
            "max_width": null,
            "min_height": null,
            "min_width": null,
            "object_fit": null,
            "object_position": null,
            "order": null,
            "overflow": null,
            "overflow_x": null,
            "overflow_y": null,
            "padding": null,
            "right": null,
            "top": null,
            "visibility": null,
            "width": null
          }
        },
        "ae29532ab6d3495d8f7c5da8f326ce92": {
          "model_module": "@jupyter-widgets/controls",
          "model_name": "DescriptionStyleModel",
          "model_module_version": "1.5.0",
          "state": {
            "_model_module": "@jupyter-widgets/controls",
            "_model_module_version": "1.5.0",
            "_model_name": "DescriptionStyleModel",
            "_view_count": null,
            "_view_module": "@jupyter-widgets/base",
            "_view_module_version": "1.2.0",
            "_view_name": "StyleView",
            "description_width": ""
          }
        },
        "9bc6ed8b5ed64571adfeac8575cd161a": {
          "model_module": "@jupyter-widgets/controls",
          "model_name": "HBoxModel",
          "model_module_version": "1.5.0",
          "state": {
            "_dom_classes": [],
            "_model_module": "@jupyter-widgets/controls",
            "_model_module_version": "1.5.0",
            "_model_name": "HBoxModel",
            "_view_count": null,
            "_view_module": "@jupyter-widgets/controls",
            "_view_module_version": "1.5.0",
            "_view_name": "HBoxView",
            "box_style": "",
            "children": [
              "IPY_MODEL_4407c19012cd4b0d9cec1dde3ed34dfb",
              "IPY_MODEL_7f4f9dbd789b48f384bea67a8e09e861",
              "IPY_MODEL_34118fee5065455489f80320e03bbb3d"
            ],
            "layout": "IPY_MODEL_78ca65a0b42b4680b0334e21cf70900b"
          }
        },
        "4407c19012cd4b0d9cec1dde3ed34dfb": {
          "model_module": "@jupyter-widgets/controls",
          "model_name": "HTMLModel",
          "model_module_version": "1.5.0",
          "state": {
            "_dom_classes": [],
            "_model_module": "@jupyter-widgets/controls",
            "_model_module_version": "1.5.0",
            "_model_name": "HTMLModel",
            "_view_count": null,
            "_view_module": "@jupyter-widgets/controls",
            "_view_module_version": "1.5.0",
            "_view_name": "HTMLView",
            "description": "",
            "description_tooltip": null,
            "layout": "IPY_MODEL_ec77f7a0c3664453a13ebe00667e6ea3",
            "placeholder": "​",
            "style": "IPY_MODEL_f6648b0a027544b8be16ca44e2ab58fd",
            "value": "Map: 100%"
          }
        },
        "7f4f9dbd789b48f384bea67a8e09e861": {
          "model_module": "@jupyter-widgets/controls",
          "model_name": "FloatProgressModel",
          "model_module_version": "1.5.0",
          "state": {
            "_dom_classes": [],
            "_model_module": "@jupyter-widgets/controls",
            "_model_module_version": "1.5.0",
            "_model_name": "FloatProgressModel",
            "_view_count": null,
            "_view_module": "@jupyter-widgets/controls",
            "_view_module_version": "1.5.0",
            "_view_name": "ProgressView",
            "bar_style": "success",
            "description": "",
            "description_tooltip": null,
            "layout": "IPY_MODEL_119f14fd33d8401db318972c8c92c54a",
            "max": 20,
            "min": 0,
            "orientation": "horizontal",
            "style": "IPY_MODEL_c97651dcedea46ab87148b0f03e42c89",
            "value": 20
          }
        },
        "34118fee5065455489f80320e03bbb3d": {
          "model_module": "@jupyter-widgets/controls",
          "model_name": "HTMLModel",
          "model_module_version": "1.5.0",
          "state": {
            "_dom_classes": [],
            "_model_module": "@jupyter-widgets/controls",
            "_model_module_version": "1.5.0",
            "_model_name": "HTMLModel",
            "_view_count": null,
            "_view_module": "@jupyter-widgets/controls",
            "_view_module_version": "1.5.0",
            "_view_name": "HTMLView",
            "description": "",
            "description_tooltip": null,
            "layout": "IPY_MODEL_79f9eb72283d4add9a103ee265aac4d8",
            "placeholder": "​",
            "style": "IPY_MODEL_d8c6d39ab67c4dc4aad39119fe949d04",
            "value": " 20/20 [00:00&lt;00:00, 532.58 examples/s]"
          }
        },
        "78ca65a0b42b4680b0334e21cf70900b": {
          "model_module": "@jupyter-widgets/base",
          "model_name": "LayoutModel",
          "model_module_version": "1.2.0",
          "state": {
            "_model_module": "@jupyter-widgets/base",
            "_model_module_version": "1.2.0",
            "_model_name": "LayoutModel",
            "_view_count": null,
            "_view_module": "@jupyter-widgets/base",
            "_view_module_version": "1.2.0",
            "_view_name": "LayoutView",
            "align_content": null,
            "align_items": null,
            "align_self": null,
            "border": null,
            "bottom": null,
            "display": null,
            "flex": null,
            "flex_flow": null,
            "grid_area": null,
            "grid_auto_columns": null,
            "grid_auto_flow": null,
            "grid_auto_rows": null,
            "grid_column": null,
            "grid_gap": null,
            "grid_row": null,
            "grid_template_areas": null,
            "grid_template_columns": null,
            "grid_template_rows": null,
            "height": null,
            "justify_content": null,
            "justify_items": null,
            "left": null,
            "margin": null,
            "max_height": null,
            "max_width": null,
            "min_height": null,
            "min_width": null,
            "object_fit": null,
            "object_position": null,
            "order": null,
            "overflow": null,
            "overflow_x": null,
            "overflow_y": null,
            "padding": null,
            "right": null,
            "top": null,
            "visibility": null,
            "width": null
          }
        },
        "ec77f7a0c3664453a13ebe00667e6ea3": {
          "model_module": "@jupyter-widgets/base",
          "model_name": "LayoutModel",
          "model_module_version": "1.2.0",
          "state": {
            "_model_module": "@jupyter-widgets/base",
            "_model_module_version": "1.2.0",
            "_model_name": "LayoutModel",
            "_view_count": null,
            "_view_module": "@jupyter-widgets/base",
            "_view_module_version": "1.2.0",
            "_view_name": "LayoutView",
            "align_content": null,
            "align_items": null,
            "align_self": null,
            "border": null,
            "bottom": null,
            "display": null,
            "flex": null,
            "flex_flow": null,
            "grid_area": null,
            "grid_auto_columns": null,
            "grid_auto_flow": null,
            "grid_auto_rows": null,
            "grid_column": null,
            "grid_gap": null,
            "grid_row": null,
            "grid_template_areas": null,
            "grid_template_columns": null,
            "grid_template_rows": null,
            "height": null,
            "justify_content": null,
            "justify_items": null,
            "left": null,
            "margin": null,
            "max_height": null,
            "max_width": null,
            "min_height": null,
            "min_width": null,
            "object_fit": null,
            "object_position": null,
            "order": null,
            "overflow": null,
            "overflow_x": null,
            "overflow_y": null,
            "padding": null,
            "right": null,
            "top": null,
            "visibility": null,
            "width": null
          }
        },
        "f6648b0a027544b8be16ca44e2ab58fd": {
          "model_module": "@jupyter-widgets/controls",
          "model_name": "DescriptionStyleModel",
          "model_module_version": "1.5.0",
          "state": {
            "_model_module": "@jupyter-widgets/controls",
            "_model_module_version": "1.5.0",
            "_model_name": "DescriptionStyleModel",
            "_view_count": null,
            "_view_module": "@jupyter-widgets/base",
            "_view_module_version": "1.2.0",
            "_view_name": "StyleView",
            "description_width": ""
          }
        },
        "119f14fd33d8401db318972c8c92c54a": {
          "model_module": "@jupyter-widgets/base",
          "model_name": "LayoutModel",
          "model_module_version": "1.2.0",
          "state": {
            "_model_module": "@jupyter-widgets/base",
            "_model_module_version": "1.2.0",
            "_model_name": "LayoutModel",
            "_view_count": null,
            "_view_module": "@jupyter-widgets/base",
            "_view_module_version": "1.2.0",
            "_view_name": "LayoutView",
            "align_content": null,
            "align_items": null,
            "align_self": null,
            "border": null,
            "bottom": null,
            "display": null,
            "flex": null,
            "flex_flow": null,
            "grid_area": null,
            "grid_auto_columns": null,
            "grid_auto_flow": null,
            "grid_auto_rows": null,
            "grid_column": null,
            "grid_gap": null,
            "grid_row": null,
            "grid_template_areas": null,
            "grid_template_columns": null,
            "grid_template_rows": null,
            "height": null,
            "justify_content": null,
            "justify_items": null,
            "left": null,
            "margin": null,
            "max_height": null,
            "max_width": null,
            "min_height": null,
            "min_width": null,
            "object_fit": null,
            "object_position": null,
            "order": null,
            "overflow": null,
            "overflow_x": null,
            "overflow_y": null,
            "padding": null,
            "right": null,
            "top": null,
            "visibility": null,
            "width": null
          }
        },
        "c97651dcedea46ab87148b0f03e42c89": {
          "model_module": "@jupyter-widgets/controls",
          "model_name": "ProgressStyleModel",
          "model_module_version": "1.5.0",
          "state": {
            "_model_module": "@jupyter-widgets/controls",
            "_model_module_version": "1.5.0",
            "_model_name": "ProgressStyleModel",
            "_view_count": null,
            "_view_module": "@jupyter-widgets/base",
            "_view_module_version": "1.2.0",
            "_view_name": "StyleView",
            "bar_color": null,
            "description_width": ""
          }
        },
        "79f9eb72283d4add9a103ee265aac4d8": {
          "model_module": "@jupyter-widgets/base",
          "model_name": "LayoutModel",
          "model_module_version": "1.2.0",
          "state": {
            "_model_module": "@jupyter-widgets/base",
            "_model_module_version": "1.2.0",
            "_model_name": "LayoutModel",
            "_view_count": null,
            "_view_module": "@jupyter-widgets/base",
            "_view_module_version": "1.2.0",
            "_view_name": "LayoutView",
            "align_content": null,
            "align_items": null,
            "align_self": null,
            "border": null,
            "bottom": null,
            "display": null,
            "flex": null,
            "flex_flow": null,
            "grid_area": null,
            "grid_auto_columns": null,
            "grid_auto_flow": null,
            "grid_auto_rows": null,
            "grid_column": null,
            "grid_gap": null,
            "grid_row": null,
            "grid_template_areas": null,
            "grid_template_columns": null,
            "grid_template_rows": null,
            "height": null,
            "justify_content": null,
            "justify_items": null,
            "left": null,
            "margin": null,
            "max_height": null,
            "max_width": null,
            "min_height": null,
            "min_width": null,
            "object_fit": null,
            "object_position": null,
            "order": null,
            "overflow": null,
            "overflow_x": null,
            "overflow_y": null,
            "padding": null,
            "right": null,
            "top": null,
            "visibility": null,
            "width": null
          }
        },
        "d8c6d39ab67c4dc4aad39119fe949d04": {
          "model_module": "@jupyter-widgets/controls",
          "model_name": "DescriptionStyleModel",
          "model_module_version": "1.5.0",
          "state": {
            "_model_module": "@jupyter-widgets/controls",
            "_model_module_version": "1.5.0",
            "_model_name": "DescriptionStyleModel",
            "_view_count": null,
            "_view_module": "@jupyter-widgets/base",
            "_view_module_version": "1.2.0",
            "_view_name": "StyleView",
            "description_width": ""
          }
        },
        "ac33019b7aba483c82febd64b66a36ce": {
          "model_module": "@jupyter-widgets/controls",
          "model_name": "HBoxModel",
          "model_module_version": "1.5.0",
          "state": {
            "_dom_classes": [],
            "_model_module": "@jupyter-widgets/controls",
            "_model_module_version": "1.5.0",
            "_model_name": "HBoxModel",
            "_view_count": null,
            "_view_module": "@jupyter-widgets/controls",
            "_view_module_version": "1.5.0",
            "_view_name": "HBoxView",
            "box_style": "",
            "children": [
              "IPY_MODEL_9d87e20ba32f44e58f39f2efd214b206",
              "IPY_MODEL_168aacd75d464b49bf12908de95e0b4b",
              "IPY_MODEL_c5518e68affe458ab6e9120dda3c820f"
            ],
            "layout": "IPY_MODEL_0b27b111ef3446af9cd4f6ce64347ce5"
          }
        },
        "9d87e20ba32f44e58f39f2efd214b206": {
          "model_module": "@jupyter-widgets/controls",
          "model_name": "HTMLModel",
          "model_module_version": "1.5.0",
          "state": {
            "_dom_classes": [],
            "_model_module": "@jupyter-widgets/controls",
            "_model_module_version": "1.5.0",
            "_model_name": "HTMLModel",
            "_view_count": null,
            "_view_module": "@jupyter-widgets/controls",
            "_view_module_version": "1.5.0",
            "_view_name": "HTMLView",
            "description": "",
            "description_tooltip": null,
            "layout": "IPY_MODEL_7c85892ef1384c16a64e73fba933e163",
            "placeholder": "​",
            "style": "IPY_MODEL_d962a9f35f3b48c5b4a5cc0ee0c7903d",
            "value": "model.safetensors: 100%"
          }
        },
        "168aacd75d464b49bf12908de95e0b4b": {
          "model_module": "@jupyter-widgets/controls",
          "model_name": "FloatProgressModel",
          "model_module_version": "1.5.0",
          "state": {
            "_dom_classes": [],
            "_model_module": "@jupyter-widgets/controls",
            "_model_module_version": "1.5.0",
            "_model_name": "FloatProgressModel",
            "_view_count": null,
            "_view_module": "@jupyter-widgets/controls",
            "_view_module_version": "1.5.0",
            "_view_name": "ProgressView",
            "bar_style": "success",
            "description": "",
            "description_tooltip": null,
            "layout": "IPY_MODEL_ffa44cc3a0cb48e8b16a94e1c0ab2880",
            "max": 444989788,
            "min": 0,
            "orientation": "horizontal",
            "style": "IPY_MODEL_b9da2638dd9f4e15812a000ce1d9b166",
            "value": 444989788
          }
        },
        "c5518e68affe458ab6e9120dda3c820f": {
          "model_module": "@jupyter-widgets/controls",
          "model_name": "HTMLModel",
          "model_module_version": "1.5.0",
          "state": {
            "_dom_classes": [],
            "_model_module": "@jupyter-widgets/controls",
            "_model_module_version": "1.5.0",
            "_model_name": "HTMLModel",
            "_view_count": null,
            "_view_module": "@jupyter-widgets/controls",
            "_view_module_version": "1.5.0",
            "_view_name": "HTMLView",
            "description": "",
            "description_tooltip": null,
            "layout": "IPY_MODEL_c66487d26098407f9a90d5347f488f22",
            "placeholder": "​",
            "style": "IPY_MODEL_e667b82f3fd9451c851337c22a26ddcc",
            "value": " 445M/445M [00:07&lt;00:00, 74.4MB/s]"
          }
        },
        "0b27b111ef3446af9cd4f6ce64347ce5": {
          "model_module": "@jupyter-widgets/base",
          "model_name": "LayoutModel",
          "model_module_version": "1.2.0",
          "state": {
            "_model_module": "@jupyter-widgets/base",
            "_model_module_version": "1.2.0",
            "_model_name": "LayoutModel",
            "_view_count": null,
            "_view_module": "@jupyter-widgets/base",
            "_view_module_version": "1.2.0",
            "_view_name": "LayoutView",
            "align_content": null,
            "align_items": null,
            "align_self": null,
            "border": null,
            "bottom": null,
            "display": null,
            "flex": null,
            "flex_flow": null,
            "grid_area": null,
            "grid_auto_columns": null,
            "grid_auto_flow": null,
            "grid_auto_rows": null,
            "grid_column": null,
            "grid_gap": null,
            "grid_row": null,
            "grid_template_areas": null,
            "grid_template_columns": null,
            "grid_template_rows": null,
            "height": null,
            "justify_content": null,
            "justify_items": null,
            "left": null,
            "margin": null,
            "max_height": null,
            "max_width": null,
            "min_height": null,
            "min_width": null,
            "object_fit": null,
            "object_position": null,
            "order": null,
            "overflow": null,
            "overflow_x": null,
            "overflow_y": null,
            "padding": null,
            "right": null,
            "top": null,
            "visibility": null,
            "width": null
          }
        },
        "7c85892ef1384c16a64e73fba933e163": {
          "model_module": "@jupyter-widgets/base",
          "model_name": "LayoutModel",
          "model_module_version": "1.2.0",
          "state": {
            "_model_module": "@jupyter-widgets/base",
            "_model_module_version": "1.2.0",
            "_model_name": "LayoutModel",
            "_view_count": null,
            "_view_module": "@jupyter-widgets/base",
            "_view_module_version": "1.2.0",
            "_view_name": "LayoutView",
            "align_content": null,
            "align_items": null,
            "align_self": null,
            "border": null,
            "bottom": null,
            "display": null,
            "flex": null,
            "flex_flow": null,
            "grid_area": null,
            "grid_auto_columns": null,
            "grid_auto_flow": null,
            "grid_auto_rows": null,
            "grid_column": null,
            "grid_gap": null,
            "grid_row": null,
            "grid_template_areas": null,
            "grid_template_columns": null,
            "grid_template_rows": null,
            "height": null,
            "justify_content": null,
            "justify_items": null,
            "left": null,
            "margin": null,
            "max_height": null,
            "max_width": null,
            "min_height": null,
            "min_width": null,
            "object_fit": null,
            "object_position": null,
            "order": null,
            "overflow": null,
            "overflow_x": null,
            "overflow_y": null,
            "padding": null,
            "right": null,
            "top": null,
            "visibility": null,
            "width": null
          }
        },
        "d962a9f35f3b48c5b4a5cc0ee0c7903d": {
          "model_module": "@jupyter-widgets/controls",
          "model_name": "DescriptionStyleModel",
          "model_module_version": "1.5.0",
          "state": {
            "_model_module": "@jupyter-widgets/controls",
            "_model_module_version": "1.5.0",
            "_model_name": "DescriptionStyleModel",
            "_view_count": null,
            "_view_module": "@jupyter-widgets/base",
            "_view_module_version": "1.2.0",
            "_view_name": "StyleView",
            "description_width": ""
          }
        },
        "ffa44cc3a0cb48e8b16a94e1c0ab2880": {
          "model_module": "@jupyter-widgets/base",
          "model_name": "LayoutModel",
          "model_module_version": "1.2.0",
          "state": {
            "_model_module": "@jupyter-widgets/base",
            "_model_module_version": "1.2.0",
            "_model_name": "LayoutModel",
            "_view_count": null,
            "_view_module": "@jupyter-widgets/base",
            "_view_module_version": "1.2.0",
            "_view_name": "LayoutView",
            "align_content": null,
            "align_items": null,
            "align_self": null,
            "border": null,
            "bottom": null,
            "display": null,
            "flex": null,
            "flex_flow": null,
            "grid_area": null,
            "grid_auto_columns": null,
            "grid_auto_flow": null,
            "grid_auto_rows": null,
            "grid_column": null,
            "grid_gap": null,
            "grid_row": null,
            "grid_template_areas": null,
            "grid_template_columns": null,
            "grid_template_rows": null,
            "height": null,
            "justify_content": null,
            "justify_items": null,
            "left": null,
            "margin": null,
            "max_height": null,
            "max_width": null,
            "min_height": null,
            "min_width": null,
            "object_fit": null,
            "object_position": null,
            "order": null,
            "overflow": null,
            "overflow_x": null,
            "overflow_y": null,
            "padding": null,
            "right": null,
            "top": null,
            "visibility": null,
            "width": null
          }
        },
        "b9da2638dd9f4e15812a000ce1d9b166": {
          "model_module": "@jupyter-widgets/controls",
          "model_name": "ProgressStyleModel",
          "model_module_version": "1.5.0",
          "state": {
            "_model_module": "@jupyter-widgets/controls",
            "_model_module_version": "1.5.0",
            "_model_name": "ProgressStyleModel",
            "_view_count": null,
            "_view_module": "@jupyter-widgets/base",
            "_view_module_version": "1.2.0",
            "_view_name": "StyleView",
            "bar_color": null,
            "description_width": ""
          }
        },
        "c66487d26098407f9a90d5347f488f22": {
          "model_module": "@jupyter-widgets/base",
          "model_name": "LayoutModel",
          "model_module_version": "1.2.0",
          "state": {
            "_model_module": "@jupyter-widgets/base",
            "_model_module_version": "1.2.0",
            "_model_name": "LayoutModel",
            "_view_count": null,
            "_view_module": "@jupyter-widgets/base",
            "_view_module_version": "1.2.0",
            "_view_name": "LayoutView",
            "align_content": null,
            "align_items": null,
            "align_self": null,
            "border": null,
            "bottom": null,
            "display": null,
            "flex": null,
            "flex_flow": null,
            "grid_area": null,
            "grid_auto_columns": null,
            "grid_auto_flow": null,
            "grid_auto_rows": null,
            "grid_column": null,
            "grid_gap": null,
            "grid_row": null,
            "grid_template_areas": null,
            "grid_template_columns": null,
            "grid_template_rows": null,
            "height": null,
            "justify_content": null,
            "justify_items": null,
            "left": null,
            "margin": null,
            "max_height": null,
            "max_width": null,
            "min_height": null,
            "min_width": null,
            "object_fit": null,
            "object_position": null,
            "order": null,
            "overflow": null,
            "overflow_x": null,
            "overflow_y": null,
            "padding": null,
            "right": null,
            "top": null,
            "visibility": null,
            "width": null
          }
        },
        "e667b82f3fd9451c851337c22a26ddcc": {
          "model_module": "@jupyter-widgets/controls",
          "model_name": "DescriptionStyleModel",
          "model_module_version": "1.5.0",
          "state": {
            "_model_module": "@jupyter-widgets/controls",
            "_model_module_version": "1.5.0",
            "_model_name": "DescriptionStyleModel",
            "_view_count": null,
            "_view_module": "@jupyter-widgets/base",
            "_view_module_version": "1.2.0",
            "_view_name": "StyleView",
            "description_width": ""
          }
        },
        "04cc7c0d38ed4b6586aaf4c69e856ab2": {
          "model_module": "@jupyter-widgets/controls",
          "model_name": "HBoxModel",
          "model_module_version": "1.5.0",
          "state": {
            "_dom_classes": [],
            "_model_module": "@jupyter-widgets/controls",
            "_model_module_version": "1.5.0",
            "_model_name": "HBoxModel",
            "_view_count": null,
            "_view_module": "@jupyter-widgets/controls",
            "_view_module_version": "1.5.0",
            "_view_name": "HBoxView",
            "box_style": "",
            "children": [
              "IPY_MODEL_eff72b115e314830b605f980da563373",
              "IPY_MODEL_4748dc2785cc426598b69a434379d23d",
              "IPY_MODEL_bbe274d8a3d9416bb5d38db569be4993"
            ],
            "layout": "IPY_MODEL_580e2ee8223e4e2f8504aa6872ab7373"
          }
        },
        "eff72b115e314830b605f980da563373": {
          "model_module": "@jupyter-widgets/controls",
          "model_name": "HTMLModel",
          "model_module_version": "1.5.0",
          "state": {
            "_dom_classes": [],
            "_model_module": "@jupyter-widgets/controls",
            "_model_module_version": "1.5.0",
            "_model_name": "HTMLModel",
            "_view_count": null,
            "_view_module": "@jupyter-widgets/controls",
            "_view_module_version": "1.5.0",
            "_view_name": "HTMLView",
            "description": "",
            "description_tooltip": null,
            "layout": "IPY_MODEL_dcf26fff020a459f8dd613ba12273d95",
            "placeholder": "​",
            "style": "IPY_MODEL_0aadf22176b1474089809ea4a70814ea",
            "value": "Map: 100%"
          }
        },
        "4748dc2785cc426598b69a434379d23d": {
          "model_module": "@jupyter-widgets/controls",
          "model_name": "FloatProgressModel",
          "model_module_version": "1.5.0",
          "state": {
            "_dom_classes": [],
            "_model_module": "@jupyter-widgets/controls",
            "_model_module_version": "1.5.0",
            "_model_name": "FloatProgressModel",
            "_view_count": null,
            "_view_module": "@jupyter-widgets/controls",
            "_view_module_version": "1.5.0",
            "_view_name": "ProgressView",
            "bar_style": "success",
            "description": "",
            "description_tooltip": null,
            "layout": "IPY_MODEL_47dbe42afd02402daebc934083cc6e59",
            "max": 80,
            "min": 0,
            "orientation": "horizontal",
            "style": "IPY_MODEL_1466a9be05be4c2d9992cec9947659ae",
            "value": 80
          }
        },
        "bbe274d8a3d9416bb5d38db569be4993": {
          "model_module": "@jupyter-widgets/controls",
          "model_name": "HTMLModel",
          "model_module_version": "1.5.0",
          "state": {
            "_dom_classes": [],
            "_model_module": "@jupyter-widgets/controls",
            "_model_module_version": "1.5.0",
            "_model_name": "HTMLModel",
            "_view_count": null,
            "_view_module": "@jupyter-widgets/controls",
            "_view_module_version": "1.5.0",
            "_view_name": "HTMLView",
            "description": "",
            "description_tooltip": null,
            "layout": "IPY_MODEL_05ead32f0cfa4064ae5a4bd7974157de",
            "placeholder": "​",
            "style": "IPY_MODEL_ea384bc9bb994ccea11b7c603d099132",
            "value": " 80/80 [00:00&lt;00:00, 1509.33 examples/s]"
          }
        },
        "580e2ee8223e4e2f8504aa6872ab7373": {
          "model_module": "@jupyter-widgets/base",
          "model_name": "LayoutModel",
          "model_module_version": "1.2.0",
          "state": {
            "_model_module": "@jupyter-widgets/base",
            "_model_module_version": "1.2.0",
            "_model_name": "LayoutModel",
            "_view_count": null,
            "_view_module": "@jupyter-widgets/base",
            "_view_module_version": "1.2.0",
            "_view_name": "LayoutView",
            "align_content": null,
            "align_items": null,
            "align_self": null,
            "border": null,
            "bottom": null,
            "display": null,
            "flex": null,
            "flex_flow": null,
            "grid_area": null,
            "grid_auto_columns": null,
            "grid_auto_flow": null,
            "grid_auto_rows": null,
            "grid_column": null,
            "grid_gap": null,
            "grid_row": null,
            "grid_template_areas": null,
            "grid_template_columns": null,
            "grid_template_rows": null,
            "height": null,
            "justify_content": null,
            "justify_items": null,
            "left": null,
            "margin": null,
            "max_height": null,
            "max_width": null,
            "min_height": null,
            "min_width": null,
            "object_fit": null,
            "object_position": null,
            "order": null,
            "overflow": null,
            "overflow_x": null,
            "overflow_y": null,
            "padding": null,
            "right": null,
            "top": null,
            "visibility": null,
            "width": null
          }
        },
        "dcf26fff020a459f8dd613ba12273d95": {
          "model_module": "@jupyter-widgets/base",
          "model_name": "LayoutModel",
          "model_module_version": "1.2.0",
          "state": {
            "_model_module": "@jupyter-widgets/base",
            "_model_module_version": "1.2.0",
            "_model_name": "LayoutModel",
            "_view_count": null,
            "_view_module": "@jupyter-widgets/base",
            "_view_module_version": "1.2.0",
            "_view_name": "LayoutView",
            "align_content": null,
            "align_items": null,
            "align_self": null,
            "border": null,
            "bottom": null,
            "display": null,
            "flex": null,
            "flex_flow": null,
            "grid_area": null,
            "grid_auto_columns": null,
            "grid_auto_flow": null,
            "grid_auto_rows": null,
            "grid_column": null,
            "grid_gap": null,
            "grid_row": null,
            "grid_template_areas": null,
            "grid_template_columns": null,
            "grid_template_rows": null,
            "height": null,
            "justify_content": null,
            "justify_items": null,
            "left": null,
            "margin": null,
            "max_height": null,
            "max_width": null,
            "min_height": null,
            "min_width": null,
            "object_fit": null,
            "object_position": null,
            "order": null,
            "overflow": null,
            "overflow_x": null,
            "overflow_y": null,
            "padding": null,
            "right": null,
            "top": null,
            "visibility": null,
            "width": null
          }
        },
        "0aadf22176b1474089809ea4a70814ea": {
          "model_module": "@jupyter-widgets/controls",
          "model_name": "DescriptionStyleModel",
          "model_module_version": "1.5.0",
          "state": {
            "_model_module": "@jupyter-widgets/controls",
            "_model_module_version": "1.5.0",
            "_model_name": "DescriptionStyleModel",
            "_view_count": null,
            "_view_module": "@jupyter-widgets/base",
            "_view_module_version": "1.2.0",
            "_view_name": "StyleView",
            "description_width": ""
          }
        },
        "47dbe42afd02402daebc934083cc6e59": {
          "model_module": "@jupyter-widgets/base",
          "model_name": "LayoutModel",
          "model_module_version": "1.2.0",
          "state": {
            "_model_module": "@jupyter-widgets/base",
            "_model_module_version": "1.2.0",
            "_model_name": "LayoutModel",
            "_view_count": null,
            "_view_module": "@jupyter-widgets/base",
            "_view_module_version": "1.2.0",
            "_view_name": "LayoutView",
            "align_content": null,
            "align_items": null,
            "align_self": null,
            "border": null,
            "bottom": null,
            "display": null,
            "flex": null,
            "flex_flow": null,
            "grid_area": null,
            "grid_auto_columns": null,
            "grid_auto_flow": null,
            "grid_auto_rows": null,
            "grid_column": null,
            "grid_gap": null,
            "grid_row": null,
            "grid_template_areas": null,
            "grid_template_columns": null,
            "grid_template_rows": null,
            "height": null,
            "justify_content": null,
            "justify_items": null,
            "left": null,
            "margin": null,
            "max_height": null,
            "max_width": null,
            "min_height": null,
            "min_width": null,
            "object_fit": null,
            "object_position": null,
            "order": null,
            "overflow": null,
            "overflow_x": null,
            "overflow_y": null,
            "padding": null,
            "right": null,
            "top": null,
            "visibility": null,
            "width": null
          }
        },
        "1466a9be05be4c2d9992cec9947659ae": {
          "model_module": "@jupyter-widgets/controls",
          "model_name": "ProgressStyleModel",
          "model_module_version": "1.5.0",
          "state": {
            "_model_module": "@jupyter-widgets/controls",
            "_model_module_version": "1.5.0",
            "_model_name": "ProgressStyleModel",
            "_view_count": null,
            "_view_module": "@jupyter-widgets/base",
            "_view_module_version": "1.2.0",
            "_view_name": "StyleView",
            "bar_color": null,
            "description_width": ""
          }
        },
        "05ead32f0cfa4064ae5a4bd7974157de": {
          "model_module": "@jupyter-widgets/base",
          "model_name": "LayoutModel",
          "model_module_version": "1.2.0",
          "state": {
            "_model_module": "@jupyter-widgets/base",
            "_model_module_version": "1.2.0",
            "_model_name": "LayoutModel",
            "_view_count": null,
            "_view_module": "@jupyter-widgets/base",
            "_view_module_version": "1.2.0",
            "_view_name": "LayoutView",
            "align_content": null,
            "align_items": null,
            "align_self": null,
            "border": null,
            "bottom": null,
            "display": null,
            "flex": null,
            "flex_flow": null,
            "grid_area": null,
            "grid_auto_columns": null,
            "grid_auto_flow": null,
            "grid_auto_rows": null,
            "grid_column": null,
            "grid_gap": null,
            "grid_row": null,
            "grid_template_areas": null,
            "grid_template_columns": null,
            "grid_template_rows": null,
            "height": null,
            "justify_content": null,
            "justify_items": null,
            "left": null,
            "margin": null,
            "max_height": null,
            "max_width": null,
            "min_height": null,
            "min_width": null,
            "object_fit": null,
            "object_position": null,
            "order": null,
            "overflow": null,
            "overflow_x": null,
            "overflow_y": null,
            "padding": null,
            "right": null,
            "top": null,
            "visibility": null,
            "width": null
          }
        },
        "ea384bc9bb994ccea11b7c603d099132": {
          "model_module": "@jupyter-widgets/controls",
          "model_name": "DescriptionStyleModel",
          "model_module_version": "1.5.0",
          "state": {
            "_model_module": "@jupyter-widgets/controls",
            "_model_module_version": "1.5.0",
            "_model_name": "DescriptionStyleModel",
            "_view_count": null,
            "_view_module": "@jupyter-widgets/base",
            "_view_module_version": "1.2.0",
            "_view_name": "StyleView",
            "description_width": ""
          }
        },
        "990abeee46bf49459dfdd144aa5b36ed": {
          "model_module": "@jupyter-widgets/controls",
          "model_name": "HBoxModel",
          "model_module_version": "1.5.0",
          "state": {
            "_dom_classes": [],
            "_model_module": "@jupyter-widgets/controls",
            "_model_module_version": "1.5.0",
            "_model_name": "HBoxModel",
            "_view_count": null,
            "_view_module": "@jupyter-widgets/controls",
            "_view_module_version": "1.5.0",
            "_view_name": "HBoxView",
            "box_style": "",
            "children": [
              "IPY_MODEL_62a00f9db41548139ece1d86d2a37579",
              "IPY_MODEL_05fe399b31bc470b9ed2b5acbcfcb106",
              "IPY_MODEL_e36f624d9e0145128df3dcb9655fc616"
            ],
            "layout": "IPY_MODEL_a9d87da2bc8f4e07b9ecef382e39cdb8"
          }
        },
        "62a00f9db41548139ece1d86d2a37579": {
          "model_module": "@jupyter-widgets/controls",
          "model_name": "HTMLModel",
          "model_module_version": "1.5.0",
          "state": {
            "_dom_classes": [],
            "_model_module": "@jupyter-widgets/controls",
            "_model_module_version": "1.5.0",
            "_model_name": "HTMLModel",
            "_view_count": null,
            "_view_module": "@jupyter-widgets/controls",
            "_view_module_version": "1.5.0",
            "_view_name": "HTMLView",
            "description": "",
            "description_tooltip": null,
            "layout": "IPY_MODEL_a58ac5dbe1ca4a67bf857e727b6e4eb1",
            "placeholder": "​",
            "style": "IPY_MODEL_b64a18025d4947b2b73f6154e0259472",
            "value": "Map: 100%"
          }
        },
        "05fe399b31bc470b9ed2b5acbcfcb106": {
          "model_module": "@jupyter-widgets/controls",
          "model_name": "FloatProgressModel",
          "model_module_version": "1.5.0",
          "state": {
            "_dom_classes": [],
            "_model_module": "@jupyter-widgets/controls",
            "_model_module_version": "1.5.0",
            "_model_name": "FloatProgressModel",
            "_view_count": null,
            "_view_module": "@jupyter-widgets/controls",
            "_view_module_version": "1.5.0",
            "_view_name": "ProgressView",
            "bar_style": "success",
            "description": "",
            "description_tooltip": null,
            "layout": "IPY_MODEL_d462655a455c4ee59f01151a9d967505",
            "max": 20,
            "min": 0,
            "orientation": "horizontal",
            "style": "IPY_MODEL_afa1a6e5dc0a4454b3ee5626bc43cf2b",
            "value": 20
          }
        },
        "e36f624d9e0145128df3dcb9655fc616": {
          "model_module": "@jupyter-widgets/controls",
          "model_name": "HTMLModel",
          "model_module_version": "1.5.0",
          "state": {
            "_dom_classes": [],
            "_model_module": "@jupyter-widgets/controls",
            "_model_module_version": "1.5.0",
            "_model_name": "HTMLModel",
            "_view_count": null,
            "_view_module": "@jupyter-widgets/controls",
            "_view_module_version": "1.5.0",
            "_view_name": "HTMLView",
            "description": "",
            "description_tooltip": null,
            "layout": "IPY_MODEL_a0d9ac9c5916419a81b62726a5fe948c",
            "placeholder": "​",
            "style": "IPY_MODEL_6b587d5eb0df44d1b85dd9392812bb26",
            "value": " 20/20 [00:00&lt;00:00, 510.36 examples/s]"
          }
        },
        "a9d87da2bc8f4e07b9ecef382e39cdb8": {
          "model_module": "@jupyter-widgets/base",
          "model_name": "LayoutModel",
          "model_module_version": "1.2.0",
          "state": {
            "_model_module": "@jupyter-widgets/base",
            "_model_module_version": "1.2.0",
            "_model_name": "LayoutModel",
            "_view_count": null,
            "_view_module": "@jupyter-widgets/base",
            "_view_module_version": "1.2.0",
            "_view_name": "LayoutView",
            "align_content": null,
            "align_items": null,
            "align_self": null,
            "border": null,
            "bottom": null,
            "display": null,
            "flex": null,
            "flex_flow": null,
            "grid_area": null,
            "grid_auto_columns": null,
            "grid_auto_flow": null,
            "grid_auto_rows": null,
            "grid_column": null,
            "grid_gap": null,
            "grid_row": null,
            "grid_template_areas": null,
            "grid_template_columns": null,
            "grid_template_rows": null,
            "height": null,
            "justify_content": null,
            "justify_items": null,
            "left": null,
            "margin": null,
            "max_height": null,
            "max_width": null,
            "min_height": null,
            "min_width": null,
            "object_fit": null,
            "object_position": null,
            "order": null,
            "overflow": null,
            "overflow_x": null,
            "overflow_y": null,
            "padding": null,
            "right": null,
            "top": null,
            "visibility": null,
            "width": null
          }
        },
        "a58ac5dbe1ca4a67bf857e727b6e4eb1": {
          "model_module": "@jupyter-widgets/base",
          "model_name": "LayoutModel",
          "model_module_version": "1.2.0",
          "state": {
            "_model_module": "@jupyter-widgets/base",
            "_model_module_version": "1.2.0",
            "_model_name": "LayoutModel",
            "_view_count": null,
            "_view_module": "@jupyter-widgets/base",
            "_view_module_version": "1.2.0",
            "_view_name": "LayoutView",
            "align_content": null,
            "align_items": null,
            "align_self": null,
            "border": null,
            "bottom": null,
            "display": null,
            "flex": null,
            "flex_flow": null,
            "grid_area": null,
            "grid_auto_columns": null,
            "grid_auto_flow": null,
            "grid_auto_rows": null,
            "grid_column": null,
            "grid_gap": null,
            "grid_row": null,
            "grid_template_areas": null,
            "grid_template_columns": null,
            "grid_template_rows": null,
            "height": null,
            "justify_content": null,
            "justify_items": null,
            "left": null,
            "margin": null,
            "max_height": null,
            "max_width": null,
            "min_height": null,
            "min_width": null,
            "object_fit": null,
            "object_position": null,
            "order": null,
            "overflow": null,
            "overflow_x": null,
            "overflow_y": null,
            "padding": null,
            "right": null,
            "top": null,
            "visibility": null,
            "width": null
          }
        },
        "b64a18025d4947b2b73f6154e0259472": {
          "model_module": "@jupyter-widgets/controls",
          "model_name": "DescriptionStyleModel",
          "model_module_version": "1.5.0",
          "state": {
            "_model_module": "@jupyter-widgets/controls",
            "_model_module_version": "1.5.0",
            "_model_name": "DescriptionStyleModel",
            "_view_count": null,
            "_view_module": "@jupyter-widgets/base",
            "_view_module_version": "1.2.0",
            "_view_name": "StyleView",
            "description_width": ""
          }
        },
        "d462655a455c4ee59f01151a9d967505": {
          "model_module": "@jupyter-widgets/base",
          "model_name": "LayoutModel",
          "model_module_version": "1.2.0",
          "state": {
            "_model_module": "@jupyter-widgets/base",
            "_model_module_version": "1.2.0",
            "_model_name": "LayoutModel",
            "_view_count": null,
            "_view_module": "@jupyter-widgets/base",
            "_view_module_version": "1.2.0",
            "_view_name": "LayoutView",
            "align_content": null,
            "align_items": null,
            "align_self": null,
            "border": null,
            "bottom": null,
            "display": null,
            "flex": null,
            "flex_flow": null,
            "grid_area": null,
            "grid_auto_columns": null,
            "grid_auto_flow": null,
            "grid_auto_rows": null,
            "grid_column": null,
            "grid_gap": null,
            "grid_row": null,
            "grid_template_areas": null,
            "grid_template_columns": null,
            "grid_template_rows": null,
            "height": null,
            "justify_content": null,
            "justify_items": null,
            "left": null,
            "margin": null,
            "max_height": null,
            "max_width": null,
            "min_height": null,
            "min_width": null,
            "object_fit": null,
            "object_position": null,
            "order": null,
            "overflow": null,
            "overflow_x": null,
            "overflow_y": null,
            "padding": null,
            "right": null,
            "top": null,
            "visibility": null,
            "width": null
          }
        },
        "afa1a6e5dc0a4454b3ee5626bc43cf2b": {
          "model_module": "@jupyter-widgets/controls",
          "model_name": "ProgressStyleModel",
          "model_module_version": "1.5.0",
          "state": {
            "_model_module": "@jupyter-widgets/controls",
            "_model_module_version": "1.5.0",
            "_model_name": "ProgressStyleModel",
            "_view_count": null,
            "_view_module": "@jupyter-widgets/base",
            "_view_module_version": "1.2.0",
            "_view_name": "StyleView",
            "bar_color": null,
            "description_width": ""
          }
        },
        "a0d9ac9c5916419a81b62726a5fe948c": {
          "model_module": "@jupyter-widgets/base",
          "model_name": "LayoutModel",
          "model_module_version": "1.2.0",
          "state": {
            "_model_module": "@jupyter-widgets/base",
            "_model_module_version": "1.2.0",
            "_model_name": "LayoutModel",
            "_view_count": null,
            "_view_module": "@jupyter-widgets/base",
            "_view_module_version": "1.2.0",
            "_view_name": "LayoutView",
            "align_content": null,
            "align_items": null,
            "align_self": null,
            "border": null,
            "bottom": null,
            "display": null,
            "flex": null,
            "flex_flow": null,
            "grid_area": null,
            "grid_auto_columns": null,
            "grid_auto_flow": null,
            "grid_auto_rows": null,
            "grid_column": null,
            "grid_gap": null,
            "grid_row": null,
            "grid_template_areas": null,
            "grid_template_columns": null,
            "grid_template_rows": null,
            "height": null,
            "justify_content": null,
            "justify_items": null,
            "left": null,
            "margin": null,
            "max_height": null,
            "max_width": null,
            "min_height": null,
            "min_width": null,
            "object_fit": null,
            "object_position": null,
            "order": null,
            "overflow": null,
            "overflow_x": null,
            "overflow_y": null,
            "padding": null,
            "right": null,
            "top": null,
            "visibility": null,
            "width": null
          }
        },
        "6b587d5eb0df44d1b85dd9392812bb26": {
          "model_module": "@jupyter-widgets/controls",
          "model_name": "DescriptionStyleModel",
          "model_module_version": "1.5.0",
          "state": {
            "_model_module": "@jupyter-widgets/controls",
            "_model_module_version": "1.5.0",
            "_model_name": "DescriptionStyleModel",
            "_view_count": null,
            "_view_module": "@jupyter-widgets/base",
            "_view_module_version": "1.2.0",
            "_view_name": "StyleView",
            "description_width": ""
          }
        }
      }
    }
  },
  "cells": [
    {
      "cell_type": "code",
      "execution_count": null,
      "metadata": {
        "id": "AsyaVsZHLSuV"
      },
      "outputs": [],
      "source": []
    },
    {
      "cell_type": "code",
      "source": [
        "# ============================================================\n",
        "# 🧰 STEP 0 — Install dependencies\n",
        "# ============================================================\n",
        "!pip -q install textattack regex arabic-reshaper python-bidi\n",
        "!pip -q install --upgrade datasets accelerate\n",
        "\n",
        "# ============================================================\n",
        "# 📦 STEP 1 — Load dataset (auto-detect path)\n",
        "#   Expected in file: dataset = [(text, label), ...]\n",
        "# ============================================================\n",
        "import importlib.util, os\n",
        "from typing import Any\n",
        "\n",
        "def import_dataset_module() -> Any:\n",
        "    candidate_paths = [\n",
        "        \"/content/arbml_arabic_100_reviews.py\"\n",
        "    ]\n",
        "    for p in candidate_paths:\n",
        "        if os.path.exists(p):\n",
        "            spec = importlib.util.spec_from_file_location(\"arbml_dataset\", p)\n",
        "            mod = importlib.util.module_from_spec(spec)\n",
        "            spec.loader.exec_module(mod)\n",
        "            print(f\"✅ Loaded dataset module from: {p}\")\n",
        "            return mod\n",
        "    raise FileNotFoundError(\"❌ Could not find 'arbml_arabic_100_reviews.py'.\")\n",
        "\n",
        "arbml = import_dataset_module()\n",
        "tt_pairs = list(arbml.dataset)  # [(text, label), ...]\n",
        "print(f\"Samples: {len(tt_pairs)} | Labels: {sorted(set(int(x[1]) for x in tt_pairs))}\")\n",
        "\n",
        "# Prepare HF dataset for fine-tuning\n",
        "from datasets import Dataset as HFDataset\n",
        "texts  = [str(x[0]) for x in tt_pairs]\n",
        "labels = [int(x[1]) for x in tt_pairs]\n",
        "hf_ds  = HFDataset.from_dict({\"text\": texts, \"label\": labels}).train_test_split(test_size=0.2, seed=42)\n",
        "num_labels = len(set(labels))\n",
        "\n",
        "# ============================================================\n",
        "# 🤗 STEP 2 — Fine-tune AraBERT (version-safe) + disable W&B\n",
        "# ============================================================\n",
        "import numpy as np, torch, inspect\n",
        "\n",
        "# 🔕 Disable Weights & Biases prompt + quiet tokenizers\n",
        "os.environ[\"WANDB_DISABLED\"] = \"true\"\n",
        "os.environ[\"TOKENIZERS_PARALLELISM\"] = \"false\"\n",
        "os.environ[\"TRANSFORMERS_NO_ADVISORY_WARNINGS\"] = \"1\"\n",
        "\n",
        "from transformers import (\n",
        "    AutoTokenizer, AutoModelForSequenceClassification,\n",
        "    DataCollatorWithPadding, TrainingArguments, Trainer\n",
        ")\n",
        "\n",
        "MODEL_NAME = \"asafaya/bert-base-arabic\"\n",
        "tokenizer = AutoTokenizer.from_pretrained(MODEL_NAME)\n",
        "\n",
        "def tokenize_fn(batch):\n",
        "    return tokenizer(batch[\"text\"], truncation=True, padding=False, max_length=256)\n",
        "\n",
        "tokenized = hf_ds.map(tokenize_fn, batched=True, remove_columns=[\"text\"])\n",
        "data_collator = DataCollatorWithPadding(tokenizer=tokenizer)\n",
        "\n",
        "def compute_metrics(eval_pred):\n",
        "    logits, labels_np = eval_pred\n",
        "    preds = np.argmax(logits, axis=-1)\n",
        "    return {\"accuracy\": (preds == labels_np).mean()}\n",
        "\n",
        "model = AutoModelForSequenceClassification.from_pretrained(MODEL_NAME, num_labels=num_labels)\n",
        "\n",
        "# Build TrainingArguments kwargs that match installed transformers version\n",
        "sig = inspect.signature(TrainingArguments.__init__)\n",
        "argnames = set(sig.parameters.keys())\n",
        "\n",
        "ta_kwargs = dict(\n",
        "    output_dir=\"arabert-ft\",\n",
        "    num_train_epochs=3,               # bump to 5 for stronger model\n",
        "    per_device_train_batch_size=16,\n",
        "    per_device_eval_batch_size=32,\n",
        "    learning_rate=2e-5,\n",
        "    weight_decay=0.01,\n",
        "    logging_steps=50,\n",
        "    seed=42,\n",
        "    fp16=torch.cuda.is_available(),\n",
        ")\n",
        "if \"evaluation_strategy\" in argnames:\n",
        "    ta_kwargs[\"evaluation_strategy\"] = \"epoch\"\n",
        "elif \"eval_strategy\" in argnames:\n",
        "    ta_kwargs[\"eval_strategy\"] = \"epoch\"\n",
        "if \"save_strategy\" in argnames:\n",
        "    ta_kwargs[\"save_strategy\"] = \"no\"\n",
        "elif \"save_total_limit\" in argnames:\n",
        "    ta_kwargs[\"save_total_limit\"] = 1\n",
        "\n",
        "training_args = TrainingArguments(**ta_kwargs)\n",
        "\n",
        "trainer = Trainer(\n",
        "    model=model,\n",
        "    args=training_args,\n",
        "    train_dataset=tokenized[\"train\"],\n",
        "    eval_dataset=tokenized[\"test\"],\n",
        "    tokenizer=tokenizer,\n",
        "    data_collator=data_collator,\n",
        "    compute_metrics=compute_metrics,\n",
        ")\n",
        "\n",
        "print(\"🚀 Fine-tuning AraBERT...\")\n",
        "trainer.train()\n",
        "print(\"📊 Eval:\", trainer.evaluate())\n",
        "\n",
        "# ============================================================\n",
        "# 🧪 STEP 3 — Wrap model for TextAttack\n",
        "# ============================================================\n",
        "from textattack.models.wrappers import HuggingFaceModelWrapper\n",
        "model_wrapper = HuggingFaceModelWrapper(model, tokenizer)\n",
        "\n",
        "# ============================================================\n",
        "# 🧩 STEP 4 — Low-skip Arabic DeepWordBug (diacritics + confusables + neighbor + ins/del×3)\n",
        "# ============================================================\n",
        "import random, regex as re\n",
        "from textattack.transformations import CompositeTransformation, WordSwap\n",
        "from textattack.attack_recipes import AttackRecipe\n",
        "from textattack import Attack\n",
        "from textattack.constraints.overlap import LevenshteinEditDistance\n",
        "from textattack.goal_functions import UntargetedClassification\n",
        "from textattack.search_methods import GreedyWordSwapWIR\n",
        "\n",
        "AR_LETTERS = list(\"ابتثجحخدذرزسشصضطظعغفقكلمنهوي\")\n",
        "AR_EXTRA   = list(\"أإآءؤئىةى\")\n",
        "AR_CHARS   = AR_LETTERS + AR_EXTRA\n",
        "\n",
        "AR_CHAR_RE   = re.compile(r\"[\\p{Arabic}]\")\n",
        "DIACRITIC_RE = re.compile(r\"[\\u0610-\\u061A\\u064B-\\u065F\\u0670\\u06D6-\\u06ED]\")\n",
        "\n",
        "AR_NEIGHBORS = {\n",
        "    \"ا\": [\"أ\",\"إ\",\"آ\",\"ى\",\"ل\",\"ر\"], \"ب\": [\"ن\",\"ت\",\"ي\",\"ة\"], \"ت\": [\"ب\",\"ث\",\"ن\",\"ا\",\"ي\"],\n",
        "    \"ث\": [\"ت\",\"ج\",\"ح\"], \"ج\": [\"ث\",\"ح\",\"خ\"], \"ح\": [\"ج\",\"خ\",\"ع\"], \"خ\": [\"ح\",\"ع\",\"غ\"],\n",
        "    \"د\": [\"ذ\",\"ر\"], \"ذ\": [\"د\",\"ر\",\"ز\"], \"ر\": [\"د\",\"ذ\",\"ز\",\"ا\"], \"ز\": [\"ر\",\"ذ\",\"س\"],\n",
        "    \"س\": [\"ز\",\"ش\",\"د\",\"ص\"], \"ش\": [\"س\",\"ص\"], \"ص\": [\"س\",\"ض\",\"ط\"], \"ض\": [\"ص\",\"ط\",\"ظ\"],\n",
        "    \"ط\": [\"ص\",\"ض\",\"ظ\",\"ق\"], \"ظ\": [\"ط\",\"ض\",\"ع\"], \"ع\": [\"غ\",\"ظ\",\"ح\",\"خ\"], \"غ\": [\"ع\",\"ف\",\"ق\"],\n",
        "    \"ف\": [\"غ\",\"ق\"], \"ق\": [\"ف\",\"ك\",\"ط\"], \"ك\": [\"ق\",\"ل\",\"م\"], \"ل\": [\"ك\",\"ا\",\"م\",\"ن\"],\n",
        "    \"م\": [\"ن\",\"ك\",\"ل\"], \"ن\": [\"م\",\"ب\",\"ت\"], \"ه\": [\"ة\",\"و\",\"ي\"], \"و\": [\"ؤ\",\"ه\",\"ز\"],\n",
        "    \"ي\": [\"ى\",\"ئ\",\"ب\",\"ت\",\"ن\"], \"ة\": [\"ه\",\"ت\"], \"ى\": [\"ي\",\"ا\"], \"ؤ\": [\"و\",\"ء\"], \"ئ\": [\"ي\",\"ء\"],\n",
        "}\n",
        "\n",
        "def is_arabic_char(ch: str) -> bool:\n",
        "    return bool(AR_CHAR_RE.match(ch))\n",
        "\n",
        "class WordSwapArabicDiacriticToggle(WordSwap):\n",
        "    COMMON_MARKS = [\"َ\",\"ُ\",\"ِ\",\"ّ\",\"ْ\"]\n",
        "    def _get_replacement_words(self, word, **kwargs):\n",
        "        if not any(is_arabic_char(c) for c in word): return []\n",
        "        no_diac = DIACRITIC_RE.sub(\"\", word)\n",
        "        cands = set()\n",
        "        if no_diac and no_diac != word: cands.add(no_diac)\n",
        "        ar_positions = [i for i,c in enumerate(no_diac) if is_arabic_char(c)]\n",
        "        if ar_positions:\n",
        "            i = random.choice(ar_positions); d = random.choice(self.COMMON_MARKS)\n",
        "            cands.add(no_diac[:i+1] + d + no_diac[i+1:])\n",
        "        return list(cands)\n",
        "\n",
        "CONFUSABLES = {\n",
        "    \"ا\": [\"أ\",\"إ\",\"آ\",\"ى\"], \"أ\": [\"ا\",\"إ\",\"آ\"], \"إ\": [\"ا\",\"أ\",\"آ\"], \"آ\": [\"ا\",\"أ\",\"إ\"],\n",
        "    \"ي\": [\"ى\",\"ئ\"], \"ى\": [\"ي\",\"ا\"], \"ئ\": [\"ي\",\"ء\"], \"ه\": [\"ة\"], \"ة\": [\"ه\",\"ت\"], \"و\": [\"ؤ\"], \"ؤ\": [\"و\",\"ء\"],\n",
        "}\n",
        "class WordSwapArabicConfusableSwap(WordSwap):\n",
        "    def _get_replacement_words(self, word, **kwargs):\n",
        "        cands = set()\n",
        "        for i,ch in enumerate(word):\n",
        "            if ch in CONFUSABLES:\n",
        "                new = word[:i] + random.choice(CONFUSABLES[ch]) + word[i+1:]\n",
        "                if new != word: cands.add(new)\n",
        "        return list(cands)\n",
        "\n",
        "class WordSwapArabicNeighborSwap(WordSwap):\n",
        "    def _get_replacement_words(self, word, **kwargs):\n",
        "        cands = set()\n",
        "        for i,ch in enumerate(word):\n",
        "            if not is_arabic_char(ch): continue\n",
        "            neigh = AR_NEIGHBORS.get(ch, [])\n",
        "            if neigh:\n",
        "                new = word[:i] + random.choice(neigh) + word[i+1:]\n",
        "                if new != word: cands.add(new)\n",
        "        return list(cands)\n",
        "\n",
        "class WordSwapArabicRandomInsertion(WordSwap):\n",
        "    def __init__(self, max_insertions_per_word=3):\n",
        "        super().__init__(); self.max_insertions_per_word = max_insertions_per_word\n",
        "    def _get_replacement_words(self, word, **kwargs):\n",
        "        if not any(is_arabic_char(c) for c in word): return []\n",
        "        cands = set()\n",
        "        for _ in range(self.max_insertions_per_word):\n",
        "            pos = random.randint(0, len(word)); ins = random.choice(AR_CHARS)\n",
        "            new = word[:pos] + ins + word[pos:]\n",
        "            if new != word: cands.add(new)\n",
        "        return list(cands)\n",
        "\n",
        "class WordSwapArabicRandomDeletion(WordSwap):\n",
        "    def __init__(self, max_deletions_per_word=3):\n",
        "        super().__init__(); self.max_deletions_per_word = max_deletions_per_word\n",
        "    def _get_replacement_words(self, word, **kwargs):\n",
        "        idx = [i for i,c in enumerate(word) if is_arabic_char(c)]\n",
        "        if not idx: return []\n",
        "        cands = set()\n",
        "        for _ in range(self.max_deletions_per_word):\n",
        "            i = random.choice(idx); new = word[:i] + word[i+1:]\n",
        "            if new and new != word: cands.add(new)\n",
        "        return list(cands)\n",
        "\n",
        "from textattack.attack_recipes import AttackRecipe\n",
        "class ArabicDeepWordBug(AttackRecipe):\n",
        "    @staticmethod\n",
        "    def build(model_wrapper):\n",
        "        transformation = CompositeTransformation([\n",
        "            WordSwapArabicDiacriticToggle(),\n",
        "            WordSwapArabicConfusableSwap(),\n",
        "            WordSwapArabicNeighborSwap(),\n",
        "            WordSwapArabicRandomDeletion(max_deletions_per_word=3),\n",
        "            WordSwapArabicRandomInsertion(max_insertions_per_word=3),\n",
        "        ])\n",
        "        constraints = [LevenshteinEditDistance(60)]  # larger budget → fewer \"no edit\" skips\n",
        "        goal_function = UntargetedClassification(model_wrapper)\n",
        "        search_method = GreedyWordSwapWIR()\n",
        "        return Attack(goal_function, constraints, transformation, search_method)\n",
        "\n",
        "attack = ArabicDeepWordBug.build(model_wrapper)\n",
        "print(\"🧪 Built ArabicDeepWordBug.\")\n",
        "\n",
        "# ============================================================\n",
        "# 🎯 STEP 5 — Attack ALL 100 samples from the attached dataset\n",
        "# ============================================================\n",
        "from textattack.datasets import Dataset as TADataset\n",
        "from textattack import Attacker, AttackArgs\n",
        "import random\n",
        "\n",
        "TARGET_N = 100   # run on 100 items (or all if fewer)\n",
        "all_pairs = list(zip(texts, labels))\n",
        "random.Random(42).shuffle(all_pairs)\n",
        "N = min(TARGET_N, len(all_pairs))\n",
        "\n",
        "ta_test = TADataset(all_pairs[:N])\n",
        "\n",
        "args = AttackArgs(\n",
        "    num_examples=N,\n",
        "    random_seed=42,\n",
        "    disable_stdout=False,\n",
        ")\n",
        "attacker = Attacker(attack, ta_test, args)\n",
        "print(f\"⚔️  Running Arabic DeepWordBug on {N} examples (entire dataset)...\")\n",
        "attack_results = attacker.attack_dataset()\n",
        "print(\"✅ Done.\")\n"
      ],
      "metadata": {
        "colab": {
          "base_uri": "https://localhost:8080/",
          "height": 1000,
          "referenced_widgets": [
            "5b6f758ca2b041608b920648c76cfaaf",
            "3df312d1f30b4aff9a0af6fb6f26410c",
            "0af51a0b456b4e289e49fa1c35e7213f",
            "4927ce10dac44ba3a616d98303f37b06",
            "021e0a92528d4f5dae391d134c7a5cbb",
            "d343b41f753c4decbcac45986155a9d6",
            "3135ad0eed594e0db20091d56140fbe7",
            "a3d63efba46c45b490b4f8e59165269e",
            "8e08fb1dbf8944f0b1bda5abf25e6990",
            "8dcbdd6bb23c4416a88bed273df49d9a",
            "4b70ca6012c444caa1cd595ec6b0bdd2",
            "34ea517133fb492cbd2487466ccb7d43",
            "d201859d90a347d39f806a4003706708",
            "80706460851f4adc80e161bd7dad4fee",
            "d37d1414d48d4c819b92bf97dc249b9d",
            "cbe04a24fa5a417585b3f36a2350cc85",
            "0e8b9e0960a8428bb886380de62008b7",
            "0578e348deef48318022ff6cec610918",
            "28c6cd4af18e4a5e8537ec77dbdbd8cf",
            "a5383c3b72cb41b19fb74fb5985c1cbd",
            "15b8fbe3025f45218c5ad60a15913993",
            "06d0398456734f3bb5f86dc5e90887b9",
            "593822c273d248eda87caaa39e9736bd",
            "7448c27249c0439c91c5e2301d3ef07f",
            "968292f9e66145b5b500c983bc77c4c9",
            "d57627ee34e84b03a62e573019d52305",
            "538cf602b4924a69893c4a5d16988f8d",
            "932265a0c2a34424be638d6170f1e1d8",
            "25490f74377c4ea0a602f742755b6ebe",
            "a40aa58b5bbd4ec08d88bdc32086eba8",
            "d6a4f62b19e844bba4e10d75a40cec9f",
            "17078924a0ce4012b88fef0654827ae3",
            "b9559b4ee8614f98abfaf52b84745cad",
            "c469df973f674f70aa1c801c26359c92",
            "b995a7696d134ae0b09b84892e7b5674",
            "d6ab108d2cdd49eea7394562de6d6eb5",
            "51b53f12c89741babf1a51b9a619e16d",
            "5fa1c7b6d82a487e8b1ddbd78a56ee43",
            "85a5ee6157b5470897c72441bfb41c6d",
            "e67693fe6e3d4da38ec75fb9c1639f75",
            "f6073bedafc14a47b817ddeceaab39f0",
            "b9dc21e3383d4ba18781c15f13b73343",
            "a8df6e8163f04d30ad554dbfdea8aa61",
            "1734a5d55aa5456abd75ec9406f418a9",
            "67001dfca28b4b9cbe3101319a13b054",
            "668f0c47a64943a7a722e064da356bb8",
            "0f03ed0f28ca49cd825b55d1efe32242",
            "2b1d2614455d4b7e9c878fb58d31e711",
            "ad0693f7dae44d86ae945d60911e1379",
            "e88e89a6830543efb1fcb4c97108a2b3",
            "3f97c04de6744f8baff3d44f5a96ecef",
            "704639cbbae64255aa444e124ab7ebde",
            "8ba11c30613b4a0ab371f2322ac153c5",
            "0f2ee59cad254f73b3b281d328a99e43",
            "ae29532ab6d3495d8f7c5da8f326ce92",
            "9bc6ed8b5ed64571adfeac8575cd161a",
            "4407c19012cd4b0d9cec1dde3ed34dfb",
            "7f4f9dbd789b48f384bea67a8e09e861",
            "34118fee5065455489f80320e03bbb3d",
            "78ca65a0b42b4680b0334e21cf70900b",
            "ec77f7a0c3664453a13ebe00667e6ea3",
            "f6648b0a027544b8be16ca44e2ab58fd",
            "119f14fd33d8401db318972c8c92c54a",
            "c97651dcedea46ab87148b0f03e42c89",
            "79f9eb72283d4add9a103ee265aac4d8",
            "d8c6d39ab67c4dc4aad39119fe949d04",
            "ac33019b7aba483c82febd64b66a36ce",
            "9d87e20ba32f44e58f39f2efd214b206",
            "168aacd75d464b49bf12908de95e0b4b",
            "c5518e68affe458ab6e9120dda3c820f",
            "0b27b111ef3446af9cd4f6ce64347ce5",
            "7c85892ef1384c16a64e73fba933e163",
            "d962a9f35f3b48c5b4a5cc0ee0c7903d",
            "ffa44cc3a0cb48e8b16a94e1c0ab2880",
            "b9da2638dd9f4e15812a000ce1d9b166",
            "c66487d26098407f9a90d5347f488f22",
            "e667b82f3fd9451c851337c22a26ddcc"
          ]
        },
        "id": "uApuJaLIHKYx",
        "outputId": "ad3377fc-9a06-4cfa-ec08-5e7a1f1d5083"
      },
      "execution_count": null,
      "outputs": [
        {
          "output_type": "stream",
          "name": "stdout",
          "text": [
            "\u001b[2K     \u001b[90m━━━━━━━━━━━━━━━━━━━━━━━━━━━━━━━━━━━━━━━━\u001b[0m \u001b[32m55.5/55.5 kB\u001b[0m \u001b[31m5.3 MB/s\u001b[0m eta \u001b[36m0:00:00\u001b[0m\n",
            "\u001b[?25h  Preparing metadata (setup.py) ... \u001b[?25l\u001b[?25hdone\n",
            "\u001b[2K     \u001b[90m━━━━━━━━━━━━━━━━━━━━━━━━━━━━━━━━━━━━━━━━\u001b[0m \u001b[32m3.6/3.6 MB\u001b[0m \u001b[31m70.2 MB/s\u001b[0m eta \u001b[36m0:00:00\u001b[0m\n",
            "\u001b[?25h  Preparing metadata (setup.py) ... \u001b[?25l\u001b[?25hdone\n",
            "\u001b[2K     \u001b[90m━━━━━━━━━━━━━━━━━━━━━━━━━━━━━━━━━━━━━━\u001b[0m \u001b[32m981.5/981.5 kB\u001b[0m \u001b[31m65.1 MB/s\u001b[0m eta \u001b[36m0:00:00\u001b[0m\n",
            "\u001b[?25h  Preparing metadata (setup.py) ... \u001b[?25l\u001b[?25hdone\n",
            "  Preparing metadata (setup.py) ... \u001b[?25l\u001b[?25hdone\n",
            "  Preparing metadata (setup.py) ... \u001b[?25l\u001b[?25hdone\n",
            "  Preparing metadata (setup.py) ... \u001b[?25l\u001b[?25hdone\n",
            "  Preparing metadata (setup.py) ... \u001b[?25l\u001b[?25hdone\n",
            "  Preparing metadata (setup.py) ... \u001b[?25l\u001b[?25hdone\n",
            "\u001b[2K   \u001b[90m━━━━━━━━━━━━━━━━━━━━━━━━━━━━━━━━━━━━━━━━\u001b[0m \u001b[32m445.7/445.7 kB\u001b[0m \u001b[31m33.5 MB/s\u001b[0m eta \u001b[36m0:00:00\u001b[0m\n",
            "\u001b[2K   \u001b[90m━━━━━━━━━━━━━━━━━━━━━━━━━━━━━━━━━━━━━━━━\u001b[0m \u001b[32m292.1/292.1 kB\u001b[0m \u001b[31m26.3 MB/s\u001b[0m eta \u001b[36m0:00:00\u001b[0m\n",
            "\u001b[2K   \u001b[90m━━━━━━━━━━━━━━━━━━━━━━━━━━━━━━━━━━━━━━━━\u001b[0m \u001b[32m61.1/61.1 kB\u001b[0m \u001b[31m6.4 MB/s\u001b[0m eta \u001b[36m0:00:00\u001b[0m\n",
            "\u001b[2K   \u001b[90m━━━━━━━━━━━━━━━━━━━━━━━━━━━━━━━━━━━━━━━━\u001b[0m \u001b[32m1.2/1.2 MB\u001b[0m \u001b[31m67.0 MB/s\u001b[0m eta \u001b[36m0:00:00\u001b[0m\n",
            "\u001b[2K   \u001b[90m━━━━━━━━━━━━━━━━━━━━━━━━━━━━━━━━━━━━━━━━\u001b[0m \u001b[32m55.6/55.6 kB\u001b[0m \u001b[31m5.1 MB/s\u001b[0m eta \u001b[36m0:00:00\u001b[0m\n",
            "\u001b[2K   \u001b[90m━━━━━━━━━━━━━━━━━━━━━━━━━━━━━━━━━━━━━━━━\u001b[0m \u001b[32m769.7/769.7 kB\u001b[0m \u001b[31m51.8 MB/s\u001b[0m eta \u001b[36m0:00:00\u001b[0m\n",
            "\u001b[2K   \u001b[90m━━━━━━━━━━━━━━━━━━━━━━━━━━━━━━━━━━━━━━━━\u001b[0m \u001b[32m163.5/163.5 kB\u001b[0m \u001b[31m16.0 MB/s\u001b[0m eta \u001b[36m0:00:00\u001b[0m\n",
            "\u001b[2K   \u001b[90m━━━━━━━━━━━━━━━━━━━━━━━━━━━━━━━━━━━━━━━━\u001b[0m \u001b[32m139.3/139.3 kB\u001b[0m \u001b[31m15.2 MB/s\u001b[0m eta \u001b[36m0:00:00\u001b[0m\n",
            "\u001b[2K   \u001b[90m━━━━━━━━━━━━━━━━━━━━━━━━━━━━━━━━━━━━━━━━\u001b[0m \u001b[32m44.8/44.8 kB\u001b[0m \u001b[31m4.3 MB/s\u001b[0m eta \u001b[36m0:00:00\u001b[0m\n",
            "\u001b[2K   \u001b[90m━━━━━━━━━━━━━━━━━━━━━━━━━━━━━━━━━━━━━━━━\u001b[0m \u001b[32m202.9/202.9 kB\u001b[0m \u001b[31m19.7 MB/s\u001b[0m eta \u001b[36m0:00:00\u001b[0m\n",
            "\u001b[2K   \u001b[90m━━━━━━━━━━━━━━━━━━━━━━━━━━━━━━━━━━━━━━━━\u001b[0m \u001b[32m45.1/45.1 kB\u001b[0m \u001b[31m4.1 MB/s\u001b[0m eta \u001b[36m0:00:00\u001b[0m\n",
            "\u001b[2K   \u001b[90m━━━━━━━━━━━━━━━━━━━━━━━━━━━━━━━━━━━━━━━━\u001b[0m \u001b[32m14.0/14.0 MB\u001b[0m \u001b[31m118.6 MB/s\u001b[0m eta \u001b[36m0:00:00\u001b[0m\n",
            "\u001b[2K   \u001b[90m━━━━━━━━━━━━━━━━━━━━━━━━━━━━━━━━━━━━━━━━\u001b[0m \u001b[32m85.3/85.3 kB\u001b[0m \u001b[31m8.4 MB/s\u001b[0m eta \u001b[36m0:00:00\u001b[0m\n",
            "\u001b[?25h  Building wheel for pinyin (setup.py) ... \u001b[?25l\u001b[?25hdone\n",
            "  Building wheel for word2number (setup.py) ... \u001b[?25l\u001b[?25hdone\n",
            "  Building wheel for docopt (setup.py) ... \u001b[?25l\u001b[?25hdone\n",
            "  Building wheel for langdetect (setup.py) ... \u001b[?25l\u001b[?25hdone\n",
            "  Building wheel for pptree (setup.py) ... \u001b[?25l\u001b[?25hdone\n",
            "  Building wheel for sqlitedict (setup.py) ... \u001b[?25l\u001b[?25hdone\n",
            "  Building wheel for wikipedia-api (setup.py) ... \u001b[?25l\u001b[?25hdone\n",
            "  Building wheel for intervaltree (setup.py) ... \u001b[?25l\u001b[?25hdone\n"
          ]
        },
        {
          "output_type": "stream",
          "name": "stderr",
          "text": [
            "textattack: Updating TextAttack package dependencies.\n",
            "textattack: Downloading NLTK required packages.\n",
            "[nltk_data] Downloading package averaged_perceptron_tagger to\n",
            "[nltk_data]     /root/nltk_data...\n",
            "[nltk_data]   Unzipping taggers/averaged_perceptron_tagger.zip.\n",
            "[nltk_data] Downloading package stopwords to /root/nltk_data...\n",
            "[nltk_data]   Unzipping corpora/stopwords.zip.\n",
            "[nltk_data] Downloading package omw to /root/nltk_data...\n",
            "[nltk_data] Downloading package universal_tagset to /root/nltk_data...\n",
            "[nltk_data]   Unzipping taggers/universal_tagset.zip.\n",
            "[nltk_data] Downloading package wordnet to /root/nltk_data...\n",
            "[nltk_data] Downloading package punkt to /root/nltk_data...\n",
            "[nltk_data]   Unzipping tokenizers/punkt.zip.\n",
            "/usr/local/lib/python3.12/dist-packages/jieba/__init__.py:44: SyntaxWarning: invalid escape sequence '\\.'\n",
            "  re_han_default = re.compile(\"([\\u4E00-\\u9FD5a-zA-Z0-9+#&\\._%\\-]+)\", re.U)\n",
            "/usr/local/lib/python3.12/dist-packages/jieba/__init__.py:46: SyntaxWarning: invalid escape sequence '\\s'\n",
            "  re_skip_default = re.compile(\"(\\r\\n|\\s)\", re.U)\n",
            "/usr/local/lib/python3.12/dist-packages/jieba/finalseg/__init__.py:78: SyntaxWarning: invalid escape sequence '\\.'\n",
            "  re_skip = re.compile(\"([a-zA-Z0-9]+(?:\\.\\d+)?%?)\")\n"
          ]
        },
        {
          "output_type": "stream",
          "name": "stdout",
          "text": [
            "✅ Loaded dataset module from: /content/arbml_arabic_100_reviews.py\n",
            "Samples: 100 | Labels: [0, 1]\n"
          ]
        },
        {
          "output_type": "stream",
          "name": "stderr",
          "text": [
            "/usr/local/lib/python3.12/dist-packages/huggingface_hub/utils/_auth.py:94: UserWarning: \n",
            "The secret `HF_TOKEN` does not exist in your Colab secrets.\n",
            "To authenticate with the Hugging Face Hub, create a token in your settings tab (https://huggingface.co/settings/tokens), set it as secret in your Google Colab and restart your session.\n",
            "You will be able to reuse this secret in all of your notebooks.\n",
            "Please note that authentication is recommended but still optional to access public models or datasets.\n",
            "  warnings.warn(\n"
          ]
        },
        {
          "output_type": "display_data",
          "data": {
            "text/plain": [
              "tokenizer_config.json:   0%|          | 0.00/62.0 [00:00<?, ?B/s]"
            ],
            "application/vnd.jupyter.widget-view+json": {
              "version_major": 2,
              "version_minor": 0,
              "model_id": "5b6f758ca2b041608b920648c76cfaaf"
            }
          },
          "metadata": {}
        },
        {
          "output_type": "display_data",
          "data": {
            "text/plain": [
              "config.json:   0%|          | 0.00/491 [00:00<?, ?B/s]"
            ],
            "application/vnd.jupyter.widget-view+json": {
              "version_major": 2,
              "version_minor": 0,
              "model_id": "34ea517133fb492cbd2487466ccb7d43"
            }
          },
          "metadata": {}
        },
        {
          "output_type": "display_data",
          "data": {
            "text/plain": [
              "vocab.txt: 0.00B [00:00, ?B/s]"
            ],
            "application/vnd.jupyter.widget-view+json": {
              "version_major": 2,
              "version_minor": 0,
              "model_id": "593822c273d248eda87caaa39e9736bd"
            }
          },
          "metadata": {}
        },
        {
          "output_type": "display_data",
          "data": {
            "text/plain": [
              "special_tokens_map.json:   0%|          | 0.00/112 [00:00<?, ?B/s]"
            ],
            "application/vnd.jupyter.widget-view+json": {
              "version_major": 2,
              "version_minor": 0,
              "model_id": "c469df973f674f70aa1c801c26359c92"
            }
          },
          "metadata": {}
        },
        {
          "output_type": "display_data",
          "data": {
            "text/plain": [
              "Map:   0%|          | 0/80 [00:00<?, ? examples/s]"
            ],
            "application/vnd.jupyter.widget-view+json": {
              "version_major": 2,
              "version_minor": 0,
              "model_id": "67001dfca28b4b9cbe3101319a13b054"
            }
          },
          "metadata": {}
        },
        {
          "output_type": "display_data",
          "data": {
            "text/plain": [
              "Map:   0%|          | 0/20 [00:00<?, ? examples/s]"
            ],
            "application/vnd.jupyter.widget-view+json": {
              "version_major": 2,
              "version_minor": 0,
              "model_id": "9bc6ed8b5ed64571adfeac8575cd161a"
            }
          },
          "metadata": {}
        },
        {
          "output_type": "display_data",
          "data": {
            "text/plain": [
              "model.safetensors:   0%|          | 0.00/445M [00:00<?, ?B/s]"
            ],
            "application/vnd.jupyter.widget-view+json": {
              "version_major": 2,
              "version_minor": 0,
              "model_id": "ac33019b7aba483c82febd64b66a36ce"
            }
          },
          "metadata": {}
        },
        {
          "output_type": "stream",
          "name": "stderr",
          "text": [
            "Some weights of BertForSequenceClassification were not initialized from the model checkpoint at asafaya/bert-base-arabic and are newly initialized: ['classifier.bias', 'classifier.weight']\n",
            "You should probably TRAIN this model on a down-stream task to be able to use it for predictions and inference.\n",
            "Using the `WANDB_DISABLED` environment variable is deprecated and will be removed in v5. Use the --report_to flag to control the integrations used for logging result (for instance --report_to none).\n",
            "/tmp/ipython-input-1741004209.py:95: FutureWarning: `tokenizer` is deprecated and will be removed in version 5.0.0 for `Trainer.__init__`. Use `processing_class` instead.\n",
            "  trainer = Trainer(\n"
          ]
        },
        {
          "output_type": "stream",
          "name": "stdout",
          "text": [
            "🚀 Fine-tuning AraBERT...\n"
          ]
        },
        {
          "output_type": "display_data",
          "data": {
            "text/plain": [
              "<IPython.core.display.HTML object>"
            ],
            "text/html": [
              "\n",
              "    <div>\n",
              "      \n",
              "      <progress value='15' max='15' style='width:300px; height:20px; vertical-align: middle;'></progress>\n",
              "      [15/15 00:02, Epoch 3/3]\n",
              "    </div>\n",
              "    <table border=\"1\" class=\"dataframe\">\n",
              "  <thead>\n",
              " <tr style=\"text-align: left;\">\n",
              "      <th>Epoch</th>\n",
              "      <th>Training Loss</th>\n",
              "      <th>Validation Loss</th>\n",
              "      <th>Accuracy</th>\n",
              "    </tr>\n",
              "  </thead>\n",
              "  <tbody>\n",
              "    <tr>\n",
              "      <td>1</td>\n",
              "      <td>No log</td>\n",
              "      <td>0.705347</td>\n",
              "      <td>0.450000</td>\n",
              "    </tr>\n",
              "    <tr>\n",
              "      <td>2</td>\n",
              "      <td>No log</td>\n",
              "      <td>0.691113</td>\n",
              "      <td>0.600000</td>\n",
              "    </tr>\n",
              "    <tr>\n",
              "      <td>3</td>\n",
              "      <td>No log</td>\n",
              "      <td>0.696204</td>\n",
              "      <td>0.400000</td>\n",
              "    </tr>\n",
              "  </tbody>\n",
              "</table><p>"
            ]
          },
          "metadata": {}
        },
        {
          "output_type": "display_data",
          "data": {
            "text/plain": [
              "<IPython.core.display.HTML object>"
            ],
            "text/html": [
              "\n",
              "    <div>\n",
              "      \n",
              "      <progress value='1' max='1' style='width:300px; height:20px; vertical-align: middle;'></progress>\n",
              "      [1/1 : < :]\n",
              "    </div>\n",
              "    "
            ]
          },
          "metadata": {}
        },
        {
          "output_type": "stream",
          "name": "stderr",
          "text": [
            "textattack: Unknown if model of class <class 'transformers.models.bert.modeling_bert.BertForSequenceClassification'> compatible with goal function <class 'textattack.goal_functions.classification.untargeted_classification.UntargetedClassification'>.\n"
          ]
        },
        {
          "output_type": "stream",
          "name": "stdout",
          "text": [
            "📊 Eval: {'eval_loss': 0.6962035298347473, 'eval_accuracy': 0.4, 'eval_runtime': 0.0609, 'eval_samples_per_second': 328.415, 'eval_steps_per_second': 16.421, 'epoch': 3.0}\n",
            "🧪 Built ArabicDeepWordBug.\n",
            "⚔️  Running Arabic DeepWordBug on 100 examples (entire dataset)...\n",
            "Attack(\n",
            "  (search_method): GreedyWordSwapWIR(\n",
            "    (wir_method):  unk\n",
            "  )\n",
            "  (goal_function):  UntargetedClassification\n",
            "  (transformation):  CompositeTransformation(\n",
            "    (0): WordSwapArabicDiacriticToggle\n",
            "    (1): WordSwapArabicConfusableSwap\n",
            "    (2): WordSwapArabicNeighborSwap\n",
            "    (3): WordSwapArabicRandomDeletion\n",
            "    (4): WordSwapArabicRandomInsertion\n",
            "    )\n",
            "  (constraints): \n",
            "    (0): LevenshteinEditDistance(\n",
            "        (max_edit_distance):  60\n",
            "        (compare_against_original):  True\n",
            "      )\n",
            "  (is_black_box):  True\n",
            ") \n",
            "\n"
          ]
        },
        {
          "output_type": "stream",
          "name": "stderr",
          "text": [
            "[Succeeded / Failed / Skipped / Total] 0 / 0 / 2 / 2:   2%|▏         | 2/100 [00:00<00:04, 20.88it/s]"
          ]
        },
        {
          "output_type": "stream",
          "name": "stdout",
          "text": [
            "--------------------------------------------- Result 1 ---------------------------------------------\n",
            "[[1 (51%)]] --> [[[SKIPPED]]]\n",
            "\n",
            "OrderedDict({'text': 'جربته مرة وحدة واعتقد بتكون آخر مرة مستوى الاكل والخدمة كان اقل من جيد الاكل بارد جدا وبدون اي طعم .. وبطيئين جدا'})\n",
            "\n",
            "\n",
            "--------------------------------------------- Result 2 ---------------------------------------------\n",
            "[[0 (55%)]] --> [[[SKIPPED]]]\n",
            "\n",
            "OrderedDict({'text': 'نكهة فرنسيه فى وسط جده. لم تكن تلك هى زيارتى الاولى لهذا المطعم .. الا أننى فى كل مره كنت اكتشف شيئا جديدا..واستمتع بمذاق مختلف . ان مستوى اناقة المطعم وجودة المأكولات وحميمية الخدمه تجعل المرء يعيش فعلا فى اجواء باريسيه ولو للحظات .. ألاسعار تعد مرتفعه نسبيا الا ان ذلك لا يحول دون الاستمتاع بأجواء المطعم ووجباته الفاخره ولو حتى فى المناسبات'})\n",
            "\n",
            "\n"
          ]
        },
        {
          "output_type": "stream",
          "name": "stderr",
          "text": [
            "[Succeeded / Failed / Skipped / Total] 0 / 1 / 3 / 4:   4%|▍         | 4/100 [00:00<00:19,  4.87it/s]"
          ]
        },
        {
          "output_type": "stream",
          "name": "stdout",
          "text": [
            "--------------------------------------------- Result 3 ---------------------------------------------\n",
            "[[1 (64%)]] --> [[[FAILED]]]\n",
            "\n",
            "OrderedDict({'text': 'ابوظبي غير . الجو العام للفندق فخم وبسيط ومريح'})\n",
            "\n",
            "\n",
            "--------------------------------------------- Result 4 ---------------------------------------------\n",
            "[[1 (55%)]] --> [[[SKIPPED]]]\n",
            "\n",
            "OrderedDict({'text': 'قصص قصيرة تحاكي طبيعة المجتمع القروي في الفترة التي عاش فيها الكاتب، بشكل عام لم تكن ممتعة مقارنة بما يمكن أن تنتظره من ميخائيل نعيمة'})\n",
            "\n",
            "\n",
            "--------------------------------------------- Result 5 ---------------------------------------------\n"
          ]
        },
        {
          "output_type": "stream",
          "name": "stderr",
          "text": [
            "\r[Succeeded / Failed / Skipped / Total] 1 / 1 / 3 / 5:   5%|▌         | 5/100 [00:01<00:31,  3.00it/s]"
          ]
        },
        {
          "output_type": "stream",
          "name": "stdout",
          "text": [
            "[[1 (56%)]] --> [[0 (50%)]]\n",
            "\n",
            "OrderedDict({'text': 'الفخامة . [[حسن]] الاستقبال وع راسهم مدير الفندف أ. [[ايمن]] والنظافة والخدمات متوفرة والمواقف واسعة. الازعااااااااااااج بسبب أعمال الترميمات [[والتي]] يجب ان [[يبلغ]] [[الموقع]] بها'})\n",
            "\n",
            "OrderedDict({'text': 'الفخامة . [[حشن]] الاستقبال وع راسهم مدير الفندف أ. [[ايمم]] والنظافة والخدمات متوفرة والمواقف واسعة. الازعااااااااااااج بسبب أعمال الترميمات [[زالتي]] يجب ان [[يجبلغ]] [[هالموقع]] بها'})\n",
            "\n",
            "\n"
          ]
        },
        {
          "output_type": "stream",
          "name": "stderr",
          "text": [
            "[Succeeded / Failed / Skipped / Total] 2 / 1 / 3 / 6:   6%|▌         | 6/100 [00:02<00:39,  2.40it/s]"
          ]
        },
        {
          "output_type": "stream",
          "name": "stdout",
          "text": [
            "--------------------------------------------- Result 6 ---------------------------------------------\n",
            "[[1 (52%)]] --> [[0 (51%)]]\n",
            "\n",
            "OrderedDict({'text': 'اصطدمت امرأة برجل في كافتيريا مطار جون كيندي ، و ثم ذهب كل منهما في سبيله دون أن يعلما [[أنهما]] سيلتقيان بعد ذلك و اكتشفا بعد فوات الأوان أنهما تبادلا هواتفهما [[المحمولة]].جونثان صاحب مطعم و مادلين بائعة الزهور في باريس.كانا يبعدان عن بعضهما مسافة كبيرة.. عمل جميل، [[رومانسي]]، كوميدي، و لمسة من الإثارة'})\n",
            "\n",
            "OrderedDict({'text': 'اصطدمت امرأة برجل في كافتيريا مطار جون كيندي ، و ثم ذهب كل منهما في سبيله دون أنُ يعلما [[أنةما]] سيلتقيان بعد ذلك و اكتشفا بعد فوات الأوان أنهما تبادلا هواتفهما [[المحمونة]].جونثان صاحب مطعم و مادلين بائعة الزهور في باريس.كانا يبعدان عن بعضهما مسافة كبيرة.. عمل جميل، [[رومنسي]]، كوميدي، و لمسة من الإثارة'})\n",
            "\n",
            "\n"
          ]
        },
        {
          "output_type": "stream",
          "name": "stderr",
          "text": [
            "[Succeeded / Failed / Skipped / Total] 3 / 1 / 4 / 8:   8%|▊         | 8/100 [00:05<01:04,  1.42it/s]"
          ]
        },
        {
          "output_type": "stream",
          "name": "stdout",
          "text": [
            "--------------------------------------------- Result 7 ---------------------------------------------\n",
            "[[0 (56%)]] --> [[1 (50%)]]\n",
            "\n",
            "OrderedDict({'text': '[[يتحدث]] الشقيري [[في]] [[هذا]] [[الكتاب]] عن رحلته للهند، ثم يلحقها باقتباسات لغاندي.. في الفصل الأول الكثير من التفاصيل الخاصة بالرحلة لم تكن ذات أهمية للقارئ . علاوة على أن أغلب الصور لا تقدم فائدة . كتابته باللغة العامية تجعلني في حيرة كيف يقيم [[الشقيري]] لغتنا العربية؟ هل هي من الأولويات؟ أم من الشكليات التي لا بأس أن نتساهل فيها . فكرة الخلوة في الهند تصعب الأمر.. لم لا تكون الخلوة في البيت؟ كما نصح إحدى البنات؟ فالغاية من الخلوة تحتم تكرارها [[عدة]] مرات وهذا ما يصعب تنفيذه كل مرة [[برحلة]] [[للهند]] . اللاءات حصرها حسب [[اهتماماته]] هو في لابتوب وهاتف وتلفاز.. وهي أمور قد لاتكون منغصة للخلوة عند آخرين... [[أما]] الفصل [[الخاص]] باقتباسات [[غاندي]] [[فلم]] تأت بجديد، وهو ما أوضحه بأنها موجودة في سيرة نبينا محمد صلى الله [[عليه]] [[وسلم]] .. عموما [[الكتاب]]: ضعيف المحتوى، ولا [[يخلو]] [[من]] المتعة والفائدة والنصائح القيمة.'})\n",
            "\n",
            "OrderedDict({'text': '[[يحدث]] الشقيري [[ظفي]] [[ذا]] [[المتاب]] عن رحلته للهند، ثم يلحقها باقتباسات لغاندي.. في الفصل الأول الكثير من التفاصيل الخاصة بالرحلة لم تكن ذات أهمية للقارئ . علاوة على أن أغلب الصور لا تقدم فائدة . كتابته باللغة العامية تجعلني في حيرة كيف يقيم [[الشمقيري]] لغتنا العربية؟ هل هي من الأولويات؟ أم من الشكليات التي لا بأس أن نتساهل فيها . فكرة الخلوة في الهند تصعب الأمر.. لم لا تكون الخلوة في البيت؟ كما نصح إحدى البنات؟ فالغاية من الخلوة تحتم تكرارها [[عدت]] مرات وهذا ما يصعب تنفيذه كل مرة [[برحمة]] [[للةهند]] . اللاءات حصرها حسب [[اهتماماتو]] هو في لابتوب وهاتف وتلفاز.. وهي أمور قد لاتكون منغصة للخلوة عند آخرين... [[أنا]] الفصل [[الخص]] باقتباسات [[غادي]] [[ففلم]] تأت بجديد، وهو ما أوضحه بأنها موجودة في سيرة نبينا محمد صلى الله [[علي]] [[ولم]] .. عموما [[لكتاب]]: ضعيف المحتوى، ولا [[يخو]] [[مم]] المتعة والفائدة والنصائح القيمة.'})\n",
            "\n",
            "\n",
            "--------------------------------------------- Result 8 ---------------------------------------------\n",
            "[[1 (50%)]] --> [[[SKIPPED]]]\n",
            "\n",
            "OrderedDict({'text': 'رواية كوميدية مسلية جدا و تبعث بالحنين إلى عاصمة الضباب .. ولكن أسلوب الكاتب ضعيف و بمستوى كتابة روايات المنتديات على الانترنت'})\n",
            "\n",
            "\n"
          ]
        },
        {
          "output_type": "stream",
          "name": "stderr",
          "text": [
            "[Succeeded / Failed / Skipped / Total] 4 / 1 / 5 / 10:  10%|█         | 10/100 [00:06<00:55,  1.63it/s]"
          ]
        },
        {
          "output_type": "stream",
          "name": "stdout",
          "text": [
            "--------------------------------------------- Result 9 ---------------------------------------------\n",
            "[[0 (65%)]] --> [[1 (52%)]]\n",
            "\n",
            "OrderedDict({'text': '[[تجربه]] سيئه . لاشي. موقع سىء على جبل الوصول له شاق للغايه [[ولاتوجد]] تاكسي بسهولة..... [[الفندق]] والاثاث قديم ... الفطور سيء'})\n",
            "\n",
            "OrderedDict({'text': '[[تإجربه]] سيئه . لاشي. موقع سىء على جبل الوصول له شاق للغايه [[ولاتوجر]] تاكسي بسهولة..... [[الفندك]] والاثاث قديم ... الفطور سيء'})\n",
            "\n",
            "\n",
            "--------------------------------------------- Result 10 ---------------------------------------------\n",
            "[[0 (54%)]] --> [[[SKIPPED]]]\n",
            "\n",
            "OrderedDict({'text': 'الواقع غير ما هوا مسجل في موقع الحجز . النظافة والأمن ممتازة. في البداية عند تسجيل الدخول كان علينا الانتظار على ما يزيد من دقيقة بسبب عدم وجود اكثر من كونتر واحد يعمل في الاستقبال بعض الأبناء نام على الارض بسبب عدم وجود عدد كافي من الاسرة، عدد الاسرة والشقة مخصصة لعدد أشخاص'})\n",
            "\n",
            "\n"
          ]
        },
        {
          "output_type": "stream",
          "name": "stderr",
          "text": [
            "[Succeeded / Failed / Skipped / Total] 5 / 1 / 8 / 14:  14%|█▍        | 14/100 [00:06<00:42,  2.02it/s]"
          ]
        },
        {
          "output_type": "stream",
          "name": "stdout",
          "text": [
            "--------------------------------------------- Result 11 ---------------------------------------------\n",
            "[[0 (53%)]] --> [[1 (51%)]]\n",
            "\n",
            "OrderedDict({'text': 'بدأت في [[قراءتها]] منذ مدة طويلة وتوقفت لأني لم أفهم منها إلا قليلا جدا . فيها كثير من الغموض.. أشبه ما تكون بالشعر الحديث الغامض... أنهيتها قبل قليل في وارد إنهاء الكتب العالقة قبل نهاية العام... أحب الكاتب، إلا أن روايته هذه لم تعجبني أبدا.. لا [[أنصح]] [[بقراءتها]] '})\n",
            "\n",
            "OrderedDict({'text': 'بدأت في [[قراءتهل]] منذ مدة طويلة وتوقفت لأني لم أفهم منها إلا قليلا جدا . فيها كثير من الغموض.. أشبه ما تكون بالشعر الحديث الغامض... أنهيتها قبل قليل في وارد إنهاء الكتب العالقة قبل نهاية العام... أحب الكاتب، إلا أن روايته هذه لم تعجبني أبدا.. لا [[أنح]] [[بقراءتهى]] '})\n",
            "\n",
            "\n",
            "--------------------------------------------- Result 12 ---------------------------------------------\n",
            "[[0 (52%)]] --> [[[SKIPPED]]]\n",
            "\n",
            "OrderedDict({'text': 'رواية مظلومه لم تعطى حقها من الانتشار .. اللغه الأسلوب العديد من الحورات والواقعيه في الأحداث ، أحب لغة بثينه الحاده .. أحلام شخصياتها السرد الغير طويل والمتقن . أنهيتها في ليله واحده جعلتني اعيش في عالمها واتسعت بالخيال .. تقول بثينه :. عندما نولد اناثا ، فنحن نولد قضايا ؛ لان العالم مزود بتقنيات تحد منا'})\n",
            "\n",
            "\n",
            "--------------------------------------------- Result 13 ---------------------------------------------\n",
            "[[0 (56%)]] --> [[[SKIPPED]]]\n",
            "\n",
            "OrderedDict({'text': 'فندق نظيف في مركز المدينة الفندق من فئة الثلاثة نجوم ، نظافة الغرف وان لم تكن واسعة ، الخدمة المتميزة ، من اسرع الفنادق التي زرتها في إجراءات تسجيل الدخول والخروج ، طاقم الإستفبال ودود ، الموقع المتميز في مركز المدينة ، محاطا بالمطاعم والمقاهي والمحلات التجارية ، بالفرب من ساحة أتاتورك ، وشارع اوزون للمشاة وبه كثير من المطاعم والمحلات التجارية'})\n",
            "\n",
            "\n",
            "--------------------------------------------- Result 14 ---------------------------------------------\n",
            "[[0 (63%)]] --> [[[SKIPPED]]]\n",
            "\n",
            "OrderedDict({'text': 'جيد ولكن السعر مكلف. . النظافة وحسن الاستقبال خاصه الموظف عمر انسان خلوق جدا على عكس باقي موظفي الاستقبال المكان هادى وجيد ومريح الاثاث ممتاز كذلك المواقف متوفره وخدمة نقل المركبة.. السعر غالي ، كذلك الضوء في الغرفة قليل ولا تكفي المصابيح ، دفع المياه ليس قوي ، المياه ليست حارة'})\n",
            "\n",
            "\n"
          ]
        },
        {
          "output_type": "stream",
          "name": "stderr",
          "text": [
            "[Succeeded / Failed / Skipped / Total] 6 / 1 / 8 / 15:  15%|█▌        | 15/100 [00:07<00:44,  1.91it/s]"
          ]
        },
        {
          "output_type": "stream",
          "name": "stdout",
          "text": [
            "--------------------------------------------- Result 15 ---------------------------------------------\n",
            "[[0 (52%)]] --> [[1 (50%)]]\n",
            "\n",
            "OrderedDict({'text': 'انا فى [[الحقيقة]] الكتاب ده من الكتب الغريبة اللى قراتها فى الاول كان ماشى كويس جداا و يشد و بعدين دخل فى متاهات لدرجة انى شكيت فى مستوى فهمى و قلت تقريبا ان الكتاب لناس مستواهم الثقافى اعلى منى و بعدين لما شفت الكومنتات حمدت ربنا فيه ناس رايهم من راى عموما [[الكاتبه]] ممكن يطلع منها حاجة احسن [[من]] كده لو ركزت شويه عن كده وشكرا'})\n",
            "\n",
            "OrderedDict({'text': 'انا فى [[الحقية]] الكتاب ده من الكتب الغريبة اللى قراتها فى الاول كان ماشى كويس جداا و يشد و بعدين دخل فى متاهات لدرجة انى شكيت فى مستوى فهمى و قلت تقريبا ان الكتاب لناس مستواهم الثقافى اعلى منى و بعدين لما شفت الكومنتات حمدت ربنا فيه ناس رايهم من راى عموما [[الكاتلبه]] ممكن يطلع منها حاجة احسن [[منس]] كده لو ركزت شويه عن كده وشكرا'})\n",
            "\n",
            "\n"
          ]
        },
        {
          "output_type": "stream",
          "name": "stderr",
          "text": [
            "\r[Succeeded / Failed / Skipped / Total] 7 / 1 / 8 / 16:  16%|█▌        | 16/100 [00:08<00:45,  1.85it/s]"
          ]
        },
        {
          "output_type": "stream",
          "name": "stdout",
          "text": [
            "--------------------------------------------- Result 16 ---------------------------------------------\n",
            "[[0 (53%)]] --> [[1 (50%)]]\n",
            "\n",
            "OrderedDict({'text': '[[في]] قسم العوائل: عشاء يوم الأحد وسط أسبوع فرع الملك عبد العزيز أضخم فرع تأخر جدا الطلب. شربة ثمار البحر سيئة لم يتم شربها. المشويات جيدة رز بالقمبري جيد الخبز عادي وليس من الفرن الأسعار مرتفعة [[المكان]] مخيب للآمال، كانت لدي مناسبة وكنت أتوقعه فخم، أو على الأقل عادي، هو أسوأ من ذلك. مفرش الطاولة قذر وغير نظيف . الصحون والملاعق على الطاولة مكشوفة وغير نظيفة. لن أعاود الزيارة أبدا'})\n",
            "\n",
            "OrderedDict({'text': '[[ي]] قسم العوائل: عشاء يوم الأحد وسط أسبوع فرع الملك عبد العزيز أضخم فرع تأخر جدا الطلب. شربة ثمار البحر سيئة لم يتم شربها. المشويات جيدة رز بالقمبري جيد الخبز عادي وليس من الفرن الأسعار مرتفعة [[المكىن]] مخيب للآمال، كانت لدي مناسبة وكنت أتوقعه فخم، أو على الأقل عادي، هو أسوأ من ذلك. مفرش الطاولة قذر وغير نظيف . الصحون والملاعق على الطاولة مكشوفة وغير نظيفة. لن أعاود الزيارة أبدا'})\n",
            "\n",
            "\n"
          ]
        },
        {
          "output_type": "stream",
          "name": "stderr",
          "text": [
            "[Succeeded / Failed / Skipped / Total] 8 / 1 / 9 / 18:  18%|█▊        | 18/100 [00:09<00:43,  1.89it/s]"
          ]
        },
        {
          "output_type": "stream",
          "name": "stdout",
          "text": [
            "--------------------------------------------- Result 17 ---------------------------------------------\n",
            "[[0 (64%)]] --> [[1 (50%)]]\n",
            "\n",
            "OrderedDict({'text': '[[فندق]] [[لا]] يستحق نجوم . [[لا]] يوجد . اغلاق الشاطي [[و]] الحديقة في وقت مبكر من الساعة [[مساء]] [[و]] اغلاق جميع اضواء [[الفندق]] [[و]] مواقف سيارات ضيقة [[جدا]] [[عدم]] احترام من موظفين الفندق مع النزلاء'})\n",
            "\n",
            "OrderedDict({'text': '[[فندط]] [[ل]] يستحق نجوم . [[ا]] يوجد . اغلاق الشاطي [[ز]] الحديقة في وقت مبكر من الساعة [[ماء]] [[ز]] اغلاق جميع اضواء [[لفندق]] [[ز]] مواقف سيارات ضيقة [[جا]] [[خدم]] احترام من موظفين الفندق مع النزلاء'})\n",
            "\n",
            "\n",
            "--------------------------------------------- Result 18 ---------------------------------------------\n",
            "[[1 (54%)]] --> [[[SKIPPED]]]\n",
            "\n",
            "OrderedDict({'text': 'لم أحب الكتاب كثيرا لأنه بدا لي فقط تجميعا للأحاديث التي تحدثت عن الصلاة المعروفة غالبا ولم يضف فيه الدكتور فريد الأنصاري من لمسته وأسلوبه إلا نادرا وقد ذكر ذلك في مقدمة الكتاب'})\n",
            "\n",
            "\n"
          ]
        },
        {
          "output_type": "stream",
          "name": "stderr",
          "text": [
            "\r[Succeeded / Failed / Skipped / Total] 9 / 1 / 9 / 19:  19%|█▉        | 19/100 [00:11<00:48,  1.67it/s]"
          ]
        },
        {
          "output_type": "stream",
          "name": "stdout",
          "text": [
            "--------------------------------------------- Result 19 ---------------------------------------------\n",
            "[[0 (68%)]] --> [[1 (52%)]]\n",
            "\n",
            "OrderedDict({'text': '[[الفندق]] قديم [[جدا]] . [[الموقع]] [[قريب]] [[من]] [[الحرم]]. الفندق قديم النظافة سيئة بعض [[الغرف]] فيها باب مشترك [[ويسبب]] [[إزعاج]] الإفطار والسحور في رمضان عادي ولا [[يقارن]] [[باي]] فندق [[خمس]] نجوم [[باختصار]] [[الفندق]] لا يصح [[ان]] [[يكون]] خمس [[نجوم']]})\n",
            "\n",
            "OrderedDict({'text': '[[الفمدق]] قديم [[مجدا]] . [[الموقظ]] [[قري]] [[ذمن]] [[الرم]]. الفندق قديم النظافة سيئة بعض [[الغدف]] فيها باب مشترك [[يسبب]] [[إزعاخ]] الإفطار والسحور في رمضان عادي ولا [[يقازن]] [[بان]] فندق [[خس]] نجوم [[باعتصار]] [[الفندبق]] لا يصح [[ات]] [[يكوىن]] خمس [[نجوك']]})\n",
            "\n",
            "\n"
          ]
        },
        {
          "output_type": "stream",
          "name": "stderr",
          "text": [
            "[Succeeded / Failed / Skipped / Total] 10 / 1 / 11 / 22:  22%|██▏       | 22/100 [00:11<00:41,  1.89it/s]"
          ]
        },
        {
          "output_type": "stream",
          "name": "stdout",
          "text": [
            "--------------------------------------------- Result 20 ---------------------------------------------\n",
            "[[0 (52%)]] --> [[1 (50%)]]\n",
            "\n",
            "OrderedDict({'text': 'ضعيف. . طلبت اغطيه للاطفال المرافقين ولم يتجاوبون معي بحجة لا يوجد حذاء الحمام لا يستبدلونه نهائياالانترنت لشخصين فقط لكل شقةلا تستطيع الاتصال بالمطاعم الخارجيةالسرير به اصوات [[مزعجة']]})\n",
            "\n",
            "OrderedDict({'text': 'ضعيف. . طلبت اغطيه للاطفال المرافقين ولم يتجاوبون معي بحجة لا يوجد حذاء الحمام لا يستبدلونه نهائياالانترنت لشخصين فقط لكل شقةلا تستطيع الاتصال بالمطاعم الخارجيةالسرير به اصوات [[ذمزعجة']]})\n",
            "\n",
            "\n",
            "--------------------------------------------- Result 21 ---------------------------------------------\n",
            "[[0 (58%)]] --> [[[SKIPPED]]]\n",
            "\n",
            "OrderedDict({'text': 'حسن الاستقبال حسن الاستقبال والترحيب وحسن الخلق غرف كبيرة وواسعة شعرنا براحة تامة انا وزوجتي وكأننا في المنزل نضافة واهتمام ملحوظين طاقم الفندق كانو متعاونين بشكل اكثر من رائع السرعة في تنفيذ الطلبات انصح به العوائل واي شخص يرغب بالراحة والسعر مناسب جدا بصراحة ملائم واعجبني جدا قريب من الاماكن التي يقصدها الزوار ك سوق واقف كورنيش موقعه مخدوم قريب من مطاعم وحلاقين ومأجرين سيارات وايضل صراف عملات لكنه محاط ب عماله وحي قديم بعض الشئ'})\n",
            "\n",
            "\n",
            "--------------------------------------------- Result 22 ---------------------------------------------\n",
            "[[1 (51%)]] --> [[[SKIPPED]]]\n",
            "\n",
            "OrderedDict({'text': 'خيبت ظني كثيرا .. هناك شئ خطأ في كتابات أحمد خالد توفيق الأخيرة بداية من السنجة مرورا بشاي بالنعناع ووصولا بقهوة باليورانيوم .. سواء على مستوى القصة اوالمقال فهناك ضعف بارز في جوانب الجذب وحتى حس الفكاهة الذي يتميز به خارج قصص الرعب افتقد كثيرا في تلك الكتابات '})\n",
            "\n",
            "\n"
          ]
        },
        {
          "output_type": "stream",
          "name": "stderr",
          "text": [
            "\r[Succeeded / Failed / Skipped / Total] 10 / 2 / 11 / 23:  23%|██▎       | 23/100 [00:12<00:43,  1.79it/s]"
          ]
        },
        {
          "output_type": "stream",
          "name": "stdout",
          "text": [
            "--------------------------------------------- Result 23 ---------------------------------------------\n",
            "[[1 (57%)]] --> [[[FAILED]]]\n",
            "\n",
            "OrderedDict({'text': 'شدني كثيرا اسم الكتاب وغلافه مميز. الفكرة كانت جميلة جدا. ونهايتة كانت مفاجئه'})\n",
            "\n",
            "\n"
          ]
        },
        {
          "output_type": "stream",
          "name": "stderr",
          "text": [
            "[Succeeded / Failed / Skipped / Total] 11 / 2 / 11 / 24:  24%|██▍       | 24/100 [00:13<00:42,  1.78it/s]"
          ]
        },
        {
          "output_type": "stream",
          "name": "stdout",
          "text": [
            "--------------------------------------------- Result 24 ---------------------------------------------\n",
            "[[0 (52%)]] --> [[1 (50%)]]\n",
            "\n",
            "OrderedDict({'text': '[[لم]] استطع [[اكمالها]] بالرغم من قصرها ولكن طريقة لقاء البطلين التقليدية في المقهى اصابتني بخيبة امل ، ربما هي ممتازة ولكن بالنسبة لي ان لم اجد شيئا مميزا وفريدا فلن تشد انتباهي الرواية.كذلك بقية الاحداث التي جاءت فيما بعد لم تكن ممتعة بما فيه الكفاية. الشيء الوحيد الذي اثار اعجابي كان وصف الكاتب لأريتيريا. وبالمناسبة النجمة كانت للغلاف '})\n",
            "\n",
            "OrderedDict({'text': '[[لحم]] استطع [[اكمالهل]] بالرغم من قصرها ولكن طريقة لقاء البطلين التقليدية في المقهى اصابتني بخيبة امل ، ربما هي ممتازة ولكن بالنسبة لي ان لم اجد شيئا مميزا وفريدا فلن تشد انتباهي الرواية.كذلك بقية الاحداث التي جاءت فيما بعد لم تكن ممتعة بما فيه الكفاية. الشيء الوحيد الذي اثار اعجابي كان وصف الكاتب لأريتيريا. وبالمناسبة النجمة كانت للغلاف '})\n",
            "\n",
            "\n"
          ]
        },
        {
          "output_type": "stream",
          "name": "stderr",
          "text": [
            "\r[Succeeded / Failed / Skipped / Total] 12 / 2 / 11 / 25:  25%|██▌       | 25/100 [00:14<00:43,  1.72it/s]"
          ]
        },
        {
          "output_type": "stream",
          "name": "stdout",
          "text": [
            "--------------------------------------------- Result 25 ---------------------------------------------\n",
            "[[1 (57%)]] --> [[0 (50%)]]\n",
            "\n",
            "OrderedDict({'text': 'كل شي فيه حلو والفروع [[الجديدة]] [[اللي]] يفتحونا على ارقى [[مستوى]] انا زرت [[فرع]] [[بشارع]] المطاعم جميل جدا [[وسمعت]] [[انو]] [[فيه]] كم [[فرع]] حيفتح بالتوفيق للجميع'})\n",
            "\n",
            "OrderedDict({'text': 'كل شي فيه حلو والفروع [[ااجديدة]] [[االي]] يفتحونا على ارقى [[مسبوى]] انا زرت [[رع]] [[بشطارع]] المطاعم جميل جدا [[وسمظت]] [[انىو]] [[غفيه]] كم [[فرءع]] حيفتح بالتوفيق للجميع'})\n",
            "\n",
            "\n"
          ]
        },
        {
          "output_type": "stream",
          "name": "stderr",
          "text": [
            "\r[Succeeded / Failed / Skipped / Total] 13 / 2 / 11 / 26:  26%|██▌       | 26/100 [00:15<00:43,  1.72it/s]"
          ]
        },
        {
          "output_type": "stream",
          "name": "stdout",
          "text": [
            "--------------------------------------------- Result 26 ---------------------------------------------\n",
            "[[0 (54%)]] --> [[1 (52%)]]\n",
            "\n",
            "OrderedDict({'text': '[[باختصار]] [[الكتاب]] خذلني..حديث متكرر ويبدو لي ان الكاتب ماتعب في التقصي والبحث العلمي واعتمد على استنتاجات شخصية. أغراني وصف [[الكتاب]] انه رسالة دكتوراة وتوقعت إني راح اقرأ كتاب موثق ومؤصل في البحث لا حديث أشبه بمقالات الصحف'})\n",
            "\n",
            "OrderedDict({'text': '[[باختؤصار]] [[الكباب]] خذلني..حديث متكرر ويبدو لي ان الكاتب ماتعب في التقصي والبحث العلمي واعتمد على استنتاجات شخصية. أغراني وصف [[القتاب]] انه رسالة دكتوراة وتوقعت إني راح اقرأ كتاب موثق ومؤصل في البحث لا حديث أشبه بمقالات الصحف'})\n",
            "\n",
            "\n"
          ]
        },
        {
          "output_type": "stream",
          "name": "stderr",
          "text": [
            "[Succeeded / Failed / Skipped / Total] 14 / 2 / 11 / 27:  27%|██▋       | 27/100 [00:16<00:45,  1.60it/s]"
          ]
        },
        {
          "output_type": "stream",
          "name": "stdout",
          "text": [
            "--------------------------------------------- Result 27 ---------------------------------------------\n",
            "[[0 (65%)]] --> [[1 (50%)]]\n",
            "\n",
            "OrderedDict({'text': 'الامارات . [[الموقع]] [[جميل]]. [[هناك]] [[نقص]] في طاقم الاستقبال و طاقم التنظيف،[[وصلنا]] [[الساعه]] الظهر [[ولم]] نستلم الغرف حتى الساعه : مساء بسبب عدم [[اكتمال]] تنظيف الغرف ، هناك [[عنصريه]] في [[الفندق]] عند وصول الأجانب يتم استقبالهم و [[تسليمهم]] الغرف في نفس الوقت [[ولاكن]] [[ترى]] المواطنين [[مكدسين]] في استقبال الفندق لانتظار غرفهم'})\n",
            "\n",
            "OrderedDict({'text': 'الامارات . [[الموق]] [[جيل]]. [[هنىك]] [[مقص]] في طاقم الاستقبال و طاقم التنظيف،[[ولنا]] [[اكساعه]] الظهر [[ولن]] نستلم الغرف حتى الساعه : مساء بسبب عدم [[اكمال]] تنظيف الغرف ، هناك [[عنريه]] في [[الفنكدق]] عند وصول الأجانب يتم استقبالهم و [[تسليكهم]] الغرف في نفس الوقت [[وللكن]] [[تمرى]] المواطنين [[ذمكدسين]] في استقبال الفندق لانتظار غرفهم'})\n",
            "\n",
            "\n"
          ]
        },
        {
          "output_type": "stream",
          "name": "stderr",
          "text": [
            "[Succeeded / Failed / Skipped / Total] 15 / 2 / 13 / 30:  30%|███       | 30/100 [00:20<00:47,  1.48it/s]"
          ]
        },
        {
          "output_type": "stream",
          "name": "stdout",
          "text": [
            "--------------------------------------------- Result 28 ---------------------------------------------\n",
            "[[1 (59%)]] --> [[0 (50%)]]\n",
            "\n",
            "OrderedDict({'text': 'اى انسان [[لا]] [[يمكن]] ان يخلو من [[كرامة]] مهما يهن [[شأنه]] . [[مهما]] يكن [[من]] الامر [[فلا]] [[مفر]] من [[الحساب]] . الشمس [[ستشرق]] [[غدا]] على أرض [[خضراء]] و جو [[نقى]] . و على أى حال فقد [[استيقظ]] النائمون [[و]] [[تنبه]] [[الغافلون]] . لا [[تدع]] العواطف الشخصية تفسد [[عملك]] . [[أيها]] السادة أن تاريخ [[مصر]] يظهر [[بظهوركم]] على المسرح ، و [[ما]] [[قبل]] [[ذلك]] [[فظلام]] فى ظلام'})\n",
            "\n",
            "OrderedDict({'text': 'اى انسان [[لى]] [[ةيمكن]] ان يخلو من [[كرام]] مهما يهن [[أنه]] . [[مما]] يكن [[م]] الامر [[فا]] [[مفةر]] من [[الحسءاب]] . الشمس [[سترق]] [[عدا]] على أرض [[خضرآء]] و جو [[نكى]] . و على أى حال فقد [[اسييقظ]] النائمون [[ز]] [[تمبه]] [[انغافلون]] . لا [[تد]] العواطف الشخصية تفسد [[عمىلك]] . [[أبها]] السادة أن تاريخ [[مصا]] يظهر [[بظهوركن]] على المسرح ، و [[م]] [[قبلق]] [[ذةلك]] [[فظلال]] فى ظلام'})\n",
            "\n",
            "\n",
            "--------------------------------------------- Result 29 ---------------------------------------------\n",
            "[[0 (53%)]] --> [[[SKIPPED]]]\n",
            "\n",
            "OrderedDict({'text': 'إحترت جدا في التقييم ، من ناحية اللغة فبلا شك احلام سيدة اللغة .. و من ناحية القصة بشكل عام فهي مربكة .. مملة .. غريبة .. مثيرة للفضول ، شعرت بكثير من التناقض بين صفحاتها حتى لا ادري ما رأيي بها ككل ، و كقصة حب فحياة مثيرة للشفقة أكره رحلات البحث عن الحب بهذه الطريقه الرخيصة، و وضعه في كتاب شئ مثير للشفقه ايضا .. لكن الرواية بشكل عام بكل تفاصيلها السياسية و المشاعر المختلفه و الحبكة العابرة فهي تستحق الأربع نجوم بتردد'})\n",
            "\n",
            "\n",
            "--------------------------------------------- Result 30 ---------------------------------------------\n",
            "[[0 (53%)]] --> [[[SKIPPED]]]\n",
            "\n",
            "OrderedDict({'text': 'راحة تامة الإقامة ب هي تذوق لحسن الضيافة الليبية بأروع مقاييسها. تم الإعتناء بكل ما يتعلق بزيارتنا، بدءا من تأشيرة السفر مرورا بتوصيل المطار إلى تنظيم رحلات إلى سبراطة و لبدة الكبرى. لم تفوتهم ادنى التفاصيل. علي، مدير المنشاة الممتاز والخدوم رسم لنا خرائط النزهة مشيا لمدينة طرابلس كما أرسلت لنا نادية بإرشادات تتعلق بسفرنا و أشرفت على تحضيير الأطعمة المطبوخة منزليا. الإقامة هنا كانت بمتابة النزول في بيت ليبي كضيف دفع التكاليف بدلا من النزول بفندق'})\n",
            "\n",
            "\n"
          ]
        },
        {
          "output_type": "stream",
          "name": "stderr",
          "text": [
            "\r[Succeeded / Failed / Skipped / Total] 16 / 2 / 13 / 31:  31%|███       | 31/100 [00:20<00:46,  1.49it/s]"
          ]
        },
        {
          "output_type": "stream",
          "name": "stdout",
          "text": [
            "--------------------------------------------- Result 31 ---------------------------------------------\n",
            "[[0 (63%)]] --> [[1 (52%)]]\n",
            "\n",
            "OrderedDict({'text': 'ا للاهمال والاستغلال . [[موقع]] [[الفندق]]. خدمة النت غير مجانيهالسيرفس ضعيف جدا جدا لم يكن حجز [[الغرفه]] مؤكد مما دعانا للانتظار فتره طويله ضريبه الفندق مرتفعه جدا تحويل النقود لعملة الدرهم بثلاث أضعاف عن السوق'})\n",
            "\n",
            "OrderedDict({'text': 'ا للاهمال والاستغلال . [[موهقع]] [[الفند]]. خدمة النت غير مجانيهالسيرفس ضعيف جدا جدا لم يكن حجز [[العرفه]] مؤكد مما دعانا للانتظار فتره طويله ضريبه الفندق مرتفعه جدا تحويل النقود لعملة الدرهم بثلاث أضعاف عن السوق'})\n",
            "\n",
            "\n"
          ]
        },
        {
          "output_type": "stream",
          "name": "stderr",
          "text": [
            "\r[Succeeded / Failed / Skipped / Total] 17 / 2 / 13 / 32:  32%|███▏      | 32/100 [00:21<00:44,  1.52it/s]"
          ]
        },
        {
          "output_type": "stream",
          "name": "stdout",
          "text": [
            "--------------------------------------------- Result 32 ---------------------------------------------\n",
            "[[1 (55%)]] --> [[0 (52%)]]\n",
            "\n",
            "OrderedDict({'text': 'موقع [[ممتاز]] مع اناقة المكان . موقع الفندق. الافطار [[جيد]] فقط'})\n",
            "\n",
            "OrderedDict({'text': 'موقع [[ممتىاز]] مع اناقة المكان . موقع الفندق. الافطار [[جيىد]] فقط'})\n",
            "\n",
            "\n"
          ]
        },
        {
          "output_type": "stream",
          "name": "stderr",
          "text": [
            "[Succeeded / Failed / Skipped / Total] 18 / 2 / 13 / 33:  33%|███▎      | 33/100 [00:24<00:50,  1.32it/s]"
          ]
        },
        {
          "output_type": "stream",
          "name": "stdout",
          "text": [
            "--------------------------------------------- Result 33 ---------------------------------------------\n",
            "[[0 (54%)]] --> [[1 (50%)]]\n",
            "\n",
            "OrderedDict({'text': '[[من]] البداية العنوان لا علاقة له [[بموضوع]] الكتاب: العنوان اعطاني ايحاء بان الكتاب هيحلل شخصيات كل المقربين من محمد علي ودورهم في الانجازات اللي عملها محمد علي سواء عسكريا او اقتصاديا... لكن المقدمة اخدت منها فكرة ان الكتاب هيتسعرض فترة حكم محمد علي عن طريق جيشه اللي هيعمل خلفية عن باقي الحكم ودا هيكون عن طريق قاعدة الجنود المصريين واحساسهم ايه بالتجنيد الاجباري، بجانب انه هيتجاهل ذكر محمد علي قدر الامكان عشان يدي صورة موضوعية للاحداث ولتجنب طرق عرض السابقين لتاريخ محمد علي اللي كان هو محور التركيز فيها ، ولكن [[الكتاب]] محتواش اي من ما ذكر في [[المقدمة]]: فالتركيز كان فقط على ابراهيم باشا وسليمان باشا وكلوت بك ودورهم في حروب محمد علي، وبالنسبة للجنود وفي معظم الاحوال كان التركيز فقط على محاولات الهروب من التجنيد بدون وصف اي مشاعر للجنود في اثناء [[المعسكرات]] او السفر او الحروب او مواقفهم او اي مايتعلق بهم بحجة ان كلهم كانوا اميين، ومعظم الادلة اللي استعملها المؤلف كانت مراسلات بين محمد علي وولده ابراهيم...الانطباع اللي احسست ان المؤلف عاوز يوصله هو ان محمد علي كان ديكتاتور وكان فاسد وكان يعمل فقط لمصحلته الشخصية علما ان دي وجهة نظري في الحقيقة ومن قبل ان اقرا الكتاب بسنوات ولكن بدون اي موضوعية في التحليل باستخدام فقط بعض الرسائل اللي بيسب فيها محمد علي المصريين. [[الكاتب]] مختلفش كتير عن مادحي محمد علي في مدحهم [[المبالغ]] [[فيه]] للرجل لكن هو كان من ذاميه وبنفس [[الاسلوب']]})\n",
            "\n",
            "OrderedDict({'text': '[[م]] البداية العنوان لا علاقة له [[بموظوع]] الكتاب: العنوان اعطاني ايحاء بان الكتاب هيحلل شخصيات كل المقربين من محمد علي ودورهم في الانجازات اللي عملها محمد علي سواء عسكريا او اقتصاديا... لكن المقدمة اخدت منها فكرة ان الكتاب هيتسعرض فترة حكم محمد علي عن طريق جيشه اللي هيعمل خلفية عن باقي الحكم ودا هيكون عن طريق قاعدة الجنود المصريين واحساسهم ايه بالتجنيد الاجباري، بجانب انه هيتجاهل ذكر محمد علي قدر الامكان عشان يدي صورة موضوعية للاحداث ولتجنب طرق عرض السابقين لتاريخ محمد علي اللي كان هو محور التركيز فيها ، ولكن [[التاب]] محتواش اي من ما ذكر في [[المقدمرة]]: فالتركيز كان فقط على ابراهيم باشا وسليمان باشا وكلوت بك ودورهم في حروب محمد علي، وبالنسبة للجنود وفي معظم الاحوال كان التركيز فقط على محاولات الهروب من التجنيد بدون وصف اي مشاعر للجنود في اثناء [[المحسكرات]] او السفر او الحروب او مواقفهم او اي مايتعلق بهم بحجة ان كلهم كانوا اميين، ومعظم الادلة اللي استعملها المؤلف كانت مراسلات بين محمد علي وولده ابراهيم...الانطباع اللي احسست ان المؤلف عاوز يوصله هو ان محمد علي كان ديكتاتور وكان فاسد وكان يعمل فقط لمصحلته الشخصية علما ان دي وجهة نظري في الحقيقة ومن قبل ان اقرا الكتاب بسنوات ولكن بدون اي موضوعية في التحليل باستخدام فقط بعض الرسائل اللي بيسب فيها محمد علي المصريين. [[عالكاتب]] مختلفش كتير عن مادحي محمد علي في مدحهم [[المبلغ]] [[في]] للرجل لكن هو كان من ذاميه وبنفس [[اماسلوب']]})\n",
            "\n",
            "\n"
          ]
        },
        {
          "output_type": "stream",
          "name": "stderr",
          "text": [
            "\r[Succeeded / Failed / Skipped / Total] 19 / 2 / 13 / 34:  34%|███▍      | 34/100 [00:25<00:49,  1.33it/s]"
          ]
        },
        {
          "output_type": "stream",
          "name": "stdout",
          "text": [
            "--------------------------------------------- Result 34 ---------------------------------------------\n",
            "[[0 (54%)]] --> [[1 (50%)]]\n",
            "\n",
            "OrderedDict({'text': '[[رواية]] [[سخيفة]] وسطحية بمعنى الكلمة...واقرب ما تكون الى ملاحظات الجوال التي كنا نتداولها ايام المراهقة... لم أستطع انهائهاولو كانت انثى هي من كتبها لكانت أهون تلقيا وقبولا.. العنوان مبهم ولا يوحي بشيء الى ما بداخل الرواية او القصة المبتذلة او سمها ما شئت'})\n",
            "\n",
            "OrderedDict({'text': '[[روالية]] [[سيفة]] وسطحية بمعنى الكلمة...واقرب ما تكون الى ملاحظات الجوال التي كنا نتداولها ايام المراهقة... لم أستطع انهائهاولو كانت انثى هي من كتبها لكانت أهون تلقيا وقبولا.. العنوان مبهم ولا يوحي بشيء الى ما بداخل الرواية او القصة المبتذلة او سمها ما شئت'})\n",
            "\n",
            "\n"
          ]
        },
        {
          "output_type": "stream",
          "name": "stderr",
          "text": [
            "\r[Succeeded / Failed / Skipped / Total] 19 / 3 / 13 / 35:  35%|███▌      | 35/100 [00:26<00:48,  1.34it/s]"
          ]
        },
        {
          "output_type": "stream",
          "name": "stdout",
          "text": [
            "--------------------------------------------- Result 35 ---------------------------------------------\n",
            "[[1 (65%)]] --> [[[FAILED]]]\n",
            "\n",
            "OrderedDict({'text': 'استثنائي. الهدوء والنظافه. أشياء بسيطه'})\n",
            "\n",
            "\n"
          ]
        },
        {
          "output_type": "stream",
          "name": "stderr",
          "text": [
            "[Succeeded / Failed / Skipped / Total] 20 / 3 / 13 / 36:  36%|███▌      | 36/100 [00:29<00:52,  1.22it/s]"
          ]
        },
        {
          "output_type": "stream",
          "name": "stdout",
          "text": [
            "--------------------------------------------- Result 36 ---------------------------------------------\n",
            "[[1 (56%)]] --> [[0 (50%)]]\n",
            "\n",
            "OrderedDict({'text': '[[عزيزتي]] تالا.. افتخري [[بأبيكي]] [[البطل]] [[الذي]] [[لم]] [[اكن]] اظن ان [[مثله]] موجود الا في الروايات [[و]] الافلام. [[لن]] اقيم الكتاب [[علي]] اساس اللغة و السرد و الحوار و ما شابه. [[فان]] [[امثالها]] نتعلم [[منها]] قيم [[و]] افكار اهم من الكلمات و اللغة و السرد. تعليقي للبطل هو كيف استطاع ان [[ينجو]] [[من]] [[فتن]] الدنيا؟ و كيف جعل كل ما [[يملكه]] و يتعلمه مثل العلم و الذكاء و القوه و المال من اجل الله و دفاعا عن الوطن. كيف [[في]] [[زمن]] جعل كل هذه الاشياء وسيله لغاية اسمى [[و]] ليست هدفا في حد ذاتها. ذلك الاخلاص [[هو]] ما ابهرني حقا اكثر من قدرات البطل و ما يملك من مهارات. فكثير من الناس يملكونها لكنهم يسخروها لخدمة انفسهم فقط. ارجو ان يتقبل [[الله]] [[منك]] كل تضحياتك و ان يرزقك الشهادة و بمثل هذا البطل تحرر البلاد'})\n",
            "\n",
            "OrderedDict({'text': '[[زيزتي]] تالا.. افتخري [[يأبيكي]] [[لبطل]] [[هالذي]] [[لك]] [[ىكن]] اظن ان [[مثلة]] موجود الا في الروايات [[ه]] الافلام. [[ل]] اقيم الكتاب [[على]] اساس اللغة و السرد و الحوار و ما شابه. [[غان]] [[انثالها]] نتعلم [[منهما]] قيم [[وع]] افكار اهم من الكلمات و اللغة و السرد. تعليقي للبطل هو كيف استطاع ان [[هينجو]] [[نمن]] [[فثتن]] الدنيا؟ و كيف جعل كل ما [[ملكه]] و يتعلمه مثل العلم و الذكاء و القوه و المال من اجل الله و دفاعا عن الوطن. كيف [[رفي]] [[من]] جعل كل هذه الاشياء وسيله لغاية اسمى [[وف]] ليست هدفا في حد ذاتها. ذلك الاخلاص [[ه]] ما ابهرني حقا اكثر من قدرات البطل و ما يملك من مهارات. فكثير من الناس يملكونها لكنهم يسخروها لخدمة انفسهم فقط. ارجو ان يتقبل [[المه]] [[مىنك]] كل تضحياتك و ان يرزقك الشهادة و بمثل هذا البطل تحرر البلاد'})\n",
            "\n",
            "\n"
          ]
        },
        {
          "output_type": "stream",
          "name": "stderr",
          "text": [
            "[Succeeded / Failed / Skipped / Total] 21 / 3 / 14 / 38:  38%|███▊      | 38/100 [00:30<00:49,  1.26it/s]"
          ]
        },
        {
          "output_type": "stream",
          "name": "stdout",
          "text": [
            "--------------------------------------------- Result 37 ---------------------------------------------\n",
            "[[0 (53%)]] --> [[1 (50%)]]\n",
            "\n",
            "OrderedDict({'text': 'نعم [[انها]] [[من]] [[الكتب]] العادية جدا رغم طابعها المضحك الاهم من ذلك انني لم اتكلف عناء شرائها او قرائتها فقط سمعتها لمدة ساعتين او اكثر وانا اؤدي بعض الاعمال الاخرى احببت جدا تجربة الكتب المسموعة لكن الكتاب كان لابأس [[به']]})\n",
            "\n",
            "OrderedDict({'text': 'نعم [[انا]] [[بمن]] [[الكبب]] العادية جدا رغم طابعها المضحك الاهم من ذلك انني لم اتكلف عناء شرائها او قرائتها فقط سمعتها لمدة ساعتين او اكثر وانا اؤدي بعض الاعمال الاخرى احببت جدا تجربة الكتب المسموعة لكن الكتاب كان لابأس [[نه']]})\n",
            "\n",
            "\n",
            "--------------------------------------------- Result 38 ---------------------------------------------\n",
            "[[0 (51%)]] --> [[[SKIPPED]]]\n",
            "\n",
            "OrderedDict({'text': 'استثنائي. الفندق ملاصق للمول وبينهم مدخل مشترك ويتوفر بالمول المحلات التجارية والكوفيات المشهورة والمطاعم بالاضافة الى وجود سينما'})\n",
            "\n",
            "\n"
          ]
        },
        {
          "output_type": "stream",
          "name": "stderr",
          "text": [
            "[Succeeded / Failed / Skipped / Total] 22 / 3 / 14 / 39:  39%|███▉      | 39/100 [00:32<00:51,  1.18it/s]"
          ]
        },
        {
          "output_type": "stream",
          "name": "stdout",
          "text": [
            "--------------------------------------------- Result 39 ---------------------------------------------\n",
            "[[1 (55%)]] --> [[0 (50%)]]\n",
            "\n",
            "OrderedDict({'text': '[[للمره]] الثانية اقرأ هذا الكتاب .. حاولت أجد [[عزائي]] [[في]] اشياء صغيرة و تفاصيل [[كلنت]] [[تسعدنا]] [[قديما]] [[لكن]] [[هيهات]] .. [[شاخت]] [[نفسي]] غن مثل [[تلك]] الاشياء .. و كعادتي اجد [[عزائي]] في كلمات [[عبد]] الوهاب مطاوع. . لكن هذه المبادئ و المثل التي تحكي عنها و التي كبرت في داخلي الي حد الاقتناع اجدها غير [[متحققة]] وان الواقع مختلف و بعيد كل البعد عنها وان ما تذكره هو الاستثناء بعينه .. ولا يوجد استثناء .. كل مره نصل الي نفس منعطف الطريق و [[نتمني]] ان تكون القاضية .. ولكنها لا تكن.. لعها محاولات مني في الاحتفاظ بشئ من بقايا الخطوط عسي ان [[تجدد]] [[و]] [[تنمو]] [[و]] [[تقوي]] كما كانت من قبل'})\n",
            "\n",
            "OrderedDict({'text': '[[نلمره]] الثانية اقرأ هذا الكتاب .. حاولت أجد [[زعزائي]] [[ي]] اشياء صغيرة و تفاصيل [[كلن]] [[تسظدنا]] [[قديم]] [[لءكن]] [[هيهالت]] .. [[شخت]] [[نفس]] غن مثل [[تك]] الاشياء .. و كعادتي اجد [[حزائي]] في كلمات [[عبذ]] الوهاب مطاوع. . لكن هذه المبادئ و المثل التي تحكي عنها و التي كبرت في داخلي الي حد الاقتناع اجدها غير [[منحققة]] وان الواقع مختلف و بعيد كل البعد عنها وان ما تذكره هو الاستثناء بعينه .. ولا يوجد استثناء .. كل مره نصل الي نفس منعطف الطريق و [[نتمئني]] ان تكون القاضية .. ولكنها لا تكن.. لعها محاولات مني في الاحتفاظ بشئ من بقايا الخطوط عسي ان [[ختجدد]] [[لو]] [[تزنمو]] [[وة]] [[تكوي]] كما كانت من قبل'})\n",
            "\n",
            "\n"
          ]
        },
        {
          "output_type": "stream",
          "name": "stderr",
          "text": [
            "\r[Succeeded / Failed / Skipped / Total] 22 / 4 / 14 / 40:  40%|████      | 40/100 [00:34<00:51,  1.16it/s]"
          ]
        },
        {
          "output_type": "stream",
          "name": "stdout",
          "text": [
            "--------------------------------------------- Result 40 ---------------------------------------------\n",
            "[[1 (61%)]] --> [[[FAILED]]]\n",
            "\n",
            "OrderedDict({'text': 'رغم الحزن الموجود في حروفك ... الا انها جميعا مكتوبه بحبر تفاؤل . تناقض غريب ... ولكن رائع ... شكرا لقلمك'})\n",
            "\n",
            "\n"
          ]
        },
        {
          "output_type": "stream",
          "name": "stderr",
          "text": [
            "\r[Succeeded / Failed / Skipped / Total] 23 / 4 / 14 / 41:  41%|████      | 41/100 [00:35<00:50,  1.16it/s]"
          ]
        },
        {
          "output_type": "stream",
          "name": "stdout",
          "text": [
            "--------------------------------------------- Result 41 ---------------------------------------------\n",
            "[[0 (57%)]] --> [[1 (50%)]]\n",
            "\n",
            "OrderedDict({'text': 'الإهتمام مستقبلا [[بالملاحظات]] والسعر . [[الموقع]] [[ممتازتوفر]] مواقف سفليه للسيارات. زعاج السيارات من الشارع النت سيئ جدا ولايكاد يذكر عدم تلبية طلبات [[النزيل]] من خدمة العملاء كان هنالك مشكلة عطل في المصعدولم يتم إصلاحه أثناء سكني لمدة أيامواضطررت لإستخدام [[السلالم]] لأكثر من مرهوكانت مرهقه جدا جدا جدا'})\n",
            "\n",
            "OrderedDict({'text': 'الإهتمام مستقبلا [[حبالملاحظات]] والسعر . [[المدوقع]] [[لمتازتوفر]] مواقف سفليه للسيارات. زعاج السيارات من الشارع النت سيئ جدا ولايكاد يذكر عدم تلبية طلبات [[ىلنزيل]] من خدمة العملاء كان هنالك مشكلة عطل في المصعدولم يتم إصلاحه أثناء سكني لمدة أيامواضطررت لإستخدام [[السلرلم]] لأكثر من مرهوكانت مرهقه جدا جدا جدا'})\n",
            "\n",
            "\n"
          ]
        },
        {
          "output_type": "stream",
          "name": "stderr",
          "text": [
            "[Succeeded / Failed / Skipped / Total] 24 / 4 / 14 / 42:  42%|████▏     | 42/100 [00:38<00:52,  1.10it/s]"
          ]
        },
        {
          "output_type": "stream",
          "name": "stdout",
          "text": [
            "--------------------------------------------- Result 42 ---------------------------------------------\n",
            "[[1 (57%)]] --> [[0 (51%)]]\n",
            "\n",
            "OrderedDict({'text': 'الجارة [[وانت]] [[اسمك]] [[إيه]]؟ أجملهم [[إطلاقا]]. [[خبرة]] [[النهاية]] [[وصفاء]] [[البداية]] وتشابه [[ما]] [[بالوسط]]، [[بين]] [[عجوز]] يقبل [[الحياة]] [[وطفل]] يمتلكها. رائعة.. [[صدفة]] أن أول القصص [[الست]] [[هنا]] عن [[طفل]] وآخرها [[عن]] [[عجوز]] [[بالثمانين]] [[من]] [[العمر]]؟. [[أيا]]، أحببت الكتاب'})\n",
            "\n",
            "OrderedDict({'text': 'الجارة [[زانت]] [[اسم]] [[ةإيه]]؟ أجملهم [[إطلاظقا]]. [[خةرة]] [[لنهاية]] [[وصفا]] [[البدايوة]] وتشابه [[مأا]] [[بدالوسط]]، [[ةين]] [[عخوز]] يقبل [[ااحياة]] [[اوطفل]] يمتلكها. رائعة.. [[صدفىة]] أن أول القصص [[الت]] [[هتا]] عن [[طفئل]] وآخرها [[عنق]] [[ءعجوز]] [[بالثماننن]] [[م]] [[العلر]]؟. [[أىا]]، أحببت الكتاب'})\n",
            "\n",
            "\n"
          ]
        },
        {
          "output_type": "stream",
          "name": "stderr",
          "text": [
            "\r[Succeeded / Failed / Skipped / Total] 25 / 4 / 14 / 43:  43%|████▎     | 43/100 [00:38<00:50,  1.12it/s]"
          ]
        },
        {
          "output_type": "stream",
          "name": "stdout",
          "text": [
            "--------------------------------------------- Result 43 ---------------------------------------------\n",
            "[[0 (55%)]] --> [[1 (51%)]]\n",
            "\n",
            "OrderedDict({'text': 'تجربة فاشلة . . السعر مقابل الخدمة سيء . اصوات الجيران مسموعه. نظافة [[الغرفة]] سيئة . التكييف دون المستوى'})\n",
            "\n",
            "OrderedDict({'text': 'تجربة فاشلة . . السعر مقابل الخدمة سيء . اصوات الجيران مسموعه. نظافة [[الغرغة]] سيئة . التكييف دون المستوى'})\n",
            "\n",
            "\n"
          ]
        },
        {
          "output_type": "stream",
          "name": "stderr",
          "text": [
            "[Succeeded / Failed / Skipped / Total] 26 / 4 / 16 / 46:  46%|████▌     | 46/100 [00:40<00:47,  1.15it/s]"
          ]
        },
        {
          "output_type": "stream",
          "name": "stdout",
          "text": [
            "--------------------------------------------- Result 44 ---------------------------------------------\n",
            "[[1 (56%)]] --> [[0 (50%)]]\n",
            "\n",
            "OrderedDict({'text': '[[جمال]] [[دبي]] في سكن مثل هذه الشقق . [[عطوني]] شقتين [[صغار]] [[بدلا]] من [[واحدة]] [[بغرفتي]] نوم ،لانه [[على]] [[قولهم]] تأخرت وماسحبت [[البطاقة]] . وفي الحقيقة [[لم]] اتأخر بل [[أجروا]] الشقة [[لشخص]] اخر .فتم تعويضي [[بشقتين]] غرفة واحدة ، وفطور مجاني ،جزاهم الله [[خير]] . كل شيء روعة روعة روعة'})\n",
            "\n",
            "OrderedDict({'text': '[[جىمال]] [[دي]] في سكن مثل هذه الشقق . [[ظطوني]] شقتين [[صغرر]] [[بدا]] من [[واحة]] [[بغرفيي]] نوم ،لانه [[خلى]] [[قزلهم]] تأخرت وماسحبت [[لبطاقة]] . وفي الحقيقة [[ل]] اتأخر بل [[أروا]] الشقة [[لشخصت]] اخر .فتم تعويضي [[نشقتين]] غرفة واحدة ، وفطور مجاني ،جزاهم الله [[ير]] . كل شيء روعة روعة روعة'})\n",
            "\n",
            "\n",
            "--------------------------------------------- Result 45 ---------------------------------------------\n",
            "[[1 (63%)]] --> [[[SKIPPED]]]\n",
            "\n",
            "OrderedDict({'text': 'تشيز كيك بالفراولة ماله طعم مجرد شوية جبن وكريمة خفق .والفراولة اللي فوق لون احمر بس'})\n",
            "\n",
            "\n",
            "--------------------------------------------- Result 46 ---------------------------------------------\n",
            "[[0 (56%)]] --> [[[SKIPPED]]]\n",
            "\n",
            "OrderedDict({'text': 'سوف أقيم في هذا الفندق كل مرة بإذن الله تعالى . موظفي الاستقبال في قمة الذوق والأخلاق خاصة الموظفة شيلافيوسام. سعر الإفطار غالي ولا يناسب هذا الشهر الكريم'})\n",
            "\n",
            "\n"
          ]
        },
        {
          "output_type": "stream",
          "name": "stderr",
          "text": [
            "\r[Succeeded / Failed / Skipped / Total] 27 / 4 / 16 / 47:  47%|████▋     | 47/100 [00:40<00:45,  1.16it/s]"
          ]
        },
        {
          "output_type": "stream",
          "name": "stdout",
          "text": [
            "--------------------------------------------- Result 47 ---------------------------------------------\n",
            "[[1 (52%)]] --> [[0 (50%)]]\n",
            "\n",
            "OrderedDict({'text': 'مش عارفه أبدأ منين بوصف الروايه دى او كاتبها ... عجبتنى [[أوى]] اللغه اللى كتب بيها وأسلوبه [[المنتظم]]... وأحداثها مثيره [[جدا]]... روايه عميقة وممتعة فيها تساؤلات عجبتني قوي... تستحق القراءه'})\n",
            "\n",
            "OrderedDict({'text': 'مش عارفه أبدأ منين بوصف الروايه دى او كاتبها ... عجبتنى [[وى]] اللغه اللى كتب بيها وأسلوبه [[اممنتظم]]... وأحداثها مثيره [[نجدا]]... روايه عميقة وممتعة فيها تساؤلات عجبتني قوي... تستحق القراءه'})\n",
            "\n",
            "\n"
          ]
        },
        {
          "output_type": "stream",
          "name": "stderr",
          "text": [
            "[Succeeded / Failed / Skipped / Total] 28 / 4 / 16 / 48:  48%|████▊     | 48/100 [00:40<00:44,  1.17it/s]"
          ]
        },
        {
          "output_type": "stream",
          "name": "stdout",
          "text": [
            "--------------------------------------------- Result 48 ---------------------------------------------\n",
            "[[0 (51%)]] --> [[1 (50%)]]\n",
            "\n",
            "OrderedDict({'text': 'أفكار مستهلكة .... أحداث سريعة متداخلة و متوقعة. شخصيات منسية و كانت بمثابة الحشو. أخطاء لغوية و نحوية متكررة .... أسلوب السرد متواضع جدا.... المواعض كانت مسقطة اسقاط .... [[أظن]] الكاتب استعحل فى نشر أول عمل له'})\n",
            "\n",
            "OrderedDict({'text': 'أفكار مستهلكة .... أحداث سريعة متداخلة و متوقعة. شخصيات منسية و كانت بمثابة الحشو. أخطاء لغوية و نحوية متكررة .... أسلوب السرد متواضع جدا.... المواعض كانت مسقطة اسقاط .... [[أن]] الكاتب استعحل فى نشر أول عمل له'})\n",
            "\n",
            "\n"
          ]
        },
        {
          "output_type": "stream",
          "name": "stderr",
          "text": [
            "\r[Succeeded / Failed / Skipped / Total] 29 / 4 / 16 / 49:  49%|████▉     | 49/100 [00:41<00:43,  1.17it/s]"
          ]
        },
        {
          "output_type": "stream",
          "name": "stdout",
          "text": [
            "--------------------------------------------- Result 49 ---------------------------------------------\n",
            "[[0 (52%)]] --> [[1 (50%)]]\n",
            "\n",
            "OrderedDict({'text': 'أول تجربة لي مع الغزالي. تمنيت كثيرا عن أحب الكتاب، لكنني لم استطع.. مواضيع الكتاب كانت جميلة، كنت سأحبه أكثر لو استطرد الغزالي اكثر في [[المواضيع]] بدلا عن اقتباس ماقاله ديل كارنجي وغيره ومن ثم ربطها بآية أو حديث.. أنا بالعموم لا أميل لقراءة الكتب التي تصنف تحت تنمية [[الذات]]، أظن ان ذلك عائد لكثرة المحاضرات والدورات التي حضرتها في فترة من الفترات لدرجة أني تشبعت منها [[تماما']]})\n",
            "\n",
            "OrderedDict({'text': 'أول تجربة لي مع الغزالي. تمنيت كثيرا عن أحب الكتاب، لكنني لم استطع.. مواضيع الكتاب كانت جميلة، كنت سأحبه أكثر لو استطرد الغزالي اكثر في [[اامواضيع]] بدلا عن اقتباس ماقاله ديل كارنجي وغيره ومن ثم ربطها بآية أو حديث.. أنا بالعموم لا أميل لقراءة الكتب التي تصنف تحت تنمية [[اطلذات]]، أظن ان ذلك عائد لكثرة المحاضرات والدورات التي حضرتها في فترة من الفترات لدرجة أني تشبعت منها [[تماما'ى]]})\n",
            "\n",
            "\n"
          ]
        },
        {
          "output_type": "stream",
          "name": "stderr",
          "text": [
            "[Succeeded / Failed / Skipped / Total] 30 / 4 / 17 / 51:  51%|█████     | 51/100 [00:47<00:45,  1.08it/s]"
          ]
        },
        {
          "output_type": "stream",
          "name": "stdout",
          "text": [
            "--------------------------------------------- Result 50 ---------------------------------------------\n",
            "[[1 (58%)]] --> [[0 (50%)]]\n",
            "\n",
            "OrderedDict({'text': 'الكتاب الذي [[أبكاني]] واضحكني .. وجعل [[شوقي]] [[لفلسطين]] يزيد ويشتعل .. ربنا يكرمنا [[بسجدة]] في المسجد [[الأقصى]] .. ربنا [[يكرم]] كل [[مغترب]] [[ويعود]] إلى [[بلده]] ... لغة الكتاب رائعة وذكية .. نحن نحب [[فلسطين]] فكيف بمن يحكينا عنها [[ويصفها]] لنا [[ويكون]] من أهلها ؟؟. [[اقتبس]] من الكتاب ... [[لكل]] امرئ [[ظلامه]] ..[[لكل]] امرئ حقه في الظلام . إن السنوات محمولة على كتفيك .. تفعل فعلها البطئ دون أن تقرع [[أيه]] [[أجراس]] . كان علينا أن [[ننتظر]] طويلا قبل أن [[تعلمنا]] [[الحياة]] [[عبر]] رحلتنا [[الطويلة]] نحو الحكمة والحزن انه حتى اسنان المشط لا [[تتشابه]] [[في]] [[الواقع]] . من السهل [[طمس]] [[الحقيقة]] بحيلة لغوية بسيطة : إبدأ [[حكايتك]] [[من]] [[ثانيا]] . نحن لم نخسر فلسطين في مباراة [[للمنطق]] لقد خسرناها [[بالإكراه]] والفوة'})\n",
            "\n",
            "OrderedDict({'text': 'الكتاب الذي [[أباني]] واضحكني .. وجعل [[شوقن]] [[لفلسظين]] يزيد ويشتعل .. ربنا يكرمنا [[نسجدة]] في المسجد [[ااأقصى]] .. ربنا [[يكر]] كل [[مغنرب]] [[وعود]] إلى [[بلدة]] ... لغة الكتاب رائعة وذكية .. نحن نحب [[فلسطيهن]] فكيف بمن يحكينا عنها [[وىصفها]] لنا [[يكون]] من أهلها ؟؟. [[اقتبسث]] من الكتاب ... [[لك]] امرئ [[ظلاله]] ..[[مكل]] امرئ حقه في الظلام . إن السنوات محمولة على كتفيك .. تفعل فعلها البطئ دون أن تقرع [[أبه]] [[أجذاس]] . كان علينا أنِ [[نإنتظر]] طويلا قبل أن [[تعلمنى]] [[ااحياة]] [[عبد]] رحلتنا [[اكطويلة]] نحو الحكمة والحزن انه حتى اسنان المشط لا [[تتشاكبه]] [[ىفي]] [[الواقغ]] . من السهل [[طىمس]] [[الحكقيقة]] بحيلة لغوية بسيطة : إبدأ [[حكاييك]] [[مب]] [[بثانيا]] . نحن لم نخسر فلسطين في مباراة [[للمنط]] لقد خسرناها [[بالإقراه]] والفوة'})\n",
            "\n",
            "\n",
            "--------------------------------------------- Result 51 ---------------------------------------------\n",
            "[[0 (50%)]] --> [[[SKIPPED]]]\n",
            "\n",
            "OrderedDict({'text': 'مع مهل عشت الحزن والفرح وبالرغم من ان الحزن سيطر على اغلب اجواء الرواية إلا انني استمتعت جدا بقراءتها ... اسلوب الكاتب بسيط وسلس مما جعلني انهيها في جلستين تقريبا ... ومع ان النهاية لم تكن تلك التى اطمح ان تكون إلا ان الرواية حركت بداخلي اشياء كثيرة'})\n",
            "\n",
            "\n"
          ]
        },
        {
          "output_type": "stream",
          "name": "stderr",
          "text": [
            "[Succeeded / Failed / Skipped / Total] 31 / 4 / 18 / 53:  53%|█████▎    | 53/100 [00:48<00:42,  1.10it/s]"
          ]
        },
        {
          "output_type": "stream",
          "name": "stdout",
          "text": [
            "--------------------------------------------- Result 52 ---------------------------------------------\n",
            "[[1 (55%)]] --> [[0 (51%)]]\n",
            "\n",
            "OrderedDict({'text': '[[الحازمي]] موظف الاستقبال [[شخص]] [[جدا]] [[متعاون]] . لم اجرب [[الافطار]] ولكن كان السرير [[مريحا']]})\n",
            "\n",
            "OrderedDict({'text': '[[الحازكي]] موظف الاستقبال [[سخص]] [[جد]] [[متأعاون]] . لم اجرب [[الافثطار]] ولكن كان السرير [[مرنحا']]})\n",
            "\n",
            "\n",
            "--------------------------------------------- Result 53 ---------------------------------------------\n",
            "[[1 (52%)]] --> [[[SKIPPED]]]\n",
            "\n",
            "OrderedDict({'text': 'ممممممم فرج فودة رغم استفادتى من كتبه على نحو كبير ولكن بعد قراءتى لاكثر من مؤلف له تيقنت بأنه شخص يبتذل بل يتفنن فى صنع الخلاف. مممممممم لا أجد فيما كتب فرج فودة سببا يدعو لقتله او إغتياله..... و رغم اعترافى بانه جدلى لدرجة قد دفعته للاستشهاد باحداث ابتدعها الشيعة فى حق الصحابة للتأكيد على فكرته. ولكنه فى المعظم يبنى حجته بالبرهان و على من يناقضه ان يفعل المثل'})\n",
            "\n",
            "\n"
          ]
        },
        {
          "output_type": "stream",
          "name": "stderr",
          "text": [
            "[Succeeded / Failed / Skipped / Total] 32 / 4 / 18 / 54:  54%|█████▍    | 54/100 [00:50<00:43,  1.06it/s]"
          ]
        },
        {
          "output_type": "stream",
          "name": "stdout",
          "text": [
            "--------------------------------------------- Result 54 ---------------------------------------------\n",
            "[[0 (67%)]] --> [[1 (51%)]]\n",
            "\n",
            "OrderedDict({'text': 'ا [[يعتبر]] [[فندق]] ولكن شقق مفروشه [[من]] [[الدرجه]] [[المتوسطه]] . [[طاقم]] العمل [[كان]] متساعدا في وقت [[الدخول]] و الخروج و [[اعجبتني]] الاطلاله [[من]] المطعم. تم [[تسليمي]] [[غرفه]] [[غير]] مطابقه لحجزي و [[اقل]] منها بحجه اني طلبت تسجيل [[وصول]] مبكر ولم ينتبهوا له و اسعار الكفيتيريا مبالغ [[فيها]] ، لا [[يوجد]] الا مصعد واحد يعمل ، مغسله الملابس لا تعمل ، الاثاث قديم جدا ، [[المواقف]] امام [[الفندق]] دائما [[مزدحمه]] ، لا يستحق هذا المبلغ و انصدمت منه ماتوقعته [[بهذا]] السوء'})\n",
            "\n",
            "OrderedDict({'text': 'ا [[يعتنر]] [[فند]] ولكن شقق مفروشه [[مسن]] [[الدجه]] [[المتوسقطه]] . [[طلقم]] العمل [[كام]] متساعدا في وقت [[الدحول]] و الخروج و [[اعبتني]] الاطلاله [[امن]] المطعم. تم [[تسليكي]] [[غرفة]] [[غنر]] مطابقه لحجزي و [[اطل]] منها بحجه اني طلبت تسجيل [[وصأول]] مبكر ولم ينتبهوا له و اسعار الكفيتيريا مبالغ [[فعيها]] ، لا [[يوحد]] الا مصعد واحد يعمل ، مغسله الملابس لا تعمل ، الاثاث قديم جدا ، [[الموقف]] امام [[الفندط]] دائما [[مسدحمه]] ، لا يستحق هذا المبلغ و انصدمت منه ماتوقعته [[بهذها]] السوء'})\n",
            "\n",
            "\n"
          ]
        },
        {
          "output_type": "stream",
          "name": "stderr",
          "text": [
            "\r[Succeeded / Failed / Skipped / Total] 33 / 4 / 18 / 55:  55%|█████▌    | 55/100 [00:54<00:44,  1.01it/s]"
          ]
        },
        {
          "output_type": "stream",
          "name": "stdout",
          "text": [
            "--------------------------------------------- Result 55 ---------------------------------------------\n",
            "[[1 (57%)]] --> [[0 (50%)]]\n",
            "\n",
            "OrderedDict({'text': '[[الروعة]] في سيد قطب ليست في مضمون ما [[كتب]] [[بقدر]] ما [[هي]] [[روعة]] [[الاتجاه]]، [[وجرأة]] [[البحث]] عن الطريق، [[لقد]] [[رسم]] هذا [[الرجل]] الطريق المفقودة بين أبناء الإسلام حينما حاول أن [[يتحرر]] من سيطرة التراث على فهم الدين، واختار الفكر كأسلوب [[للتعامل]] مع الإسلام، وقدم [[لنا]] الإسلام ككائن حي كانه مولود [[اللحظة]] محررا [[رؤيتنا]] من [[أكفان]] التاريخ التي خنقتنا وحنطت رؤية للدين نحسبها قابلة للحياة [[وهي]] ميتة منذ قرون، [[لقد]] نال سيد قطب شرف المحاولة الجادة الأولى في هذا [[الضمار]] ومهما [[كانت]] نتائج [[محاولته]] [[فيكفيه]] أنها وضعت [[أقدامنا]] على أول الطريق، [[رحم]] الله سيد قطب'})\n",
            "\n",
            "OrderedDict({'text': '[[ااروعة]] في سيد قطب ليست في مضمون ما [[كتي]] [[بقرر]] ما [[ي]] [[وعة]] [[اماتجاه]]، [[هجرأة]] [[البحثي]] عن الطريق، [[قد]] [[رزم]] هذا [[انرجل]] الطريق المفقودة بين أبناء الإسلام حينما حاول أن [[ىتحرر]] من سيطرة التراث على فهم الدين، واختار الفكر كأسلوب [[كلتعامل]] مع الإسلام، وقدم [[كنا]] الإسلام ككائن حي كانه مولود [[للحظة]] محررا [[رؤيتن]] من [[أكان]] التاريخ التي خنقتنا وحنطت رؤية للدين نحسبها قابلة للحياة [[هي]] ميتة منذ قرون، [[ملقد]] نال سيد قطب شرف المحاولة الجادة الأولى في هذا [[اكضمار]] ومهما [[كتانت]] نتائج [[محاولتي]] [[طفيكفيه]] أنها وضعت [[أطدامنا]] على أول الطريق، [[دحم]] الله سيد قطب'})\n",
            "\n",
            "\n"
          ]
        },
        {
          "output_type": "stream",
          "name": "stderr",
          "text": [
            "\r[Succeeded / Failed / Skipped / Total] 34 / 4 / 18 / 56:  56%|█████▌    | 56/100 [00:55<00:43,  1.02it/s]"
          ]
        },
        {
          "output_type": "stream",
          "name": "stdout",
          "text": [
            "--------------------------------------------- Result 56 ---------------------------------------------\n",
            "[[0 (63%)]] --> [[1 (50%)]]\n",
            "\n",
            "OrderedDict({'text': '[[ضعيف]]. [[فقط]] اجراءات الدخول والخروج بسرعة والباصات من وال الحرم .. ولاشيء غير ذلك. المواقف سيئة جدا جدا .. وخدمة [[الغرف]] ضعيف وغير متجاوبين .. لايوجد واي فاي الا في اللوبي وسيء جدا .. ولا أعتقد انني سأكرر الزيارة [[للفندق]] مرة اخر'})\n",
            "\n",
            "OrderedDict({'text': '[[ضعيحف]]. [[فكط]] اجراءات الدخول والخروج بسرعة والباصات من وال الحرم .. ولاشيء غير ذلك. المواقف سيئة جدا جدا .. وخدمة [[اكغرف]] ضعيف وغير متجاوبين .. لايوجد واي فاي الا في اللوبي وسيء جدا .. ولا أعتقد انني سأكرر الزيارة [[لملفندق]] مرة اخر'})\n",
            "\n",
            "\n"
          ]
        },
        {
          "output_type": "stream",
          "name": "stderr",
          "text": [
            "[Succeeded / Failed / Skipped / Total] 35 / 4 / 18 / 57:  57%|█████▋    | 57/100 [00:56<00:42,  1.01it/s]"
          ]
        },
        {
          "output_type": "stream",
          "name": "stdout",
          "text": [
            "--------------------------------------------- Result 57 ---------------------------------------------\n",
            "[[0 (63%)]] --> [[1 (51%)]]\n",
            "\n",
            "OrderedDict({'text': '[[اتمنى]] [[الاهتمام]] [[وعدم]] الاستغلال . [[الموقع]] رائع [[جدا]] من الحرم النبوي [[وقريب]] يفصله شارعين كل شارع متر [[ومسافة]] متر وتصل الى الحرمتعامل الموظفين ورجال امن [[الفندق]] محترمين. المطعم اكله سيئ بمعنى الكلمهالانترنت سيئ بمعنى الكلمهلا توجد مواقف سيارات حيث المواقف تتسع لعدد سياره فقط والفندق متوفر به غرفهالازعاج داخل [[الفندق]] من ناحية اطفال النزلاءلايرد عليك من اول مره عند الاتصال'})\n",
            "\n",
            "OrderedDict({'text': '[[امنى]] [[الاهتمال]] [[وعد]] الاستغلال . [[الموقلع]] رائع [[جذا]] من الحرم النبوي [[وقرىب]] يفصله شارعين كل شارع متر [[وسافة]] متر وتصل الى الحرمتعامل الموظفين ورجال امن [[الفندك]] محترمين. المطعم اكله سيئ بمعنى الكلمهالانترنت سيئ بمعنى الكلمهلا توجد مواقف سيارات حيث المواقف تتسع لعدد سياره فقط والفندق متوفر به غرفهالازعاج داخل [[الفندك]] من ناحية اطفال النزلاءلايرد عليك من اول مره عند الاتصال'})\n",
            "\n",
            "\n"
          ]
        },
        {
          "output_type": "stream",
          "name": "stderr",
          "text": [
            "\r[Succeeded / Failed / Skipped / Total] 36 / 4 / 18 / 58:  58%|█████▊    | 58/100 [01:01<00:44,  1.06s/it]"
          ]
        },
        {
          "output_type": "stream",
          "name": "stdout",
          "text": [
            "--------------------------------------------- Result 58 ---------------------------------------------\n",
            "[[1 (54%)]] --> [[0 (50%)]]\n",
            "\n",
            "OrderedDict({'text': 'ياااااااااا الله. كتاب تحفة. غير كتب السيرة المعتادة دة واخد سيرة المصطفى من جانب [[اجتماعى]] [[روحانى]] [[بحت]]. بدون الدخول ف تفاصيل كتير واسماء كبيرة [[زى]] كتب السيرة المعتادة. كانه جد [[بيحكى]] [[حدوتة]] لاحفاده الكبار شوية . وبيقولهم [[بصو]] يا ولاد كانت ظروف قريش الاجتماعية كذا وكان الحكم فيها [[لفلان]] [[وفلان]]. ولما جه يتكلم عن المصطفى [[اتكلم]] بنفس الاسلوب. سوا ف شرح [[ملابسات]] النبوة حتى الهجرة وكل الغزوات. [[استفدت]] معلومات كتيييييييييير جدااااااااا جديدة يمكن لانى لالاسف مش من قراء السيرة والكتب الدينية عموما ودة عيب ف قراءاتى [[بحاول]] اصلحه . واستمتعت على المستوى العام بالاسلوب [[والشرح]] [[المبسط]]. وطبعا بكيت كالمعتاد فى مشهد وفاة الرسول. الكتاب [[بنصح]] بيه [[وبشدة]] ولكن [[لقارئ]] سيرة قبل او بعد الكتاب دة. يعنى ميبقاش مرجع وحيد. [[ملحوظة]]:. الكتاب [[دة]] كان هديتى [[لنفسى]] بمناسبة [[نجاحى]] فى تحدى ال يوم سعادة. ورغم انى [[مكنتش]] [[حابة]] ف الاول اجيب [[لنفسى]] كتاب. الا انى بعد ايام قراءة ف الكتاب دة. حابة اقول انى مبسوطة من نفسى جدااااااااااا. وفرحانة قوى بالكتاب دة. اربعة نجوم مستحقة. وكتاب مميز ينضم لقائمة اروع ماقرات. وتجربة اولى ولن تكون الاخيرة للكاتب. انتهى الرفيو'})\n",
            "\n",
            "OrderedDict({'text': 'ياااااااااا الله. كتاب تحفة. غير كتب السيرة المعتادة دة واخد سيرة المصطفى من جانب [[اجماعى]] [[اوحانى]] [[بعت]]. بدون الدخول ف تفاصيل كتير واسماء كبيرة [[زا]] كتب السيرة المعتادة. كانه جد [[بيحكشى]] [[حذوتة]] لاحفاده الكبار شوية . وبيقولهم [[بصسو]] يا ولاد كانت ظروف قريش الاجتماعية كذا وكان الحكم فيها [[لقلان]] [[وفلا]]. ولما جه يتكلم عن المصطفى [[اتلم]] بنفس الاسلوب. سوا ف شرح [[لابسات]] النبوة حتى الهجرة وكل الغزوات. [[اتفدت]] معلومات كتيييييييييير جدااااااااا جديدة يمكن لانى لالاسف مش من قراء السيرة والكتب الدينية عموما ودة عيب ف قراءاتى [[بحاو]] اصلحه . واستمتعت على المستوى العام بالاسلوب [[والصرح]] [[المبإسط]]. وطبعا بكيت كالمعتاد فى مشهد وفاة الرسول. الكتاب [[بنآصح]] بيه [[وبشة]] ولكن [[قارئ]] سيرة قبل او بعد الكتاب دة. يعنى ميبقاش مرجع وحيد. [[ملخوظة]]:. الكتاب [[دذة]] كان هديتى [[لنفسا]] بمناسبة [[جاحى]] فى تحدى ال يوم سعادة. ورغم انى [[مكنبش]] [[ابة]] ف الاول اجيب [[انفسى]] كتاب. الا انى بعد ايام قراءة ف الكتاب دة. حابة اقول انى مبسوطة من نفسى جدااااااااااا. وفرحانة قوى بالكتاب دة. اربعة نجوم مستحقة. وكتاب مميز ينضم لقائمة اروع ماقرات. وتجربة اولى ولن تكون الاخيرة للكاتب. انتهى الرفيو'})\n",
            "\n",
            "\n"
          ]
        },
        {
          "output_type": "stream",
          "name": "stderr",
          "text": [
            "\r[Succeeded / Failed / Skipped / Total] 37 / 4 / 18 / 59:  59%|█████▉    | 59/100 [01:02<00:43,  1.06s/it]"
          ]
        },
        {
          "output_type": "stream",
          "name": "stdout",
          "text": [
            "--------------------------------------------- Result 59 ---------------------------------------------\n",
            "[[1 (61%)]] --> [[0 (50%)]]\n",
            "\n",
            "OrderedDict({'text': '[[رآئعة]]. على [[الرغم]] من أنني غير [[راض]] عن [[لغة]] الترجمة، إلا أن الرواية [[بأحداثها]] وتسلسلها [[راقية]]. ولمست شغاف [[قلبي]] وفضول [[عقلي']]})\n",
            "\n",
            "OrderedDict({'text': '[[رآءعة]]. على [[ىلرغم]] من أنني غير [[ءراض]] عن [[لة]] الترجمة، إلا أن الرواية [[بأحذاثها]] وتسلسلها [[راقظية]]. ولمست شغاف [[قلبت]] وفضول [[عكلي']]})\n",
            "\n",
            "\n"
          ]
        },
        {
          "output_type": "stream",
          "name": "stderr",
          "text": [
            "[Succeeded / Failed / Skipped / Total] 38 / 4 / 18 / 60:  60%|██████    | 60/100 [01:02<00:41,  1.05s/it]"
          ]
        },
        {
          "output_type": "stream",
          "name": "stdout",
          "text": [
            "--------------------------------------------- Result 60 ---------------------------------------------\n",
            "[[1 (51%)]] --> [[0 (51%)]]\n",
            "\n",
            "OrderedDict({'text': 'جيد. نظيف وموقعه ممتاز. النت بمقابللا يوجد به مطعم وانما كوفي [[شوب]] متواضعأغلب النزلاء من الجاليه [[الهنديه]] وتعرفون الهنود ما شاء الله قمة الازعاج'})\n",
            "\n",
            "OrderedDict({'text': 'جيد. نظيف وموقعه ممتاز. النت بمقابللا يوجد به مطعم وانما كوفي [[سوب]] متواضعأغلب النزلاء من الجاليه [[اكهنديه]] وتعرفون الهنود ما شاء الله قمة الازعاج'})\n",
            "\n",
            "\n"
          ]
        },
        {
          "output_type": "stream",
          "name": "stderr",
          "text": [
            "\r[Succeeded / Failed / Skipped / Total] 39 / 4 / 18 / 61:  61%|██████    | 61/100 [01:03<00:40,  1.05s/it]"
          ]
        },
        {
          "output_type": "stream",
          "name": "stdout",
          "text": [
            "--------------------------------------------- Result 61 ---------------------------------------------\n",
            "[[0 (62%)]] --> [[1 (51%)]]\n",
            "\n",
            "OrderedDict({'text': '[[اسوء]] فندق نزلت [[فيه]] . [[لم]] يعجبني اي شئ نهائيا. قمة القذارة في الموكيت وكرسي الحمام غير نظيف وطلبت نعال الحمام وانتظرت [[خدمة]] [[الغرف]] ولم يحضروها ونزلت وطلبتها منهم مرة اخرى ومكان [[الفندق]] سيئ جدا ومزدحم ولا يستحق [[اربع]] [[نجوم]] حده نجمتين وكثيرة عليه'})\n",
            "\n",
            "OrderedDict({'text': '[[حاسوء]] فندق نزلت [[يه]] . [[ام]] يعجبني اي شئ نهائيا. قمة القذارة في الموكيت وكرسي الحمام غير نظيف وطلبت نعال الحمام وانتظرت [[خدنة]] [[الرف]] ولم يحضروها ونزلت وطلبتها منهم مرة اخرى ومكان [[الفنق]] سيئ جدا ومزدحم ولا يستحق [[ازبع]] [[نجوهم]] حده نجمتين وكثيرة عليه'})\n",
            "\n",
            "\n"
          ]
        },
        {
          "output_type": "stream",
          "name": "stderr",
          "text": [
            "\r[Succeeded / Failed / Skipped / Total] 40 / 4 / 18 / 62:  62%|██████▏   | 62/100 [01:04<00:39,  1.04s/it]"
          ]
        },
        {
          "output_type": "stream",
          "name": "stdout",
          "text": [
            "--------------------------------------------- Result 62 ---------------------------------------------\n",
            "[[1 (57%)]] --> [[0 (51%)]]\n",
            "\n",
            "OrderedDict({'text': 'استثنائي. [[تصميم]] مريح للغرف وترحيب [[مثالي]] ومجانية المواقف اضافت ميزة كبيرة للفندق. الوصول بالسيارة الي الفندق في غاية الصعوبة وعدم وضوح مدخل الفندق [[في]] ظل الاصلاحات حول الحرم.'})\n",
            "\n",
            "OrderedDict({'text': 'استثنائي. [[تضميم]] مريح للغرف وترحيب [[مثرلي]] ومجانية المواقف اضافت ميزة كبيرة للفندق. الوصول بالسيارة الي الفندق في غاية الصعوبة وعدم وضوح مدخل الفندق [[فى]] ظل الاصلاحات حول الحرم.'})\n",
            "\n",
            "\n"
          ]
        },
        {
          "output_type": "stream",
          "name": "stderr",
          "text": [
            "[Succeeded / Failed / Skipped / Total] 41 / 4 / 18 / 63:  63%|██████▎   | 63/100 [01:06<00:39,  1.06s/it]"
          ]
        },
        {
          "output_type": "stream",
          "name": "stdout",
          "text": [
            "--------------------------------------------- Result 63 ---------------------------------------------\n",
            "[[0 (59%)]] --> [[1 (51%)]]\n",
            "\n",
            "OrderedDict({'text': '[[رحلتي]] الى جورجيا فندق جميل والمكان جميل اجواء رائعه سهوله في [[التعامل]] ولكن قليل [[يعرفون]] [[اللغه]] الانكليزيه على [[كل]] [[حال]] فندق جميل وخدمه رائعه ولكن الانترنيت ضعيف المكان الفندق [[عيبه]] الوحيد [[بعيد]] عن المركز [[الساعه]] العاشره [[لاتوجد]] [[مطاعم]] ولا [[توجد]] محلات [[قريبه]] [[والمكان]] [[كئيب]] في [[الليل']]})\n",
            "\n",
            "OrderedDict({'text': '[[رحنتي]] الى جورجيا فندق جميل والمكان جميل اجواء رائعه سهوله في [[العامل]] ولكن قليل [[يعرءفون]] [[الظلغه]] الانكليزيه على [[ك]]ّ[[ل]] [[ححال]] فندق جميل وخدمه رائعه ولكن الانترنيت ضعيف المكان الفندق [[غيبه]] الوحيد [[تعيد]] عن المركز [[الساطغه]] العاشره [[لانوجر]] [[مطعم]] ولا [[ضتوجد]] محلات [[قريه]] [[المكان]] [[كئي]] في [[الليل'و]]})\n",
            "\n",
            "\n"
          ]
        },
        {
          "output_type": "stream",
          "name": "stderr",
          "text": [
            "[Succeeded / Failed / Skipped / Total] 42 / 4 / 19 / 65:  65%|██████▌   | 65/100 [01:11<00:38,  1.10s/it]"
          ]
        },
        {
          "output_type": "stream",
          "name": "stdout",
          "text": [
            "--------------------------------------------- Result 64 ---------------------------------------------\n",
            "[[0 (72%)]] --> [[1 (50%)]]\n",
            "\n",
            "OrderedDict({'text': '[[طاقم]] [[سيء]] [[جدا]] . [[لا]] شيء [[تقريبا]]. [[تعامل]] [[سيء]] جدا [[من]] موظف الاستقبال أ.ربيع ، يختار [[لك]] أسوأ [[غرفه]] [[على]] [[الرغم]] [[من]] توفر غرفه [[اخرى]] افضل [[في]] طابق [[اعلى]]، [[تسجيل]] [[دخول]] [[بعد]] [[مكوثنا]] في الاستقبال بما يقارب الساعه او اكثر ، والوقت كان اخر الليل [[والفندق]] شبه [[خال]] ، [[لا]] [[توجد]] غرفه [[بسرير]] [[مزدوج]] [[بل]] [[سريرين]] فردية ويتم ضمهما ، [[عدم]] مراعاة [[لأحوال]] المرضى وذوي الاحتياجات الخاصة أبدا، [[تجربتي]] الشخصية مع [[موظف]] [[الاستقبال]] اتمنى [[ان]] لا [[تتكرر]] أبدا، يوجد شخص [[في]] [[الاستقبال]] [[يدعى]] أ.النفيعي أخلاقه راقيه [[جدا]] لكنه [[لا]] يملك الصلاحية'})\n",
            "\n",
            "OrderedDict({'text': '[[طقم]] [[سيءآ]] [[حدا]] . [[لار]] شيء [[اقريبا]]. [[نعامل]] [[سي]] جدا [[ءمن]] موظف الاستقبال أ.ربيع ، يختار [[لدك]] أسوأ [[غرفة]] [[علي]] [[الحرغم]] [[كن]] توفر غرفه [[اخى]] افضل [[ف]] طابق [[اعلي]]، [[تسجيا]] [[دخل]] [[بد]] [[كوثنا]] في الاستقبال بما يقارب الساعه او اكثر ، والوقت كان اخر الليل [[والفندةق]] شبه [[عال]] ، [[ألا]] [[توج]] غرفه [[بسريتر]] [[مزأدوج]] [[بلع]] [[سريكرين]] فردية ويتم ضمهما ، [[عدل]] مراعاة [[لأحزال]] المرضى وذوي الاحتياجات الخاصة أبدا، [[ثتجربتي]] الشخصية مع [[موظق]] [[الاستقبل]] اتمنى [[ات]] لا [[تطتكرر]] أبدا، يوجد شخص [[فتي]] [[الاستقبل]] [[يدع]] أ.النفيعي أخلاقه راقيه [[حدا]] لكنه [[لاط]] يملك الصلاحية'})\n",
            "\n",
            "\n",
            "--------------------------------------------- Result 65 ---------------------------------------------\n",
            "[[0 (58%)]] --> [[[SKIPPED]]]\n",
            "\n",
            "OrderedDict({'text': 'جيد. الموقع والخدمة الالكترونية داخل الغرفه مثل التحكم بالمكيف والانوار والستارة عن طريق لوحة باللمس بجانب السرير ... الافطار ممتاز ومتنوع. المواقف ضيقه نوعا ما ... الموظفين كسولين نوعا ما'})\n",
            "\n",
            "\n"
          ]
        },
        {
          "output_type": "stream",
          "name": "stderr",
          "text": [
            "[Succeeded / Failed / Skipped / Total] 42 / 5 / 19 / 66:  66%|██████▌   | 66/100 [01:12<00:37,  1.10s/it]"
          ]
        },
        {
          "output_type": "stream",
          "name": "stdout",
          "text": [
            "--------------------------------------------- Result 66 ---------------------------------------------\n",
            "[[1 (64%)]] --> [[[FAILED]]]\n",
            "\n",
            "OrderedDict({'text': 'نهاية غير متوقعة . عن ذوي الاحتياجات الخاصة. رواية تحمل رسالة. ممتازة جدا الرواية'})\n",
            "\n",
            "\n"
          ]
        },
        {
          "output_type": "stream",
          "name": "stderr",
          "text": [
            "\r[Succeeded / Failed / Skipped / Total] 43 / 5 / 19 / 67:  67%|██████▋   | 67/100 [01:13<00:36,  1.09s/it]"
          ]
        },
        {
          "output_type": "stream",
          "name": "stdout",
          "text": [
            "--------------------------------------------- Result 67 ---------------------------------------------\n",
            "[[1 (50%)]] --> [[0 (51%)]]\n",
            "\n",
            "OrderedDict({'text': 'الكتاب كما يقال بالعامي دسم . تكوين المفكر ، كتاب يجد فيه [[المبتدئ]] قليلا من الصعوبة .لكنه منطقي واقعي .يورد أمثلة كثيرة حتى تتضح الفكرة التي يريدها ، الكتاب جميل ..اعتقد أني عندما قرأته للمرة الأولى وجدت صعوبة لو قرأته مرة أخرى سيكون أسهل وأوضح لما كان يقصده الكاتب '})\n",
            "\n",
            "OrderedDict({'text': 'الكتاب كما يقال بالعامي دسم . تكوين المفكر ، كتاب يجد فيه [[الكبتدئ]] قليلا من الصعوبة .لكنه منطقي واقعي .يورد أمثلة كثيرة حتى تتضح الفكرة التي يريدها ، الكتاب جميل ..اعتقد أني عندما قرأته للمرة الأولى وجدت صعوبة لو قرأته مرة أخرى سيكون أسهل وأوضح لما كان يقصده الكاتب '})\n",
            "\n",
            "\n"
          ]
        },
        {
          "output_type": "stream",
          "name": "stderr",
          "text": [
            "\r[Succeeded / Failed / Skipped / Total] 44 / 5 / 19 / 68:  68%|██████▊   | 68/100 [01:14<00:35,  1.10s/it]"
          ]
        },
        {
          "output_type": "stream",
          "name": "stdout",
          "text": [
            "--------------------------------------------- Result 68 ---------------------------------------------\n",
            "[[0 (53%)]] --> [[1 (50%)]]\n",
            "\n",
            "OrderedDict({'text': 'و أنا أغلق [[الرواية]] تسألت هل كاتبها هو نفسه أيمن العتوم الذي أبدع يسمعون حسيسها ؟ و لولا اللغة المميزة و الأسلوب الباهر لقلت حاشا أن يكون هو.. أسلوب الفلاش باك المستعمل منذ بداية [[الرواية]] و الى حدود الصفحة السابعة و الستون جعلني أفكر عدة مرات في إغلاقها و عدم إنمامها كما أن ذلك الاسهاب و المبالغة في ذكر تفاصيل التفاصيل يولد إحساسا بالرتابة و الملل فأضطر للقفز على عشرات السطور دفعا لرغبة تركها مجددا...يقال أن لكل جواد كبوة سأعتبر أن نفر من الجن هي كبوة العتوم أتمنى أن أقرأ له مستقبلا شيئا أعظم من هذا ففي النهاية آآسف أن تذهب تلك اللغة البليغة و الأسلوب المميز هدرا.. سأعطيها نجمتين نجمة للغة و الاسلوب الجميلين و نجمة للغلاف [[الانيق']]})\n",
            "\n",
            "OrderedDict({'text': 'و أنا أغلق [[الروايه]] تسألت هل كاتبها هو نفسه أيمن العتوم الذي أبدع يسمعون حسيسها ؟ و لولا اللغة المميزة و الأسلوب الباهر لقلت حاشا أن يكون هو.. أسلوب الفلاش باك المستعمل منذ بداية [[ارواية]] و الى حدود الصفحة السابعة و الستون جعلني أفكر عدة مرات في إغلاقها و عدم إنمامها كما أن ذلك الاسهاب و المبالغة في ذكر تفاصيل التفاصيل يولد إحساسا بالرتابة و الملل فأضطر للقفز على عشرات السطور دفعا لرغبة تركها مجددا...يقال أن لكل جواد كبوة سأعتبر أن نفر من الجن هي كبوة العتوم أتمنى أن أقرأ له مستقبلا شيئا أعظم من هذا ففي النهاية آآسف أن تذهب تلك اللغة البليغة و الأسلوب المميز هدرا.. سأعطيها نجمتين نجمة للغة و الاسلوب الجميلين و نجمة للغلاف [[الابيق']]})\n",
            "\n",
            "\n"
          ]
        },
        {
          "output_type": "stream",
          "name": "stderr",
          "text": [
            "[Succeeded / Failed / Skipped / Total] 45 / 5 / 19 / 69:  69%|██████▉   | 69/100 [01:17<00:34,  1.12s/it]"
          ]
        },
        {
          "output_type": "stream",
          "name": "stdout",
          "text": [
            "--------------------------------------------- Result 69 ---------------------------------------------\n",
            "[[1 (56%)]] --> [[0 (51%)]]\n",
            "\n",
            "OrderedDict({'text': '[[شوف]] ... اتألم ... اقبل. .. [[سامح]] نفسك والآخرين ... ابدأ من جديد. [[فالحب]] الحقيقي هو أنت. [[والشفاء]] الحقيقي [[لا]] يأتي إلا من داخلك . الكتاب يشرح [[المعاني]] النفسية [[الدقيقة]] بأسلوب مبسط جدا وبالعامية [[المصرية]]. لتصل للقارئ بسهولة ويسر. أنصح بقراءة هذا [[الكتاب]] بشدة ليس فقط لمن [[يعاني]] [[من]] مرض نفسي ولكن [[لكل]] [[إنسان]] [[يسعى]] للوصول إلى النضوج والوعي النفسي. والحقيقة أننا جميعا نحتاج لرحلة صادقة مع النفس تحت ارشاد متخصصين في المجال النفسي وبواسطة [[كتب]] توصل [[المعاني]] النفسية العميقة بسهولة كهذا الكتاب [[الرائع']]})\n",
            "\n",
            "OrderedDict({'text': '[[سوف]] ... اتألم ... اقبل. .. [[سمح]] نفسك والآخرين ... ابدأ من جديد. [[فالحءب]] الحقيقي هو أنت. [[والشاء]] الحقيقي [[لاص]] يأتي إلا من داخلك . الكتاب يشرح [[المغاني]] النفسية [[ألدقيقة]] بأسلوب مبسط جدا وبالعامية [[اللصرية]]. لتصل للقارئ بسهولة ويسر. أنصح بقراءة هذا [[الكتا]] بشدة ليس فقط لمن [[ذيعاني]] [[مةن]] مرض نفسي ولكن [[الكل]] [[إنساب]] [[سعى]] للوصول إلى النضوج والوعي النفسي. والحقيقة أننا جميعا نحتاج لرحلة صادقة مع النفس تحت ارشاد متخصصين في المجال النفسي وبواسطة [[تب]] توصل [[انمعاني]] النفسية العميقة بسهولة كهذا الكتاب [[للرائع']]})\n",
            "\n",
            "\n"
          ]
        },
        {
          "output_type": "stream",
          "name": "stderr",
          "text": [
            "\r[Succeeded / Failed / Skipped / Total] 45 / 6 / 19 / 70:  70%|███████   | 70/100 [01:17<00:33,  1.11s/it]"
          ]
        },
        {
          "output_type": "stream",
          "name": "stdout",
          "text": [
            "--------------------------------------------- Result 70 ---------------------------------------------\n",
            "[[1 (61%)]] --> [[[FAILED]]]\n",
            "\n",
            "OrderedDict({'text': 'جيد جدا. جيد في الاستقبال. سعر الوجبات مبالغ فيه'})\n",
            "\n",
            "\n"
          ]
        },
        {
          "output_type": "stream",
          "name": "stderr",
          "text": [
            "[Succeeded / Failed / Skipped / Total] 46 / 6 / 20 / 72:  72%|███████▏  | 72/100 [01:21<00:31,  1.13s/it]"
          ]
        },
        {
          "output_type": "stream",
          "name": "stdout",
          "text": [
            "--------------------------------------------- Result 71 ---------------------------------------------\n",
            "[[1 (61%)]] --> [[0 (50%)]]\n",
            "\n",
            "OrderedDict({'text': 'أحد أسباب [[نجاح]] [[الإمارات]] أن [[كل]] شخص في هذه الدولة [[يعشق]] [[ترابها]]. [[نحن]] [[نحب]] [[الإمارات]]. [[ومضات]] [[من]] [[فكر]]. نصائح [[لدولة]] [[تطمح]] [[بالصفوف]] الأولى و [[قائد]] [[لا]] يقبل [[إلا]] [[براحة]] شعبه وتوفر كل سب العيش [[الكريم]]. حكم [[و]] مواقف [[ونصائح]] [[لكل]] [[فرد]] [[فينا]] [[ليس]] [[بمجرد]] كتاب [[سياسي]] [[كما]] [[كنت]] [[اعتقد]]. يستحق [[القراءة]] مرات كثيرة'})\n",
            "\n",
            "OrderedDict({'text': 'أحد أسباب [[نجا]] [[ىلإمارات]] أن [[ك]] شخص في هذه الدولة [[يعصق]] [[ترابيا]]. [[نعن]] [[نغحب]] [[ىلإمارات]]. [[ومضا]] [[م]] [[فر]]. نصائح [[لدولزة]] [[يطمح]] [[بالصفوثف]] الأولى و [[كائد]] [[لآ]] يقبل [[إلل]] [[ثبراحة]] شعبه وتوفر كل سب العيش [[الكريل]]. حكم [[وو]] مواقف [[نونصائح]] [[لك]] [[فررد]] [[ينا]] [[ةليس]] [[بءمجرد]] كتاب [[سياخسي]] [[كا]] [[كآنت]] [[اظتقد]]. يستحق [[القراءت]] مرات كثيرة'})\n",
            "\n",
            "\n",
            "--------------------------------------------- Result 72 ---------------------------------------------\n",
            "[[1 (51%)]] --> [[[SKIPPED]]]\n",
            "\n",
            "OrderedDict({'text': 'كتاب يحتوى على حكم متنوعة ومختلفة ، وبلا شك فإتها مفيدة بشكل كبيير. ولكنى شعرت بالملل أثناء قرآءتى لهذا الكتاب ،وإن كانت هذه ليست التجربة الأولى لى مع المؤلف والكاتب. ولكن الكتاب هو دون المستوى المطلوب ،وفيه بعض التكرار لبعض الحكم. ولذلك قررت أن أقرأ كتاب جدد حياتك وذلك على أمل ويقين بإنى سوف أجده أفضل فى الطرح والأسلوب من هذا الكتاب'})\n",
            "\n",
            "\n"
          ]
        },
        {
          "output_type": "stream",
          "name": "stderr",
          "text": [
            "\r[Succeeded / Failed / Skipped / Total] 47 / 6 / 20 / 73:  73%|███████▎  | 73/100 [01:22<00:30,  1.12s/it]"
          ]
        },
        {
          "output_type": "stream",
          "name": "stdout",
          "text": [
            "--------------------------------------------- Result 73 ---------------------------------------------\n",
            "[[1 (51%)]] --> [[0 (50%)]]\n",
            "\n",
            "OrderedDict({'text': 'الفكرة برمتها هي ما دفعني لاقرأها. الجميل في الامر ان الرواية بقدر ما هي خيالية في البداية. اتت النهاية غير [[متوقعة]] كالعادة وصدقا اعتقد انني بدات احب اسلوب هذا الكاتب لذا ساقرا له المزيد'})\n",
            "\n",
            "OrderedDict({'text': 'الفكرة برمتها هي ما دفعني لاقرأها. الجميل في الامر ان الرواية بقدر ما هي خيالية في البداية. اتت النهاية غير [[خمتوقعة]] كالعادة وصدقا اعتقد انني بدات احب اسلوب هذا الكاتب لذا ساقرا له المزيد'})\n",
            "\n",
            "\n"
          ]
        },
        {
          "output_type": "stream",
          "name": "stderr",
          "text": [
            "\r[Succeeded / Failed / Skipped / Total] 48 / 6 / 20 / 74:  74%|███████▍  | 74/100 [01:27<00:30,  1.18s/it]"
          ]
        },
        {
          "output_type": "stream",
          "name": "stdout",
          "text": [
            "--------------------------------------------- Result 74 ---------------------------------------------\n",
            "[[0 (65%)]] --> [[1 (50%)]]\n",
            "\n",
            "OrderedDict({'text': '[[لن]] اكرر [[الإقامة]] [[في]] هذا [[الفندق]] انا وجميع افراد عائلتي . [[وجود]] مصلى كبير للرجال والنساء مطل على الحرم مجهز بعدد كبير من دورات المياه والنظافه وكل مايحتاجه المصلون فقط الوحيد الذي ترك بصمة [[جميلة]] [[في]] [[اقامتى]] مدير [[الروم]] سيرفس الأستاذ القدير اسلام شحاته الذي اهتم بي وتواصل معي حتى قبيل [[مغادرتي]] الفندق فجزاه [[الله]] كل خير اخلاق [[الموظفين]] ضيقة [[جدا]] وازعاج للضيف عند المغادره بكثرة الإحاطة [[بالمغادره]] [[وسرعتها]] يظهر ان موقع الفندق جعل الجميع [[لايهتم]] بالتعامل مع الضيف لأن الفندق مليان ولايهمهم رضيت ام لا فغيرك سيأتي يحتاجون الى دورات في كيفية ادارة فنادق نجومبإختصار هذا مرفق حكومي وليس فندق. [[عدم]] استجابة موظفي الفندق لطلباتنا فمجرد اغلاق السماعه ينسون طلبك تماما يعدون ولايفون وعلى رأسهم مدير الفندق الذي طلبت التواصل معه بخصوص بعض الأمور ووعدني ان يتصل بي لحلها ولم يتصل بل ولم يرد على كل محاولاتي للتواصل معه [[خدمات]] النت [[في]] [[الفندق]] سيئة [[جدا]] وكذلك [[القنوات]] التلفزيونيه وبصراحة عندما غادرنا [[الفندق]] عدنا الى الحياة من [[جديد']]})\n",
            "\n",
            "OrderedDict({'text': '[[لحن]] اكرر [[لإقامة]] [[خفي]] هذا [[الفند]] انا وجميع افراد عائلتي . [[وجهد]] مصلى كبير للرجال والنساء مطل على الحرم مجهز بعدد كبير من دورات المياه والنظافه وكل مايحتاجه المصلون فقط الوحيد الذي ترك بصمة [[جليلة]] [[فير]] [[اقاتى]] مدير [[الروءم]] سيرفس الأستاذ القدير اسلام شحاته الذي اهتم بي وتواصل معي حتى قبيل [[مغاررتي]] الفندق فجزاه [[الحله]] كل خير اخلاق [[اظلموظفين]] ضيقة [[حدا]] وازعاج للضيف عند المغادره بكثرة الإحاطة [[بامغادره]] [[وسرعتهى]] يظهر ان موقع الفندق جعل الجميع [[لحايهتم]] بالتعامل مع الضيف لأن الفندق مليان ولايهمهم رضيت ام لا فغيرك سيأتي يحتاجون الى دورات في كيفية ادارة فنادق نجومبإختصار هذا مرفق حكومي وليس فندق. [[فعدم]] استجابة موظفي الفندق لطلباتنا فمجرد اغلاق السماعه ينسون طلبك تماما يعدون ولايفون وعلى رأسهم مدير الفندق الذي طلبت التواصل معه بخصوص بعض الأمور ووعدني ان يتصل بي لحلها ولم يتصل بل ولم يرد على كل محاولاتي للتواصل معه [[خرمات]] النت [[فن]] [[الفنرق]] سيئة [[جدى]] وكذلك [[ىلقنوات]] التلفزيونيه وبصراحة عندما غادرنا [[الفنرق]] عدنا الى الحياة من [[جدتد']]})\n",
            "\n",
            "\n"
          ]
        },
        {
          "output_type": "stream",
          "name": "stderr",
          "text": [
            "[Succeeded / Failed / Skipped / Total] 49 / 6 / 20 / 75:  75%|███████▌  | 75/100 [01:28<00:29,  1.18s/it]"
          ]
        },
        {
          "output_type": "stream",
          "name": "stdout",
          "text": [
            "--------------------------------------------- Result 75 ---------------------------------------------\n",
            "[[1 (52%)]] --> [[0 (50%)]]\n",
            "\n",
            "OrderedDict({'text': 'كما قال آينشتاين نحن سجناء حواسنا المحددة ولا شئ يبدو [[واقعيا]] كما تبصره [[حواسنا]] فلا الألوان هي ذاتها الألوان ولا النجوم هي ذاتها النجوم.. السلاسة في شرح النظرية [[النسبية]] [[أعجبتني]] كثيرا وجعلتني أتفهم معنى المكان والزمان [[والكتلة]] ونسبيتهم كما يجب . تسلسل الأفكار جدا رائع من بداية نظرية الكم لبلانك وحتى الختام في البعد الرابع مع وجود الدليل الواضح والمعقول . الكتاب يشد قارئه جدا وكأنه رواية وليس حقائق علمية أخذت تفتح [[بعقولنا]] إلى جادة كشف الألغاز في تفسير المبهم والمخطوء .. أنصح بقراءة الكتاب'})\n",
            "\n",
            "OrderedDict({'text': 'كما قال آينشتاين نحن سجناء حواسنا المحددة ولا شئ يبدو [[واقذعيا]] كما تبصره [[حةواسنا]] فلا الألوان هي ذاتها الألوان ولا النجوم هي ذاتها النجوم.. السلاسة في شرح النظرية [[البسبية]] [[أخجبتني]] كثيرا وجعلتني أتفهم معنى المكان والزمان [[هالكتلة]] ونسبيتهم كما يجب . تسلسل الأفكار جدا رائع من بداية نظرية الكم لبلانك وحتى الختام في البعد الرابع مع وجود الدليل الواضح والمعقول . الكتاب يشد قارئه جدا وكأنه رواية وليس حقائق علمية أخذت تفتح [[بعةقولنا]] إلى جادة كشف الألغاز في تفسير المبهم والمخطوء .. أنصح بقراءة الكتاب'})\n",
            "\n",
            "\n"
          ]
        },
        {
          "output_type": "stream",
          "name": "stderr",
          "text": [
            "[Succeeded / Failed / Skipped / Total] 50 / 6 / 21 / 77:  77%|███████▋  | 77/100 [01:29<00:26,  1.16s/it]"
          ]
        },
        {
          "output_type": "stream",
          "name": "stdout",
          "text": [
            "--------------------------------------------- Result 76 ---------------------------------------------\n",
            "[[1 (57%)]] --> [[0 (50%)]]\n",
            "\n",
            "OrderedDict({'text': '[[طمأنينه]] للذين لديهم ابناء . حسن الاستقبال [[والضيافةالتعاون]] والتساهل من قبل الاستقبالالتعاون والابتسامة من قبل الروم سبرفسملاصق لمول الامارات وبالتالي يجعل لديك [[طمأنينه]] للذين لديهم ابناءتواجد جميع احتياجاتك دون عناء. وجود صيانه في الفندق مما يسبب [[لك]] بعض الازعاج من وقت لأخر لكن لا يمنع من الراحة [[العامة']]})\n",
            "\n",
            "OrderedDict({'text': '[[طمأقنينه]] للذين لديهم ابناء . حسن الاستقبال [[هالضيافةالتعاون]] والتساهل من قبل الاستقبالالتعاون والابتسامة من قبل الروم سبرفسملاصق لمول الامارات وبالتالي يجعل لديك [[مأنينه]] للذين لديهم ابناءتواجد جميع احتياجاتك دون عناء. وجود صيانه في الفندق مما يسبب [[ىلك]] بعض الازعاج من وقت لأخر لكن لا يمنع من الراحة [[ىلعامة']]})\n",
            "\n",
            "\n",
            "--------------------------------------------- Result 77 ---------------------------------------------\n",
            "[[1 (51%)]] --> [[[SKIPPED]]]\n",
            "\n",
            "OrderedDict({'text': 'عندما يطلب مني مواجهة الدنيا بأحاديثي وتقاريري، سوف أعلن علي الملأ رأيي بصراحة في كل هذا الذي حدث .. سوف أقول للدنيا : إني بعد ثلثمائة عام وجدت كل شئ قد تغير إلا الخوف من الكلمة، والانزعاج من الرأي . مسرحية تنبؤية كتبها الحكيم عام ، هدف من خلالها إلي وضع تصوراته عن عالم الغد .. ما هو شكل العالم في الأعوام والقرون القادمة ؟ ... وكيف يمكن أن يصير العالم إلي صورة أخري مختلفة تماما عن صورة العالم اليوم، بسبب التقدم المطرد في العلوم والتكنولوجيا ونظم ووسائل الاتصال الحديثة والمتطورة ؟ ... أسئلة كثيرة مثل هذه وغيرها وضع الحكيم إجاباتها من خلال هذا العمل .. ورغم أنه لم يمض منذ كتابة هذه المسرحية وحتي اليوم أكثر من نحو ستين عاما، ومعني ذلك أنه مازال هناك نحو مائتين وأربعين عاما حتي نبلغ الفترة التي وضع فيها الحكيم تصوراته عن العالم .. إلا أني مازلت أري أنه قد بالغ في تقدير المستقبل والتنبؤ به، مبالغة مفرطة .. رؤيته أيضا لشكل الكواكب الأخري والحياة عليها والفكرة الخيالية، في ظني، عن الإنسان الذي يعيش باشارات كهربائية علي سطح الكواكب الأخري البعيدة عن الأرض وبدون دورة دموية أو جهاز تنفسي أو قلب ينبض، هي رؤية غاية في المبالغة والتخيل، لا أعتقد أنها ستجد طريقها يوما ما إلي التحقق علي أرض الواقع .. رغم ذلك يمكن النظر إلي هذه التنبؤات والتخيلات المفترضة كنوع من الاجتهاد ونوع من قراءة المستقبل من خلال معطيات الحاضر شديدة التغير والتبدل بفعل التطور'})\n",
            "\n",
            "\n"
          ]
        },
        {
          "output_type": "stream",
          "name": "stderr",
          "text": [
            "[Succeeded / Failed / Skipped / Total] 51 / 6 / 21 / 78:  78%|███████▊  | 78/100 [01:31<00:25,  1.18s/it]"
          ]
        },
        {
          "output_type": "stream",
          "name": "stdout",
          "text": [
            "--------------------------------------------- Result 78 ---------------------------------------------\n",
            "[[1 (57%)]] --> [[0 (50%)]]\n",
            "\n",
            "OrderedDict({'text': 'الجارة [[وانت]] اسمك [[إيه]]؟ أجملهم [[إطلاقا]]. [[خبرة]] [[النهاية]] [[وصفاء]] [[البداية]] وتشابه [[ما]] [[بالوسط]]، [[بين]] [[عجوز]] يقبل [[الحياة]] [[وطفل]] يمتلكها. [[رائعة]].. [[صدفة]] أن أول القصص [[الست]] هنا عن طفل وآخرها [[عن]] [[عجوز]] [[بالثمانين]] [[من]] [[العمر]]؟. أيا، أحببت [[الكتاب']]})\n",
            "\n",
            "OrderedDict({'text': 'الجارة [[وات]] اسمك [[إنه]]؟ أجملهم [[إلاقا]]. [[خبإرة]] [[النهىية]] [[وىصفاء]] [[البدااية]] وتشابه [[مىا]] [[بالودط]]، [[تين]] [[عجز]] يقبل [[اةلحياة]] [[وطفلز]] يمتلكها. [[رائحة]].. [[صادفة]] أن أول القصص [[لست]] هنا عن طفل وآخرها [[عنو]] [[حعجوز]] [[نالثمانين]] [[مظن]] [[العلر]]؟. أيا، أحببت [[ىالكتاب']]})\n",
            "\n",
            "\n"
          ]
        },
        {
          "output_type": "stream",
          "name": "stderr",
          "text": [
            "\r[Succeeded / Failed / Skipped / Total] 52 / 6 / 21 / 79:  79%|███████▉  | 79/100 [01:33<00:24,  1.18s/it]"
          ]
        },
        {
          "output_type": "stream",
          "name": "stdout",
          "text": [
            "--------------------------------------------- Result 79 ---------------------------------------------\n",
            "[[0 (52%)]] --> [[1 (50%)]]\n",
            "\n",
            "OrderedDict({'text': '[[كنت]] أتوقع أن يكون [[الكتاب]] أجمل وأمتع، الكاتب لديه حس قصصي [[جميل]]، [[لكن]] طريقة طرح القصص فيه نوع تفصيل دون كبير تشويق، ففي الغالب القصة عاديه لكن التهويل القصصي [[المبالغ]] فيه أفقد القصص سلاستها. أظن [[أن]] الكاتب لديه قدرة على انتاج مادة أجمل وأرقى ولكن لعله استعجل في [[إخراج]] هذا الكتاب'})\n",
            "\n",
            "OrderedDict({'text': '[[كنتز]] أتوقع أن يكون [[التاب]] أجمل وأمتع، الكاتب لديه حس قصصي [[جمين]]، [[لهكن]] طريقة طرح القصص فيه نوع تفصيل دون كبير تشويق، ففي الغالب القصة عاديه لكن التهويل القصصي [[المالغ]] فيه أفقد القصص سلاستها. أظن [[ضأن]] الكاتب لديه قدرة على انتاج مادة أجمل وأرقى ولكن لعله استعجل في [[إختراج]] هذا الكتاب'})\n",
            "\n",
            "\n"
          ]
        },
        {
          "output_type": "stream",
          "name": "stderr",
          "text": [
            "\r[Succeeded / Failed / Skipped / Total] 53 / 6 / 21 / 80:  80%|████████  | 80/100 [01:35<00:23,  1.19s/it]"
          ]
        },
        {
          "output_type": "stream",
          "name": "stdout",
          "text": [
            "--------------------------------------------- Result 80 ---------------------------------------------\n",
            "[[0 (66%)]] --> [[1 (50%)]]\n",
            "\n",
            "OrderedDict({'text': '[[ضعيف]]. [[الغرقة]] [[كانت]] [[على]] درجة عالية من النظافة ولكن كانت كمية الصابون والفاين قليلة [[جداااوكذلك]] [[الصالة]] لا تحتوى على سجادة ولا موكيت غرفة النوم الستارة سيئة وغير مناسبة اطلاقا وكذلك الازعاج وكأن السكان معي [[بالغرفة]]. [[موظف]] [[الاستقبال]] كان سعودي لا يحمل ادنى مقومات احترام النزيل حيث أنني جلست معه في [[جدال]] حول ان يتكرم لي بمقابلة [[المدير]] ولكنه يقول لا يدري اين هو ويتكلم معي وهو جالس وحاط رجل على رجل والله انني لم ارى مثل هذا الموقف الا في [[فندق]] رمادا بالهدى بالطائف فهو كان سعودي ولم يكن يحترم النزيل وشكرا'})\n",
            "\n",
            "OrderedDict({'text': '[[ضعيشف]]. [[الغزقة]] [[انت]] [[علي]] درجة عالية من النظافة ولكن كانت كمية الصابون والفاين قليلة [[جدىااوكذلك]] [[لصالة]] لا تحتوى على سجادة ولا موكيت غرفة النوم الستارة سيئة وغير مناسبة اطلاقا وكذلك الازعاج وكأن السكان معي [[بالغرفضة]]. [[مظف]] [[الاسبقبال]] كان سعودي لا يحمل ادنى مقومات احترام النزيل حيث أنني جلست معه في [[لجدال]] حول ان يتكرم لي بمقابلة [[المدظير]] ولكنه يقول لا يدري اين هو ويتكلم معي وهو جالس وحاط رجل على رجل والله انني لم ارى مثل هذا الموقف الا في [[فدق]] رمادا بالهدى بالطائف فهو كان سعودي ولم يكن يحترم النزيل وشكرا'})\n",
            "\n",
            "\n"
          ]
        },
        {
          "output_type": "stream",
          "name": "stderr",
          "text": [
            "[Succeeded / Failed / Skipped / Total] 54 / 6 / 21 / 81:  81%|████████  | 81/100 [01:36<00:22,  1.19s/it]"
          ]
        },
        {
          "output_type": "stream",
          "name": "stdout",
          "text": [
            "--------------------------------------------- Result 81 ---------------------------------------------\n",
            "[[0 (62%)]] --> [[1 (50%)]]\n",
            "\n",
            "OrderedDict({'text': '[[ضعيف]] [[جدا]]. . خريطة الموقع غير صحيحة، ولم يتم تحديثها من [[قبلهم]]. سوء [[الاستقبال]] والخدمات. [[المطعم]] [[سيء]] [[ولم]] يشمل العرض وجبات [[لائقة]]. موقع المنتجع بعيد جدا. [[رداءة]] الأثاث. دورات المياة لا تليق باسم وقيمة المنتجع'})\n",
            "\n",
            "OrderedDict({'text': '[[ضعيلف]] [[جا]]. . خريطة الموقع غير صحيحة، ولم يتم تحديثها من [[قتلهم]]. سوء [[الاستقال]] والخدمات. [[الفمطعم]] [[يء]] [[وكم]] يشمل العرض وجبات [[للئقة]]. موقع المنتجع بعيد جدا. [[رداءأة]] الأثاث. دورات المياة لا تليق باسم وقيمة المنتجع'})\n",
            "\n",
            "\n"
          ]
        },
        {
          "output_type": "stream",
          "name": "stderr",
          "text": [
            "\r[Succeeded / Failed / Skipped / Total] 55 / 6 / 21 / 82:  82%|████████▏ | 82/100 [01:38<00:21,  1.20s/it]"
          ]
        },
        {
          "output_type": "stream",
          "name": "stdout",
          "text": [
            "--------------------------------------------- Result 82 ---------------------------------------------\n",
            "[[0 (69%)]] --> [[1 (50%)]]\n",
            "\n",
            "OrderedDict({'text': '[[مقزز]] [[لقد]] [[حجزنا]] [[الفندق]] بسرعة أكثر [[من]] اللازم..... [[والموقع]] الالكتروني الذي استخدمناه للحصول [[على]] فكرة أعطانا صورا خاطئة تماما على أية حال... [[الغرفة]] كانت [[قذرة]] لا [[سيما]] الأسرة الوسائد كانت مقرفة أثناء الليل حاولت حقا النوم وقوفا بقدر الإمكان حتى لا ألمس الوسائد أو [[الملاءات]] بفمي ما هذا الكابوس الحمام... حسنا، [[لم]] آخذ أي دش في هذين اليومين... الإفطار كان لا بأس به حتى لو بدت الحبوب قديمة نوعا ما لم أجرؤ على تجربتها . صدقوني، تجنبوه'})\n",
            "\n",
            "OrderedDict({'text': '[[مقسز]] [[لق]] [[حخزنا]] [[الفنرق]] بسرعة أكثر [[مب]] اللازم..... [[والمتوقع]] الالكتروني الذي استخدمناه للحصول [[عيلى]] فكرة أعطانا صورا خاطئة تماما على أية حال... [[الغرقة]] كانت [[ذرة]] لا [[سيم]] الأسرة الوسائد كانت مقرفة أثناء الليل حاولت حقا النوم وقوفا بقدر الإمكان حتى لا ألمس الوسائد أو [[المللءات]] بفمي ما هذا الكابوس الحمام... حسنا، [[ام]] آخذ أي دش في هذين اليومين... الإفطار كان لا بأس به حتى لو بدت الحبوب قديمة نوعا ما لم أجرؤ على تجربتها . صدقوني، تجنبوه'})\n",
            "\n",
            "\n"
          ]
        },
        {
          "output_type": "stream",
          "name": "stderr",
          "text": [
            "\r[Succeeded / Failed / Skipped / Total] 56 / 6 / 21 / 83:  83%|████████▎ | 83/100 [01:40<00:20,  1.21s/it]"
          ]
        },
        {
          "output_type": "stream",
          "name": "stdout",
          "text": [
            "--------------------------------------------- Result 83 ---------------------------------------------\n",
            "[[0 (55%)]] --> [[1 (50%)]]\n",
            "\n",
            "OrderedDict({'text': '[[الكتاب]] بطبيعته عبارة عن مذكرات يحاول من خلالها الكاتب توثيق مرحلة معينة في حياته .... لكني أتسائل لماذا يرغب شخص فينا بنشر ثوثيقه الشخصي لمرحلة خاصة به لعموم الناس ؟. الجواب لا يجب [[أن]] يعدو [[كون]] تلك التجربة فيها ماهو مميز وجدير بالإطلاع عليه وملهم للغير غالبا .... ما وجدته في هذه الورقات التي توثق سفر طالب سعودي لنيوزلندا بهدف دراسة اللغة الإنجليزية هو سردية لأحداث عادية متتالية، مع إسراف في التفاصيل التي ربما يحاول الكاتب من خلاله تعويض الضعف في متانة الأحداث .... بالإضافة إلى أن الكاتب في نفس السياق، أوجد شخصية وهمية أضفى عليها ما حاول به إثارة الكاتب في خضم محاولته [[لتوثيق]] تجربة واقعية . الكتاب لا يستحق القراءة برأيي مطلقا، وتمنيت لو أن الكاتب احتفظ بأوراقه له [[شخصيا']]})\n",
            "\n",
            "OrderedDict({'text': '[[الكااب]] بطبيعته عبارة عن مذكرات يحاول من خلالها الكاتب توثيق مرحلة معينة في حياته .... لكني أتسائل لماذا يرغب شخص فينا بنشر ثوثيقه الشخصي لمرحلة خاصة به لعموم الناس ؟. الجواب لا يجب [[أدن]] يعدو [[كوطن]] تلك التجربة فيها ماهو مميز وجدير بالإطلاع عليه وملهم للغير غالبا .... ما وجدته في هذه الورقات التي توثق سفر طالب سعودي لنيوزلندا بهدف دراسة اللغة الإنجليزية هو سردية لأحداث عادية متتالية، مع إسراف في التفاصيل التي ربما يحاول الكاتب من خلاله تعويض الضعف في متانة الأحداث .... بالإضافة إلى أن الكاتب في نفس السياق، أوجد شخصية وهمية أضفى عليها ما حاول به إثارة الكاتب في خضم محاولته [[لتوحيق]] تجربة واقعية . الكتاب لا يستحق القراءة برأيي مطلقا، وتمنيت لو أن الكاتب احتفظ بأوراقه له [[شخصيا'ث]]})\n",
            "\n",
            "\n"
          ]
        },
        {
          "output_type": "stream",
          "name": "stderr",
          "text": [
            "[Succeeded / Failed / Skipped / Total] 57 / 6 / 22 / 85:  85%|████████▌ | 85/100 [01:41<00:17,  1.19s/it]"
          ]
        },
        {
          "output_type": "stream",
          "name": "stdout",
          "text": [
            "--------------------------------------------- Result 84 ---------------------------------------------\n",
            "[[0 (50%)]] --> [[1 (52%)]]\n",
            "\n",
            "OrderedDict({'text': 'تتركه [[القصة]] ، ثانيا روعة اللغة و الدهشة التى يتركنى فيها جمالها.. الأثر لم أجده سوى فى بعضهم و لم يكن أثرا قويا، و اللغة عادية للغاية. هناك قصص مترجمة لغتها أبهرتنى أكثر'})\n",
            "\n",
            "OrderedDict({'text': 'تتركه [[القطة]] ، ثانيا روعة اللغة و الدهشة التى يتركنى فيها جمالها.. الأثر لم أجده سوى فى بعضهم و لم يكن أثرا قويا، و اللغة عادية للغاية. هناك قصص مترجمة لغتها أبهرتنى أكثر'})\n",
            "\n",
            "\n",
            "--------------------------------------------- Result 85 ---------------------------------------------\n",
            "[[1 (50%)]] --> [[[SKIPPED]]]\n",
            "\n",
            "OrderedDict({'text': 'أحمد الشقيري في كتابه رحلتي مع غاندي. لم يحاول إخفاء حقيقته و لم يسعى لتلميع شخصه أو إسمه بخلاف الكثير من الكتاب. فهو يسرد نقاط ضعفه بكل أريحية مقرونة ببعض السبل التي انتهجها بدوره في محاولة جادة لإصلاح نفسه. بداية الكتاب يتكون حقيقة من كتابين. أو من قسمين. يجمعهما بلاد الهند و الكاتب. فالقسم الأول يسرد حكم و مقولات لرجل من عظماء الهند مهاتما غاندي و تعليق المؤلف عليه و محاولة إسقاط حكمه و تأصيلها بالمواقف و الأحاديث النبوية. و القسم الثاني هو عبارة عن رحلة المؤلف لبلاد الهند و تجربته الخاصة هناك التي أحب أن يشارك القراء بها. في البداية الكتاب يحوي العديد من التأملات و الحكم الراقية التي خلص لها الكاتب بعد رحلته و قراءته لعدة كتب في الحكمة بحسب ما ذكر. و يمكننا أن نلمس فيه نبض الإنسان المتحرق على أمته و نفسه. لكن يجب علينا ألا نغفل بعض النقاط السلبية التي تعيب الكتاب و أزعجتني شخصيا. أولها. هو رداءة الترجمة لحكم غاندي المذكورة في القسم الأول من الكتاب. و التي تشعر مع كل كلمة تخطوها في قراءة الحكمة أنك تحاول القفز من مجرة لأخرى لتجد نفسك في كثير من الأحيان معلقا في كوكب اللافهم . النقطة الثانية. هو الإكثار من العبارات العامية في سياق الحديث. قد يعترض علي البعض فيقول :. لكنه موجها للشباب و هو يكتب بأبسط الأساليب . فأقول نعم أنا مع سهولة الأسلوب و اللفظ لكنني أرفض العامية. فالكتاب هو وعاء للفكر و الأدب. و علينا أن ننتقي أفضل ما لدينا لملئ هذا الوعاء و إلا فقد قيمته . و هناك الكثير من الكتب الشبابية إن صح التعبير نجحت و لاقت صداها عند جمهور غفير من القراء الشباب مع أنها مكتوبة بلغة قوية و أسلوب أدبي رصين . فالعامية ليست حجة لأحد. و بالنهاية. أظن لو أن الكاتب تأنى على كتابه أكثر من ذلك لخرج بقيمة لغوية و علمية أكبر. لكنه طبخه على عجل و قد يلاحظ أي قارئ مبتدئ ذلك . و قد اعتبر الشقيري أن انهائه لكتابه في أيام إنجازا . بينما أعتبره إجحافا لأنه لو تأنى عليه أكثر لخرج بصورة أقوى بكثيير كما أسلفت. و هنا أتساءل بدوري هل المال و الشهرة تصنع كل شيء ؟؟ . لأنني متأكد مليار بالمئة لو جاء أحدنا بكتاب الشقيري كما هو لأحد الناشرين و طلب أن ينشره له. لجاء الجواب بالرفض المطلق و لربما التقط الناشر أوراق الكتاب و رماها في وجهنا . و هنا نأتي لبيت القصيد و السؤال الهام. على أي أساس ينشر الناشرون الكتب ؟؟ و لماذا يجوز للمشاهير ما لا يجوز لغيرهم من العامية في الكتابة وعدم الإتيان بشيء جديد ؟؟ . و لماذا يجب أن يكون كل محاضر ناجح أو مفكر بارز كاتبا ناجحا ؟؟. فليس كل من حاضر بكاتب و ليس كل من أجاد بدعوته إلى الله بكاتب . بل ليس كل من كتب بكاتب . فلماذا إذا نصفق و نطبل لأي كتاب يصدر لأحد المشاهير و إن كان مثقلا بالركاكة و الأفكار الإعتيادية ؟ . لا أعلم هل هو مرض خاص بأمتنا أم أنه مستشري في جميع الامم. و أخير أحب أن أنوه أن كل ما ذكرته غير منطلق من كره لشخص الكاتب أو أفكاره. فالشقيري تمكن و بجدارة من صنع شيئا مختلفا بالفعل في مجال الإعلام الهادف و الخاطرة الفكرية النقادة. و لكنني هنا أتحدث عن الكتابة و ليس الإعلام . و أختم بهذا المثال البسيط. نجاح الطبيب في الجراحة لا يخوله بناء عمارة أو حتى إصلاح سيارة . فلكل مقام مقاله. و الله أعلم'})\n",
            "\n",
            "\n"
          ]
        },
        {
          "output_type": "stream",
          "name": "stderr",
          "text": [
            "\r[Succeeded / Failed / Skipped / Total] 58 / 6 / 22 / 86:  86%|████████▌ | 86/100 [01:43<00:16,  1.20s/it]"
          ]
        },
        {
          "output_type": "stream",
          "name": "stdout",
          "text": [
            "--------------------------------------------- Result 86 ---------------------------------------------\n",
            "[[1 (53%)]] --> [[0 (50%)]]\n",
            "\n",
            "OrderedDict({'text': 'رائع رائع رائع .. غريب أن شخصية مثل [[عبد]] الله [[البرغوثي]] لا يعرفها أو يعرف قصتها الكثير . فعلا لا [[بد]] من [[الجميع]] معرفتها .. ومن خلال هذه السيرة الذاتية أو [[الرواية]] أو أيا ما كان اسمه فإن المعلومات كاملة ستصل بسلاسة وسهولة للجميع .. فهو كتاب ذو لغة بسيطة والمعلومات تتدفق بشكل سريع.. بشكل عام هو كتاب ممتع جدا [[ومفيد]] جدا ومهم جدا لإعطاء الحماسة والتفاؤل للمرحلة القادمة'})\n",
            "\n",
            "OrderedDict({'text': 'رائع رائع رائع .. غريب أن شخصية مثل [[عب]] الله [[البرغهثي]] لا يعرفها أو يعرف قصتها الكثير . فعلا لا [[ببد]] من [[الخميع]] معرفتها .. ومن خلال هذه السيرة الذاتية أو [[الرواىة]] أو أيا ما كان اسمه فإن المعلومات كاملة ستصل بسلاسة وسهولة للجميع .. فهو كتاب ذو لغة بسيطة والمعلومات تتدفق بشكل سريع.. بشكل عام هو كتاب ممتع جدا [[ولفيد]] جدا ومهم جدا لإعطاء الحماسة والتفاؤل للمرحلة القادمة'})\n",
            "\n",
            "\n"
          ]
        },
        {
          "output_type": "stream",
          "name": "stderr",
          "text": [
            "[Succeeded / Failed / Skipped / Total] 59 / 6 / 23 / 88:  88%|████████▊ | 88/100 [01:43<00:14,  1.18s/it]"
          ]
        },
        {
          "output_type": "stream",
          "name": "stdout",
          "text": [
            "--------------------------------------------- Result 87 ---------------------------------------------\n",
            "[[0 (55%)]] --> [[1 (50%)]]\n",
            "\n",
            "OrderedDict({'text': 'مشكلة [[الرواية]] بأن كلها كانت عبارة عن أسئلة ننتقل من جزء لجزء بدون مايكون فيه أي مؤشر لإجابة معينه، بالإضافه الى كثرة الأسماء المتشابهة فصارت الأحداث متشابكة ... لكن طبعا تتميز [[روايات]] دكتور منذر بأنها غير مملة تندمج [[معها']]})\n",
            "\n",
            "OrderedDict({'text': 'مشكلة [[الروية]] بأن كلها كانت عبارة عن أسئلة ننتقل من جزء لجزء بدون مايكون فيه أي مؤشر لإجابة معينه، بالإضافه الى كثرة الأسماء المتشابهة فصارت الأحداث متشابكة ... لكن طبعا تتميز [[روىيات]] دكتور منذر بأنها غير مملة تندمج [[معةا']]})\n",
            "\n",
            "\n",
            "--------------------------------------------- Result 88 ---------------------------------------------\n",
            "[[1 (52%)]] --> [[[SKIPPED]]]\n",
            "\n",
            "OrderedDict({'text': 'مثل معظم روايات محمد صادق الروايه لم تبهرنى فلا يوجد محور محدد تدور حوله الاحداث و لكن الفكره جيده و النهايه مبتكره و لكن الاحداث رتيبه ان لم تكن ممله'})\n",
            "\n",
            "\n"
          ]
        },
        {
          "output_type": "stream",
          "name": "stderr",
          "text": [
            "\r[Succeeded / Failed / Skipped / Total] 60 / 6 / 23 / 89:  89%|████████▉ | 89/100 [01:44<00:12,  1.18s/it]"
          ]
        },
        {
          "output_type": "stream",
          "name": "stdout",
          "text": [
            "--------------------------------------------- Result 89 ---------------------------------------------\n",
            "[[1 (53%)]] --> [[0 (51%)]]\n",
            "\n",
            "OrderedDict({'text': 'خدمه ممتازة عودةالعصير [[العلب]] لان البودر غير صحي ونحن من عشاق هيلتون لونج بيتش الغردقة كمانشكر استأنف النظافة [[والمطعم]] والاستقبال وشك خاص جدا الأستار جوهرة [[نقترح]] [[لسيادتكم]] التنوع في أصناف الأكل لان معظم التركيز علي الفراخ وعودة الشاورما وجبات البيتي الشاطئ ونتمنا ان نطاف للقرية ألعاب اكوا ماءية'})\n",
            "\n",
            "OrderedDict({'text': 'خدمه ممتازة عودةالعصير [[انعلب]] لان البودر غير صحي ونحن من عشاق هيلتون لونج بيتش الغردقة كمانشكر استأنف النظافة [[واامطعم]] والاستقبال وشك خاص جدا الأستار جوهرة [[نقتر]] [[لسيادتمم]] التنوع في أصناف الأكل لان معظم التركيز علي الفراخ وعودة الشاورما وجبات البيتي الشاطئ ونتمنا ان نطاف للقرية ألعاب اكوا ماءية'})\n",
            "\n",
            "\n"
          ]
        },
        {
          "output_type": "stream",
          "name": "stderr",
          "text": [
            "[Succeeded / Failed / Skipped / Total] 61 / 6 / 23 / 90:  90%|█████████ | 90/100 [01:44<00:11,  1.17s/it]"
          ]
        },
        {
          "output_type": "stream",
          "name": "stdout",
          "text": [
            "--------------------------------------------- Result 90 ---------------------------------------------\n",
            "[[0 (50%)]] --> [[1 (56%)]]\n",
            "\n",
            "OrderedDict({'text': '[[رواية]] سيئة للغاية .......و لا أنصح أحد بإضاعة وقته الثمين فى قراءتها'})\n",
            "\n",
            "OrderedDict({'text': '[[روية]] سيئة للغاية .......و لا أنصح أحد بإضاعة وقته الثمين فى قراءتها'})\n",
            "\n",
            "\n"
          ]
        },
        {
          "output_type": "stream",
          "name": "stderr",
          "text": [
            "[Succeeded / Failed / Skipped / Total] 62 / 6 / 24 / 92:  92%|█████████▏| 92/100 [01:46<00:09,  1.15s/it]"
          ]
        },
        {
          "output_type": "stream",
          "name": "stdout",
          "text": [
            "--------------------------------------------- Result 91 ---------------------------------------------\n",
            "[[0 (53%)]] --> [[1 (50%)]]\n",
            "\n",
            "OrderedDict({'text': '[[الفكرة]] الاساسية رائعة فلا أحد يحلم أن يجد وظيفة براتب جيد لممارسة هواياته عدا ذلك. فهو من أسوأ ما قرأت. منذ بداية الكتاب وانا اعد الصفحات عدا تنازليا لاصبر نفسي انني قد اقتربت من النهاية. ذكر الكاتب تفاصيل الاشياء بصورة مملة والاحرى ان يترك مسافة لخيال القارئ. كل ما كتب في هذا الكتاب هو وصف تفاصيل التفاصيل للاماكن. اضف لذلك ان اللغة التي كتب بها سيئة والتشبيهات. اسوأ، لا ادري هل ذلك من الترجمة ام النص الاصلي بتلك الفظاعة ايضا. لا توجد قصة في [[الكتاب]] او رسالة واضحة او اي شيئ [[مفيد']]})\n",
            "\n",
            "OrderedDict({'text': '[[انفكرة]] الاساسية رائعة فلا أحد يحلم أن يجد وظيفة براتب جيد لممارسة هواياته عدا ذلك. فهو من أسوأ ما قرأت. منذ بداية الكتاب وانا اعد الصفحات عدا تنازليا لاصبر نفسي انني قد اقتربت من النهاية. ذكر الكاتب تفاصيل الاشياء بصورة مملة والاحرى ان يترك مسافة لخيال القارئ. كل ما كتب في هذا الكتاب هو وصف تفاصيل التفاصيل للاماكن. اضف لذلك ان اللغة التي كتب بها سيئة والتشبيهات. اسوأ، لا ادري هل ذلك من الترجمة ام النص الاصلي بتلك الفظاعة ايضا. لا توجد قصة في [[الكتىب]] او رسالة واضحة او اي شيئ [[مفيد'س]]})\n",
            "\n",
            "\n",
            "--------------------------------------------- Result 92 ---------------------------------------------\n",
            "[[0 (60%)]] --> [[[SKIPPED]]]\n",
            "\n",
            "OrderedDict({'text': 'ترفيه . مناسب جدا للعائله .. وقربه من المترو مع العلم أن الجهه المقابله أيضا فندق تابع لهم اسمه ياسات جلوريا .. بنفس المستوى تماما ..وهذا الفندق يوجد به مطعم عربي مفتوح دائما .. قربه من نخلة جميرا .. ومن مرسى دبي ..والفندق محافظ جدا ..ولفت اثناء دخولي باللوبي وجدت شاب يسكن بالفندق بصحبة فتاه ويريدون الدخول للغرفه ولكن امن الفندق يمنع الزيارات مطلقا ومنعهم ... الاسعار مبالغ بها نوعا ما .. حتى لو كانت بوقت الذروه والمواسم ..مهم جدا للي معه أطفال ان الفندق يقوم برفع السياج للبلكونه او الساكن يقوم باغلاق البلكونه اثناء تواجدهجو الاضاءه بالغرف هادئ'})\n",
            "\n",
            "\n"
          ]
        },
        {
          "output_type": "stream",
          "name": "stderr",
          "text": [
            "[Succeeded / Failed / Skipped / Total] 63 / 6 / 24 / 93:  93%|█████████▎| 93/100 [01:47<00:08,  1.15s/it]"
          ]
        },
        {
          "output_type": "stream",
          "name": "stdout",
          "text": [
            "--------------------------------------------- Result 93 ---------------------------------------------\n",
            "[[0 (62%)]] --> [[1 (51%)]]\n",
            "\n",
            "OrderedDict({'text': '[[أسوء]] [[تعامل]] [[واجهته]] في جميع رحلاتي . . [[لم]] يكن هناك أي خدمات مقدمة ... وعندما استفسرنا عن السبب اخبرونا إنه بسبب طريقة الحجز عن طريق بوكنج حيث [[لا]] يتوفر أي خدمات لمن حجز عن طريق بوكنج مواقع [[الغرف]] في اقل مكان [[في]] [[الفندق]] والسبب [[ان]] الحجز عن طريق بوكنج كما ذكر لنا'})\n",
            "\n",
            "OrderedDict({'text': '[[أدوء]] [[عامل]] [[واجوته]] في جميع رحلاتي . . [[حلم]] يكن هناك أي خدمات مقدمة ... وعندما استفسرنا عن السبب اخبرونا إنه بسبب طريقة الحجز عن طريق بوكنج حيث [[لان]] يتوفر أي خدمات لمن حجز عن طريق بوكنج مواقع [[الرف]] في اقل مكان [[غي]] [[الفندف]] والسبب [[انا]] الحجز عن طريق بوكنج كما ذكر لنا'})\n",
            "\n",
            "\n"
          ]
        },
        {
          "output_type": "stream",
          "name": "stderr",
          "text": [
            "\r[Succeeded / Failed / Skipped / Total] 64 / 6 / 24 / 94:  94%|█████████▍| 94/100 [01:48<00:06,  1.16s/it]"
          ]
        },
        {
          "output_type": "stream",
          "name": "stdout",
          "text": [
            "--------------------------------------------- Result 94 ---------------------------------------------\n",
            "[[0 (56%)]] --> [[1 (51%)]]\n",
            "\n",
            "OrderedDict({'text': '[[رواية]] جيدة لكنها [[تفتقر]] [[إلى]] الكثير من [[النواحي]] [[الأدبية]].. وأفضل ما يمكن أن توصف به هي [[أنها]] [[رواية]] عادية جدا.. عصام بطل الرواية طالب في كلية الطب مجتهد في دراسته وبار بوالدته .... فقير ماديا لكنه عزيز النفس وذو أخلاق عالية .. القصة عبارة عن صراع بين الخير والشر تنتهي نهاية حزينة باتنصار الخير على الشر... مع الأمل لمستقبل مشرق. أعجبتني القصة إلا أنها تميل كثيرا إلى المثالية في الأحداث والمواقف'})\n",
            "\n",
            "OrderedDict({'text': '[[راية]] جيدة لكنها [[تفنقر]] [[إلي]] الكثير من [[النواحءي]] [[الأبية]].. وأفضل ما يمكن أن توصف به هي [[أنهظا]] [[روية]] عادية جدا.. عصام بطل الرواية طالب في كلية الطب مجتهد في دراسته وبار بوالدته .... فقير ماديا لكنه عزيز النفس وذو أخلاق عالية .. القصة عبارة عن صراع بين الخير والشر تنتهي نهاية حزينة باتنصار الخير على الشر... مع الأمل لمستقبل مشرق. أعجبتني القصة إلا أنها تميل كثيرا إلى المثالية في الأحداث والمواقف'})\n",
            "\n",
            "\n"
          ]
        },
        {
          "output_type": "stream",
          "name": "stderr",
          "text": [
            "\r[Succeeded / Failed / Skipped / Total] 64 / 7 / 24 / 95:  95%|█████████▌| 95/100 [01:49<00:05,  1.16s/it]"
          ]
        },
        {
          "output_type": "stream",
          "name": "stdout",
          "text": [
            "--------------------------------------------- Result 95 ---------------------------------------------\n",
            "[[1 (67%)]] --> [[[FAILED]]]\n",
            "\n",
            "OrderedDict({'text': 'مناسب وممتاز خاصة للرجال . بعيد عن مداخل الحرم المخصصة للنساء'})\n",
            "\n",
            "\n"
          ]
        },
        {
          "output_type": "stream",
          "name": "stderr",
          "text": [
            "[Succeeded / Failed / Skipped / Total] 65 / 7 / 25 / 97:  97%|█████████▋| 97/100 [01:50<00:03,  1.14s/it]"
          ]
        },
        {
          "output_type": "stream",
          "name": "stdout",
          "text": [
            "--------------------------------------------- Result 96 ---------------------------------------------\n",
            "[[1 (54%)]] --> [[0 (50%)]]\n",
            "\n",
            "OrderedDict({'text': 'فكرة الكتاب موفقة، كما أن [[المؤلف]] وفق في عرضها وصياغتها، فجزاه الله [[كل]] خير. [[نحن]] [[بحاجة]] لمثل هذه [[الأفكار]] الإبداعية [[التي]] تعرض لسيرة الرسول [[بطريقة]] خارجة [[عن]] المألوف وتساهم في تقديم نماذج من حياته صلى الله عليه وسلم للقراء بطريقة مختلفة'})\n",
            "\n",
            "OrderedDict({'text': 'فكرة الكتاب موفقة، كما أن [[الملف]] وفق في عرضها وصياغتها، فجزاه الله [[كك]] خير. [[ثنحن]] [[بحاجت]] لمثل هذه [[عالأفكار]] الإبداعية [[للتي]] تعرض لسيرة الرسول [[بطريقه]] خارجة [[عةن]] المألوف وتساهم في تقديم نماذج من حياته صلى الله عليه وسلم للقراء بطريقة مختلفة'})\n",
            "\n",
            "\n",
            "--------------------------------------------- Result 97 ---------------------------------------------\n",
            "[[0 (51%)]] --> [[[SKIPPED]]]\n",
            "\n",
            "OrderedDict({'text': 'هذه مراجعة ربما بدت فوضوية..لكن الرواية تركت أفكاري مشتتة ومبعثرة..فاعذروني. مافائدة الروابط إذا لم تتآلف الأرواح . الحياة ليست إلا مقامرة تلعب لمرة واحدة،وأنا خسرتها .ليس لي أن ألعب جولة أخرى . الناس لا يحتاجون للدعم المالي والمادي من بعضهم ، بل للحب والاهتمام. كل إنسان يكفيه إنسان واحد على كل حال..لكن عندما لا يكون هذا الإنسان موجودا ... في هذا المساء فهمت أن الإنسان قد يرتبط بإنسان آخر أكثر من ارتباطه بالحياة. هل يمكن للحياة أن تكون قاسية بهذه الطريقة؟. أن يعيش المرء حياته كلها و لا يحيا منها إلا خمسة أشهر قصيرة ؟ ... كيف يمكن لهذه القسوة أن تنعكس على روح الإنسان فتجعله يقسوعلى نفسه هكذا. ويتوقف عن الحياة ويمنع قلبه من العطاء والمحبة عقوبةلها على ذنب لم ترتكبه. أعجز عن التعبير عما شعرته تجاه هذه الرواية العظيمة..تحفة أدبية فلسفية استطاعت الغوص حتى العمق في النفس البشرية وتحليلها ورسم الشخصيات بواقعية كبيرة. اكتفيت ببعض الاقتباسات من الرواية ولا أستطيع قول المزيد عن رواية جديدة من القلة التي لامست شغاف قلبي وحركت بحيرة روحي الساكنة ،فقذفت فيهاحجر الألم والحزن و حركت دوائر الذكرى فيها لتطفو على السطح خيبات وخيبات. مادونا الرقيقة..مادونا و روحها الشفافة ورائف الذي استطاع الحفاظ عليها من الألم..لم يستطع حماية روحه منه'})\n",
            "\n",
            "\n"
          ]
        },
        {
          "output_type": "stream",
          "name": "stderr",
          "text": [
            "\r[Succeeded / Failed / Skipped / Total] 66 / 7 / 25 / 98:  98%|█████████▊| 98/100 [01:52<00:02,  1.14s/it]"
          ]
        },
        {
          "output_type": "stream",
          "name": "stdout",
          "text": [
            "--------------------------------------------- Result 98 ---------------------------------------------\n",
            "[[1 (59%)]] --> [[0 (50%)]]\n",
            "\n",
            "OrderedDict({'text': 'الأحداث هنا اكتر [[بكتير]] من الجزء الأول [[والأسلوب]] [[احلى]] [[كمان]] ،،عجبنى [[خياله]] [[جدا]] فى [[عالم]] [[الجن]] بصورة [[مختلفة]] تماما [[عن]] المعروف مستنيين العائد وشكلها [[هتتأخر]] وهننسى الأحداث'})\n",
            "\n",
            "OrderedDict({'text': 'الأحداث هنا اكتر [[بغكتير]] من الجزء الأول [[والأسوب]] [[اذحلى]] [[كماآن]] ،،عجبنى [[خيالة]] [[ىجدا]] فى [[حالم]] [[ااجن]] بصورة [[مختلغة]] تماما [[ؤعن]] المعروف مستنيين العائد وشكلها [[ةتتأخر]] وهننسى الأحداث'})\n",
            "\n",
            "\n"
          ]
        },
        {
          "output_type": "stream",
          "name": "stderr",
          "text": [
            "[Succeeded / Failed / Skipped / Total] 67 / 7 / 26 / 100: 100%|██████████| 100/100 [01:53<00:00,  1.14s/it]"
          ]
        },
        {
          "output_type": "stream",
          "name": "stdout",
          "text": [
            "--------------------------------------------- Result 99 ---------------------------------------------\n",
            "[[0 (54%)]] --> [[1 (50%)]]\n",
            "\n",
            "OrderedDict({'text': 'احب القصص الكلاسيكية ذات الطابع الريفي. اسلوب الكتابة الترجمة كان جيدا ولكن الوصف كان فاخرا لايناسب القصة واحسست ان التعريب اطال القصة [[اكثر]] مما ينبغي لحد [[الملل]] وهي قراءة لاتناسب فصل الصيف. :/. هناك بعض الكتب التي اسجل ملاحاظات واقتباسات جميلة منعا لتسربها من ذاكرتي ومع ماجدولين او تحت ظلال الزيزفون هناك وصف لادوراد لايهرب من فكري. وضل يقلب عينيه في السماء كأنه منجم يفتش عن النجم السابع والسبعين بعد المائة والخمسة والعشرين مليون. عن جد؟. النهاية كانت جميلة جدا وتاثرت بها [[نوعا]] ما. اذا كنت تعرف القليل عن قصة الحب مابين استيفن وماجدولين كل ماعليك قرائته هو صفحة الى النهاية. نجمتان فقط لو لم تكن مطولة [[اكثر]] من [[اللازم]] لاعطيتها [[ثلاث]] [[نجمات']]})\n",
            "\n",
            "OrderedDict({'text': 'احب القصص الكلاسيكية ذات الطابع الريفي. اسلوب الكتابة الترجمة كان جيدا ولكن الوصف كان فاخرا لايناسب القصة واحسست ان التعريب اطال القصة [[اكر]] مما ينبغي لحد [[المكل]] وهي قراءة لاتناسب فصل الصيف. :/. هناك بعض الكتب التي اسجل ملاحاظات واقتباسات جميلة منعا لتسربها من ذاكرتي ومع ماجدولين او تحت ظلال الزيزفون هناك وصف لادوراد لايهرب من فكري. وضل يقلب عينيه في السماء كأنه منجم يفتش عن النجم السابع والسبعين بعد المائة والخمسة والعشرين مليون. عن جد؟. النهاية كانت جميلة جدا وتاثرت بها [[نوحا]] ما. اذا كنت تعرف القليل عن قصة الحب مابين استيفن وماجدولين كل ماعليك قرائته هو صفحة الى النهاية. نجمتان فقط لو لم تكن مطولة [[اكثا]] من [[اللاذم]] لاعطيتها [[لاث]] [[نجمات'إ]]})\n",
            "\n",
            "\n",
            "--------------------------------------------- Result 100 ---------------------------------------------\n",
            "[[0 (51%)]] --> [[[SKIPPED]]]\n",
            "\n",
            "OrderedDict({'text': 'أول صفحة من الكتاب شدتني لدرجة أنني لم أتوقف عن قرائتها حتى أثناء قيادة السيارة، ال الباقية لم تشدني وانخفضت جاذبية الكتاب، لكنه يظل ممتع إجمالا وبه ترشيحات لكتب جيدة، ليست الكتب وإنما الترشيحات،. عزيز نيسين هو أهم ما أخذته من الكتاب'})\n",
            "\n",
            "\n",
            "\n",
            "+-------------------------------+--------+\n",
            "| Attack Results                |        |\n",
            "+-------------------------------+--------+\n",
            "| Number of successful attacks: | 67     |\n",
            "| Number of failed attacks:     | 7      |\n",
            "| Number of skipped attacks:    | 26     |\n",
            "| Original accuracy:            | 74.0%  |\n",
            "| Accuracy under attack:        | 7.0%   |\n",
            "| Attack success rate:          | 90.54% |\n",
            "| Average perturbed word %:     | 17.53% |\n",
            "| Average num. words per input: | 63.25  |\n",
            "| Avg num queries:              | 185.34 |\n",
            "+-------------------------------+--------+\n",
            "✅ Done.\n"
          ]
        },
        {
          "output_type": "stream",
          "name": "stderr",
          "text": [
            "\n"
          ]
        }
      ]
    },
    {
      "cell_type": "code",
      "source": [],
      "metadata": {
        "id": "iglFN2_ZNDy-"
      },
      "execution_count": null,
      "outputs": []
    },
    {
      "cell_type": "code",
      "source": [
        "# ============================================================\n",
        "# 🧰 STEP 0 — Install dependencies\n",
        "# ============================================================\n",
        "!pip -q install textattack regex arabic-reshaper python-bidi\n",
        "!pip -q install --upgrade datasets accelerate\n",
        "\n",
        "# ============================================================\n",
        "# 📦 STEP 1 — Load dataset (auto-detect path)\n",
        "#   Expected in file: dataset = [(text, label), ...]\n",
        "# ============================================================\n",
        "import importlib.util, os\n",
        "from typing import Any\n",
        "\n",
        "def import_dataset_module() -> Any:\n",
        "    candidate_paths = [\n",
        "        \"/content/arbml_arabic_100_reviews.py\"\n",
        "    ]\n",
        "    for p in candidate_paths:\n",
        "        if os.path.exists(p):\n",
        "            spec = importlib.util.spec_from_file_location(\"arbml_dataset\", p)\n",
        "            mod = importlib.util.module_from_spec(spec)\n",
        "            spec.loader.exec_module(mod)\n",
        "            print(f\"✅ Loaded dataset module from: {p}\")\n",
        "            return mod\n",
        "    raise FileNotFoundError(\"❌ Could not find 'arbml_arabic_100_reviews.py'.\")\n",
        "\n",
        "arbml = import_dataset_module()\n",
        "tt_pairs = list(arbml.dataset)  # [(text, label), ...]\n",
        "print(f\"Samples: {len(tt_pairs)} | Labels: {sorted(set(int(x[1]) for x in tt_pairs))}\")\n",
        "\n",
        "# Prepare HF dataset for fine-tuning\n",
        "from datasets import Dataset as HFDataset\n",
        "texts  = [str(x[0]) for x in tt_pairs]\n",
        "labels = [int(x[1]) for x in tt_pairs]\n",
        "hf_ds  = HFDataset.from_dict({\"text\": texts, \"label\": labels}).train_test_split(test_size=0.2, seed=42)\n",
        "num_labels = len(set(labels))\n",
        "\n",
        "# ============================================================\n",
        "# 🤗 STEP 2 — Fine-tune AraBERT (version-safe) + disable W&B\n",
        "# ============================================================\n",
        "import numpy as np, torch, inspect\n",
        "\n",
        "# 🔕 Disable Weights & Biases prompt + quiet tokenizers\n",
        "os.environ[\"WANDB_DISABLED\"] = \"true\"\n",
        "os.environ[\"TOKENIZERS_PARALLELISM\"] = \"false\"\n",
        "os.environ[\"TRANSFORMERS_NO_ADVISORY_WARNINGS\"] = \"1\"\n",
        "\n",
        "from transformers import (\n",
        "    AutoTokenizer, AutoModelForSequenceClassification,\n",
        "    DataCollatorWithPadding, TrainingArguments, Trainer\n",
        ")\n",
        "\n",
        "MODEL_NAME = \"asafaya/bert-base-arabic\"\n",
        "tokenizer = AutoTokenizer.from_pretrained(MODEL_NAME)\n",
        "\n",
        "def tokenize_fn(batch):\n",
        "    return tokenizer(batch[\"text\"], truncation=True, padding=False, max_length=256)\n",
        "\n",
        "tokenized = hf_ds.map(tokenize_fn, batched=True, remove_columns=[\"text\"])\n",
        "data_collator = DataCollatorWithPadding(tokenizer=tokenizer)\n",
        "\n",
        "def compute_metrics(eval_pred):\n",
        "    logits, labels_np = eval_pred\n",
        "    preds = np.argmax(logits, axis=-1)\n",
        "    return {\"accuracy\": (preds == labels_np).mean()}\n",
        "\n",
        "model = AutoModelForSequenceClassification.from_pretrained(MODEL_NAME, num_labels=num_labels)\n",
        "\n",
        "# Build TrainingArguments kwargs that match installed transformers version\n",
        "sig = inspect.signature(TrainingArguments.__init__)\n",
        "argnames = set(sig.parameters.keys())\n",
        "\n",
        "ta_kwargs = dict(\n",
        "    output_dir=\"arabert-ft\",\n",
        "    num_train_epochs=3,               # bump to 5 for stronger model\n",
        "    per_device_train_batch_size=16,\n",
        "    per_device_eval_batch_size=32,\n",
        "    learning_rate=2e-5,\n",
        "    weight_decay=0.01,\n",
        "    logging_steps=50,\n",
        "    seed=42,\n",
        "    fp16=torch.cuda.is_available(),\n",
        ")\n",
        "if \"evaluation_strategy\" in argnames:\n",
        "    ta_kwargs[\"evaluation_strategy\"] = \"epoch\"\n",
        "elif \"eval_strategy\" in argnames:\n",
        "    ta_kwargs[\"eval_strategy\"] = \"epoch\"\n",
        "if \"save_strategy\" in argnames:\n",
        "    ta_kwargs[\"save_strategy\"] = \"no\"\n",
        "elif \"save_total_limit\" in argnames:\n",
        "    ta_kwargs[\"save_total_limit\"] = 1\n",
        "\n",
        "training_args = TrainingArguments(**ta_kwargs)\n",
        "\n",
        "trainer = Trainer(\n",
        "    model=model,\n",
        "    args=training_args,\n",
        "    train_dataset=tokenized[\"train\"],\n",
        "    eval_dataset=tokenized[\"test\"],\n",
        "    tokenizer=tokenizer,\n",
        "    data_collator=data_collator,\n",
        "    compute_metrics=compute_metrics,\n",
        ")\n",
        "\n",
        "print(\"🚀 Fine-tuning AraBERT...\")\n",
        "trainer.train()\n",
        "print(\"📊 Eval:\", trainer.evaluate())\n",
        "\n",
        "# ============================================================\n",
        "# 🧪 STEP 3 — Wrap model for TextAttack\n",
        "# ============================================================\n",
        "from textattack.models.wrappers import HuggingFaceModelWrapper\n",
        "model_wrapper = HuggingFaceModelWrapper(model, tokenizer)\n",
        "\n",
        "# ============================================================\n",
        "# 🧩 STEP 4 — Low-skip Arabic DeepWordBug (diacritics + confusables + neighbor + ins/del×3)\n",
        "# ============================================================\n",
        "import random, regex as re\n",
        "from textattack.transformations import CompositeTransformation, WordSwap\n",
        "from textattack.attack_recipes import AttackRecipe\n",
        "from textattack import Attack\n",
        "from textattack.constraints.overlap import LevenshteinEditDistance\n",
        "from textattack.goal_functions import UntargetedClassification\n",
        "from textattack.search_methods import GreedyWordSwapWIR\n",
        "\n",
        "AR_LETTERS = list(\"ابتثجحخدذرزسشصضطظعغفقكلمنهوي\")\n",
        "AR_EXTRA   = list(\"أإآءؤئىةى\")\n",
        "AR_CHARS   = AR_LETTERS + AR_EXTRA\n",
        "\n",
        "AR_CHAR_RE   = re.compile(r\"[\\p{Arabic}]\")\n",
        "DIACRITIC_RE = re.compile(r\"[\\u0610-\\u061A\\u064B-\\u065F\\u0670\\u06D6-\\u06ED]\")\n",
        "\n",
        "AR_NEIGHBORS = {\n",
        "    \"ا\": [\"أ\",\"إ\",\"آ\",\"ى\",\"ل\",\"ر\"], \"ب\": [\"ن\",\"ت\",\"ي\",\"ة\"], \"ت\": [\"ب\",\"ث\",\"ن\",\"ا\",\"ي\"],\n",
        "    \"ث\": [\"ت\",\"ج\",\"ح\"], \"ج\": [\"ث\",\"ح\",\"خ\"], \"ح\": [\"ج\",\"خ\",\"ع\"], \"خ\": [\"ح\",\"ع\",\"غ\"],\n",
        "    \"د\": [\"ذ\",\"ر\"], \"ذ\": [\"د\",\"ر\",\"ز\"], \"ر\": [\"د\",\"ذ\",\"ز\",\"ا\"], \"ز\": [\"ر\",\"ذ\",\"س\"],\n",
        "    \"س\": [\"ز\",\"ش\",\"د\",\"ص\"], \"ش\": [\"س\",\"ص\"], \"ص\": [\"س\",\"ض\",\"ط\"], \"ض\": [\"ص\",\"ط\",\"ظ\"],\n",
        "    \"ط\": [\"ص\",\"ض\",\"ظ\",\"ق\"], \"ظ\": [\"ط\",\"ض\",\"ع\"], \"ع\": [\"غ\",\"ظ\",\"ح\",\"خ\"], \"غ\": [\"ع\",\"ف\",\"ق\"],\n",
        "    \"ف\": [\"غ\",\"ق\"], \"ق\": [\"ف\",\"ك\",\"ط\"], \"ك\": [\"ق\",\"ل\",\"م\"], \"ل\": [\"ك\",\"ا\",\"م\",\"ن\"],\n",
        "    \"م\": [\"ن\",\"ك\",\"ل\"], \"ن\": [\"م\",\"ب\",\"ت\"], \"ه\": [\"ة\",\"و\",\"ي\"], \"و\": [\"ؤ\",\"ه\",\"ز\"],\n",
        "    \"ي\": [\"ى\",\"ئ\",\"ب\",\"ت\",\"ن\"], \"ة\": [\"ه\",\"ت\"], \"ى\": [\"ي\",\"ا\"], \"ؤ\": [\"و\",\"ء\"], \"ئ\": [\"ي\",\"ء\"],\n",
        "}\n",
        "\n",
        "def is_arabic_char(ch: str) -> bool:\n",
        "    return bool(AR_CHAR_RE.match(ch))\n",
        "\n",
        "class WordSwapArabicDiacriticToggle(WordSwap):\n",
        "    COMMON_MARKS = [\"َ\",\"ُ\",\"ِ\",\"ّ\",\"ْ\"]\n",
        "    def _get_replacement_words(self, word, **kwargs):\n",
        "        if not any(is_arabic_char(c) for c in word): return []\n",
        "        no_diac = DIACRITIC_RE.sub(\"\", word)\n",
        "        cands = set()\n",
        "        if no_diac and no_diac != word: cands.add(no_diac)\n",
        "        ar_positions = [i for i,c in enumerate(no_diac) if is_arabic_char(c)]\n",
        "        if ar_positions:\n",
        "            i = random.choice(ar_positions); d = random.choice(self.COMMON_MARKS)\n",
        "            cands.add(no_diac[:i+1] + d + no_diac[i+1:])\n",
        "        return list(cands)\n",
        "\n",
        "CONFUSABLES = {\n",
        "    \"ا\": [\"أ\",\"إ\",\"آ\",\"ى\"], \"أ\": [\"ا\",\"إ\",\"آ\"], \"إ\": [\"ا\",\"أ\",\"آ\"], \"آ\": [\"ا\",\"أ\",\"إ\"],\n",
        "    \"ي\": [\"ى\",\"ئ\"], \"ى\": [\"ي\",\"ا\"], \"ئ\": [\"ي\",\"ء\"], \"ه\": [\"ة\"], \"ة\": [\"ه\",\"ت\"], \"و\": [\"ؤ\"], \"ؤ\": [\"و\",\"ء\"],\n",
        "}\n",
        "class WordSwapArabicConfusableSwap(WordSwap):\n",
        "    def _get_replacement_words(self, word, **kwargs):\n",
        "        cands = set()\n",
        "        for i,ch in enumerate(word):\n",
        "            if ch in CONFUSABLES:\n",
        "                new = word[:i] + random.choice(CONFUSABLES[ch]) + word[i+1:]\n",
        "                if new != word: cands.add(new)\n",
        "        return list(cands)\n",
        "\n",
        "class WordSwapArabicNeighborSwap(WordSwap):\n",
        "    def _get_replacement_words(self, word, **kwargs):\n",
        "        cands = set()\n",
        "        for i,ch in enumerate(word):\n",
        "            if not is_arabic_char(ch): continue\n",
        "            neigh = AR_NEIGHBORS.get(ch, [])\n",
        "            if neigh:\n",
        "                new = word[:i] + random.choice(neigh) + word[i+1:]\n",
        "                if new != word: cands.add(new)\n",
        "        return list(cands)\n",
        "\n",
        "class WordSwapArabicRandomInsertion(WordSwap):\n",
        "    def __init__(self, max_insertions_per_word=3):\n",
        "        super().__init__(); self.max_insertions_per_word = max_insertions_per_word\n",
        "    def _get_replacement_words(self, word, **kwargs):\n",
        "        if not any(is_arabic_char(c) for c in word): return []\n",
        "        cands = set()\n",
        "        for _ in range(self.max_insertions_per_word):\n",
        "            pos = random.randint(0, len(word)); ins = random.choice(AR_CHARS)\n",
        "            new = word[:pos] + ins + word[pos:]\n",
        "            if new != word: cands.add(new)\n",
        "        return list(cands)\n",
        "\n",
        "class WordSwapArabicRandomDeletion(WordSwap):\n",
        "    def __init__(self, max_deletions_per_word=3):\n",
        "        super().__init__(); self.max_deletions_per_word = max_deletions_per_word\n",
        "    def _get_replacement_words(self, word, **kwargs):\n",
        "        idx = [i for i,c in enumerate(word) if is_arabic_char(c)]\n",
        "        if not idx: return []\n",
        "        cands = set()\n",
        "        for _ in range(self.max_deletions_per_word):\n",
        "            i = random.choice(idx); new = word[:i] + word[i+1:]\n",
        "            if new and new != word: cands.add(new)\n",
        "        return list(cands)\n",
        "\n",
        "from textattack.attack_recipes import AttackRecipe\n",
        "class ArabicDeepWordBug(AttackRecipe):\n",
        "    @staticmethod\n",
        "    def build(model_wrapper):\n",
        "        transformation = CompositeTransformation([\n",
        "            WordSwapArabicDiacriticToggle(),\n",
        "            WordSwapArabicConfusableSwap(),\n",
        "            WordSwapArabicNeighborSwap(),\n",
        "            WordSwapArabicRandomDeletion(max_deletions_per_word=3),\n",
        "            WordSwapArabicRandomInsertion(max_insertions_per_word=3),\n",
        "        ])\n",
        "        constraints = [LevenshteinEditDistance(60)]  # larger budget → fewer \"no edit\" skips\n",
        "        goal_function = UntargetedClassification(model_wrapper)\n",
        "        search_method = GreedyWordSwapWIR()\n",
        "        return Attack(goal_function, constraints, transformation, search_method)\n",
        "\n",
        "attack = ArabicDeepWordBug.build(model_wrapper)\n",
        "print(\"🧪 Built ArabicDeepWordBug.\")\n",
        "\n",
        "# ============================================================\n",
        "# 🎯 STEP 5 — Attack ALL 100 samples from the attached dataset\n",
        "# ============================================================\n",
        "from textattack.datasets import Dataset as TADataset\n",
        "from textattack import Attacker, AttackArgs\n",
        "import random\n",
        "\n",
        "TARGET_N = 100   # run on 100 items (or all if fewer)\n",
        "all_pairs = list(zip(texts, labels))\n",
        "random.Random(42).shuffle(all_pairs)\n",
        "N = min(TARGET_N, len(all_pairs))\n",
        "\n",
        "ta_test = TADataset(all_pairs[:N])\n",
        "\n",
        "args = AttackArgs(\n",
        "    num_examples=N,\n",
        "    random_seed=42,\n",
        "    disable_stdout=False,\n",
        ")\n",
        "attacker = Attacker(attack, ta_test, args)\n",
        "print(f\"⚔️  Running Arabic DeepWordBug on {N} examples (entire dataset)...\")\n",
        "attack_results = attacker.attack_dataset()\n",
        "print(\"✅ Done.\")\n"
      ],
      "metadata": {
        "colab": {
          "base_uri": "https://localhost:8080/",
          "height": 1000,
          "referenced_widgets": [
            "04cc7c0d38ed4b6586aaf4c69e856ab2",
            "eff72b115e314830b605f980da563373",
            "4748dc2785cc426598b69a434379d23d",
            "bbe274d8a3d9416bb5d38db569be4993",
            "580e2ee8223e4e2f8504aa6872ab7373",
            "dcf26fff020a459f8dd613ba12273d95",
            "0aadf22176b1474089809ea4a70814ea",
            "47dbe42afd02402daebc934083cc6e59",
            "1466a9be05be4c2d9992cec9947659ae",
            "05ead32f0cfa4064ae5a4bd7974157de",
            "ea384bc9bb994ccea11b7c603d099132",
            "990abeee46bf49459dfdd144aa5b36ed",
            "62a00f9db41548139ece1d86d2a37579",
            "05fe399b31bc470b9ed2b5acbcfcb106",
            "e36f624d9e0145128df3dcb9655fc616",
            "a9d87da2bc8f4e07b9ecef382e39cdb8",
            "a58ac5dbe1ca4a67bf857e727b6e4eb1",
            "b64a18025d4947b2b73f6154e0259472",
            "d462655a455c4ee59f01151a9d967505",
            "afa1a6e5dc0a4454b3ee5626bc43cf2b",
            "a0d9ac9c5916419a81b62726a5fe948c",
            "6b587d5eb0df44d1b85dd9392812bb26"
          ]
        },
        "outputId": "007b5d29-bc97-49ce-eed9-6d6064f59716",
        "id": "xp5gxGXwNEch"
      },
      "execution_count": null,
      "outputs": [
        {
          "output_type": "stream",
          "name": "stdout",
          "text": [
            "✅ Loaded dataset module from: /content/arbml_arabic_100_reviews.py\n",
            "Samples: 100 | Labels: [0, 1]\n"
          ]
        },
        {
          "output_type": "display_data",
          "data": {
            "text/plain": [
              "Map:   0%|          | 0/80 [00:00<?, ? examples/s]"
            ],
            "application/vnd.jupyter.widget-view+json": {
              "version_major": 2,
              "version_minor": 0,
              "model_id": "04cc7c0d38ed4b6586aaf4c69e856ab2"
            }
          },
          "metadata": {}
        },
        {
          "output_type": "display_data",
          "data": {
            "text/plain": [
              "Map:   0%|          | 0/20 [00:00<?, ? examples/s]"
            ],
            "application/vnd.jupyter.widget-view+json": {
              "version_major": 2,
              "version_minor": 0,
              "model_id": "990abeee46bf49459dfdd144aa5b36ed"
            }
          },
          "metadata": {}
        },
        {
          "output_type": "stream",
          "name": "stderr",
          "text": [
            "Some weights of BertForSequenceClassification were not initialized from the model checkpoint at asafaya/bert-base-arabic and are newly initialized: ['classifier.bias', 'classifier.weight']\n",
            "You should probably TRAIN this model on a down-stream task to be able to use it for predictions and inference.\n",
            "Using the `WANDB_DISABLED` environment variable is deprecated and will be removed in v5. Use the --report_to flag to control the integrations used for logging result (for instance --report_to none).\n",
            "/tmp/ipython-input-1741004209.py:95: FutureWarning: `tokenizer` is deprecated and will be removed in version 5.0.0 for `Trainer.__init__`. Use `processing_class` instead.\n",
            "  trainer = Trainer(\n"
          ]
        },
        {
          "output_type": "stream",
          "name": "stdout",
          "text": [
            "🚀 Fine-tuning AraBERT...\n"
          ]
        },
        {
          "output_type": "display_data",
          "data": {
            "text/plain": [
              "<IPython.core.display.HTML object>"
            ],
            "text/html": [
              "\n",
              "    <div>\n",
              "      \n",
              "      <progress value='15' max='15' style='width:300px; height:20px; vertical-align: middle;'></progress>\n",
              "      [15/15 00:02, Epoch 3/3]\n",
              "    </div>\n",
              "    <table border=\"1\" class=\"dataframe\">\n",
              "  <thead>\n",
              " <tr style=\"text-align: left;\">\n",
              "      <th>Epoch</th>\n",
              "      <th>Training Loss</th>\n",
              "      <th>Validation Loss</th>\n",
              "      <th>Accuracy</th>\n",
              "    </tr>\n",
              "  </thead>\n",
              "  <tbody>\n",
              "    <tr>\n",
              "      <td>1</td>\n",
              "      <td>No log</td>\n",
              "      <td>0.670691</td>\n",
              "      <td>0.550000</td>\n",
              "    </tr>\n",
              "    <tr>\n",
              "      <td>2</td>\n",
              "      <td>No log</td>\n",
              "      <td>0.658569</td>\n",
              "      <td>0.750000</td>\n",
              "    </tr>\n",
              "    <tr>\n",
              "      <td>3</td>\n",
              "      <td>No log</td>\n",
              "      <td>0.661182</td>\n",
              "      <td>0.800000</td>\n",
              "    </tr>\n",
              "  </tbody>\n",
              "</table><p>"
            ]
          },
          "metadata": {}
        },
        {
          "output_type": "display_data",
          "data": {
            "text/plain": [
              "<IPython.core.display.HTML object>"
            ],
            "text/html": [
              "\n",
              "    <div>\n",
              "      \n",
              "      <progress value='1' max='1' style='width:300px; height:20px; vertical-align: middle;'></progress>\n",
              "      [1/1 : < :]\n",
              "    </div>\n",
              "    "
            ]
          },
          "metadata": {}
        },
        {
          "output_type": "stream",
          "name": "stderr",
          "text": [
            "textattack: Unknown if model of class <class 'transformers.models.bert.modeling_bert.BertForSequenceClassification'> compatible with goal function <class 'textattack.goal_functions.classification.untargeted_classification.UntargetedClassification'>.\n"
          ]
        },
        {
          "output_type": "stream",
          "name": "stdout",
          "text": [
            "📊 Eval: {'eval_loss': 0.6611815690994263, 'eval_accuracy': 0.8, 'eval_runtime': 0.064, 'eval_samples_per_second': 312.734, 'eval_steps_per_second': 15.637, 'epoch': 3.0}\n",
            "🧪 Built ArabicDeepWordBug.\n",
            "⚔️  Running Arabic DeepWordBug on 100 examples (entire dataset)...\n",
            "Attack(\n",
            "  (search_method): GreedyWordSwapWIR(\n",
            "    (wir_method):  unk\n",
            "  )\n",
            "  (goal_function):  UntargetedClassification\n",
            "  (transformation):  CompositeTransformation(\n",
            "    (0): WordSwapArabicDiacriticToggle\n",
            "    (1): WordSwapArabicConfusableSwap\n",
            "    (2): WordSwapArabicNeighborSwap\n",
            "    (3): WordSwapArabicRandomDeletion\n",
            "    (4): WordSwapArabicRandomInsertion\n",
            "    )\n",
            "  (constraints): \n",
            "    (0): LevenshteinEditDistance(\n",
            "        (max_edit_distance):  60\n",
            "        (compare_against_original):  True\n",
            "      )\n",
            "  (is_black_box):  True\n",
            ") \n",
            "\n"
          ]
        },
        {
          "output_type": "stream",
          "name": "stderr",
          "text": [
            "[Succeeded / Failed / Skipped / Total] 0 / 0 / 1 / 1:   1%|          | 1/100 [00:00<00:02, 47.15it/s]"
          ]
        },
        {
          "output_type": "stream",
          "name": "stdout",
          "text": [
            "--------------------------------------------- Result 1 ---------------------------------------------\n",
            "[[1 (57%)]] --> [[[SKIPPED]]]\n",
            "\n",
            "OrderedDict({'text': 'جربته مرة وحدة واعتقد بتكون آخر مرة مستوى الاكل والخدمة كان اقل من جيد الاكل بارد جدا وبدون اي طعم .. وبطيئين جدا'})\n",
            "\n",
            "\n"
          ]
        },
        {
          "output_type": "stream",
          "name": "stderr",
          "text": [
            "[Succeeded / Failed / Skipped / Total] 1 / 0 / 1 / 2:   2%|▏         | 2/100 [00:01<00:50,  1.93it/s]"
          ]
        },
        {
          "output_type": "stream",
          "name": "stdout",
          "text": [
            "--------------------------------------------- Result 2 ---------------------------------------------\n",
            "[[1 (53%)]] --> [[0 (50%)]]\n",
            "\n",
            "OrderedDict({'text': 'نكهة فرنسيه فى وسط جده. لم تكن تلك هى زيارتى [[الاولى]] لهذا المطعم .. الا أننى فى كل مره كنت اكتشف شيئا [[جديدا]]..واستمتع [[بمذاق]] مختلف . ان مستوى اناقة المطعم وجودة المأكولات وحميمية الخدمه تجعل [[المرء]] يعيش فعلا فى اجواء باريسيه ولو للحظات .. ألاسعار تعد مرتفعه نسبيا الا ان ذلك لا يحول دون الاستمتاع بأجواء المطعم ووجباته الفاخره ولو حتى فى المناسبات'})\n",
            "\n",
            "OrderedDict({'text': 'نكهة فرنسيه فى وسط جده. لم تكن تلك هى زيارتى [[الاولي]] لهذا المطعم .. الا أننى فى كل مره كنت اكتشف شيئا [[جديذا]]..واستمتع [[نمذاق]] مختلف . ان مستوى اناقة المطعم وجودة المأكولات وحميمية الخدمه تجعل [[المدء]] يعيش فعلا فى اجواء باريسيه ولو للحظات .. ألاسعار تعد مرتفعه نسبيا الا ان ذلك لا يحول دون الاستمتاع بأجواء المطعم ووجباته الفاخره ولو حتى فى المناسبات'})\n",
            "\n",
            "\n"
          ]
        },
        {
          "output_type": "stream",
          "name": "stderr",
          "text": [
            "[Succeeded / Failed / Skipped / Total] 1 / 1 / 2 / 4:   4%|▍         | 4/100 [00:01<00:45,  2.10it/s]"
          ]
        },
        {
          "output_type": "stream",
          "name": "stdout",
          "text": [
            "--------------------------------------------- Result 3 ---------------------------------------------\n",
            "[[1 (67%)]] --> [[[FAILED]]]\n",
            "\n",
            "OrderedDict({'text': 'ابوظبي غير . الجو العام للفندق فخم وبسيط ومريح'})\n",
            "\n",
            "\n",
            "--------------------------------------------- Result 4 ---------------------------------------------\n",
            "[[1 (57%)]] --> [[[SKIPPED]]]\n",
            "\n",
            "OrderedDict({'text': 'قصص قصيرة تحاكي طبيعة المجتمع القروي في الفترة التي عاش فيها الكاتب، بشكل عام لم تكن ممتعة مقارنة بما يمكن أن تنتظره من ميخائيل نعيمة'})\n",
            "\n",
            "\n"
          ]
        },
        {
          "output_type": "stream",
          "name": "stderr",
          "text": [
            "\r[Succeeded / Failed / Skipped / Total] 2 / 1 / 2 / 5:   5%|▌         | 5/100 [00:04<01:17,  1.23it/s]"
          ]
        },
        {
          "output_type": "stream",
          "name": "stdout",
          "text": [
            "--------------------------------------------- Result 5 ---------------------------------------------\n",
            "[[1 (63%)]] --> [[0 (50%)]]\n",
            "\n",
            "OrderedDict({'text': '[[الفخامة]] . [[حسن]] [[الاستقبال]] [[وع]] [[راسهم]] [[مدير]] [[الفندف]] [[أ]]. [[ايمن]] [[والنظافة]] [[والخدمات]] [[متوفرة]] والمواقف [[واسعة]]. الازعااااااااااااج بسبب [[أعمال]] الترميمات [[والتي]] [[يجب]] ان [[يبلغ]] [[الموقع]] [[بها']]})\n",
            "\n",
            "OrderedDict({'text': '[[اكفخامة]] . [[حءسن]] [[الاسأتقبال]] [[شوع]] [[راسهآم]] [[ميدير]] [[امفندف]] [[عأ]]. [[ايمت]] [[والنظاعفة]] [[والغدمات]] [[متزفرة]] والمواقف [[هاسعة]]. الازعااااااااااااج بسبب [[أعمل]] الترميمات [[واخلتي]] [[يجن]] ان [[يبإلغ]] [[انموقع]] [[بوا']]})\n",
            "\n",
            "\n"
          ]
        },
        {
          "output_type": "stream",
          "name": "stderr",
          "text": [
            "[Succeeded / Failed / Skipped / Total] 3 / 1 / 2 / 6:   6%|▌         | 6/100 [00:04<01:16,  1.23it/s]"
          ]
        },
        {
          "output_type": "stream",
          "name": "stdout",
          "text": [
            "--------------------------------------------- Result 6 ---------------------------------------------\n",
            "[[1 (53%)]] --> [[0 (50%)]]\n",
            "\n",
            "OrderedDict({'text': 'اصطدمت امرأة برجل في كافتيريا مطار جون كيندي ، و ثم ذهب كل منهما في سبيله دون أن يعلما أنهما [[سيلتقيان]] بعد ذلك و اكتشفا بعد فوات الأوان أنهما تبادلا هواتفهما المحمولة.جونثان صاحب مطعم و مادلين بائعة الزهور في [[باريس]].كانا يبعدان عن بعضهما مسافة كبيرة.. عمل جميل، رومانسي، كوميدي، و لمسة من [[الإثارة']]})\n",
            "\n",
            "OrderedDict({'text': 'اصطدمت امرأة برجل في كافتيريا مطار جون كيندي ، و ثم ذهب كل منهما في سبيله دون أن يعلما أنهما [[زيلتقيان]] بعد ذلك و اكتشفا بعد فوات الأوان أنهما تبادلا هواتفهما المحمولة.جونثان صاحب مطعم و مادلين بائعة الزهور في [[بارظيس]].كانا يبعدان عن بعضهما مسافة كبيرة.. عمل جميل، رومانسي، كوميدي، و لمسة من [[الإثااة']]})\n",
            "\n",
            "\n"
          ]
        },
        {
          "output_type": "stream",
          "name": "stderr",
          "text": [
            "[Succeeded / Failed / Skipped / Total] 4 / 1 / 4 / 9:   9%|▉         | 9/100 [00:08<01:25,  1.06it/s]"
          ]
        },
        {
          "output_type": "stream",
          "name": "stdout",
          "text": [
            "--------------------------------------------- Result 7 ---------------------------------------------\n",
            "[[0 (56%)]] --> [[1 (50%)]]\n",
            "\n",
            "OrderedDict({'text': '[[يتحدث]] الشقيري في هذا الكتاب عن رحلته [[للهند]]، ثم يلحقها [[باقتباسات]] لغاندي.. في الفصل الأول الكثير من التفاصيل الخاصة بالرحلة [[لم]] تكن ذات أهمية للقارئ . علاوة على أن أغلب الصور [[لا]] تقدم فائدة . [[كتابته]] باللغة العامية [[تجعلني]] في حيرة كيف يقيم [[الشقيري]] لغتنا العربية؟ هل هي من الأولويات؟ أم من الشكليات التي لا بأس أن نتساهل فيها . فكرة الخلوة في الهند [[تصعب]] الأمر.. لم لا تكون الخلوة في البيت؟ كما نصح إحدى البنات؟ فالغاية من الخلوة تحتم [[تكرارها]] عدة مرات وهذا ما يصعب تنفيذه كل مرة برحلة للهند . [[اللاءات]] [[حصرها]] حسب اهتماماته هو في لابتوب [[وهاتف]] وتلفاز.. وهي أمور قد [[لاتكون]] منغصة [[للخلوة]] عند آخرين... أما الفصل الخاص [[باقتباسات]] غاندي فلم تأت بجديد، وهو ما أوضحه بأنها موجودة في سيرة نبينا محمد صلى الله عليه وسلم .. عموما الكتاب: [[ضعيف]] المحتوى، ولا يخلو من المتعة والفائدة والنصائح القيمة.'})\n",
            "\n",
            "OrderedDict({'text': '[[نتحدث]] الشقيري في هذا الكتاب عن رحلته [[لهند]]، ثم يلحقها [[باطتباسات]] لغاندي.. في الفصل الأول الكثير من التفاصيل الخاصة بالرحلة [[لك]] تكن ذات أهمية للقارئ . علاوة على أن أغلب الصور [[ل]] تقدم فائدة . [[إكتابته]] باللغة العامية [[تجعلنب]] في حيرة كيف يقيم [[الشقري]] لغتنا العربية؟ هل هي من الأولويات؟ أم من الشكليات التي لا بأس أن نتساهل فيها . فكرة الخلوة في الهند [[يصعب]] الأمر.. لم لا تكون الخلوة في البيت؟ كما نصح إحدى البنات؟ فالغاية من الخلوة تحتم [[يكرارها]] عدة مرات وهذا ما يصعب تنفيذه كل مرة برحلة للهند . [[لللاءات]] [[حصرا]] حسب اهتماماته هو في لابتوب [[واتف]] وتلفاز.. وهي أمور قد [[لتكون]] منغصة [[للخلشوة]] عند آخرين... أما الفصل الخاص [[ناقتباسات]] غاندي فلم تأت بجديد، وهو ما أوضحه بأنها موجودة في سيرة نبينا محمد صلى الله عليه وسلم .. عموما الكتاب: [[ضيف]] المحتوى، ولا يخلو من المتعة والفائدة والنصائح القيمة.'})\n",
            "\n",
            "\n",
            "--------------------------------------------- Result 8 ---------------------------------------------\n",
            "[[1 (54%)]] --> [[[SKIPPED]]]\n",
            "\n",
            "OrderedDict({'text': 'رواية كوميدية مسلية جدا و تبعث بالحنين إلى عاصمة الضباب .. ولكن أسلوب الكاتب ضعيف و بمستوى كتابة روايات المنتديات على الانترنت'})\n",
            "\n",
            "\n",
            "--------------------------------------------- Result 9 ---------------------------------------------\n",
            "[[1 (54%)]] --> [[[SKIPPED]]]\n",
            "\n",
            "OrderedDict({'text': 'تجربه سيئه . لاشي. موقع سىء على جبل الوصول له شاق للغايه ولاتوجد تاكسي بسهولة..... الفندق والاثاث قديم ... الفطور سيء'})\n",
            "\n",
            "\n"
          ]
        },
        {
          "output_type": "stream",
          "name": "stderr",
          "text": [
            "[Succeeded / Failed / Skipped / Total] 5 / 1 / 4 / 10:  10%|█         | 10/100 [00:09<01:27,  1.03it/s]"
          ]
        },
        {
          "output_type": "stream",
          "name": "stdout",
          "text": [
            "--------------------------------------------- Result 10 ---------------------------------------------\n",
            "[[1 (56%)]] --> [[0 (51%)]]\n",
            "\n",
            "OrderedDict({'text': 'الواقع [[غير]] ما [[هوا]] [[مسجل]] في موقع الحجز . النظافة والأمن ممتازة. في البداية عند [[تسجيل]] الدخول كان علينا الانتظار [[على]] ما يزيد من [[دقيقة]] بسبب عدم وجود اكثر من كونتر [[واحد]] يعمل في الاستقبال بعض الأبناء نام على الارض بسبب عدم وجود عدد كافي من الاسرة، عدد الاسرة [[والشقة]] مخصصة لعدد [[أشخاص']]})\n",
            "\n",
            "OrderedDict({'text': 'الواقع [[غر]] ما [[هزا]] [[مسخل]] في موقع الحجز . النظافة والأمن ممتازة. في البداية عند [[اسجيل]] الدخول كان علينا الانتظار [[علي]] ما يزيد من [[دقنقة]] بسبب عدم وجود اكثر من كونتر [[تواحد]] يعمل في الاستقبال بعض الأبناء نام على الارض بسبب عدم وجود عدد كافي من الاسرة، عدد الاسرة [[هالشقة]] مخصصة لعدد [[أشخاض']]})\n",
            "\n",
            "\n"
          ]
        },
        {
          "output_type": "stream",
          "name": "stderr",
          "text": [
            "\r[Succeeded / Failed / Skipped / Total] 6 / 1 / 4 / 11:  11%|█         | 11/100 [00:10<01:24,  1.05it/s]"
          ]
        },
        {
          "output_type": "stream",
          "name": "stdout",
          "text": [
            "--------------------------------------------- Result 11 ---------------------------------------------\n",
            "[[0 (54%)]] --> [[1 (51%)]]\n",
            "\n",
            "OrderedDict({'text': 'بدأت في [[قراءتها]] منذ مدة طويلة وتوقفت لأني لم أفهم منها إلا قليلا جدا . فيها كثير من الغموض.. أشبه ما تكون بالشعر الحديث الغامض... أنهيتها قبل قليل في وارد إنهاء الكتب العالقة قبل نهاية العام... أحب الكاتب، إلا أن روايته هذه لم [[تعجبني]] أبدا.. لا [[أنصح]] بقراءتها '})\n",
            "\n",
            "OrderedDict({'text': 'بدأت في [[قذاءتها]] منذ مدة طويلة وتوقفت لأني لم أفهم منها إلا قليلا جدا . فيها كثير من الغموض.. أشبه ما تكون بالشعر الحديث الغامض... أنهيتها قبل قليل في وارد إنهاء الكتب العالقة قبل نهاية العام... أحب الكاتب، إلا أن روايته هذه لم [[تجبني]] أبدا.. لا [[أنص]] بقراءتها '})\n",
            "\n",
            "\n"
          ]
        },
        {
          "output_type": "stream",
          "name": "stderr",
          "text": [
            "[Succeeded / Failed / Skipped / Total] 7 / 1 / 4 / 12:  12%|█▏        | 12/100 [00:11<01:23,  1.06it/s]"
          ]
        },
        {
          "output_type": "stream",
          "name": "stdout",
          "text": [
            "--------------------------------------------- Result 12 ---------------------------------------------\n",
            "[[1 (52%)]] --> [[0 (51%)]]\n",
            "\n",
            "OrderedDict({'text': 'رواية مظلومه لم تعطى حقها من الانتشار .. اللغه الأسلوب العديد من الحورات [[والواقعيه]] في الأحداث ، أحب لغة [[بثينه]] الحاده .. أحلام شخصياتها السرد الغير طويل والمتقن . أنهيتها في ليله واحده جعلتني اعيش في عالمها واتسعت [[بالخيال]] .. تقول بثينه :. عندما نولد [[اناثا]] ، فنحن نولد قضايا ؛ لان العالم مزود بتقنيات تحد منا'})\n",
            "\n",
            "OrderedDict({'text': 'رواية مظلومه لم تعطى حقها من الانتشار .. اللغه الأسلوب العديد من الحورات [[آوالواقعيه]] في الأحداث ، أحب لغة [[بينه]] الحاده .. أحلام شخصياتها السرد الغير طويل والمتقن . أنهيتها في ليله واحده جعلتني اعيش في عالمها واتسعت [[الخيال]] .. تقول بثينه :. عندما نولد [[انىثا]] ، فنحن نولد قضايا ؛ لان العالم مزود بتقنيات تحد منا'})\n",
            "\n",
            "\n"
          ]
        },
        {
          "output_type": "stream",
          "name": "stderr",
          "text": [
            "\r[Succeeded / Failed / Skipped / Total] 8 / 1 / 4 / 13:  13%|█▎        | 13/100 [00:12<01:26,  1.00it/s]"
          ]
        },
        {
          "output_type": "stream",
          "name": "stdout",
          "text": [
            "--------------------------------------------- Result 13 ---------------------------------------------\n",
            "[[1 (54%)]] --> [[0 (50%)]]\n",
            "\n",
            "OrderedDict({'text': 'فندق نظيف في مركز المدينة الفندق من فئة الثلاثة نجوم ، نظافة الغرف وان لم تكن واسعة ، الخدمة المتميزة ، من اسرع الفنادق التي زرتها في إجراءات تسجيل الدخول والخروج ، طاقم [[الإستفبال]] ودود ، الموقع المتميز في مركز المدينة ، محاطا بالمطاعم [[والمقاهي]] [[والمحلات]] [[التجارية]] ، [[بالفرب]] من [[ساحة]] [[أتاتورك]] ، وشارع اوزون للمشاة وبه كثير من المطاعم [[والمحلات]] [[التجارية']]})\n",
            "\n",
            "OrderedDict({'text': 'فندق نظيف في مركز المدينة الفندق من فئة الثلاثة نجوم ، نظافة الغرف وان لم تكن واسعة ، الخدمة المتميزة ، من اسرع الفنادق التي زرتها في إجراءات تسجيل الدخول والخروج ، طاقم [[الإسءتفبال]] ودود ، الموقع المتميز في مركز المدينة ، محاطا بالمطاعم [[والمقذاهي]] [[والمحلا]] [[التجازية]] ، [[بانفرب]] من [[سازحة]] [[أتااورك]] ، وشارع اوزون للمشاة وبه كثير من المطاعم [[والمحلجات]] [[التجازية']]})\n",
            "\n",
            "\n"
          ]
        },
        {
          "output_type": "stream",
          "name": "stderr",
          "text": [
            "[Succeeded / Failed / Skipped / Total] 9 / 1 / 4 / 14:  14%|█▍        | 14/100 [00:13<01:24,  1.01it/s]"
          ]
        },
        {
          "output_type": "stream",
          "name": "stdout",
          "text": [
            "--------------------------------------------- Result 14 ---------------------------------------------\n",
            "[[1 (52%)]] --> [[0 (50%)]]\n",
            "\n",
            "OrderedDict({'text': 'جيد ولكن السعر مكلف. . النظافة وحسن الاستقبال خاصه الموظف عمر [[انسان]] خلوق جدا على عكس باقي موظفي الاستقبال المكان هادى وجيد [[ومريح]] الاثاث ممتاز كذلك المواقف متوفره [[وخدمة]] نقل المركبة.. السعر [[غالي]] ، كذلك الضوء في الغرفة قليل ولا تكفي المصابيح ، دفع المياه ليس قوي ، المياه ليست حارة'})\n",
            "\n",
            "OrderedDict({'text': 'جيد ولكن السعر مكلف. . النظافة وحسن الاستقبال خاصه الموظف عمر [[انان]] خلوق جدا على عكس باقي موظفي الاستقبال المكان هادى وجيد [[وءمريح]] الاثاث ممتاز كذلك المواقف متوفره [[وعدمة]] نقل المركبة.. السعر [[غقالي]] ، كذلك الضوء في الغرفة قليل ولا تكفي المصابيح ، دفع المياه ليس قوي ، المياه ليست حارة'})\n",
            "\n",
            "\n"
          ]
        },
        {
          "output_type": "stream",
          "name": "stderr",
          "text": [
            "\r[Succeeded / Failed / Skipped / Total] 10 / 1 / 4 / 15:  15%|█▌        | 15/100 [00:15<01:27,  1.03s/it]"
          ]
        },
        {
          "output_type": "stream",
          "name": "stdout",
          "text": [
            "--------------------------------------------- Result 15 ---------------------------------------------\n",
            "[[0 (56%)]] --> [[1 (50%)]]\n",
            "\n",
            "OrderedDict({'text': '[[انا]] [[فى]] [[الحقيقة]] الكتاب ده من الكتب الغريبة اللى [[قراتها]] فى الاول كان ماشى كويس جداا و يشد و بعدين دخل فى متاهات لدرجة انى شكيت فى [[مستوى]] فهمى و قلت تقريبا ان الكتاب لناس [[مستواهم]] الثقافى [[اعلى]] منى و بعدين لما شفت [[الكومنتات]] حمدت ربنا فيه ناس رايهم من راى عموما الكاتبه [[ممكن]] يطلع منها حاجة احسن من كده لو [[ركزت]] شويه عن كده وشكرا'})\n",
            "\n",
            "OrderedDict({'text': '[[انبا]] [[عفى]] [[الحقيفقة]] الكتاب ده من الكتب الغريبة اللى [[قرانها]] فى الاول كان ماشى كويس جداا و يشد و بعدين دخل فى متاهات لدرجة انى شكيت فى [[كستوى]] فهمى و قلت تقريبا ان الكتاب لناس [[كستواهم]] الثقافى [[اعل]] منى و بعدين لما شفت [[القومنتات]] حمدت ربنا فيه ناس رايهم من راى عموما الكاتبه [[ممكتن]] يطلع منها حاجة احسن من كده لو [[ركزث]] شويه عن كده وشكرا'})\n",
            "\n",
            "\n"
          ]
        },
        {
          "output_type": "stream",
          "name": "stderr",
          "text": [
            "[Succeeded / Failed / Skipped / Total] 11 / 1 / 5 / 17:  17%|█▋        | 17/100 [00:16<01:19,  1.05it/s]"
          ]
        },
        {
          "output_type": "stream",
          "name": "stdout",
          "text": [
            "--------------------------------------------- Result 16 ---------------------------------------------\n",
            "[[0 (50%)]] --> [[1 (50%)]]\n",
            "\n",
            "OrderedDict({'text': 'في قسم العوائل: عشاء يوم الأحد وسط أسبوع فرع الملك عبد العزيز أضخم فرع تأخر جدا الطلب. شربة ثمار البحر سيئة لم يتم شربها. المشويات جيدة رز بالقمبري جيد الخبز عادي وليس من الفرن الأسعار مرتفعة المكان مخيب للآمال، كانت لدي مناسبة وكنت [[أتوقعه]] فخم، أو على الأقل عادي، هو أسوأ من ذلك. مفرش الطاولة قذر وغير نظيف . الصحون والملاعق على الطاولة مكشوفة وغير نظيفة. لن أعاود الزيارة أبدا'})\n",
            "\n",
            "OrderedDict({'text': 'في قسم العوائل: عشاء يوم الأحد وسط أسبوع فرع الملك عبد العزيز أضخم فرع تأخر جدا الطلب. شربة ثمار البحر سيئة لم يتم شربها. المشويات جيدة رز بالقمبري جيد الخبز عادي وليس من الفرن الأسعار مرتفعة المكان مخيب للآمال، كانت لدي مناسبة وكنت [[أتوقع]] فخم، أو على الأقل عادي، هو أسوأ من ذلك. مفرش الطاولة قذر وغير نظيف . الصحون والملاعق على الطاولة مكشوفة وغير نظيفة. لن أعاود الزيارة أبدا'})\n",
            "\n",
            "\n",
            "--------------------------------------------- Result 17 ---------------------------------------------\n",
            "[[1 (54%)]] --> [[[SKIPPED]]]\n",
            "\n",
            "OrderedDict({'text': 'فندق لا يستحق نجوم . لا يوجد . اغلاق الشاطي و الحديقة في وقت مبكر من الساعة مساء و اغلاق جميع اضواء الفندق و مواقف سيارات ضيقة جدا عدم احترام من موظفين الفندق مع النزلاء'})\n",
            "\n",
            "\n"
          ]
        },
        {
          "output_type": "stream",
          "name": "stderr",
          "text": [
            "[Succeeded / Failed / Skipped / Total] 12 / 1 / 6 / 19:  19%|█▉        | 19/100 [00:16<01:10,  1.14it/s]"
          ]
        },
        {
          "output_type": "stream",
          "name": "stdout",
          "text": [
            "--------------------------------------------- Result 18 ---------------------------------------------\n",
            "[[0 (50%)]] --> [[1 (52%)]]\n",
            "\n",
            "OrderedDict({'text': 'لم أحب الكتاب كثيرا لأنه بدا لي فقط تجميعا للأحاديث التي تحدثت عن الصلاة المعروفة غالبا [[ولم]] يضف فيه الدكتور فريد الأنصاري من لمسته وأسلوبه إلا نادرا وقد ذكر ذلك في مقدمة الكتاب'})\n",
            "\n",
            "OrderedDict({'text': 'لم أحب الكتاب كثيرا لأنه بدا لي فقط تجميعا للأحاديث التي تحدثت عن الصلاة المعروفة غالبا [[وام]] يضف فيه الدكتور فريد الأنصاري من لمسته وأسلوبه إلا نادرا وقد ذكر ذلك في مقدمة الكتاب'})\n",
            "\n",
            "\n",
            "--------------------------------------------- Result 19 ---------------------------------------------\n",
            "[[1 (51%)]] --> [[[SKIPPED]]]\n",
            "\n",
            "OrderedDict({'text': 'الفندق قديم جدا . الموقع قريب من الحرم. الفندق قديم النظافة سيئة بعض الغرف فيها باب مشترك ويسبب إزعاج الإفطار والسحور في رمضان عادي ولا يقارن باي فندق خمس نجوم باختصار الفندق لا يصح ان يكون خمس نجوم'})\n",
            "\n",
            "\n"
          ]
        },
        {
          "output_type": "stream",
          "name": "stderr",
          "text": [
            "[Succeeded / Failed / Skipped / Total] 13 / 1 / 6 / 20:  20%|██        | 20/100 [00:16<01:07,  1.18it/s]"
          ]
        },
        {
          "output_type": "stream",
          "name": "stdout",
          "text": [
            "--------------------------------------------- Result 20 ---------------------------------------------\n",
            "[[0 (50%)]] --> [[1 (51%)]]\n",
            "\n",
            "OrderedDict({'text': 'ضعيف. . طلبت اغطيه للاطفال المرافقين ولم [[يتجاوبون]] معي بحجة لا يوجد حذاء الحمام لا يستبدلونه نهائياالانترنت لشخصين فقط لكل شقةلا تستطيع الاتصال بالمطاعم الخارجيةالسرير به اصوات مزعجة'})\n",
            "\n",
            "OrderedDict({'text': 'ضعيف. . طلبت اغطيه للاطفال المرافقين ولم [[يتجاوسبون]] معي بحجة لا يوجد حذاء الحمام لا يستبدلونه نهائياالانترنت لشخصين فقط لكل شقةلا تستطيع الاتصال بالمطاعم الخارجيةالسرير به اصوات مزعجة'})\n",
            "\n",
            "\n"
          ]
        },
        {
          "output_type": "stream",
          "name": "stderr",
          "text": [
            "\r[Succeeded / Failed / Skipped / Total] 14 / 1 / 6 / 21:  21%|██        | 21/100 [00:18<01:07,  1.17it/s]"
          ]
        },
        {
          "output_type": "stream",
          "name": "stdout",
          "text": [
            "--------------------------------------------- Result 21 ---------------------------------------------\n",
            "[[1 (51%)]] --> [[0 (50%)]]\n",
            "\n",
            "OrderedDict({'text': 'حسن الاستقبال حسن الاستقبال والترحيب وحسن الخلق غرف كبيرة وواسعة شعرنا براحة تامة انا وزوجتي وكأننا في المنزل نضافة واهتمام ملحوظين طاقم الفندق كانو متعاونين بشكل اكثر من رائع السرعة في تنفيذ الطلبات انصح به العوائل واي شخص يرغب بالراحة والسعر مناسب جدا بصراحة ملائم واعجبني جدا قريب من الاماكن التي يقصدها الزوار ك سوق واقف كورنيش موقعه مخدوم قريب من مطاعم وحلاقين ومأجرين سيارات وايضل صراف [[عملات]] لكنه محاط ب عماله [[وحي]] [[قديم]] بعض [[الشئ']]})\n",
            "\n",
            "OrderedDict({'text': 'حسن الاستقبال حسن الاستقبال والترحيب وحسن الخلق غرف كبيرة وواسعة شعرنا براحة تامة انا وزوجتي وكأننا في المنزل نضافة واهتمام ملحوظين طاقم الفندق كانو متعاونين بشكل اكثر من رائع السرعة في تنفيذ الطلبات انصح به العوائل واي شخص يرغب بالراحة والسعر مناسب جدا بصراحة ملائم واعجبني جدا قريب من الاماكن التي يقصدها الزوار ك سوق واقف كورنيش موقعه مخدوم قريب من مطاعم وحلاقين ومأجرين سيارات وايضل صراف [[عمللت]] لكنه محاط ب عماله [[وحى]] [[قدنيم]] بعض [[الشء']]})\n",
            "\n",
            "\n"
          ]
        },
        {
          "output_type": "stream",
          "name": "stderr",
          "text": [
            "[Succeeded / Failed / Skipped / Total] 15 / 1 / 6 / 22:  22%|██▏       | 22/100 [00:18<01:06,  1.18it/s]"
          ]
        },
        {
          "output_type": "stream",
          "name": "stdout",
          "text": [
            "--------------------------------------------- Result 22 ---------------------------------------------\n",
            "[[0 (54%)]] --> [[1 (51%)]]\n",
            "\n",
            "OrderedDict({'text': 'خيبت ظني كثيرا .. هناك شئ خطأ في كتابات أحمد خالد توفيق الأخيرة بداية من السنجة مرورا بشاي بالنعناع ووصولا بقهوة باليورانيوم .. سواء على مستوى القصة [[اوالمقال]] فهناك [[ضعف]] بارز في جوانب الجذب وحتى حس الفكاهة الذي يتميز به خارج قصص الرعب [[افتقد]] كثيرا في تلك الكتابات '})\n",
            "\n",
            "OrderedDict({'text': 'خيبت ظني كثيرا .. هناك شئ خطأ في كتابات أحمد خالد توفيق الأخيرة بداية من السنجة مرورا بشاي بالنعناع ووصولا بقهوة باليورانيوم .. سواء على مستوى القصة [[اذوالمقال]] فهناك [[ضحف]] بارز في جوانب الجذب وحتى حس الفكاهة الذي يتميز به خارج قصص الرعب [[افاقد]] كثيرا في تلك الكتابات '})\n",
            "\n",
            "\n"
          ]
        },
        {
          "output_type": "stream",
          "name": "stderr",
          "text": [
            "\r[Succeeded / Failed / Skipped / Total] 15 / 2 / 6 / 23:  23%|██▎       | 23/100 [00:20<01:07,  1.15it/s]"
          ]
        },
        {
          "output_type": "stream",
          "name": "stdout",
          "text": [
            "--------------------------------------------- Result 23 ---------------------------------------------\n",
            "[[1 (59%)]] --> [[[FAILED]]]\n",
            "\n",
            "OrderedDict({'text': 'شدني كثيرا اسم الكتاب وغلافه مميز. الفكرة كانت جميلة جدا. ونهايتة كانت مفاجئه'})\n",
            "\n",
            "\n"
          ]
        },
        {
          "output_type": "stream",
          "name": "stderr",
          "text": [
            "[Succeeded / Failed / Skipped / Total] 16 / 2 / 6 / 24:  24%|██▍       | 24/100 [00:21<01:06,  1.14it/s]"
          ]
        },
        {
          "output_type": "stream",
          "name": "stdout",
          "text": [
            "--------------------------------------------- Result 24 ---------------------------------------------\n",
            "[[0 (55%)]] --> [[1 (50%)]]\n",
            "\n",
            "OrderedDict({'text': '[[لم]] استطع اكمالها [[بالرغم]] [[من]] قصرها ولكن طريقة لقاء البطلين التقليدية في المقهى [[اصابتني]] [[بخيبة]] امل ، ربما هي ممتازة ولكن بالنسبة لي ان [[لم]] اجد شيئا مميزا وفريدا فلن تشد انتباهي الرواية.كذلك بقية الاحداث التي جاءت فيما بعد لم تكن ممتعة بما فيه الكفاية. الشيء الوحيد الذي اثار اعجابي كان وصف الكاتب لأريتيريا. وبالمناسبة النجمة كانت للغلاف '})\n",
            "\n",
            "OrderedDict({'text': '[[لك]] استطع اكمالها [[بالرغ]] [[مشن]] قصرها ولكن طريقة لقاء البطلين التقليدية في المقهى [[اصابتبي]] [[هبخيبة]] امل ، ربما هي ممتازة ولكن بالنسبة لي ان [[ضلم]] اجد شيئا مميزا وفريدا فلن تشد انتباهي الرواية.كذلك بقية الاحداث التي جاءت فيما بعد لم تكن ممتعة بما فيه الكفاية. الشيء الوحيد الذي اثار اعجابي كان وصف الكاتب لأريتيريا. وبالمناسبة النجمة كانت للغلاف '})\n",
            "\n",
            "\n"
          ]
        },
        {
          "output_type": "stream",
          "name": "stderr",
          "text": [
            "\r[Succeeded / Failed / Skipped / Total] 16 / 3 / 6 / 25:  25%|██▌       | 25/100 [00:23<01:10,  1.06it/s]"
          ]
        },
        {
          "output_type": "stream",
          "name": "stdout",
          "text": [
            "--------------------------------------------- Result 25 ---------------------------------------------\n",
            "[[1 (63%)]] --> [[[FAILED]]]\n",
            "\n",
            "OrderedDict({'text': 'كل شي فيه حلو والفروع الجديدة اللي يفتحونا على ارقى مستوى انا زرت فرع بشارع المطاعم جميل جدا وسمعت انو فيه كم فرع حيفتح بالتوفيق للجميع'})\n",
            "\n",
            "\n"
          ]
        },
        {
          "output_type": "stream",
          "name": "stderr",
          "text": [
            "[Succeeded / Failed / Skipped / Total] 17 / 3 / 6 / 26:  26%|██▌       | 26/100 [00:24<01:08,  1.08it/s]"
          ]
        },
        {
          "output_type": "stream",
          "name": "stdout",
          "text": [
            "--------------------------------------------- Result 26 ---------------------------------------------\n",
            "[[0 (51%)]] --> [[1 (51%)]]\n",
            "\n",
            "OrderedDict({'text': 'باختصار الكتاب [[خذلني]]..حديث متكرر ويبدو لي ان الكاتب [[ماتعب]] في التقصي والبحث العلمي واعتمد على استنتاجات شخصية. أغراني وصف الكتاب انه رسالة دكتوراة وتوقعت إني راح اقرأ كتاب موثق ومؤصل في البحث لا حديث أشبه بمقالات الصحف'})\n",
            "\n",
            "OrderedDict({'text': 'باختصار الكتاب [[خذلن]]..حديث متكرر ويبدو لي ان الكاتب [[ماتعة]] في التقصي والبحث العلمي واعتمد على استنتاجات شخصية. أغراني وصف الكتاب انه رسالة دكتوراة وتوقعت إني راح اقرأ كتاب موثق ومؤصل في البحث لا حديث أشبه بمقالات الصحف'})\n",
            "\n",
            "\n"
          ]
        },
        {
          "output_type": "stream",
          "name": "stderr",
          "text": [
            "\r[Succeeded / Failed / Skipped / Total] 18 / 3 / 6 / 27:  27%|██▋       | 27/100 [00:24<01:06,  1.09it/s]"
          ]
        },
        {
          "output_type": "stream",
          "name": "stdout",
          "text": [
            "--------------------------------------------- Result 27 ---------------------------------------------\n",
            "[[0 (52%)]] --> [[1 (51%)]]\n",
            "\n",
            "OrderedDict({'text': 'الامارات . الموقع جميل. [[هناك]] نقص في طاقم الاستقبال و طاقم التنظيف،وصلنا الساعه الظهر ولم نستلم الغرف حتى الساعه : مساء بسبب عدم اكتمال تنظيف الغرف ، هناك عنصريه في الفندق عند وصول الأجانب يتم استقبالهم و تسليمهم الغرف في نفس الوقت ولاكن ترى المواطنين [[مكدسين]] في استقبال الفندق لانتظار غرفهم'})\n",
            "\n",
            "OrderedDict({'text': 'الامارات . الموقع جميل. [[هنءاك]] نقص في طاقم الاستقبال و طاقم التنظيف،وصلنا الساعه الظهر ولم نستلم الغرف حتى الساعه : مساء بسبب عدم اكتمال تنظيف الغرف ، هناك عنصريه في الفندق عند وصول الأجانب يتم استقبالهم و تسليمهم الغرف في نفس الوقت ولاكن ترى المواطنين [[كدسين]] في استقبال الفندق لانتظار غرفهم'})\n",
            "\n",
            "\n"
          ]
        },
        {
          "output_type": "stream",
          "name": "stderr",
          "text": [
            "[Succeeded / Failed / Skipped / Total] 19 / 3 / 7 / 29:  29%|██▉       | 29/100 [00:27<01:07,  1.05it/s]"
          ]
        },
        {
          "output_type": "stream",
          "name": "stdout",
          "text": [
            "--------------------------------------------- Result 28 ---------------------------------------------\n",
            "[[1 (60%)]] --> [[0 (50%)]]\n",
            "\n",
            "OrderedDict({'text': '[[اى]] انسان لا يمكن ان يخلو من كرامة مهما يهن شأنه . مهما يكن من الامر [[فلا]] مفر [[من]] [[الحساب]] . [[الشمس]] [[ستشرق]] [[غدا]] [[على]] أرض خضراء و جو نقى . و على أى حال فقد [[استيقظ]] النائمون [[و]] [[تنبه]] [[الغافلون]] . لا [[تدع]] العواطف [[الشخصية]] تفسد [[عملك]] . [[أيها]] السادة أن تاريخ مصر [[يظهر]] بظهوركم على المسرح ، و [[ما]] [[قبل]] ذلك [[فظلام]] [[فى]] [[ظلام']]})\n",
            "\n",
            "OrderedDict({'text': '[[اا]] انسان لا يمكن ان يخلو من كرامة مهما يهن شأنه . مهما يكن من الامر [[فلاو]] مفر [[مت]] [[الساب]] . [[اكشمس]] [[صتشرق]] [[غدرا]] [[علي]] أرض خضراء و جو نقى . و على أى حال فقد [[اسييقظ]] النائمون [[وى]] [[آتنبه]] [[اكغافلون]] . لا [[دع]] العواطف [[الشخصىة]] تفسد [[عمىلك]] . [[أيةا]] السادة أن تاريخ مصر [[يظأهر]] بظهوركم على المسرح ، و [[مر]] [[قبلى]] ذلك [[فظيلام]] [[في]] [[ظلام'ز]]})\n",
            "\n",
            "\n",
            "--------------------------------------------- Result 29 ---------------------------------------------\n",
            "[[0 (52%)]] --> [[[SKIPPED]]]\n",
            "\n",
            "OrderedDict({'text': 'إحترت جدا في التقييم ، من ناحية اللغة فبلا شك احلام سيدة اللغة .. و من ناحية القصة بشكل عام فهي مربكة .. مملة .. غريبة .. مثيرة للفضول ، شعرت بكثير من التناقض بين صفحاتها حتى لا ادري ما رأيي بها ككل ، و كقصة حب فحياة مثيرة للشفقة أكره رحلات البحث عن الحب بهذه الطريقه الرخيصة، و وضعه في كتاب شئ مثير للشفقه ايضا .. لكن الرواية بشكل عام بكل تفاصيلها السياسية و المشاعر المختلفه و الحبكة العابرة فهي تستحق الأربع نجوم بتردد'})\n",
            "\n",
            "\n"
          ]
        },
        {
          "output_type": "stream",
          "name": "stderr",
          "text": [
            "[Succeeded / Failed / Skipped / Total] 20 / 3 / 8 / 31:  31%|███       | 31/100 [00:32<01:11,  1.04s/it]"
          ]
        },
        {
          "output_type": "stream",
          "name": "stdout",
          "text": [
            "--------------------------------------------- Result 30 ---------------------------------------------\n",
            "[[1 (57%)]] --> [[0 (50%)]]\n",
            "\n",
            "OrderedDict({'text': '[[راحة]] تامة الإقامة ب هي [[تذوق]] لحسن [[الضيافة]] الليبية بأروع مقاييسها. تم الإعتناء [[بكل]] [[ما]] يتعلق بزيارتنا، [[بدءا]] من تأشيرة السفر مرورا بتوصيل المطار [[إلى]] [[تنظيم]] رحلات إلى [[سبراطة]] و لبدة الكبرى. لم تفوتهم ادنى [[التفاصيل]]. علي، [[مدير]] [[المنشاة]] [[الممتاز]] والخدوم [[رسم]] لنا خرائط [[النزهة]] مشيا [[لمدينة]] [[طرابلس]] [[كما]] أرسلت لنا نادية بإرشادات تتعلق [[بسفرنا]] و أشرفت على تحضيير [[الأطعمة]] [[المطبوخة]] منزليا. الإقامة [[هنا]] كانت بمتابة النزول [[في]] بيت [[ليبي]] كضيف دفع [[التكاليف]] بدلا من النزول بفندق'})\n",
            "\n",
            "OrderedDict({'text': '[[رحة]] تامة الإقامة ب هي [[تذوئق]] لحسن [[اكضيافة]] الليبية بأروع مقاييسها. تم الإعتناء [[بلل]] [[م]] يتعلق بزيارتنا، [[بدا]] من تأشيرة السفر مرورا بتوصيل المطار [[إاى]] [[تنظم]] رحلات إلى [[سراطة]] و لبدة الكبرى. لم تفوتهم ادنى [[اىلتفاصيل]]. علي، [[ندير]] [[المنساة]] [[اممتاز]] والخدوم [[رس]] لنا خرائط [[لنزهة]] مشيا [[لمدينه]] [[طرابلص]] [[كدما]] أرسلت لنا نادية بإرشادات تتعلق [[سفرنا]] و أشرفت على تحضيير [[الأطحمة]] [[المضبوخة]] منزليا. الإقامة [[هزنا]] كانت بمتابة النزول [[فيد]] بيت [[ظليبي]] كضيف دفع [[ىلتكاليف]] بدلا من النزول بفندق'})\n",
            "\n",
            "\n",
            "--------------------------------------------- Result 31 ---------------------------------------------\n",
            "[[1 (51%)]] --> [[[SKIPPED]]]\n",
            "\n",
            "OrderedDict({'text': 'ا للاهمال والاستغلال . موقع الفندق. خدمة النت غير مجانيهالسيرفس ضعيف جدا جدا لم يكن حجز الغرفه مؤكد مما دعانا للانتظار فتره طويله ضريبه الفندق مرتفعه جدا تحويل النقود لعملة الدرهم بثلاث أضعاف عن السوق'})\n",
            "\n",
            "\n"
          ]
        },
        {
          "output_type": "stream",
          "name": "stderr",
          "text": [
            "[Succeeded / Failed / Skipped / Total] 20 / 4 / 8 / 32:  32%|███▏      | 32/100 [00:33<01:10,  1.04s/it]"
          ]
        },
        {
          "output_type": "stream",
          "name": "stdout",
          "text": [
            "--------------------------------------------- Result 32 ---------------------------------------------\n",
            "[[1 (66%)]] --> [[[FAILED]]]\n",
            "\n",
            "OrderedDict({'text': 'موقع ممتاز مع اناقة المكان . موقع الفندق. الافطار جيد فقط'})\n",
            "\n",
            "\n"
          ]
        },
        {
          "output_type": "stream",
          "name": "stderr",
          "text": [
            "[Succeeded / Failed / Skipped / Total] 21 / 4 / 8 / 33:  33%|███▎      | 33/100 [00:45<01:31,  1.37s/it]"
          ]
        },
        {
          "output_type": "stream",
          "name": "stdout",
          "text": [
            "--------------------------------------------- Result 33 ---------------------------------------------\n",
            "[[0 (58%)]] --> [[1 (50%)]]\n",
            "\n",
            "OrderedDict({'text': '[[من]] البداية العنوان لا علاقة [[له]] بموضوع الكتاب: [[العنوان]] [[اعطاني]] [[ايحاء]] بان [[الكتاب]] [[هيحلل]] شخصيات كل المقربين [[من]] [[محمد]] علي [[ودورهم]] [[في]] الانجازات [[اللي]] عملها محمد علي سواء عسكريا [[او]] [[اقتصاديا]]... لكن المقدمة [[اخدت]] منها فكرة ان الكتاب [[هيتسعرض]] فترة حكم محمد علي عن [[طريق]] [[جيشه]] اللي [[هيعمل]] خلفية عن باقي الحكم ودا [[هيكون]] عن [[طريق]] قاعدة الجنود المصريين [[واحساسهم]] ايه [[بالتجنيد]] [[الاجباري]]، بجانب انه [[هيتجاهل]] ذكر محمد علي قدر الامكان عشان يدي صورة موضوعية للاحداث [[ولتجنب]] طرق عرض السابقين لتاريخ محمد علي [[اللي]] كان هو محور التركيز فيها ، ولكن الكتاب محتواش اي من ما ذكر في المقدمة: [[فالتركيز]] كان فقط على ابراهيم باشا وسليمان باشا [[وكلوت]] بك [[ودورهم]] في [[حروب]] محمد علي، وبالنسبة [[للجنود]] وفي معظم الاحوال كان التركيز فقط على محاولات الهروب من التجنيد [[بدون]] وصف اي مشاعر للجنود في اثناء المعسكرات او السفر او الحروب [[او]] [[مواقفهم]] [[او]] اي [[مايتعلق]] بهم بحجة [[ان]] كلهم كانوا [[اميين]]، ومعظم الادلة اللي [[استعملها]] المؤلف كانت مراسلات [[بين]] محمد علي وولده ابراهيم...الانطباع اللي [[احسست]] ان المؤلف [[عاوز]] [[يوصله]] هو ان [[محمد]] علي كان ديكتاتور [[وكان]] فاسد وكان يعمل فقط لمصحلته الشخصية علما ان دي وجهة نظري في الحقيقة ومن [[قبل]] ان اقرا الكتاب [[بسنوات]] ولكن بدون اي موضوعية في التحليل باستخدام فقط [[بعض]] الرسائل اللي بيسب فيها محمد علي المصريين. الكاتب مختلفش كتير عن مادحي محمد علي في [[مدحهم]] [[المبالغ]] فيه للرجل لكن هو كان من ذاميه [[وبنفس]] الاسلوب'})\n",
            "\n",
            "OrderedDict({'text': '[[لن]] البداية العنوان لا علاقة [[ه]] بموضوع الكتاب: [[لعنوان]] [[ىعطاني]] [[ريحاء]] بان [[القتاب]] [[يحلل]] شخصيات كل المقربين [[مت]] [[نحمد]] علي [[ودرهم]] [[ف]] الانجازات [[الليى]] عملها محمد علي سواء عسكريا [[غاو]] [[ىقتصاديا]]... لكن المقدمة [[اخت]] منها فكرة ان الكتاب [[هنتسعرض]] فترة حكم محمد علي عن [[ريق]] [[جيشهن]] اللي [[هيعما]] خلفية عن باقي الحكم ودا [[يكون]] عن [[طري]] قاعدة الجنود المصريين [[احساسهم]] ايه [[بالتجيد]] [[الاحباري]]، بجانب انه [[هيتاهل]] ذكر محمد علي قدر الامكان عشان يدي صورة موضوعية للاحداث [[ولتجىنب]] طرق عرض السابقين لتاريخ محمد علي [[للي]] كان هو محور التركيز فيها ، ولكن الكتاب محتواش اي من ما ذكر في المقدمة: [[فلتركيز]] كان فقط على ابراهيم باشا وسليمان باشا [[وككوت]] بك [[ودوره]] في [[عروب]] محمد علي، وبالنسبة [[للجنجود]] وفي معظم الاحوال كان التركيز فقط على محاولات الهروب من التجنيد [[دون]] وصف اي مشاعر للجنود في اثناء المعسكرات او السفر او الحروب [[ىو]] [[مواقفهن]] [[و]] اي [[مايتعل]] بهم بحجة [[ىن]] كلهم كانوا [[ناميين]]، ومعظم الادلة اللي [[استعمنها]] المؤلف كانت مراسلات [[بن]] محمد علي وولده ابراهيم...الانطباع اللي [[اسست]] ان المؤلف [[عروز]] [[يعوصله]] هو ان [[مح]]ِ[[مد]] علي كان ديكتاتور [[وكصان]] فاسد وكان يعمل فقط لمصحلته الشخصية علما ان دي وجهة نظري في الحقيقة ومن [[قل]] ان اقرا الكتاب [[بسموات]] ولكن بدون اي موضوعية في التحليل باستخدام فقط [[بع]] الرسائل اللي بيسب فيها محمد علي المصريين. الكاتب مختلفش كتير عن مادحي محمد علي في [[مدفحهم]] [[المبمالغ]] فيه للرجل لكن هو كان من ذاميه [[وبنف]] الاسلوب'})\n",
            "\n",
            "\n"
          ]
        },
        {
          "output_type": "stream",
          "name": "stderr",
          "text": [
            "[Succeeded / Failed / Skipped / Total] 22 / 4 / 8 / 34:  34%|███▍      | 34/100 [00:46<01:29,  1.35s/it]"
          ]
        },
        {
          "output_type": "stream",
          "name": "stdout",
          "text": [
            "--------------------------------------------- Result 34 ---------------------------------------------\n",
            "[[0 (55%)]] --> [[1 (51%)]]\n",
            "\n",
            "OrderedDict({'text': 'رواية [[سخيفة]] وسطحية بمعنى الكلمة...واقرب ما تكون الى ملاحظات الجوال التي كنا نتداولها ايام المراهقة... [[لم]] أستطع انهائهاولو كانت انثى هي من كتبها لكانت أهون تلقيا وقبولا.. العنوان [[مبهم]] ولا يوحي بشيء الى ما بداخل الرواية او القصة [[المبتذلة]] او سمها ما شئت'})\n",
            "\n",
            "OrderedDict({'text': 'رواية [[سيفة]] وسطحية بمعنى الكلمة...واقرب ما تكون الى ملاحظات الجوال التي كنا نتداولها ايام المراهقة... [[لخم]] أستطع انهائهاولو كانت انثى هي من كتبها لكانت أهون تلقيا وقبولا.. العنوان [[لبهم]] ولا يوحي بشيء الى ما بداخل الرواية او القصة [[النبتذلة]] او سمها ما شئت'})\n",
            "\n",
            "\n"
          ]
        },
        {
          "output_type": "stream",
          "name": "stderr",
          "text": [
            "[Succeeded / Failed / Skipped / Total] 22 / 5 / 8 / 35:  35%|███▌      | 35/100 [00:46<01:26,  1.33s/it]"
          ]
        },
        {
          "output_type": "stream",
          "name": "stdout",
          "text": [
            "--------------------------------------------- Result 35 ---------------------------------------------\n",
            "[[1 (67%)]] --> [[[FAILED]]]\n",
            "\n",
            "OrderedDict({'text': 'استثنائي. الهدوء والنظافه. أشياء بسيطه'})\n",
            "\n",
            "\n"
          ]
        },
        {
          "output_type": "stream",
          "name": "stderr",
          "text": [
            "[Succeeded / Failed / Skipped / Total] 23 / 5 / 8 / 36:  36%|███▌      | 36/100 [00:48<01:26,  1.35s/it]"
          ]
        },
        {
          "output_type": "stream",
          "name": "stdout",
          "text": [
            "--------------------------------------------- Result 36 ---------------------------------------------\n",
            "[[1 (51%)]] --> [[0 (50%)]]\n",
            "\n",
            "OrderedDict({'text': 'عزيزتي تالا.. افتخري بأبيكي البطل الذي لم اكن اظن ان مثله موجود الا في الروايات و الافلام. لن اقيم الكتاب علي اساس اللغة و السرد و الحوار و ما شابه. [[فان]] امثالها نتعلم منها قيم و افكار اهم من الكلمات و اللغة و السرد. تعليقي للبطل هو كيف استطاع ان ينجو من فتن الدنيا؟ و كيف جعل كل ما يملكه و يتعلمه مثل العلم و الذكاء و القوه و المال من اجل الله و دفاعا عن الوطن. كيف في زمن جعل كل هذه الاشياء وسيله [[لغاية]] اسمى و ليست هدفا في حد ذاتها. ذلك [[الاخلاص]] هو ما ابهرني حقا اكثر من قدرات البطل و ما يملك من مهارات. فكثير من الناس يملكونها لكنهم يسخروها لخدمة انفسهم فقط. ارجو ان يتقبل الله منك كل [[تضحياتك]] و ان [[يرزقك]] الشهادة و بمثل هذا البطل تحرر [[البلاد']]})\n",
            "\n",
            "OrderedDict({'text': 'عزيزتي تالا.. افتخري بأبيكي البطل الذي لم اكن اظن ان مثله موجود الا في الروايات و الافلام. لن اقيم الكتاب علي اساس اللغة و السرد و الحوار و ما شابه. [[ان]] امثالها نتعلم منها قيم و افكار اهم من الكلمات و اللغة و السرد. تعليقي للبطل هو كيف استطاع ان ينجو من فتن الدنيا؟ و كيف جعل كل ما يملكه و يتعلمه مثل العلم و الذكاء و القوه و المال من اجل الله و دفاعا عن الوطن. كيف في زمن جعل كل هذه الاشياء وسيله [[لاية]] اسمى و ليست هدفا في حد ذاتها. ذلك [[الاخااص]] هو ما ابهرني حقا اكثر من قدرات البطل و ما يملك من مهارات. فكثير من الناس يملكونها لكنهم يسخروها لخدمة انفسهم فقط. ارجو ان يتقبل الله منك كل [[تضحاتك]] و ان [[ىرزقك]] الشهادة و بمثل هذا البطل تحرر [[البلرد']]})\n",
            "\n",
            "\n"
          ]
        },
        {
          "output_type": "stream",
          "name": "stderr",
          "text": [
            "[Succeeded / Failed / Skipped / Total] 24 / 5 / 8 / 37:  37%|███▋      | 37/100 [00:49<01:23,  1.33s/it]"
          ]
        },
        {
          "output_type": "stream",
          "name": "stdout",
          "text": [
            "--------------------------------------------- Result 37 ---------------------------------------------\n",
            "[[0 (57%)]] --> [[1 (50%)]]\n",
            "\n",
            "OrderedDict({'text': '[[نعم]] [[انها]] من الكتب العادية جدا رغم طابعها المضحك الاهم من [[ذلك]] انني لم اتكلف عناء شرائها او قرائتها فقط [[سمعتها]] لمدة ساعتين او اكثر وانا اؤدي بعض الاعمال الاخرى احببت جدا تجربة الكتب المسموعة لكن الكتاب كان لابأس به'})\n",
            "\n",
            "OrderedDict({'text': '[[نعك]] [[رنها]] من الكتب العادية جدا رغم طابعها المضحك الاهم من [[كذلك]] انني لم اتكلف عناء شرائها او قرائتها فقط [[سلعتها]] لمدة ساعتين او اكثر وانا اؤدي بعض الاعمال الاخرى احببت جدا تجربة الكتب المسموعة لكن الكتاب كان لابأس به'})\n",
            "\n",
            "\n"
          ]
        },
        {
          "output_type": "stream",
          "name": "stderr",
          "text": [
            "[Succeeded / Failed / Skipped / Total] 24 / 6 / 9 / 39:  39%|███▉      | 39/100 [00:51<01:20,  1.32s/it]"
          ]
        },
        {
          "output_type": "stream",
          "name": "stdout",
          "text": [
            "--------------------------------------------- Result 38 ---------------------------------------------\n",
            "[[1 (64%)]] --> [[[FAILED]]]\n",
            "\n",
            "OrderedDict({'text': 'استثنائي. الفندق ملاصق للمول وبينهم مدخل مشترك ويتوفر بالمول المحلات التجارية والكوفيات المشهورة والمطاعم بالاضافة الى وجود سينما'})\n",
            "\n",
            "\n",
            "--------------------------------------------- Result 39 ---------------------------------------------\n",
            "[[0 (55%)]] --> [[[SKIPPED]]]\n",
            "\n",
            "OrderedDict({'text': 'للمره الثانية اقرأ هذا الكتاب .. حاولت أجد عزائي في اشياء صغيرة و تفاصيل كلنت تسعدنا قديما لكن هيهات .. شاخت نفسي غن مثل تلك الاشياء .. و كعادتي اجد عزائي في كلمات عبد الوهاب مطاوع. . لكن هذه المبادئ و المثل التي تحكي عنها و التي كبرت في داخلي الي حد الاقتناع اجدها غير متحققة وان الواقع مختلف و بعيد كل البعد عنها وان ما تذكره هو الاستثناء بعينه .. ولا يوجد استثناء .. كل مره نصل الي نفس منعطف الطريق و نتمني ان تكون القاضية .. ولكنها لا تكن.. لعها محاولات مني في الاحتفاظ بشئ من بقايا الخطوط عسي ان تجدد و تنمو و تقوي كما كانت من قبل'})\n",
            "\n",
            "\n"
          ]
        },
        {
          "output_type": "stream",
          "name": "stderr",
          "text": [
            "[Succeeded / Failed / Skipped / Total] 24 / 7 / 9 / 40:  40%|████      | 40/100 [00:53<01:19,  1.33s/it]"
          ]
        },
        {
          "output_type": "stream",
          "name": "stdout",
          "text": [
            "--------------------------------------------- Result 40 ---------------------------------------------\n",
            "[[1 (61%)]] --> [[[FAILED]]]\n",
            "\n",
            "OrderedDict({'text': 'رغم الحزن الموجود في حروفك ... الا انها جميعا مكتوبه بحبر تفاؤل . تناقض غريب ... ولكن رائع ... شكرا لقلمك'})\n",
            "\n",
            "\n"
          ]
        },
        {
          "output_type": "stream",
          "name": "stderr",
          "text": [
            "\r[Succeeded / Failed / Skipped / Total] 25 / 7 / 9 / 41:  41%|████      | 41/100 [00:53<01:17,  1.31s/it]"
          ]
        },
        {
          "output_type": "stream",
          "name": "stdout",
          "text": [
            "--------------------------------------------- Result 41 ---------------------------------------------\n",
            "[[0 (52%)]] --> [[1 (50%)]]\n",
            "\n",
            "OrderedDict({'text': 'الإهتمام مستقبلا بالملاحظات والسعر . الموقع ممتازتوفر مواقف سفليه للسيارات. زعاج السيارات من الشارع النت سيئ جدا ولايكاد يذكر عدم تلبية طلبات النزيل من خدمة العملاء كان هنالك مشكلة عطل في المصعدولم يتم إصلاحه أثناء سكني لمدة [[أيامواضطررت]] لإستخدام السلالم لأكثر من [[مرهوكانت]] مرهقه جدا جدا جدا'})\n",
            "\n",
            "OrderedDict({'text': 'الإهتمام مستقبلا بالملاحظات والسعر . الموقع ممتازتوفر مواقف سفليه للسيارات. زعاج السيارات من الشارع النت سيئ جدا ولايكاد يذكر عدم تلبية طلبات النزيل من خدمة العملاء كان هنالك مشكلة عطل في المصعدولم يتم إصلاحه أثناء سكني لمدة [[أيامواضطرر]] لإستخدام السلالم لأكثر من [[مرشهوكانت]] مرهقه جدا جدا جدا'})\n",
            "\n",
            "\n"
          ]
        },
        {
          "output_type": "stream",
          "name": "stderr",
          "text": [
            "[Succeeded / Failed / Skipped / Total] 26 / 7 / 10 / 43:  43%|████▎     | 43/100 [00:56<01:14,  1.32s/it]"
          ]
        },
        {
          "output_type": "stream",
          "name": "stdout",
          "text": [
            "--------------------------------------------- Result 42 ---------------------------------------------\n",
            "[[1 (61%)]] --> [[0 (50%)]]\n",
            "\n",
            "OrderedDict({'text': '[[الجارة]] [[وانت]] [[اسمك]] [[إيه]]؟ أجملهم إطلاقا. خبرة النهاية [[وصفاء]] [[البداية]] وتشابه [[ما]] [[بالوسط]]، [[بين]] عجوز يقبل [[الحياة]] [[وطفل]] [[يمتلكها]]. رائعة.. [[صدفة]] أن [[أول]] القصص [[الست]] هنا عن [[طفل]] [[وآخرها]] عن عجوز بالثمانين من [[العمر]]؟. أيا، [[أحببت]] [[الكتاب']]})\n",
            "\n",
            "OrderedDict({'text': '[[الجارت]] [[واظنت]] [[اسك]] [[إية]]؟ أجملهم إطلاقا. خبرة النهاية [[وصفىء]] [[البذاية]] وتشابه [[مى]] [[بللوسط]]، [[بحين]] عجوز يقبل [[لحياة]] [[زطفل]] [[يمتلكةا]]. رائعة.. [[صدفةا]] أن [[أودل]] القصص [[اشلست]] هنا عن [[طفذل]] [[وآخذها]] عن عجوز بالثمانين من [[املعمر]]؟. أيا، [[أحبعبت]] [[الكتاي']]})\n",
            "\n",
            "\n",
            "--------------------------------------------- Result 43 ---------------------------------------------\n",
            "[[1 (58%)]] --> [[[SKIPPED]]]\n",
            "\n",
            "OrderedDict({'text': 'تجربة فاشلة . . السعر مقابل الخدمة سيء . اصوات الجيران مسموعه. نظافة الغرفة سيئة . التكييف دون المستوى'})\n",
            "\n",
            "\n"
          ]
        },
        {
          "output_type": "stream",
          "name": "stderr",
          "text": [
            "[Succeeded / Failed / Skipped / Total] 27 / 7 / 11 / 45:  45%|████▌     | 45/100 [00:57<01:10,  1.28s/it]"
          ]
        },
        {
          "output_type": "stream",
          "name": "stdout",
          "text": [
            "--------------------------------------------- Result 44 ---------------------------------------------\n",
            "[[1 (54%)]] --> [[0 (50%)]]\n",
            "\n",
            "OrderedDict({'text': '[[جمال]] [[دبي]] في [[سكن]] مثل هذه الشقق . عطوني شقتين صغار بدلا من واحدة بغرفتي نوم ،لانه على [[قولهم]] تأخرت وماسحبت البطاقة . وفي الحقيقة لم اتأخر بل أجروا الشقة لشخص اخر .فتم تعويضي بشقتين غرفة واحدة ، وفطور [[مجاني]] ،جزاهم الله [[خير]] . [[كل]] [[شيء]] روعة روعة روعة'})\n",
            "\n",
            "OrderedDict({'text': '[[خمال]] [[دتبي]] في [[صكن]] مثل هذه الشقق . عطوني شقتين صغار بدلا من واحدة بغرفتي نوم ،لانه على [[لقولهم]] تأخرت وماسحبت البطاقة . وفي الحقيقة لم اتأخر بل أجروا الشقة لشخص اخر .فتم تعويضي بشقتين غرفة واحدة ، وفطور [[مجانى]] ،جزاهم الله [[خءير]] . [[ؤكل]] [[شء]] روعة روعة روعة'})\n",
            "\n",
            "\n",
            "--------------------------------------------- Result 45 ---------------------------------------------\n",
            "[[1 (65%)]] --> [[[SKIPPED]]]\n",
            "\n",
            "OrderedDict({'text': 'تشيز كيك بالفراولة ماله طعم مجرد شوية جبن وكريمة خفق .والفراولة اللي فوق لون احمر بس'})\n",
            "\n",
            "\n"
          ]
        },
        {
          "output_type": "stream",
          "name": "stderr",
          "text": [
            "[Succeeded / Failed / Skipped / Total] 27 / 8 / 11 / 46:  46%|████▌     | 46/100 [01:00<01:10,  1.31s/it]"
          ]
        },
        {
          "output_type": "stream",
          "name": "stdout",
          "text": [
            "--------------------------------------------- Result 46 ---------------------------------------------\n",
            "[[1 (62%)]] --> [[[FAILED]]]\n",
            "\n",
            "OrderedDict({'text': 'سوف أقيم في هذا الفندق كل مرة بإذن الله تعالى . موظفي الاستقبال في قمة الذوق والأخلاق خاصة الموظفة شيلافيوسام. سعر الإفطار غالي ولا يناسب هذا الشهر الكريم'})\n",
            "\n",
            "\n"
          ]
        },
        {
          "output_type": "stream",
          "name": "stderr",
          "text": [
            "\r[Succeeded / Failed / Skipped / Total] 28 / 8 / 11 / 47:  47%|████▋     | 47/100 [01:00<01:08,  1.29s/it]"
          ]
        },
        {
          "output_type": "stream",
          "name": "stdout",
          "text": [
            "--------------------------------------------- Result 47 ---------------------------------------------\n",
            "[[1 (50%)]] --> [[0 (51%)]]\n",
            "\n",
            "OrderedDict({'text': 'مش عارفه أبدأ منين بوصف الروايه دى او كاتبها ... عجبتنى أوى اللغه اللى كتب بيها وأسلوبه المنتظم... وأحداثها مثيره جدا... روايه عميقة وممتعة فيها تساؤلات عجبتني قوي... تستحق [[القراءه']]})\n",
            "\n",
            "OrderedDict({'text': 'مش عارفه أبدأ منين بوصف الروايه دى او كاتبها ... عجبتنى أوى اللغه اللى كتب بيها وأسلوبه المنتظم... وأحداثها مثيره جدا... روايه عميقة وممتعة فيها تساؤلات عجبتني قوي... تستحق [[الكراءه']]})\n",
            "\n",
            "\n"
          ]
        },
        {
          "output_type": "stream",
          "name": "stderr",
          "text": [
            "[Succeeded / Failed / Skipped / Total] 29 / 8 / 11 / 48:  48%|████▊     | 48/100 [01:01<01:06,  1.27s/it]"
          ]
        },
        {
          "output_type": "stream",
          "name": "stdout",
          "text": [
            "--------------------------------------------- Result 48 ---------------------------------------------\n",
            "[[0 (53%)]] --> [[1 (51%)]]\n",
            "\n",
            "OrderedDict({'text': 'أفكار مستهلكة .... أحداث سريعة [[متداخلة]] و متوقعة. شخصيات منسية و كانت بمثابة الحشو. [[أخطاء]] لغوية و نحوية متكررة .... أسلوب السرد متواضع جدا.... المواعض كانت مسقطة اسقاط .... أظن الكاتب استعحل [[فى]] نشر أول عمل له'})\n",
            "\n",
            "OrderedDict({'text': 'أفكار مستهلكة .... أحداث سريعة [[ماداخلة]] و متوقعة. شخصيات منسية و كانت بمثابة الحشو. [[أخصاء]] لغوية و نحوية متكررة .... أسلوب السرد متواضع جدا.... المواعض كانت مسقطة اسقاط .... أظن الكاتب استعحل [[ف]] نشر أول عمل له'})\n",
            "\n",
            "\n"
          ]
        },
        {
          "output_type": "stream",
          "name": "stderr",
          "text": [
            "\r[Succeeded / Failed / Skipped / Total] 30 / 8 / 11 / 49:  49%|████▉     | 49/100 [01:05<01:08,  1.33s/it]"
          ]
        },
        {
          "output_type": "stream",
          "name": "stdout",
          "text": [
            "--------------------------------------------- Result 49 ---------------------------------------------\n",
            "[[0 (60%)]] --> [[1 (50%)]]\n",
            "\n",
            "OrderedDict({'text': '[[أول]] [[تجربة]] [[لي]] مع الغزالي. تمنيت كثيرا عن أحب [[الكتاب]]، لكنني [[لم]] استطع.. [[مواضيع]] الكتاب [[كانت]] جميلة، [[كنت]] سأحبه أكثر لو استطرد الغزالي اكثر في المواضيع بدلا عن [[اقتباس]] ماقاله [[ديل]] [[كارنجي]] وغيره ومن ثم ربطها بآية أو حديث.. أنا بالعموم لا أميل لقراءة الكتب [[التي]] تصنف تحت تنمية الذات، أظن ان ذلك عائد لكثرة المحاضرات والدورات التي [[حضرتها]] في فترة من [[الفترات]] لدرجة أني تشبعت منها تماما'})\n",
            "\n",
            "OrderedDict({'text': '[[أل]] [[يجربة]] [[ليل]] مع الغزالي. تمنيت كثيرا عن أحب [[الكناب]]، لكنني [[لعم]] استطع.. [[لواضيع]] الكتاب [[انت]] جميلة، [[كنست]] سأحبه أكثر لو استطرد الغزالي اكثر في المواضيع بدلا عن [[اقتباد]] ماقاله [[دين]] [[كارنخي]] وغيره ومن ثم ربطها بآية أو حديث.. أنا بالعموم لا أميل لقراءة الكتب [[التب]] تصنف تحت تنمية الذات، أظن ان ذلك عائد لكثرة المحاضرات والدورات التي [[حضرتهر]] في فترة من [[الغترات]] لدرجة أني تشبعت منها تماما'})\n",
            "\n",
            "\n"
          ]
        },
        {
          "output_type": "stream",
          "name": "stderr",
          "text": [
            "[Succeeded / Failed / Skipped / Total] 31 / 8 / 12 / 51:  51%|█████     | 51/100 [01:08<01:06,  1.35s/it]"
          ]
        },
        {
          "output_type": "stream",
          "name": "stdout",
          "text": [
            "--------------------------------------------- Result 50 ---------------------------------------------\n",
            "[[1 (56%)]] --> [[0 (50%)]]\n",
            "\n",
            "OrderedDict({'text': 'الكتاب الذي أبكاني واضحكني .. وجعل شوقي لفلسطين [[يزيد]] ويشتعل .. ربنا يكرمنا [[بسجدة]] في المسجد [[الأقصى]] .. ربنا يكرم كل [[مغترب]] ويعود إلى بلده ... [[لغة]] الكتاب رائعة وذكية .. نحن نحب فلسطين فكيف [[بمن]] يحكينا عنها ويصفها لنا ويكون من أهلها ؟؟. اقتبس من الكتاب ... لكل امرئ ظلامه ..لكل امرئ حقه في الظلام . إن [[السنوات]] محمولة على كتفيك .. تفعل فعلها البطئ دون أن تقرع أيه أجراس . كان علينا أن ننتظر طويلا قبل أن [[تعلمنا]] الحياة [[عبر]] رحلتنا الطويلة نحو [[الحكمة]] والحزن انه حتى اسنان المشط لا تتشابه في الواقع . من السهل [[طمس]] الحقيقة بحيلة [[لغوية]] بسيطة : إبدأ [[حكايتك]] من [[ثانيا]] . نحن لم نخسر [[فلسطين]] في مباراة [[للمنطق]] لقد خسرناها [[بالإكراه]] [[والفوة']]})\n",
            "\n",
            "OrderedDict({'text': 'الكتاب الذي أبكاني واضحكني .. وجعل شوقي لفلسطين [[يزيطد]] ويشتعل .. ربنا يكرمنا [[بسجدت]] في المسجد [[اكأقصى]] .. ربنا يكرم كل [[مترب]] ويعود إلى بلده ... [[لصغة]] الكتاب رائعة وذكية .. نحن نحب فلسطين فكيف [[بن]] يحكينا عنها ويصفها لنا ويكون من أهلها ؟؟. اقتبس من الكتاب ... لكل امرئ ظلامه ..لكل امرئ حقه في الظلام . إن [[اخلسنوات]] محمولة على كتفيك .. تفعل فعلها البطئ دون أن تقرع أيه أجراس . كان علينا أن ننتظر طويلا قبل أن [[تعلمنى]] الحياة [[عب]] رحلتنا الطويلة نحو [[الحةكمة]] والحزن انه حتى اسنان المشط لا تتشابه في الواقع . من السهل [[صطمس]] الحقيقة بحيلة [[لغويه]] بسيطة : إبدأ [[حكايثك]] من [[انيا]] . نحن لم نخسر [[فلسطيب]] في مباراة [[للملنطق]] لقد خسرناها [[بالإكذاه]] [[هالفوة']]})\n",
            "\n",
            "\n",
            "--------------------------------------------- Result 51 ---------------------------------------------\n",
            "[[0 (59%)]] --> [[[SKIPPED]]]\n",
            "\n",
            "OrderedDict({'text': 'مع مهل عشت الحزن والفرح وبالرغم من ان الحزن سيطر على اغلب اجواء الرواية إلا انني استمتعت جدا بقراءتها ... اسلوب الكاتب بسيط وسلس مما جعلني انهيها في جلستين تقريبا ... ومع ان النهاية لم تكن تلك التى اطمح ان تكون إلا ان الرواية حركت بداخلي اشياء كثيرة'})\n",
            "\n",
            "\n"
          ]
        },
        {
          "output_type": "stream",
          "name": "stderr",
          "text": [
            "[Succeeded / Failed / Skipped / Total] 31 / 9 / 12 / 52:  52%|█████▏    | 52/100 [01:10<01:04,  1.35s/it]"
          ]
        },
        {
          "output_type": "stream",
          "name": "stdout",
          "text": [
            "--------------------------------------------- Result 52 ---------------------------------------------\n",
            "[[1 (61%)]] --> [[[FAILED]]]\n",
            "\n",
            "OrderedDict({'text': 'الحازمي موظف الاستقبال شخص جدا متعاون . لم اجرب الافطار ولكن كان السرير مريحا'})\n",
            "\n",
            "\n"
          ]
        },
        {
          "output_type": "stream",
          "name": "stderr",
          "text": [
            "\r[Succeeded / Failed / Skipped / Total] 32 / 9 / 12 / 53:  53%|█████▎    | 53/100 [01:11<01:03,  1.35s/it]"
          ]
        },
        {
          "output_type": "stream",
          "name": "stdout",
          "text": [
            "--------------------------------------------- Result 53 ---------------------------------------------\n",
            "[[0 (54%)]] --> [[1 (50%)]]\n",
            "\n",
            "OrderedDict({'text': '[[ممممممم]] فرج [[فودة]] رغم استفادتى من كتبه على نحو كبير ولكن بعد قراءتى [[لاكثر]] من مؤلف له [[تيقنت]] بأنه شخص يبتذل بل يتفنن فى صنع الخلاف. [[مممممممم]] لا [[أجد]] فيما كتب فرج فودة سببا يدعو لقتله او إغتياله..... و رغم اعترافى بانه جدلى لدرجة قد دفعته للاستشهاد باحداث ابتدعها الشيعة فى حق الصحابة للتأكيد على فكرته. [[ولكنه]] فى المعظم يبنى حجته بالبرهان و على من يناقضه ان يفعل المثل'})\n",
            "\n",
            "OrderedDict({'text': '[[مممءمممم]] فرج [[يفودة]] رغم استفادتى من كتبه على نحو كبير ولكن بعد قراءتى [[ناكثر]] من مؤلف له [[تتقنت]] بأنه شخص يبتذل بل يتفنن فى صنع الخلاف. [[لممممممم]] لا [[أحد]] فيما كتب فرج فودة سببا يدعو لقتله او إغتياله..... و رغم اعترافى بانه جدلى لدرجة قد دفعته للاستشهاد باحداث ابتدعها الشيعة فى حق الصحابة للتأكيد على فكرته. [[هلكنه]] فى المعظم يبنى حجته بالبرهان و على من يناقضه ان يفعل المثل'})\n",
            "\n",
            "\n"
          ]
        },
        {
          "output_type": "stream",
          "name": "stderr",
          "text": [
            "[Succeeded / Failed / Skipped / Total] 33 / 9 / 12 / 54:  54%|█████▍    | 54/100 [01:13<01:02,  1.36s/it]"
          ]
        },
        {
          "output_type": "stream",
          "name": "stdout",
          "text": [
            "--------------------------------------------- Result 54 ---------------------------------------------\n",
            "[[0 (54%)]] --> [[1 (50%)]]\n",
            "\n",
            "OrderedDict({'text': 'ا [[يعتبر]] فندق ولكن شقق مفروشه من الدرجه المتوسطه . طاقم العمل كان متساعدا في وقت الدخول و الخروج و اعجبتني الاطلاله من المطعم. [[تم]] تسليمي غرفه غير مطابقه لحجزي و اقل منها بحجه [[اني]] طلبت تسجيل وصول مبكر ولم ينتبهوا له [[و]] اسعار الكفيتيريا مبالغ فيها ، لا يوجد الا [[مصعد]] واحد يعمل ، [[مغسله]] الملابس [[لا]] تعمل ، الاثاث قديم جدا ، [[المواقف]] [[امام]] [[الفندق]] دائما مزدحمه ، لا يستحق هذا المبلغ و انصدمت منه [[ماتوقعته]] [[بهذا]] السوء'})\n",
            "\n",
            "OrderedDict({'text': 'ا [[تعتبر]] فندق ولكن شقق مفروشه من الدرجه المتوسطه . طاقم العمل كان متساعدا في وقت الدخول و الخروج و اعجبتني الاطلاله من المطعم. [[ت]] تسليمي غرفه غير مطابقه لحجزي و اقل منها بحجه [[ىني]] طلبت تسجيل وصول مبكر ولم ينتبهوا له [[ه]] اسعار الكفيتيريا مبالغ فيها ، لا يوجد الا [[مصد]] واحد يعمل ، [[غسله]] الملابس [[ل]] تعمل ، الاثاث قديم جدا ، [[لمواقف]] [[اما]] [[الندق]] دائما مزدحمه ، لا يستحق هذا المبلغ و انصدمت منه [[ماتوكعته]] [[بها]] السوء'})\n",
            "\n",
            "\n"
          ]
        },
        {
          "output_type": "stream",
          "name": "stderr",
          "text": [
            "\r[Succeeded / Failed / Skipped / Total] 34 / 9 / 12 / 55:  55%|█████▌    | 55/100 [01:16<01:02,  1.40s/it]"
          ]
        },
        {
          "output_type": "stream",
          "name": "stdout",
          "text": [
            "--------------------------------------------- Result 55 ---------------------------------------------\n",
            "[[1 (57%)]] --> [[0 (50%)]]\n",
            "\n",
            "OrderedDict({'text': '[[الروعة]] في سيد [[قطب]] ليست في مضمون ما كتب [[بقدر]] ما هي روعة الاتجاه، [[وجرأة]] البحث عن الطريق، لقد رسم هذا الرجل الطريق [[المفقودة]] بين أبناء الإسلام حينما حاول أن يتحرر من سيطرة التراث على فهم الدين، واختار الفكر كأسلوب للتعامل مع الإسلام، وقدم لنا الإسلام ككائن حي كانه مولود [[اللحظة]] [[محررا]] رؤيتنا من أكفان التاريخ التي خنقتنا وحنطت رؤية [[للدين]] نحسبها قابلة للحياة وهي ميتة [[منذ]] قرون، لقد نال سيد [[قطب]] شرف المحاولة الجادة [[الأولى]] في هذا الضمار ومهما كانت [[نتائج]] محاولته [[فيكفيه]] [[أنها]] وضعت [[أقدامنا]] على أول [[الطريق]]، رحم الله [[سيد]] [[قطب']]})\n",
            "\n",
            "OrderedDict({'text': '[[الرزعة]] في سيد [[قطي]] ليست في مضمون ما كتب [[باقدر]] ما هي روعة الاتجاه، [[وجرأت]] البحث عن الطريق، لقد رسم هذا الرجل الطريق [[المفقود]] بين أبناء الإسلام حينما حاول أن يتحرر من سيطرة التراث على فهم الدين، واختار الفكر كأسلوب للتعامل مع الإسلام، وقدم لنا الإسلام ككائن حي كانه مولود [[اإللحظة]] [[نحررا]] رؤيتنا من أكفان التاريخ التي خنقتنا وحنطت رؤية [[للديني]] نحسبها قابلة للحياة وهي ميتة [[مةنذ]] قرون، لقد نال سيد [[فطب]] شرف المحاولة الجادة [[الأولي]] في هذا الضمار ومهما كانت [[نتاءج]] محاولته [[هفيكفيه]] [[أنهاذ]] وضعت [[أقداكنا]] على أول [[اكطريق]]، رحم الله [[سد]] [[قطمب']]})\n",
            "\n",
            "\n"
          ]
        },
        {
          "output_type": "stream",
          "name": "stderr",
          "text": [
            "[Succeeded / Failed / Skipped / Total] 35 / 9 / 14 / 58:  58%|█████▊    | 58/100 [01:17<00:56,  1.34s/it]"
          ]
        },
        {
          "output_type": "stream",
          "name": "stdout",
          "text": [
            "--------------------------------------------- Result 56 ---------------------------------------------\n",
            "[[0 (56%)]] --> [[1 (50%)]]\n",
            "\n",
            "OrderedDict({'text': '[[ضعيف]]. فقط اجراءات الدخول والخروج [[بسرعة]] [[والباصات]] من وال الحرم .. [[ولاشيء]] غير ذلك. المواقف [[سيئة]] جدا جدا .. وخدمة الغرف ضعيف وغير متجاوبين .. [[لايوجد]] واي فاي الا في اللوبي وسيء جدا .. ولا أعتقد انني سأكرر الزيارة للفندق مرة اخر'})\n",
            "\n",
            "OrderedDict({'text': '[[عيف]]. فقط اجراءات الدخول والخروج [[ةسرعة]] [[والكباصات]] من وال الحرم .. [[زلاشيء]] غير ذلك. المواقف [[زيئة]] جدا جدا .. وخدمة الغرف ضعيف وغير متجاوبين .. [[علايوجد]] واي فاي الا في اللوبي وسيء جدا .. ولا أعتقد انني سأكرر الزيارة للفندق مرة اخر'})\n",
            "\n",
            "\n",
            "--------------------------------------------- Result 57 ---------------------------------------------\n",
            "[[1 (53%)]] --> [[[SKIPPED]]]\n",
            "\n",
            "OrderedDict({'text': 'اتمنى الاهتمام وعدم الاستغلال . الموقع رائع جدا من الحرم النبوي وقريب يفصله شارعين كل شارع متر ومسافة متر وتصل الى الحرمتعامل الموظفين ورجال امن الفندق محترمين. المطعم اكله سيئ بمعنى الكلمهالانترنت سيئ بمعنى الكلمهلا توجد مواقف سيارات حيث المواقف تتسع لعدد سياره فقط والفندق متوفر به غرفهالازعاج داخل الفندق من ناحية اطفال النزلاءلايرد عليك من اول مره عند الاتصال'})\n",
            "\n",
            "\n",
            "--------------------------------------------- Result 58 ---------------------------------------------\n",
            "[[0 (52%)]] --> [[[SKIPPED]]]\n",
            "\n",
            "OrderedDict({'text': 'ياااااااااا الله. كتاب تحفة. غير كتب السيرة المعتادة دة واخد سيرة المصطفى من جانب اجتماعى روحانى بحت. بدون الدخول ف تفاصيل كتير واسماء كبيرة زى كتب السيرة المعتادة. كانه جد بيحكى حدوتة لاحفاده الكبار شوية . وبيقولهم بصو يا ولاد كانت ظروف قريش الاجتماعية كذا وكان الحكم فيها لفلان وفلان. ولما جه يتكلم عن المصطفى اتكلم بنفس الاسلوب. سوا ف شرح ملابسات النبوة حتى الهجرة وكل الغزوات. استفدت معلومات كتيييييييييير جدااااااااا جديدة يمكن لانى لالاسف مش من قراء السيرة والكتب الدينية عموما ودة عيب ف قراءاتى بحاول اصلحه . واستمتعت على المستوى العام بالاسلوب والشرح المبسط. وطبعا بكيت كالمعتاد فى مشهد وفاة الرسول. الكتاب بنصح بيه وبشدة ولكن لقارئ سيرة قبل او بعد الكتاب دة. يعنى ميبقاش مرجع وحيد. ملحوظة:. الكتاب دة كان هديتى لنفسى بمناسبة نجاحى فى تحدى ال يوم سعادة. ورغم انى مكنتش حابة ف الاول اجيب لنفسى كتاب. الا انى بعد ايام قراءة ف الكتاب دة. حابة اقول انى مبسوطة من نفسى جدااااااااااا. وفرحانة قوى بالكتاب دة. اربعة نجوم مستحقة. وكتاب مميز ينضم لقائمة اروع ماقرات. وتجربة اولى ولن تكون الاخيرة للكاتب. انتهى الرفيو'})\n",
            "\n",
            "\n"
          ]
        },
        {
          "output_type": "stream",
          "name": "stderr",
          "text": [
            "[Succeeded / Failed / Skipped / Total] 36 / 9 / 14 / 59:  59%|█████▉    | 59/100 [01:19<00:55,  1.35s/it]"
          ]
        },
        {
          "output_type": "stream",
          "name": "stdout",
          "text": [
            "--------------------------------------------- Result 59 ---------------------------------------------\n",
            "[[1 (62%)]] --> [[0 (51%)]]\n",
            "\n",
            "OrderedDict({'text': '[[رآئعة]]. [[على]] [[الرغم]] من [[أنني]] غير [[راض]] [[عن]] [[لغة]] الترجمة، [[إلا]] أن [[الرواية]] [[بأحداثها]] [[وتسلسلها]] [[راقية]]. [[ولمست]] [[شغاف]] [[قلبي]] [[وفضول]] [[عقلي']]})\n",
            "\n",
            "OrderedDict({'text': '[[رآءعة]]. [[علي]] [[النرغم]] من [[أننى]] غير [[راضئ]] [[عنى]] [[لة]] الترجمة، [[لا]] أن [[الروايه]] [[بأحداجها]] [[وتشسلسلها]] [[راقة]]. [[ولأمست]] [[شغاطف]] [[قلني]] [[وفاضول]] [[عفلي']]})\n",
            "\n",
            "\n"
          ]
        },
        {
          "output_type": "stream",
          "name": "stderr",
          "text": [
            "\r[Succeeded / Failed / Skipped / Total] 37 / 9 / 14 / 60:  60%|██████    | 60/100 [01:21<00:54,  1.35s/it]"
          ]
        },
        {
          "output_type": "stream",
          "name": "stdout",
          "text": [
            "--------------------------------------------- Result 60 ---------------------------------------------\n",
            "[[1 (61%)]] --> [[0 (50%)]]\n",
            "\n",
            "OrderedDict({'text': 'جيد. [[نظيف]] وموقعه ممتاز. النت بمقابللا يوجد به مطعم [[وانما]] كوفي [[شوب]] متواضعأغلب النزلاء [[من]] [[الجاليه]] [[الهنديه]] [[وتعرفون]] [[الهنود]] ما [[شاء]] [[الله]] [[قمة]] [[الازعاج']]})\n",
            "\n",
            "OrderedDict({'text': 'جيد. [[مظيف]] وموقعه ممتاز. النت بمقابللا يوجد به مطعم [[وانمءا]] كوفي [[شوبي]] متواضعأغلب النزلاء [[مب]] [[الجاله]] [[الهتديه]] [[واعرفون]] [[الهتود]] ما [[ساء]] [[الاه]] [[ةقمة]] [[الاهزعاج']]})\n",
            "\n",
            "\n"
          ]
        },
        {
          "output_type": "stream",
          "name": "stderr",
          "text": [
            "\r[Succeeded / Failed / Skipped / Total] 38 / 9 / 14 / 61:  61%|██████    | 61/100 [01:21<00:52,  1.34s/it]"
          ]
        },
        {
          "output_type": "stream",
          "name": "stdout",
          "text": [
            "--------------------------------------------- Result 61 ---------------------------------------------\n",
            "[[0 (50%)]] --> [[1 (50%)]]\n",
            "\n",
            "OrderedDict({'text': 'اسوء فندق نزلت فيه . [[لم]] يعجبني اي شئ نهائيا. قمة القذارة في الموكيت وكرسي الحمام غير نظيف وطلبت نعال الحمام وانتظرت خدمة الغرف ولم يحضروها ونزلت وطلبتها منهم مرة اخرى ومكان الفندق سيئ جدا ومزدحم ولا يستحق اربع نجوم حده نجمتين وكثيرة عليه'})\n",
            "\n",
            "OrderedDict({'text': 'اسوء فندق نزلت فيه . [[لمأ]] يعجبني اي شئ نهائيا. قمة القذارة في الموكيت وكرسي الحمام غير نظيف وطلبت نعال الحمام وانتظرت خدمة الغرف ولم يحضروها ونزلت وطلبتها منهم مرة اخرى ومكان الفندق سيئ جدا ومزدحم ولا يستحق اربع نجوم حده نجمتين وكثيرة عليه'})\n",
            "\n",
            "\n"
          ]
        },
        {
          "output_type": "stream",
          "name": "stderr",
          "text": [
            "[Succeeded / Failed / Skipped / Total] 39 / 9 / 14 / 62:  62%|██████▏   | 62/100 [01:23<00:51,  1.35s/it]"
          ]
        },
        {
          "output_type": "stream",
          "name": "stdout",
          "text": [
            "--------------------------------------------- Result 62 ---------------------------------------------\n",
            "[[1 (59%)]] --> [[0 (50%)]]\n",
            "\n",
            "OrderedDict({'text': '[[استثنائي]]. [[تصميم]] [[مريح]] [[للغرف]] [[وترحيب]] [[مثالي]] [[ومجانية]] المواقف اضافت [[ميزة]] [[كبيرة]] [[للفندق]]. الوصول [[بالسيارة]] الي [[الفندق]] [[في]] [[غاية]] الصعوبة [[وعدم]] وضوح مدخل الفندق [[في]] [[ظل]] [[الاصلاحات]] [[حول]] الحرم.'})\n",
            "\n",
            "OrderedDict({'text': '[[استثناي]]. [[تصمتم]] [[مريع]] [[لل]]ُ[[غرف]] [[وتشرحيب]] [[مآثالي]] [[ومجاني]] المواقف اضافت [[مية]] [[كبيره]] [[لمفندق]]. الوصول [[بذالسيارة]] الي [[البفندق]] [[ف]] [[غايت]] الصعوبة [[عدم]] وضوح مدخل الفندق [[فزي]] [[ئظل]] [[الاصلىحات]] [[حهل]] الحرم.'})\n",
            "\n",
            "\n"
          ]
        },
        {
          "output_type": "stream",
          "name": "stderr",
          "text": [
            "\r[Succeeded / Failed / Skipped / Total] 40 / 9 / 14 / 63:  63%|██████▎   | 63/100 [01:24<00:49,  1.34s/it]"
          ]
        },
        {
          "output_type": "stream",
          "name": "stdout",
          "text": [
            "--------------------------------------------- Result 63 ---------------------------------------------\n",
            "[[0 (51%)]] --> [[1 (50%)]]\n",
            "\n",
            "OrderedDict({'text': '[[رحلتي]] الى جورجيا فندق جميل والمكان جميل اجواء رائعه سهوله في التعامل ولكن قليل يعرفون اللغه الانكليزيه على كل حال فندق جميل وخدمه رائعه ولكن الانترنيت ضعيف المكان الفندق عيبه الوحيد بعيد عن المركز الساعه العاشره لاتوجد مطاعم ولا توجد محلات قريبه والمكان كئيب في الليل'})\n",
            "\n",
            "OrderedDict({'text': '[[احلتي]] الى جورجيا فندق جميل والمكان جميل اجواء رائعه سهوله في التعامل ولكن قليل يعرفون اللغه الانكليزيه على كل حال فندق جميل وخدمه رائعه ولكن الانترنيت ضعيف المكان الفندق عيبه الوحيد بعيد عن المركز الساعه العاشره لاتوجد مطاعم ولا توجد محلات قريبه والمكان كئيب في الليل'})\n",
            "\n",
            "\n"
          ]
        },
        {
          "output_type": "stream",
          "name": "stderr",
          "text": [
            "\r[Succeeded / Failed / Skipped / Total] 41 / 9 / 14 / 64:  64%|██████▍   | 64/100 [01:26<00:48,  1.36s/it]"
          ]
        },
        {
          "output_type": "stream",
          "name": "stdout",
          "text": [
            "--------------------------------------------- Result 64 ---------------------------------------------\n",
            "[[0 (56%)]] --> [[1 (50%)]]\n",
            "\n",
            "OrderedDict({'text': 'طاقم [[سيء]] جدا . لا شيء تقريبا. تعامل [[سيء]] جدا [[من]] موظف الاستقبال [[أ]].[[ربيع]] ، يختار لك أسوأ [[غرفه]] [[على]] [[الرغم]] [[من]] توفر [[غرفه]] اخرى افضل في [[طابق]] اعلى، تسجيل دخول بعد [[مكوثنا]] في الاستقبال بما [[يقارب]] الساعه او اكثر ، والوقت [[كان]] اخر الليل والفندق شبه خال ، لا توجد غرفه بسرير مزدوج بل [[سريرين]] فردية ويتم [[ضمهما]] ، [[عدم]] مراعاة لأحوال المرضى [[وذوي]] الاحتياجات الخاصة أبدا، تجربتي الشخصية مع موظف الاستقبال [[اتمنى]] ان لا تتكرر أبدا، يوجد شخص في الاستقبال يدعى أ.النفيعي أخلاقه راقيه جدا لكنه لا يملك الصلاحية'})\n",
            "\n",
            "OrderedDict({'text': 'طاقم [[سيإء]] جدا . لا شيء تقريبا. تعامل [[سي]] جدا [[م]] موظف الاستقبال [[أخ]].[[بيع]] ، يختار لك أسوأ [[غرفنه]] [[عمى]] [[الرغل]] [[ن]] توفر [[غنرفه]] اخرى افضل في [[صابق]] اعلى، تسجيل دخول بعد [[مكهوثنا]] في الاستقبال بما [[يطارب]] الساعه او اكثر ، والوقت [[كن]] اخر الليل والفندق شبه خال ، لا توجد غرفه بسرير مزدوج بل [[سريخرين]] فردية ويتم [[ضلهما]] ، [[عدذم]] مراعاة لأحوال المرضى [[وذزي]] الاحتياجات الخاصة أبدا، تجربتي الشخصية مع موظف الاستقبال [[امنى]] ان لا تتكرر أبدا، يوجد شخص في الاستقبال يدعى أ.النفيعي أخلاقه راقيه جدا لكنه لا يملك الصلاحية'})\n",
            "\n",
            "\n"
          ]
        },
        {
          "output_type": "stream",
          "name": "stderr",
          "text": [
            "[Succeeded / Failed / Skipped / Total] 42 / 9 / 14 / 65:  65%|██████▌   | 65/100 [01:29<00:48,  1.38s/it]"
          ]
        },
        {
          "output_type": "stream",
          "name": "stdout",
          "text": [
            "--------------------------------------------- Result 65 ---------------------------------------------\n",
            "[[1 (56%)]] --> [[0 (50%)]]\n",
            "\n",
            "OrderedDict({'text': 'جيد. الموقع والخدمة [[الالكترونية]] [[داخل]] الغرفه مثل التحكم [[بالمكيف]] [[والانوار]] [[والستارة]] عن طريق [[لوحة]] [[باللمس]] بجانب السرير ... [[الافطار]] [[ممتاز]] [[ومتنوع]]. [[المواقف]] ضيقه نوعا ما ... [[الموظفين]] [[كسولين]] [[نوعا]] ما'})\n",
            "\n",
            "OrderedDict({'text': 'جيد. الموقع والخدمة [[الالكترونىة]] [[راخل]] الغرفه مثل التحكم [[بالميف]] [[والاوار]] [[شوالستارة]] عن طريق [[لوح]] [[بافللمس]] بجانب السرير ... [[الافطاز]] [[ممتغاز]] [[وومتنوع]]. [[المهاقف]] ضيقه نوعا ما ... [[الموظفيم]] [[كذسولين]] [[نوعى]] ما'})\n",
            "\n",
            "\n"
          ]
        },
        {
          "output_type": "stream",
          "name": "stderr",
          "text": [
            "\r[Succeeded / Failed / Skipped / Total] 42 / 10 / 14 / 66:  66%|██████▌   | 66/100 [01:31<00:46,  1.38s/it]"
          ]
        },
        {
          "output_type": "stream",
          "name": "stdout",
          "text": [
            "--------------------------------------------- Result 66 ---------------------------------------------\n",
            "[[1 (65%)]] --> [[[FAILED]]]\n",
            "\n",
            "OrderedDict({'text': 'نهاية غير متوقعة . عن ذوي الاحتياجات الخاصة. رواية تحمل رسالة. ممتازة جدا الرواية'})\n",
            "\n",
            "\n"
          ]
        },
        {
          "output_type": "stream",
          "name": "stderr",
          "text": [
            "\r[Succeeded / Failed / Skipped / Total] 43 / 10 / 14 / 67:  67%|██████▋   | 67/100 [01:31<00:45,  1.37s/it]"
          ]
        },
        {
          "output_type": "stream",
          "name": "stdout",
          "text": [
            "--------------------------------------------- Result 67 ---------------------------------------------\n",
            "[[1 (54%)]] --> [[0 (50%)]]\n",
            "\n",
            "OrderedDict({'text': 'الكتاب كما يقال [[بالعامي]] دسم . تكوين المفكر ، كتاب يجد فيه المبتدئ قليلا من الصعوبة .لكنه منطقي واقعي .يورد [[أمثلة]] [[كثيرة]] حتى [[تتضح]] الفكرة التي يريدها ، الكتاب جميل ..اعتقد أني عندما قرأته للمرة الأولى وجدت صعوبة لو قرأته مرة أخرى سيكون أسهل وأوضح لما كان يقصده الكاتب '})\n",
            "\n",
            "OrderedDict({'text': 'الكتاب كما يقال [[نالعامي]] دسم . تكوين المفكر ، كتاب يجد فيه المبتدئ قليلا من الصعوبة .لكنه منطقي واقعي .يورد [[أمثمة]] [[كتيرة]] حتى [[تتضظح]] الفكرة التي يريدها ، الكتاب جميل ..اعتقد أني عندما قرأته للمرة الأولى وجدت صعوبة لو قرأته مرة أخرى سيكون أسهل وأوضح لما كان يقصده الكاتب '})\n",
            "\n",
            "\n"
          ]
        },
        {
          "output_type": "stream",
          "name": "stderr",
          "text": [
            "[Succeeded / Failed / Skipped / Total] 44 / 10 / 14 / 68:  68%|██████▊   | 68/100 [01:34<00:44,  1.39s/it]"
          ]
        },
        {
          "output_type": "stream",
          "name": "stdout",
          "text": [
            "--------------------------------------------- Result 68 ---------------------------------------------\n",
            "[[0 (56%)]] --> [[1 (50%)]]\n",
            "\n",
            "OrderedDict({'text': '[[و]] [[أنا]] أغلق [[الرواية]] تسألت هل كاتبها هو نفسه أيمن العتوم الذي أبدع يسمعون حسيسها ؟ و لولا اللغة المميزة و الأسلوب الباهر لقلت حاشا أن يكون هو.. أسلوب الفلاش باك المستعمل منذ بداية الرواية و الى حدود الصفحة السابعة و الستون جعلني أفكر [[عدة]] [[مرات]] في [[إغلاقها]] و عدم إنمامها كما أن [[ذلك]] الاسهاب و المبالغة في ذكر تفاصيل التفاصيل يولد إحساسا بالرتابة و الملل [[فأضطر]] للقفز على عشرات السطور دفعا لرغبة تركها مجددا...يقال أن لكل جواد كبوة سأعتبر أن نفر [[من]] الجن [[هي]] كبوة العتوم أتمنى أن أقرأ له مستقبلا شيئا [[أعظم]] [[من]] هذا ففي [[النهاية]] آآسف أن تذهب تلك اللغة البليغة و [[الأسلوب]] [[المميز]] هدرا.. [[سأعطيها]] نجمتين نجمة للغة و الاسلوب الجميلين و نجمة للغلاف الانيق'})\n",
            "\n",
            "OrderedDict({'text': '[[جو]] [[ءأنا]] أغلق [[الراية]] تسألت هل كاتبها هو نفسه أيمن العتوم الذي أبدع يسمعون حسيسها ؟ و لولا اللغة المميزة و الأسلوب الباهر لقلت حاشا أن يكون هو.. أسلوب الفلاش باك المستعمل منذ بداية الرواية و الى حدود الصفحة السابعة و الستون جعلني أفكر [[عؤدة]] [[رات]] في [[إغللاقها]] و عدم إنمامها كما أن [[لك]] الاسهاب و المبالغة في ذكر تفاصيل التفاصيل يولد إحساسا بالرتابة و الملل [[فأضصر]] للقفز على عشرات السطور دفعا لرغبة تركها مجددا...يقال أن لكل جواد كبوة سأعتبر أن نفر [[ن]] الجن [[ي]] كبوة العتوم أتمنى أن أقرأ له مستقبلا شيئا [[أغظم]] [[ن]] هذا ففي [[النهرية]] آآسف أن تذهب تلك اللغة البليغة و [[ىلأسلوب]] [[رالمميز]] هدرا.. [[سأعقيها]] نجمتين نجمة للغة و الاسلوب الجميلين و نجمة للغلاف الانيق'})\n",
            "\n",
            "\n"
          ]
        },
        {
          "output_type": "stream",
          "name": "stderr",
          "text": [
            "\r[Succeeded / Failed / Skipped / Total] 45 / 10 / 14 / 69:  69%|██████▉   | 69/100 [01:36<00:43,  1.39s/it]"
          ]
        },
        {
          "output_type": "stream",
          "name": "stdout",
          "text": [
            "--------------------------------------------- Result 69 ---------------------------------------------\n",
            "[[1 (52%)]] --> [[0 (50%)]]\n",
            "\n",
            "OrderedDict({'text': 'شوف ... اتألم ... اقبل. .. سامح نفسك والآخرين ... ابدأ من جديد. فالحب الحقيقي هو أنت. والشفاء الحقيقي لا يأتي إلا من داخلك . [[الكتاب]] يشرح المعاني النفسية الدقيقة بأسلوب مبسط جدا وبالعامية المصرية. لتصل للقارئ بسهولة ويسر. أنصح بقراءة هذا الكتاب بشدة ليس فقط لمن يعاني من مرض نفسي ولكن [[لكل]] [[إنسان]] يسعى للوصول إلى النضوج [[والوعي]] النفسي. والحقيقة أننا جميعا نحتاج لرحلة صادقة مع النفس تحت [[ارشاد]] متخصصين في [[المجال]] النفسي وبواسطة كتب توصل المعاني النفسية العميقة بسهولة كهذا الكتاب الرائع'})\n",
            "\n",
            "OrderedDict({'text': 'شوف ... اتألم ... اقبل. .. سامح نفسك والآخرين ... ابدأ من جديد. فالحب الحقيقي هو أنت. والشفاء الحقيقي لا يأتي إلا من داخلك . [[الكتلب]] يشرح المعاني النفسية الدقيقة بأسلوب مبسط جدا وبالعامية المصرية. لتصل للقارئ بسهولة ويسر. أنصح بقراءة هذا الكتاب بشدة ليس فقط لمن يعاني من مرض نفسي ولكن [[لىكل]] [[إنسشان]] يسعى للوصول إلى النضوج [[وااوعي]] النفسي. والحقيقة أننا جميعا نحتاج لرحلة صادقة مع النفس تحت [[شارشاد]] متخصصين في [[المجاال]] النفسي وبواسطة كتب توصل المعاني النفسية العميقة بسهولة كهذا الكتاب الرائع'})\n",
            "\n",
            "\n"
          ]
        },
        {
          "output_type": "stream",
          "name": "stderr",
          "text": [
            "\r[Succeeded / Failed / Skipped / Total] 45 / 11 / 14 / 70:  70%|███████   | 70/100 [01:36<00:41,  1.38s/it]"
          ]
        },
        {
          "output_type": "stream",
          "name": "stdout",
          "text": [
            "--------------------------------------------- Result 70 ---------------------------------------------\n",
            "[[1 (66%)]] --> [[[FAILED]]]\n",
            "\n",
            "OrderedDict({'text': 'جيد جدا. جيد في الاستقبال. سعر الوجبات مبالغ فيه'})\n",
            "\n",
            "\n"
          ]
        },
        {
          "output_type": "stream",
          "name": "stderr",
          "text": [
            "[Succeeded / Failed / Skipped / Total] 46 / 11 / 14 / 71:  71%|███████   | 71/100 [01:40<00:41,  1.42s/it]"
          ]
        },
        {
          "output_type": "stream",
          "name": "stdout",
          "text": [
            "--------------------------------------------- Result 71 ---------------------------------------------\n",
            "[[1 (62%)]] --> [[0 (51%)]]\n",
            "\n",
            "OrderedDict({'text': 'أحد أسباب [[نجاح]] [[الإمارات]] [[أن]] [[كل]] [[شخص]] [[في]] [[هذه]] الدولة [[يعشق]] [[ترابها]]. [[نحن]] [[نحب]] [[الإمارات]]. ومضات [[من]] [[فكر]]. نصائح [[لدولة]] [[تطمح]] [[بالصفوف]] [[الأولى]] و قائد لا يقبل إلا [[براحة]] شعبه [[وتوفر]] [[كل]] [[سب]] [[العيش]] [[الكريم]]. حكم [[و]] مواقف [[ونصائح]] لكل [[فرد]] [[فينا]] ليس [[بمجرد]] [[كتاب]] سياسي كما كنت اعتقد. يستحق [[القراءة]] [[مرات]] [[كثيرة']]})\n",
            "\n",
            "OrderedDict({'text': 'أحد أسباب [[نجاخ]] [[اكإمارات]] [[آن]] [[ك]] [[سخص]] [[فى]] [[هضذه]] الدولة [[يعصق]] [[تربها]]. [[نبحن]] [[نح]] [[الإملرات]]. ومضات [[مت]] [[فر]]. نصائح [[لدولتة]] [[تطمع]] [[بالصفو]] [[الأولىض]] و قائد لا يقبل إلا [[باحة]] شعبه [[وتوفرئ]] [[ك]] [[ست]] [[العيس]] [[الكريل]]. حكم [[أو]] مواقف [[وننصائح]] لكل [[رد]] [[فيما]] ليس [[بمجرذ]] [[كثتاب]] سياسي كما كنت اعتقد. يستحق [[القرءة]] [[نرات]] [[كثيصرة']]})\n",
            "\n",
            "\n"
          ]
        },
        {
          "output_type": "stream",
          "name": "stderr",
          "text": [
            "\r[Succeeded / Failed / Skipped / Total] 47 / 11 / 14 / 72:  72%|███████▏  | 72/100 [01:42<00:39,  1.42s/it]"
          ]
        },
        {
          "output_type": "stream",
          "name": "stdout",
          "text": [
            "--------------------------------------------- Result 72 ---------------------------------------------\n",
            "[[0 (55%)]] --> [[1 (50%)]]\n",
            "\n",
            "OrderedDict({'text': '[[كتاب]] يحتوى على حكم متنوعة [[ومختلفة]] ، وبلا شك فإتها مفيدة بشكل كبيير. [[ولكنى]] شعرت [[بالملل]] أثناء قرآءتى لهذا الكتاب ،وإن كانت هذه ليست التجربة الأولى لى مع المؤلف والكاتب. ولكن الكتاب هو دون المستوى المطلوب ،وفيه بعض [[التكرار]] لبعض الحكم. [[ولذلك]] قررت [[أن]] أقرأ كتاب جدد حياتك وذلك على أمل ويقين بإنى سوف أجده [[أفضل]] فى الطرح والأسلوب من هذا الكتاب'})\n",
            "\n",
            "OrderedDict({'text': '[[كياب]] يحتوى على حكم متنوعة [[ومغتلفة]] ، وبلا شك فإتها مفيدة بشكل كبيير. [[ولكى]] شعرت [[يالملل]] أثناء قرآءتى لهذا الكتاب ،وإن كانت هذه ليست التجربة الأولى لى مع المؤلف والكاتب. ولكن الكتاب هو دون المستوى المطلوب ،وفيه بعض [[البكرار]] لبعض الحكم. [[لذلك]] قررت [[ن]] أقرأ كتاب جدد حياتك وذلك على أمل ويقين بإنى سوف أجده [[أفضم]] فى الطرح والأسلوب من هذا الكتاب'})\n",
            "\n",
            "\n"
          ]
        },
        {
          "output_type": "stream",
          "name": "stderr",
          "text": [
            "\r[Succeeded / Failed / Skipped / Total] 48 / 11 / 14 / 73:  73%|███████▎  | 73/100 [01:42<00:38,  1.41s/it]"
          ]
        },
        {
          "output_type": "stream",
          "name": "stdout",
          "text": [
            "--------------------------------------------- Result 73 ---------------------------------------------\n",
            "[[1 (55%)]] --> [[0 (50%)]]\n",
            "\n",
            "OrderedDict({'text': 'الفكرة [[برمتها]] هي ما دفعني لاقرأها. الجميل في الامر ان الرواية [[بقدر]] ما هي خيالية في البداية. اتت [[النهاية]] غير متوقعة كالعادة وصدقا اعتقد انني بدات احب اسلوب هذا الكاتب لذا ساقرا له [[المزيد']]})\n",
            "\n",
            "OrderedDict({'text': 'الفكرة [[بمتها]] هي ما دفعني لاقرأها. الجميل في الامر ان الرواية [[ةقدر]] ما هي خيالية في البداية. اتت [[النهاظية]] غير متوقعة كالعادة وصدقا اعتقد انني بدات احب اسلوب هذا الكاتب لذا ساقرا له [[المزير']]})\n",
            "\n",
            "\n"
          ]
        },
        {
          "output_type": "stream",
          "name": "stderr",
          "text": [
            "[Succeeded / Failed / Skipped / Total] 49 / 11 / 14 / 74:  74%|███████▍  | 74/100 [01:47<00:37,  1.45s/it]"
          ]
        },
        {
          "output_type": "stream",
          "name": "stdout",
          "text": [
            "--------------------------------------------- Result 74 ---------------------------------------------\n",
            "[[0 (58%)]] --> [[1 (50%)]]\n",
            "\n",
            "OrderedDict({'text': '[[لن]] [[اكرر]] الإقامة في هذا الفندق [[انا]] وجميع افراد [[عائلتي]] . وجود [[مصلى]] كبير للرجال والنساء [[مطل]] [[على]] الحرم مجهز بعدد كبير من دورات [[المياه]] والنظافه وكل [[مايحتاجه]] المصلون فقط الوحيد الذي ترك بصمة جميلة في اقامتى مدير الروم سيرفس الأستاذ القدير اسلام شحاته الذي اهتم بي وتواصل معي حتى قبيل [[مغادرتي]] [[الفندق]] فجزاه [[الله]] كل خير اخلاق الموظفين ضيقة [[جدا]] وازعاج للضيف عند المغادره بكثرة الإحاطة [[بالمغادره]] وسرعتها يظهر ان موقع [[الفندق]] [[جعل]] الجميع [[لايهتم]] بالتعامل مع الضيف لأن [[الفندق]] مليان ولايهمهم رضيت ام لا فغيرك سيأتي يحتاجون الى دورات في كيفية ادارة فنادق نجومبإختصار هذا مرفق حكومي وليس فندق. [[عدم]] استجابة موظفي الفندق لطلباتنا [[فمجرد]] اغلاق [[السماعه]] ينسون طلبك تماما يعدون [[ولايفون]] وعلى رأسهم مدير الفندق الذي طلبت التواصل معه بخصوص بعض الأمور ووعدني ان يتصل بي [[لحلها]] ولم يتصل بل ولم يرد على كل [[محاولاتي]] للتواصل معه خدمات النت في الفندق [[سيئة]] جدا وكذلك القنوات التلفزيونيه وبصراحة عندما غادرنا الفندق عدنا الى الحياة من جديد'})\n",
            "\n",
            "OrderedDict({'text': '[[كن]] [[امرر]] الإقامة في هذا الفندق [[اسنا]] وجميع افراد [[عائلبي]] . وجود [[كصلى]] كبير للرجال والنساء [[كطل]] [[حلى]] الحرم مجهز بعدد كبير من دورات [[اهلمياه]] والنظافه وكل [[مىيحتاجه]] المصلون فقط الوحيد الذي ترك بصمة جميلة في اقامتى مدير الروم سيرفس الأستاذ القدير اسلام شحاته الذي اهتم بي وتواصل معي حتى قبيل [[مغادريي]] [[الندق]] فجزاه [[اللي]] كل خير اخلاق الموظفين ضيقة [[جد]] وازعاج للضيف عند المغادره بكثرة الإحاطة [[بالمغهادره]] وسرعتها يظهر ان موقع [[الفنددق]] [[عل]] الجميع [[لاخيهتم]] بالتعامل مع الضيف لأن [[لفندق]] مليان ولايهمهم رضيت ام لا فغيرك سيأتي يحتاجون الى دورات في كيفية ادارة فنادق نجومبإختصار هذا مرفق حكومي وليس فندق. [[عدن]] استجابة موظفي الفندق لطلباتنا [[فمجدد]] اغلاق [[السماؤعه]] ينسون طلبك تماما يعدون [[وكايفون]] وعلى رأسهم مدير الفندق الذي طلبت التواصل معه بخصوص بعض الأمور ووعدني ان يتصل بي [[لحمها]] ولم يتصل بل ولم يرد على كل [[محاهلاتي]] للتواصل معه خدمات النت في الفندق [[سغيئة]] جدا وكذلك القنوات التلفزيونيه وبصراحة عندما غادرنا الفندق عدنا الى الحياة من جديد'})\n",
            "\n",
            "\n"
          ]
        },
        {
          "output_type": "stream",
          "name": "stderr",
          "text": [
            "\r[Succeeded / Failed / Skipped / Total] 50 / 11 / 14 / 75:  75%|███████▌  | 75/100 [01:49<00:36,  1.45s/it]"
          ]
        },
        {
          "output_type": "stream",
          "name": "stdout",
          "text": [
            "--------------------------------------------- Result 75 ---------------------------------------------\n",
            "[[1 (53%)]] --> [[0 (50%)]]\n",
            "\n",
            "OrderedDict({'text': 'كما قال آينشتاين نحن [[سجناء]] حواسنا المحددة ولا شئ يبدو واقعيا [[كما]] [[تبصره]] [[حواسنا]] فلا الألوان هي ذاتها الألوان ولا النجوم هي ذاتها النجوم.. السلاسة في شرح النظرية النسبية أعجبتني كثيرا وجعلتني أتفهم معنى [[المكان]] والزمان والكتلة ونسبيتهم كما يجب . تسلسل الأفكار جدا رائع من بداية نظرية الكم لبلانك وحتى الختام في البعد الرابع مع وجود الدليل الواضح والمعقول . الكتاب يشد قارئه جدا وكأنه رواية وليس حقائق علمية أخذت تفتح [[بعقولنا]] إلى جادة كشف الألغاز في تفسير المبهم والمخطوء .. أنصح بقراءة الكتاب'})\n",
            "\n",
            "OrderedDict({'text': 'كما قال آينشتاين نحن [[سجنىء]] حواسنا المحددة ولا شئ يبدو واقعيا [[كمر]] [[بصره]] [[حوازنا]] فلا الألوان هي ذاتها الألوان ولا النجوم هي ذاتها النجوم.. السلاسة في شرح النظرية النسبية أعجبتني كثيرا وجعلتني أتفهم معنى [[المكاكن]] والزمان والكتلة ونسبيتهم كما يجب . تسلسل الأفكار جدا رائع من بداية نظرية الكم لبلانك وحتى الختام في البعد الرابع مع وجود الدليل الواضح والمعقول . الكتاب يشد قارئه جدا وكأنه رواية وليس حقائق علمية أخذت تفتح [[بعقولنل]] إلى جادة كشف الألغاز في تفسير المبهم والمخطوء .. أنصح بقراءة الكتاب'})\n",
            "\n",
            "\n"
          ]
        },
        {
          "output_type": "stream",
          "name": "stderr",
          "text": [
            "\r[Succeeded / Failed / Skipped / Total] 51 / 11 / 14 / 76:  76%|███████▌  | 76/100 [01:51<00:35,  1.46s/it]"
          ]
        },
        {
          "output_type": "stream",
          "name": "stdout",
          "text": [
            "--------------------------------------------- Result 76 ---------------------------------------------\n",
            "[[1 (58%)]] --> [[0 (51%)]]\n",
            "\n",
            "OrderedDict({'text': '[[طمأنينه]] [[للذين]] لديهم ابناء . حسن الاستقبال والضيافةالتعاون والتساهل من قبل الاستقبالالتعاون [[والابتسامة]] من قبل الروم [[سبرفسملاصق]] لمول [[الامارات]] [[وبالتالي]] يجعل لديك طمأنينه [[للذين]] لديهم ابناءتواجد جميع احتياجاتك دون [[عناء]]. وجود صيانه في الفندق مما يسبب لك بعض [[الازعاج]] [[من]] وقت [[لأخر]] [[لكن]] لا [[يمنع]] [[من]] [[الراحة]] [[العامة']]})\n",
            "\n",
            "OrderedDict({'text': '[[طمأنيته]] [[للذيصن]] لديهم ابناء . حسن الاستقبال والضيافةالتعاون والتساهل من قبل الاستقبالالتعاون [[والابتدامة]] من قبل الروم [[سبرفسمللصق]] لمول [[دالامارات]] [[ودبالتالي]] يجعل لديك طمأنينه [[للثذين]] لديهم ابناءتواجد جميع احتياجاتك دون [[عنرء]]. وجود صيانه في الفندق مما يسبب لك بعض [[اءلازعاج]] [[مت]] وقت [[اأخر]] [[لقن]] لا [[نمنع]] [[منآ]] [[ثالراحة]] [[ااعامة']]})\n",
            "\n",
            "\n"
          ]
        },
        {
          "output_type": "stream",
          "name": "stderr",
          "text": [
            "[Succeeded / Failed / Skipped / Total] 51 / 12 / 14 / 77:  77%|███████▋  | 77/100 [02:13<00:39,  1.73s/it]"
          ]
        },
        {
          "output_type": "stream",
          "name": "stdout",
          "text": [
            "--------------------------------------------- Result 77 ---------------------------------------------\n",
            "[[0 (60%)]] --> [[[FAILED]]]\n",
            "\n",
            "OrderedDict({'text': 'عندما يطلب مني مواجهة الدنيا بأحاديثي وتقاريري، سوف أعلن علي الملأ رأيي بصراحة في كل هذا الذي حدث .. سوف أقول للدنيا : إني بعد ثلثمائة عام وجدت كل شئ قد تغير إلا الخوف من الكلمة، والانزعاج من الرأي . مسرحية تنبؤية كتبها الحكيم عام ، هدف من خلالها إلي وضع تصوراته عن عالم الغد .. ما هو شكل العالم في الأعوام والقرون القادمة ؟ ... وكيف يمكن أن يصير العالم إلي صورة أخري مختلفة تماما عن صورة العالم اليوم، بسبب التقدم المطرد في العلوم والتكنولوجيا ونظم ووسائل الاتصال الحديثة والمتطورة ؟ ... أسئلة كثيرة مثل هذه وغيرها وضع الحكيم إجاباتها من خلال هذا العمل .. ورغم أنه لم يمض منذ كتابة هذه المسرحية وحتي اليوم أكثر من نحو ستين عاما، ومعني ذلك أنه مازال هناك نحو مائتين وأربعين عاما حتي نبلغ الفترة التي وضع فيها الحكيم تصوراته عن العالم .. إلا أني مازلت أري أنه قد بالغ في تقدير المستقبل والتنبؤ به، مبالغة مفرطة .. رؤيته أيضا لشكل الكواكب الأخري والحياة عليها والفكرة الخيالية، في ظني، عن الإنسان الذي يعيش باشارات كهربائية علي سطح الكواكب الأخري البعيدة عن الأرض وبدون دورة دموية أو جهاز تنفسي أو قلب ينبض، هي رؤية غاية في المبالغة والتخيل، لا أعتقد أنها ستجد طريقها يوما ما إلي التحقق علي أرض الواقع .. رغم ذلك يمكن النظر إلي هذه التنبؤات والتخيلات المفترضة كنوع من الاجتهاد ونوع من قراءة المستقبل من خلال معطيات الحاضر شديدة التغير والتبدل بفعل التطور'})\n",
            "\n",
            "\n"
          ]
        },
        {
          "output_type": "stream",
          "name": "stderr",
          "text": [
            "[Succeeded / Failed / Skipped / Total] 52 / 12 / 14 / 78:  78%|███████▊  | 78/100 [02:15<00:38,  1.73s/it]"
          ]
        },
        {
          "output_type": "stream",
          "name": "stdout",
          "text": [
            "--------------------------------------------- Result 78 ---------------------------------------------\n",
            "[[1 (61%)]] --> [[0 (50%)]]\n",
            "\n",
            "OrderedDict({'text': '[[الجارة]] [[وانت]] [[اسمك]] [[إيه]]؟ أجملهم [[إطلاقا]]. خبرة النهاية [[وصفاء]] [[البداية]] وتشابه [[ما]] [[بالوسط]]، [[بين]] عجوز [[يقبل]] [[الحياة]] [[وطفل]] [[يمتلكها]]. رائعة.. صدفة [[أن]] [[أول]] القصص [[الست]] هنا عن [[طفل]] وآخرها عن عجوز بالثمانين [[من]] [[العمر]]؟. أيا، أحببت [[الكتاب']]})\n",
            "\n",
            "OrderedDict({'text': '[[ىلجارة]] [[واونت]] [[اسفمك]] [[يه]]؟ أجملهم [[إطلاا]]. خبرة النهاية [[وصفىء]] [[ىلبداية]] وتشابه [[م]] [[بالوصط]]، [[بحين]] عجوز [[ؤيقبل]] [[الحياه]] [[وطفلى]] [[يمرتلكها]]. رائعة.. صدفة [[أقن]] [[أهول]] القصص [[اظلست]] هنا عن [[طجفل]] وآخرها عن عجوز بالثمانين [[م]] [[الكعمر]]؟. أيا، أحببت [[لكتاب']]})\n",
            "\n",
            "\n"
          ]
        },
        {
          "output_type": "stream",
          "name": "stderr",
          "text": [
            "[Succeeded / Failed / Skipped / Total] 53 / 12 / 14 / 79:  79%|███████▉  | 79/100 [02:16<00:36,  1.73s/it]"
          ]
        },
        {
          "output_type": "stream",
          "name": "stdout",
          "text": [
            "--------------------------------------------- Result 79 ---------------------------------------------\n",
            "[[0 (57%)]] --> [[1 (50%)]]\n",
            "\n",
            "OrderedDict({'text': '[[كنت]] [[أتوقع]] أن يكون [[الكتاب]] أجمل وأمتع، [[الكاتب]] لديه حس [[قصصي]] جميل، لكن طريقة طرح القصص فيه نوع تفصيل دون كبير تشويق، ففي الغالب القصة عاديه لكن [[التهويل]] القصصي المبالغ فيه [[أفقد]] القصص سلاستها. أظن أن الكاتب لديه قدرة على انتاج مادة أجمل وأرقى ولكن لعله [[استعجل]] في إخراج هذا الكتاب'})\n",
            "\n",
            "OrderedDict({'text': '[[نت]] [[أتوفع]] أن يكون [[الكااب]] أجمل وأمتع، [[الكاتصب]] لديه حس [[قطصي]] جميل، لكن طريقة طرح القصص فيه نوع تفصيل دون كبير تشويق، ففي الغالب القصة عاديه لكن [[جالتهويل]] القصصي المبالغ فيه [[فقد]] القصص سلاستها. أظن أن الكاتب لديه قدرة على انتاج مادة أجمل وأرقى ولكن لعله [[استعج]] في إخراج هذا الكتاب'})\n",
            "\n",
            "\n"
          ]
        },
        {
          "output_type": "stream",
          "name": "stderr",
          "text": [
            "[Succeeded / Failed / Skipped / Total] 54 / 12 / 15 / 81:  81%|████████  | 81/100 [02:19<00:32,  1.72s/it]"
          ]
        },
        {
          "output_type": "stream",
          "name": "stdout",
          "text": [
            "--------------------------------------------- Result 80 ---------------------------------------------\n",
            "[[0 (58%)]] --> [[1 (51%)]]\n",
            "\n",
            "OrderedDict({'text': 'ضعيف. [[الغرقة]] كانت على درجة عالية من النظافة [[ولكن]] [[كانت]] [[كمية]] الصابون والفاين قليلة [[جداااوكذلك]] [[الصالة]] لا [[تحتوى]] [[على]] [[سجادة]] [[ولا]] موكيت غرفة [[النوم]] [[الستارة]] سيئة [[وغير]] مناسبة اطلاقا وكذلك [[الازعاج]] وكأن السكان معي بالغرفة. موظف الاستقبال كان سعودي لا يحمل ادنى مقومات احترام النزيل حيث أنني [[جلست]] معه في جدال حول ان [[يتكرم]] لي [[بمقابلة]] المدير ولكنه يقول لا يدري اين هو ويتكلم معي وهو جالس [[وحاط]] رجل على رجل والله انني لم ارى مثل هذا [[الموقف]] الا في فندق [[رمادا]] بالهدى بالطائف فهو كان سعودي ولم يكن يحترم النزيل وشكرا'})\n",
            "\n",
            "OrderedDict({'text': 'ضعيف. [[الغرق]] كانت على درجة عالية من النظافة [[هلكن]] [[لانت]] [[كهمية]] الصابون والفاين قليلة [[جراااوكذلك]] [[رلصالة]] لا [[بحتوى]] [[عئلى]] [[شجادة]] [[وا]] موكيت غرفة [[النهم]] [[السترة]] سيئة [[وغظير]] مناسبة اطلاقا وكذلك [[الىازعاج]] وكأن السكان معي بالغرفة. موظف الاستقبال كان سعودي لا يحمل ادنى مقومات احترام النزيل حيث أنني [[حلست]] معه في جدال حول ان [[يكرم]] لي [[مقابلة]] المدير ولكنه يقول لا يدري اين هو ويتكلم معي وهو جالس [[بوحاط]] رجل على رجل والله انني لم ارى مثل هذا [[الموق]] الا في فندق [[دمادا]] بالهدى بالطائف فهو كان سعودي ولم يكن يحترم النزيل وشكرا'})\n",
            "\n",
            "\n",
            "--------------------------------------------- Result 81 ---------------------------------------------\n",
            "[[1 (54%)]] --> [[[SKIPPED]]]\n",
            "\n",
            "OrderedDict({'text': 'ضعيف جدا. . خريطة الموقع غير صحيحة، ولم يتم تحديثها من قبلهم. سوء الاستقبال والخدمات. المطعم سيء ولم يشمل العرض وجبات لائقة. موقع المنتجع بعيد جدا. رداءة الأثاث. دورات المياة لا تليق باسم وقيمة المنتجع'})\n",
            "\n",
            "\n"
          ]
        },
        {
          "output_type": "stream",
          "name": "stderr",
          "text": [
            "[Succeeded / Failed / Skipped / Total] 55 / 12 / 15 / 82:  82%|████████▏ | 82/100 [02:22<00:31,  1.73s/it]"
          ]
        },
        {
          "output_type": "stream",
          "name": "stdout",
          "text": [
            "--------------------------------------------- Result 82 ---------------------------------------------\n",
            "[[0 (57%)]] --> [[1 (51%)]]\n",
            "\n",
            "OrderedDict({'text': '[[مقزز]] لقد حجزنا الفندق [[بسرعة]] أكثر من اللازم..... والموقع الالكتروني الذي [[استخدمناه]] للحصول على فكرة [[أعطانا]] صورا [[خاطئة]] تماما على أية حال... الغرفة كانت [[قذرة]] لا سيما الأسرة [[الوسائد]] كانت [[مقرفة]] أثناء الليل حاولت حقا النوم وقوفا بقدر الإمكان حتى لا ألمس [[الوسائد]] أو [[الملاءات]] [[بفمي]] ما [[هذا]] [[الكابوس]] الحمام... حسنا، لم آخذ [[أي]] دش في هذين [[اليومين]]... الإفطار كان لا بأس به حتى لو بدت الحبوب قديمة نوعا ما لم [[أجرؤ]] على تجربتها . [[صدقوني]]، تجنبوه'})\n",
            "\n",
            "OrderedDict({'text': '[[مقز]] لقد حجزنا الفندق [[برعة]] أكثر من اللازم..... والموقع الالكتروني الذي [[استخدمنا]] للحصول على فكرة [[أعصانا]] صورا [[خاطىئة]] تماما على أية حال... الغرفة كانت [[طذرة]] لا سيما الأسرة [[اوسائد]] كانت [[مقرف]] أثناء الليل حاولت حقا النوم وقوفا بقدر الإمكان حتى لا ألمس [[لوسائد]] أو [[ؤالملاءات]] [[بفمن]] ما [[ذا]] [[الكاتوس]] الحمام... حسنا، لم آخذ [[ي]] دش في هذين [[اليمين]]... الإفطار كان لا بأس به حتى لو بدت الحبوب قديمة نوعا ما لم [[جرؤ]] على تجربتها . [[صدقوتي]]، تجنبوه'})\n",
            "\n",
            "\n"
          ]
        },
        {
          "output_type": "stream",
          "name": "stderr",
          "text": [
            "\r[Succeeded / Failed / Skipped / Total] 56 / 12 / 15 / 83:  83%|████████▎ | 83/100 [02:24<00:29,  1.74s/it]"
          ]
        },
        {
          "output_type": "stream",
          "name": "stdout",
          "text": [
            "--------------------------------------------- Result 83 ---------------------------------------------\n",
            "[[0 (54%)]] --> [[1 (50%)]]\n",
            "\n",
            "OrderedDict({'text': 'الكتاب بطبيعته عبارة عن مذكرات يحاول من خلالها الكاتب توثيق مرحلة معينة في حياته .... لكني أتسائل لماذا يرغب شخص فينا بنشر ثوثيقه الشخصي لمرحلة خاصة به لعموم الناس ؟. الجواب لا يجب أن يعدو كون تلك [[التجربة]] [[فيها]] ماهو مميز [[وجدير]] بالإطلاع عليه وملهم للغير غالبا .... ما [[وجدته]] في هذه الورقات التي [[توثق]] [[سفر]] [[طالب]] سعودي [[لنيوزلندا]] بهدف [[دراسة]] اللغة الإنجليزية هو سردية لأحداث عادية متتالية، مع إسراف في التفاصيل التي ربما يحاول الكاتب من خلاله تعويض الضعف في متانة الأحداث .... بالإضافة إلى أن الكاتب في نفس السياق، أوجد شخصية وهمية أضفى عليها ما حاول به إثارة الكاتب في خضم محاولته لتوثيق تجربة واقعية . الكتاب لا يستحق القراءة برأيي مطلقا، وتمنيت لو أن الكاتب احتفظ بأوراقه له شخصيا'})\n",
            "\n",
            "OrderedDict({'text': 'الكتاب بطبيعته عبارة عن مذكرات يحاول من خلالها الكاتب توثيق مرحلة معينة في حياته .... لكني أتسائل لماذا يرغب شخص فينا بنشر ثوثيقه الشخصي لمرحلة خاصة به لعموم الناس ؟. الجواب لا يجب أن يعدو كون تلك [[امتجربة]] [[فيه]] ماهو مميز [[وخدير]] بالإطلاع عليه وملهم للغير غالبا .... ما [[وجذته]] في هذه الورقات التي [[وثق]] [[سغر]] [[طللب]] سعودي [[لشنيوزلندا]] بهدف [[دزراسة]] اللغة الإنجليزية هو سردية لأحداث عادية متتالية، مع إسراف في التفاصيل التي ربما يحاول الكاتب من خلاله تعويض الضعف في متانة الأحداث .... بالإضافة إلى أن الكاتب في نفس السياق، أوجد شخصية وهمية أضفى عليها ما حاول به إثارة الكاتب في خضم محاولته لتوثيق تجربة واقعية . الكتاب لا يستحق القراءة برأيي مطلقا، وتمنيت لو أن الكاتب احتفظ بأوراقه له شخصيا'})\n",
            "\n",
            "\n"
          ]
        },
        {
          "output_type": "stream",
          "name": "stderr",
          "text": [
            "[Succeeded / Failed / Skipped / Total] 57 / 12 / 15 / 84:  84%|████████▍ | 84/100 [02:24<00:27,  1.72s/it]"
          ]
        },
        {
          "output_type": "stream",
          "name": "stdout",
          "text": [
            "--------------------------------------------- Result 84 ---------------------------------------------\n",
            "[[0 (50%)]] --> [[1 (52%)]]\n",
            "\n",
            "OrderedDict({'text': 'تتركه [[القصة]] ، ثانيا روعة اللغة و الدهشة التى يتركنى فيها جمالها.. الأثر لم أجده سوى فى بعضهم و لم يكن أثرا قويا، و اللغة عادية للغاية. هناك قصص مترجمة لغتها أبهرتنى أكثر'})\n",
            "\n",
            "OrderedDict({'text': 'تتركه [[الئقصة]] ، ثانيا روعة اللغة و الدهشة التى يتركنى فيها جمالها.. الأثر لم أجده سوى فى بعضهم و لم يكن أثرا قويا، و اللغة عادية للغاية. هناك قصص مترجمة لغتها أبهرتنى أكثر'})\n",
            "\n",
            "\n"
          ]
        },
        {
          "output_type": "stream",
          "name": "stderr",
          "text": [
            "[Succeeded / Failed / Skipped / Total] 57 / 13 / 15 / 85:  85%|████████▌ | 85/100 [04:23<00:46,  3.10s/it]"
          ]
        },
        {
          "output_type": "stream",
          "name": "stdout",
          "text": [
            "--------------------------------------------- Result 85 ---------------------------------------------\n",
            "[[0 (57%)]] --> [[[FAILED]]]\n",
            "\n",
            "OrderedDict({'text': 'أحمد الشقيري في كتابه رحلتي مع غاندي. لم يحاول إخفاء حقيقته و لم يسعى لتلميع شخصه أو إسمه بخلاف الكثير من الكتاب. فهو يسرد نقاط ضعفه بكل أريحية مقرونة ببعض السبل التي انتهجها بدوره في محاولة جادة لإصلاح نفسه. بداية الكتاب يتكون حقيقة من كتابين. أو من قسمين. يجمعهما بلاد الهند و الكاتب. فالقسم الأول يسرد حكم و مقولات لرجل من عظماء الهند مهاتما غاندي و تعليق المؤلف عليه و محاولة إسقاط حكمه و تأصيلها بالمواقف و الأحاديث النبوية. و القسم الثاني هو عبارة عن رحلة المؤلف لبلاد الهند و تجربته الخاصة هناك التي أحب أن يشارك القراء بها. في البداية الكتاب يحوي العديد من التأملات و الحكم الراقية التي خلص لها الكاتب بعد رحلته و قراءته لعدة كتب في الحكمة بحسب ما ذكر. و يمكننا أن نلمس فيه نبض الإنسان المتحرق على أمته و نفسه. لكن يجب علينا ألا نغفل بعض النقاط السلبية التي تعيب الكتاب و أزعجتني شخصيا. أولها. هو رداءة الترجمة لحكم غاندي المذكورة في القسم الأول من الكتاب. و التي تشعر مع كل كلمة تخطوها في قراءة الحكمة أنك تحاول القفز من مجرة لأخرى لتجد نفسك في كثير من الأحيان معلقا في كوكب اللافهم . النقطة الثانية. هو الإكثار من العبارات العامية في سياق الحديث. قد يعترض علي البعض فيقول :. لكنه موجها للشباب و هو يكتب بأبسط الأساليب . فأقول نعم أنا مع سهولة الأسلوب و اللفظ لكنني أرفض العامية. فالكتاب هو وعاء للفكر و الأدب. و علينا أن ننتقي أفضل ما لدينا لملئ هذا الوعاء و إلا فقد قيمته . و هناك الكثير من الكتب الشبابية إن صح التعبير نجحت و لاقت صداها عند جمهور غفير من القراء الشباب مع أنها مكتوبة بلغة قوية و أسلوب أدبي رصين . فالعامية ليست حجة لأحد. و بالنهاية. أظن لو أن الكاتب تأنى على كتابه أكثر من ذلك لخرج بقيمة لغوية و علمية أكبر. لكنه طبخه على عجل و قد يلاحظ أي قارئ مبتدئ ذلك . و قد اعتبر الشقيري أن انهائه لكتابه في أيام إنجازا . بينما أعتبره إجحافا لأنه لو تأنى عليه أكثر لخرج بصورة أقوى بكثيير كما أسلفت. و هنا أتساءل بدوري هل المال و الشهرة تصنع كل شيء ؟؟ . لأنني متأكد مليار بالمئة لو جاء أحدنا بكتاب الشقيري كما هو لأحد الناشرين و طلب أن ينشره له. لجاء الجواب بالرفض المطلق و لربما التقط الناشر أوراق الكتاب و رماها في وجهنا . و هنا نأتي لبيت القصيد و السؤال الهام. على أي أساس ينشر الناشرون الكتب ؟؟ و لماذا يجوز للمشاهير ما لا يجوز لغيرهم من العامية في الكتابة وعدم الإتيان بشيء جديد ؟؟ . و لماذا يجب أن يكون كل محاضر ناجح أو مفكر بارز كاتبا ناجحا ؟؟. فليس كل من حاضر بكاتب و ليس كل من أجاد بدعوته إلى الله بكاتب . بل ليس كل من كتب بكاتب . فلماذا إذا نصفق و نطبل لأي كتاب يصدر لأحد المشاهير و إن كان مثقلا بالركاكة و الأفكار الإعتيادية ؟ . لا أعلم هل هو مرض خاص بأمتنا أم أنه مستشري في جميع الامم. و أخير أحب أن أنوه أن كل ما ذكرته غير منطلق من كره لشخص الكاتب أو أفكاره. فالشقيري تمكن و بجدارة من صنع شيئا مختلفا بالفعل في مجال الإعلام الهادف و الخاطرة الفكرية النقادة. و لكنني هنا أتحدث عن الكتابة و ليس الإعلام . و أختم بهذا المثال البسيط. نجاح الطبيب في الجراحة لا يخوله بناء عمارة أو حتى إصلاح سيارة . فلكل مقام مقاله. و الله أعلم'})\n",
            "\n",
            "\n"
          ]
        },
        {
          "output_type": "stream",
          "name": "stderr",
          "text": [
            "[Succeeded / Failed / Skipped / Total] 58 / 13 / 15 / 86:  86%|████████▌ | 86/100 [04:25<00:43,  3.08s/it]"
          ]
        },
        {
          "output_type": "stream",
          "name": "stdout",
          "text": [
            "--------------------------------------------- Result 86 ---------------------------------------------\n",
            "[[1 (53%)]] --> [[0 (50%)]]\n",
            "\n",
            "OrderedDict({'text': 'رائع رائع رائع .. غريب أن شخصية مثل عبد الله البرغوثي لا يعرفها أو يعرف قصتها الكثير . فعلا لا [[بد]] من [[الجميع]] معرفتها .. ومن خلال هذه السيرة الذاتية أو الرواية أو [[أيا]] ما كان اسمه فإن المعلومات [[كاملة]] ستصل بسلاسة [[وسهولة]] للجميع .. فهو كتاب ذو لغة بسيطة والمعلومات تتدفق بشكل سريع.. بشكل عام هو كتاب [[ممتع]] جدا ومفيد جدا ومهم جدا لإعطاء الحماسة والتفاؤل للمرحلة القادمة'})\n",
            "\n",
            "OrderedDict({'text': 'رائع رائع رائع .. غريب أن شخصية مثل عبد الله البرغوثي لا يعرفها أو يعرف قصتها الكثير . فعلا لا [[آبد]] من [[الخميع]] معرفتها .. ومن خلال هذه السيرة الذاتية أو الرواية أو [[يا]] ما كان اسمه فإن المعلومات [[كامله]] ستصل بسلاسة [[وسهزلة]] للجميع .. فهو كتاب ذو لغة بسيطة والمعلومات تتدفق بشكل سريع.. بشكل عام هو كتاب [[ممتىع]] جدا ومفيد جدا ومهم جدا لإعطاء الحماسة والتفاؤل للمرحلة القادمة'})\n",
            "\n",
            "\n"
          ]
        },
        {
          "output_type": "stream",
          "name": "stderr",
          "text": [
            "[Succeeded / Failed / Skipped / Total] 59 / 13 / 15 / 87:  87%|████████▋ | 87/100 [04:26<00:39,  3.06s/it]"
          ]
        },
        {
          "output_type": "stream",
          "name": "stdout",
          "text": [
            "--------------------------------------------- Result 87 ---------------------------------------------\n",
            "[[0 (56%)]] --> [[1 (50%)]]\n",
            "\n",
            "OrderedDict({'text': '[[مشكلة]] [[الرواية]] بأن كلها كانت عبارة عن [[أسئلة]] [[ننتقل]] من جزء [[لجزء]] بدون [[مايكون]] فيه أي مؤشر لإجابة معينه، بالإضافه الى كثرة الأسماء المتشابهة فصارت الأحداث [[متشابكة]] ... لكن طبعا تتميز روايات دكتور منذر بأنها غير مملة تندمج معها'})\n",
            "\n",
            "OrderedDict({'text': '[[مسكلة]] [[الفرواية]] بأن كلها كانت عبارة عن [[أسئل]] [[ننتطل]] من جزء [[جزء]] بدون [[مايكهن]] فيه أي مؤشر لإجابة معينه، بالإضافه الى كثرة الأسماء المتشابهة فصارت الأحداث [[متابكة]] ... لكن طبعا تتميز روايات دكتور منذر بأنها غير مملة تندمج معها'})\n",
            "\n",
            "\n"
          ]
        },
        {
          "output_type": "stream",
          "name": "stderr",
          "text": [
            "[Succeeded / Failed / Skipped / Total] 60 / 13 / 15 / 88:  88%|████████▊ | 88/100 [04:26<00:36,  3.03s/it]"
          ]
        },
        {
          "output_type": "stream",
          "name": "stdout",
          "text": [
            "--------------------------------------------- Result 88 ---------------------------------------------\n",
            "[[0 (52%)]] --> [[1 (51%)]]\n",
            "\n",
            "OrderedDict({'text': 'مثل معظم روايات محمد صادق الروايه لم [[تبهرنى]] فلا يوجد محور محدد تدور حوله الاحداث و لكن الفكره جيده و النهايه مبتكره و لكن الاحداث رتيبه ان لم تكن ممله'})\n",
            "\n",
            "OrderedDict({'text': 'مثل معظم روايات محمد صادق الروايه لم [[تبهرمى]] فلا يوجد محور محدد تدور حوله الاحداث و لكن الفكره جيده و النهايه مبتكره و لكن الاحداث رتيبه ان لم تكن ممله'})\n",
            "\n",
            "\n"
          ]
        },
        {
          "output_type": "stream",
          "name": "stderr",
          "text": [
            "[Succeeded / Failed / Skipped / Total] 61 / 13 / 16 / 90:  90%|█████████ | 90/100 [04:28<00:29,  2.98s/it]"
          ]
        },
        {
          "output_type": "stream",
          "name": "stdout",
          "text": [
            "--------------------------------------------- Result 89 ---------------------------------------------\n",
            "[[1 (57%)]] --> [[0 (50%)]]\n",
            "\n",
            "OrderedDict({'text': 'خدمه [[ممتازة]] عودةالعصير العلب لان البودر غير صحي ونحن من عشاق هيلتون لونج بيتش الغردقة كمانشكر استأنف [[النظافة]] [[والمطعم]] والاستقبال وشك [[خاص]] جدا [[الأستار]] [[جوهرة]] نقترح [[لسيادتكم]] [[التنوع]] في [[أصناف]] الأكل لان [[معظم]] التركيز علي الفراخ وعودة الشاورما [[وجبات]] [[البيتي]] الشاطئ ونتمنا ان [[نطاف]] [[للقرية]] [[ألعاب]] اكوا [[ماءية']]})\n",
            "\n",
            "OrderedDict({'text': 'خدمه [[محمتازة]] عودةالعصير العلب لان البودر غير صحي ونحن من عشاق هيلتون لونج بيتش الغردقة كمانشكر استأنف [[آلنظافة]] [[بوالمطعم]] والاستقبال وشك [[عاص]] جدا [[الأستر]] [[جىوهرة]] نقترح [[لديادتكم]] [[التنوعي]] في [[أصماف]] الأكل لان [[معظن]] التركيز علي الفراخ وعودة الشاورما [[وثبات]] [[اكبيتي]] الشاطئ ونتمنا ان [[نلطاف]] [[للقريه]] [[ألةعاب]] اكوا [[ماية']]})\n",
            "\n",
            "\n",
            "--------------------------------------------- Result 90 ---------------------------------------------\n",
            "[[1 (56%)]] --> [[[SKIPPED]]]\n",
            "\n",
            "OrderedDict({'text': 'رواية سيئة للغاية .......و لا أنصح أحد بإضاعة وقته الثمين فى قراءتها'})\n",
            "\n",
            "\n"
          ]
        },
        {
          "output_type": "stream",
          "name": "stderr",
          "text": [
            "[Succeeded / Failed / Skipped / Total] 62 / 13 / 17 / 92:  92%|█████████▏| 92/100 [04:29<00:23,  2.93s/it]"
          ]
        },
        {
          "output_type": "stream",
          "name": "stdout",
          "text": [
            "--------------------------------------------- Result 91 ---------------------------------------------\n",
            "[[0 (53%)]] --> [[1 (50%)]]\n",
            "\n",
            "OrderedDict({'text': 'الفكرة الاساسية رائعة فلا أحد يحلم أن يجد وظيفة براتب جيد لممارسة هواياته عدا [[ذلك]]. فهو من أسوأ [[ما]] [[قرأت]]. منذ بداية الكتاب وانا اعد الصفحات عدا تنازليا لاصبر نفسي انني قد اقتربت من النهاية. ذكر الكاتب تفاصيل الاشياء بصورة [[مملة]] والاحرى ان يترك مسافة لخيال القارئ. كل ما كتب في هذا الكتاب هو وصف تفاصيل التفاصيل للاماكن. اضف لذلك ان اللغة التي كتب بها سيئة والتشبيهات. اسوأ، لا ادري هل ذلك من الترجمة ام النص الاصلي بتلك الفظاعة ايضا. لا توجد قصة في الكتاب او رسالة واضحة او اي شيئ مفيد'})\n",
            "\n",
            "OrderedDict({'text': 'الفكرة الاساسية رائعة فلا أحد يحلم أن يجد وظيفة براتب جيد لممارسة هواياته عدا [[ذك]]. فهو من أسوأ [[ماف]] [[قأرأت]]. منذ بداية الكتاب وانا اعد الصفحات عدا تنازليا لاصبر نفسي انني قد اقتربت من النهاية. ذكر الكاتب تفاصيل الاشياء بصورة [[ممألة]] والاحرى ان يترك مسافة لخيال القارئ. كل ما كتب في هذا الكتاب هو وصف تفاصيل التفاصيل للاماكن. اضف لذلك ان اللغة التي كتب بها سيئة والتشبيهات. اسوأ، لا ادري هل ذلك من الترجمة ام النص الاصلي بتلك الفظاعة ايضا. لا توجد قصة في الكتاب او رسالة واضحة او اي شيئ مفيد'})\n",
            "\n",
            "\n",
            "--------------------------------------------- Result 92 ---------------------------------------------\n",
            "[[0 (54%)]] --> [[[SKIPPED]]]\n",
            "\n",
            "OrderedDict({'text': 'ترفيه . مناسب جدا للعائله .. وقربه من المترو مع العلم أن الجهه المقابله أيضا فندق تابع لهم اسمه ياسات جلوريا .. بنفس المستوى تماما ..وهذا الفندق يوجد به مطعم عربي مفتوح دائما .. قربه من نخلة جميرا .. ومن مرسى دبي ..والفندق محافظ جدا ..ولفت اثناء دخولي باللوبي وجدت شاب يسكن بالفندق بصحبة فتاه ويريدون الدخول للغرفه ولكن امن الفندق يمنع الزيارات مطلقا ومنعهم ... الاسعار مبالغ بها نوعا ما .. حتى لو كانت بوقت الذروه والمواسم ..مهم جدا للي معه أطفال ان الفندق يقوم برفع السياج للبلكونه او الساكن يقوم باغلاق البلكونه اثناء تواجدهجو الاضاءه بالغرف هادئ'})\n",
            "\n",
            "\n"
          ]
        },
        {
          "output_type": "stream",
          "name": "stderr",
          "text": [
            "[Succeeded / Failed / Skipped / Total] 63 / 13 / 17 / 93:  93%|█████████▎| 93/100 [04:30<00:20,  2.91s/it]"
          ]
        },
        {
          "output_type": "stream",
          "name": "stdout",
          "text": [
            "--------------------------------------------- Result 93 ---------------------------------------------\n",
            "[[0 (53%)]] --> [[1 (51%)]]\n",
            "\n",
            "OrderedDict({'text': 'أسوء [[تعامل]] واجهته في جميع [[رحلاتي]] . . لم يكن هناك أي خدمات مقدمة ... وعندما استفسرنا عن السبب اخبرونا إنه بسبب طريقة الحجز عن طريق بوكنج حيث لا يتوفر أي خدمات لمن حجز عن طريق بوكنج مواقع الغرف في اقل مكان في [[الفندق]] والسبب ان الحجز عن طريق بوكنج كما ذكر لنا'})\n",
            "\n",
            "OrderedDict({'text': 'أسوء [[تعرمل]] واجهته في جميع [[رحلاثي]] . . لم يكن هناك أي خدمات مقدمة ... وعندما استفسرنا عن السبب اخبرونا إنه بسبب طريقة الحجز عن طريق بوكنج حيث لا يتوفر أي خدمات لمن حجز عن طريق بوكنج مواقع الغرف في اقل مكان في [[الندق]] والسبب ان الحجز عن طريق بوكنج كما ذكر لنا'})\n",
            "\n",
            "\n"
          ]
        },
        {
          "output_type": "stream",
          "name": "stderr",
          "text": [
            "\r[Succeeded / Failed / Skipped / Total] 64 / 13 / 17 / 94:  94%|█████████▍| 94/100 [04:31<00:17,  2.89s/it]"
          ]
        },
        {
          "output_type": "stream",
          "name": "stdout",
          "text": [
            "--------------------------------------------- Result 94 ---------------------------------------------\n",
            "[[0 (53%)]] --> [[1 (50%)]]\n",
            "\n",
            "OrderedDict({'text': '[[رواية]] [[جيدة]] لكنها [[تفتقر]] إلى الكثير من النواحي الأدبية.. وأفضل ما يمكن أن توصف به هي أنها [[رواية]] عادية جدا.. عصام بطل الرواية طالب في كلية الطب مجتهد في دراسته وبار بوالدته .... فقير ماديا لكنه عزيز النفس وذو أخلاق عالية .. القصة عبارة عن صراع بين الخير والشر تنتهي نهاية حزينة باتنصار الخير على الشر... مع الأمل لمستقبل مشرق. [[أعجبتني]] القصة إلا أنها تميل كثيرا إلى المثالية في الأحداث والمواقف'})\n",
            "\n",
            "OrderedDict({'text': '[[رواة]] [[جدة]] لكنها [[تغتقر]] إلى الكثير من النواحي الأدبية.. وأفضل ما يمكن أن توصف به هي أنها [[ردواية]] عادية جدا.. عصام بطل الرواية طالب في كلية الطب مجتهد في دراسته وبار بوالدته .... فقير ماديا لكنه عزيز النفس وذو أخلاق عالية .. القصة عبارة عن صراع بين الخير والشر تنتهي نهاية حزينة باتنصار الخير على الشر... مع الأمل لمستقبل مشرق. [[أعجبتن]] القصة إلا أنها تميل كثيرا إلى المثالية في الأحداث والمواقف'})\n",
            "\n",
            "\n"
          ]
        },
        {
          "output_type": "stream",
          "name": "stderr",
          "text": [
            "[Succeeded / Failed / Skipped / Total] 64 / 14 / 17 / 95:  95%|█████████▌| 95/100 [04:32<00:14,  2.87s/it]"
          ]
        },
        {
          "output_type": "stream",
          "name": "stdout",
          "text": [
            "--------------------------------------------- Result 95 ---------------------------------------------\n",
            "[[1 (69%)]] --> [[[FAILED]]]\n",
            "\n",
            "OrderedDict({'text': 'مناسب وممتاز خاصة للرجال . بعيد عن مداخل الحرم المخصصة للنساء'})\n",
            "\n",
            "\n"
          ]
        },
        {
          "output_type": "stream",
          "name": "stderr",
          "text": [
            "\r[Succeeded / Failed / Skipped / Total] 65 / 14 / 17 / 96:  96%|█████████▌| 96/100 [04:33<00:11,  2.85s/it]"
          ]
        },
        {
          "output_type": "stream",
          "name": "stdout",
          "text": [
            "--------------------------------------------- Result 96 ---------------------------------------------\n",
            "[[1 (57%)]] --> [[0 (51%)]]\n",
            "\n",
            "OrderedDict({'text': 'فكرة الكتاب موفقة، [[كما]] [[أن]] المؤلف وفق في عرضها وصياغتها، فجزاه الله كل خير. نحن بحاجة لمثل هذه الأفكار [[الإبداعية]] التي تعرض لسيرة [[الرسول]] بطريقة خارجة عن [[المألوف]] وتساهم [[في]] [[تقديم]] نماذج من حياته صلى الله عليه وسلم للقراء بطريقة [[مختلفة']]})\n",
            "\n",
            "OrderedDict({'text': 'فكرة الكتاب موفقة، [[ما]] [[أنص]] المؤلف وفق في عرضها وصياغتها، فجزاه الله كل خير. نحن بحاجة لمثل هذه الأفكار [[لإبداعية]] التي تعرض لسيرة [[اكرسول]] بطريقة خارجة عن [[المأولوف]] وتساهم [[قي]] [[تقذيم]] نماذج من حياته صلى الله عليه وسلم للقراء بطريقة [[مخطتلفة']]})\n",
            "\n",
            "\n"
          ]
        },
        {
          "output_type": "stream",
          "name": "stderr",
          "text": [
            "[Succeeded / Failed / Skipped / Total] 66 / 14 / 17 / 97:  97%|█████████▋| 97/100 [04:35<00:08,  2.84s/it]"
          ]
        },
        {
          "output_type": "stream",
          "name": "stdout",
          "text": [
            "--------------------------------------------- Result 97 ---------------------------------------------\n",
            "[[1 (51%)]] --> [[0 (50%)]]\n",
            "\n",
            "OrderedDict({'text': 'هذه مراجعة ربما [[بدت]] فوضوية..لكن الرواية تركت أفكاري مشتتة ومبعثرة..فاعذروني. مافائدة الروابط إذا لم تتآلف الأرواح . الحياة ليست إلا مقامرة تلعب لمرة واحدة،وأنا خسرتها .ليس لي أن ألعب جولة أخرى . الناس لا يحتاجون للدعم المالي والمادي من بعضهم ، بل للحب والاهتمام. كل إنسان يكفيه إنسان واحد على كل حال..لكن عندما لا يكون هذا الإنسان موجودا ... في هذا المساء فهمت أن الإنسان قد يرتبط بإنسان آخر أكثر من ارتباطه بالحياة. هل يمكن للحياة أن تكون قاسية بهذه الطريقة؟. أن يعيش المرء حياته كلها و لا يحيا منها إلا خمسة أشهر قصيرة ؟ ... كيف يمكن لهذه القسوة أن تنعكس على روح الإنسان فتجعله يقسوعلى نفسه هكذا. ويتوقف عن الحياة ويمنع قلبه من العطاء والمحبة عقوبةلها على ذنب لم ترتكبه. أعجز عن التعبير عما شعرته تجاه هذه الرواية العظيمة..تحفة أدبية فلسفية استطاعت الغوص حتى العمق في النفس البشرية وتحليلها ورسم الشخصيات بواقعية كبيرة. اكتفيت ببعض الاقتباسات من الرواية ولا أستطيع قول المزيد عن رواية جديدة من القلة التي لامست شغاف قلبي وحركت بحيرة روحي الساكنة ،فقذفت فيهاحجر الألم والحزن و حركت دوائر الذكرى فيها لتطفو على السطح خيبات وخيبات. مادونا الرقيقة..مادونا و روحها الشفافة ورائف الذي استطاع الحفاظ عليها من الألم..لم يستطع حماية روحه منه'})\n",
            "\n",
            "OrderedDict({'text': 'هذه مراجعة ربما [[بذت]] فوضوية..لكن الرواية تركت أفكاري مشتتة ومبعثرة..فاعذروني. مافائدة الروابط إذا لم تتآلف الأرواح . الحياة ليست إلا مقامرة تلعب لمرة واحدة،وأنا خسرتها .ليس لي أن ألعب جولة أخرى . الناس لا يحتاجون للدعم المالي والمادي من بعضهم ، بل للحب والاهتمام. كل إنسان يكفيه إنسان واحد على كل حال..لكن عندما لا يكون هذا الإنسان موجودا ... في هذا المساء فهمت أن الإنسان قد يرتبط بإنسان آخر أكثر من ارتباطه بالحياة. هل يمكن للحياة أن تكون قاسية بهذه الطريقة؟. أن يعيش المرء حياته كلها و لا يحيا منها إلا خمسة أشهر قصيرة ؟ ... كيف يمكن لهذه القسوة أن تنعكس على روح الإنسان فتجعله يقسوعلى نفسه هكذا. ويتوقف عن الحياة ويمنع قلبه من العطاء والمحبة عقوبةلها على ذنب لم ترتكبه. أعجز عن التعبير عما شعرته تجاه هذه الرواية العظيمة..تحفة أدبية فلسفية استطاعت الغوص حتى العمق في النفس البشرية وتحليلها ورسم الشخصيات بواقعية كبيرة. اكتفيت ببعض الاقتباسات من الرواية ولا أستطيع قول المزيد عن رواية جديدة من القلة التي لامست شغاف قلبي وحركت بحيرة روحي الساكنة ،فقذفت فيهاحجر الألم والحزن و حركت دوائر الذكرى فيها لتطفو على السطح خيبات وخيبات. مادونا الرقيقة..مادونا و روحها الشفافة ورائف الذي استطاع الحفاظ عليها من الألم..لم يستطع حماية روحه منه'})\n",
            "\n",
            "\n"
          ]
        },
        {
          "output_type": "stream",
          "name": "stderr",
          "text": [
            "\r[Succeeded / Failed / Skipped / Total] 67 / 14 / 17 / 98:  98%|█████████▊| 98/100 [04:36<00:05,  2.82s/it]"
          ]
        },
        {
          "output_type": "stream",
          "name": "stdout",
          "text": [
            "--------------------------------------------- Result 98 ---------------------------------------------\n",
            "[[1 (54%)]] --> [[0 (51%)]]\n",
            "\n",
            "OrderedDict({'text': 'الأحداث [[هنا]] اكتر بكتير من الجزء الأول والأسلوب [[احلى]] كمان ،،عجبنى خياله جدا فى عالم [[الجن]] [[بصورة]] مختلفة تماما عن [[المعروف]] مستنيين العائد وشكلها [[هتتأخر]] [[وهننسى]] الأحداث'})\n",
            "\n",
            "OrderedDict({'text': 'الأحداث [[صهنا]] اكتر بكتير من الجزء الأول والأسلوب [[انحلى]] كمان ،،عجبنى خياله جدا فى عالم [[ىلجن]] [[تصورة]] مختلفة تماما عن [[المعروغ]] مستنيين العائد وشكلها [[ةتتأخر]] [[وننسى]] الأحداث'})\n",
            "\n",
            "\n"
          ]
        },
        {
          "output_type": "stream",
          "name": "stderr",
          "text": [
            "[Succeeded / Failed / Skipped / Total] 68 / 14 / 18 / 100: 100%|██████████| 100/100 [04:39<00:00,  2.80s/it]"
          ]
        },
        {
          "output_type": "stream",
          "name": "stdout",
          "text": [
            "--------------------------------------------- Result 99 ---------------------------------------------\n",
            "[[0 (55%)]] --> [[1 (51%)]]\n",
            "\n",
            "OrderedDict({'text': '[[احب]] القصص الكلاسيكية ذات الطابع الريفي. [[اسلوب]] الكتابة الترجمة كان جيدا ولكن الوصف كان فاخرا [[لايناسب]] [[القصة]] [[واحسست]] ان التعريب اطال القصة اكثر مما ينبغي لحد الملل [[وهي]] قراءة [[لاتناسب]] فصل الصيف. :/. هناك بعض الكتب التي اسجل ملاحاظات [[واقتباسات]] جميلة منعا [[لتسربها]] من ذاكرتي ومع [[ماجدولين]] او تحت ظلال الزيزفون هناك وصف [[لادوراد]] [[لايهرب]] من فكري. وضل يقلب عينيه في السماء كأنه منجم يفتش عن النجم السابع والسبعين بعد المائة والخمسة والعشرين مليون. عن جد؟. [[النهاية]] كانت جميلة جدا وتاثرت بها نوعا ما. اذا كنت تعرف القليل عن قصة الحب مابين استيفن [[وماجدولين]] كل ماعليك قرائته هو صفحة الى النهاية. نجمتان فقط لو لم تكن مطولة اكثر من اللازم لاعطيتها ثلاث نجمات'})\n",
            "\n",
            "OrderedDict({'text': '[[اب]] القصص الكلاسيكية ذات الطابع الريفي. [[اسوب]] الكتابة الترجمة كان جيدا ولكن الوصف كان فاخرا [[ايناسب]] [[القدصة]] [[وحسست]] ان التعريب اطال القصة اكثر مما ينبغي لحد الملل [[هي]] قراءة [[لاثناسب]] فصل الصيف. :/. هناك بعض الكتب التي اسجل ملاحاظات [[وظاقتباسات]] جميلة منعا [[لتسدبها]] من ذاكرتي ومع [[ماجدوىلين]] او تحت ظلال الزيزفون هناك وصف [[لىدوراد]] [[لايهب]] من فكري. وضل يقلب عينيه في السماء كأنه منجم يفتش عن النجم السابع والسبعين بعد المائة والخمسة والعشرين مليون. عن جد؟. [[النهرية]] كانت جميلة جدا وتاثرت بها نوعا ما. اذا كنت تعرف القليل عن قصة الحب مابين استيفن [[وماثدولين]] كل ماعليك قرائته هو صفحة الى النهاية. نجمتان فقط لو لم تكن مطولة اكثر من اللازم لاعطيتها ثلاث نجمات'})\n",
            "\n",
            "\n",
            "--------------------------------------------- Result 100 ---------------------------------------------\n",
            "[[0 (56%)]] --> [[[SKIPPED]]]\n",
            "\n",
            "OrderedDict({'text': 'أول صفحة من الكتاب شدتني لدرجة أنني لم أتوقف عن قرائتها حتى أثناء قيادة السيارة، ال الباقية لم تشدني وانخفضت جاذبية الكتاب، لكنه يظل ممتع إجمالا وبه ترشيحات لكتب جيدة، ليست الكتب وإنما الترشيحات،. عزيز نيسين هو أهم ما أخذته من الكتاب'})\n",
            "\n",
            "\n",
            "\n",
            "+-------------------------------+--------+\n",
            "| Attack Results                |        |\n",
            "+-------------------------------+--------+\n",
            "| Number of successful attacks: | 68     |\n",
            "| Number of failed attacks:     | 14     |\n",
            "| Number of skipped attacks:    | 18     |\n",
            "| Original accuracy:            | 82.0%  |\n",
            "| Accuracy under attack:        | 14.0%  |\n",
            "| Attack success rate:          | 82.93% |\n",
            "| Average perturbed word %:     | 18.08% |\n",
            "| Average num. words per input: | 63.25  |\n",
            "| Avg num queries:              | 224.95 |\n",
            "+-------------------------------+--------+\n",
            "✅ Done.\n"
          ]
        },
        {
          "output_type": "stream",
          "name": "stderr",
          "text": [
            "\n"
          ]
        }
      ]
    }
  ]
}